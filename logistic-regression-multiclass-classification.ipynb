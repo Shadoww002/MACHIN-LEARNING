{
 "cells": [
  {
   "cell_type": "code",
   "execution_count": 1,
   "id": "9ad3acce",
   "metadata": {
    "_cell_guid": "b1076dfc-b9ad-4769-8c92-a6c4dae69d19",
    "_uuid": "8f2839f25d086af736a60e9eeb907d3b93b6e0e5",
    "execution": {
     "iopub.execute_input": "2025-02-19T07:24:14.368902Z",
     "iopub.status.busy": "2025-02-19T07:24:14.368479Z",
     "iopub.status.idle": "2025-02-19T07:24:15.611923Z",
     "shell.execute_reply": "2025-02-19T07:24:15.610732Z"
    },
    "papermill": {
     "duration": 1.249273,
     "end_time": "2025-02-19T07:24:15.613664",
     "exception": false,
     "start_time": "2025-02-19T07:24:14.364391",
     "status": "completed"
    },
    "tags": []
   },
   "outputs": [],
   "source": [
    "# This Python 3 environment comes with many helpful analytics libraries installed\n",
    "# It is defined by the kaggle/python Docker image: https://github.com/kaggle/docker-python\n",
    "# For example, here's several helpful packages to load\n",
    "\n",
    "import numpy as np # linear algebra\n",
    "import pandas as pd # data processing, CSV file I/O (e.g. pd.read_csv)\n",
    "\n",
    "# Input data files are available in the read-only \"../input/\" directory\n",
    "# For example, running this (by clicking run or pressing Shift+Enter) will list all files under the input directory\n",
    "\n",
    "import os\n",
    "for dirname, _, filenames in os.walk('/kaggle/input'):\n",
    "    for filename in filenames:\n",
    "        print(os.path.join(dirname, filename))\n",
    "\n",
    "# You can write up to 20GB to the current directory (/kaggle/working/) that gets preserved as output when you create a version using \"Save & Run All\" \n",
    "# You can also write temporary files to /kaggle/temp/, but they won't be saved outside of the current session"
   ]
  },
  {
   "cell_type": "code",
   "execution_count": 2,
   "id": "2a8c32f1",
   "metadata": {
    "execution": {
     "iopub.execute_input": "2025-02-19T07:24:15.619787Z",
     "iopub.status.busy": "2025-02-19T07:24:15.619337Z",
     "iopub.status.idle": "2025-02-19T07:24:17.471245Z",
     "shell.execute_reply": "2025-02-19T07:24:17.470201Z"
    },
    "papermill": {
     "duration": 1.856589,
     "end_time": "2025-02-19T07:24:17.473077",
     "exception": false,
     "start_time": "2025-02-19T07:24:15.616488",
     "status": "completed"
    },
    "tags": []
   },
   "outputs": [
    {
     "data": {
      "text/plain": [
       "['DESCR',\n",
       " 'data',\n",
       " 'data_module',\n",
       " 'feature_names',\n",
       " 'filename',\n",
       " 'frame',\n",
       " 'target',\n",
       " 'target_names']"
      ]
     },
     "execution_count": 2,
     "metadata": {},
     "output_type": "execute_result"
    }
   ],
   "source": [
    "from sklearn.datasets import load_iris\n",
    "data = load_iris()\n",
    "dir(data)"
   ]
  },
  {
   "cell_type": "markdown",
   "id": "cd121024",
   "metadata": {
    "papermill": {
     "duration": 0.001911,
     "end_time": "2025-02-19T07:24:17.477448",
     "exception": false,
     "start_time": "2025-02-19T07:24:17.475537",
     "status": "completed"
    },
    "tags": []
   },
   "source": [
    "**OBJECTIVE**\n",
    "\n",
    "Use sklearn.datasets iris flower dataset to train your model using logistic regression. You need to figure out accuracy of your model and use that to predict different samples in your test dataset. In iris dataset there are 150 samples containing following features,\n",
    "\n",
    "1. SepalLength\n",
    "2. SepalWidth\n",
    "3. PetalLength\n",
    "4. PetalWidth\n",
    "\n",
    "Using above 4 features you will clasify a flower in one of the three categories,\n",
    "\n",
    "1. Setosa\n",
    "2. Versicolour\n",
    "3. Virginica"
   ]
  },
  {
   "cell_type": "code",
   "execution_count": 3,
   "id": "d085b302",
   "metadata": {
    "execution": {
     "iopub.execute_input": "2025-02-19T07:24:17.482913Z",
     "iopub.status.busy": "2025-02-19T07:24:17.482418Z",
     "iopub.status.idle": "2025-02-19T07:24:17.488058Z",
     "shell.execute_reply": "2025-02-19T07:24:17.487298Z"
    },
    "papermill": {
     "duration": 0.010352,
     "end_time": "2025-02-19T07:24:17.489858",
     "exception": false,
     "start_time": "2025-02-19T07:24:17.479506",
     "status": "completed"
    },
    "tags": []
   },
   "outputs": [
    {
     "data": {
      "text/plain": [
       "array([[5.1, 3.5, 1.4, 0.2],\n",
       "       [4.9, 3. , 1.4, 0.2],\n",
       "       [4.7, 3.2, 1.3, 0.2],\n",
       "       [4.6, 3.1, 1.5, 0.2],\n",
       "       [5. , 3.6, 1.4, 0.2]])"
      ]
     },
     "execution_count": 3,
     "metadata": {},
     "output_type": "execute_result"
    }
   ],
   "source": [
    "data.data[:5]"
   ]
  },
  {
   "cell_type": "code",
   "execution_count": 4,
   "id": "d878163b",
   "metadata": {
    "execution": {
     "iopub.execute_input": "2025-02-19T07:24:17.495288Z",
     "iopub.status.busy": "2025-02-19T07:24:17.495024Z",
     "iopub.status.idle": "2025-02-19T07:24:17.499644Z",
     "shell.execute_reply": "2025-02-19T07:24:17.498908Z"
    },
    "papermill": {
     "duration": 0.009122,
     "end_time": "2025-02-19T07:24:17.501496",
     "exception": false,
     "start_time": "2025-02-19T07:24:17.492374",
     "status": "completed"
    },
    "tags": []
   },
   "outputs": [
    {
     "data": {
      "text/plain": [
       "array(['setosa', 'versicolor', 'virginica'], dtype='<U10')"
      ]
     },
     "execution_count": 4,
     "metadata": {},
     "output_type": "execute_result"
    }
   ],
   "source": [
    "data.target_names"
   ]
  },
  {
   "cell_type": "code",
   "execution_count": 5,
   "id": "29ab1cf1",
   "metadata": {
    "execution": {
     "iopub.execute_input": "2025-02-19T07:24:17.507508Z",
     "iopub.status.busy": "2025-02-19T07:24:17.507258Z",
     "iopub.status.idle": "2025-02-19T07:24:17.514403Z",
     "shell.execute_reply": "2025-02-19T07:24:17.513613Z"
    },
    "papermill": {
     "duration": 0.011899,
     "end_time": "2025-02-19T07:24:17.516211",
     "exception": false,
     "start_time": "2025-02-19T07:24:17.504312",
     "status": "completed"
    },
    "tags": []
   },
   "outputs": [
    {
     "data": {
      "text/plain": [
       "array([0, 0, 0, 0, 0, 0, 0, 0, 0, 0, 0, 0, 0, 0, 0, 0, 0, 0, 0, 0, 0, 0,\n",
       "       0, 0, 0, 0, 0, 0, 0, 0, 0, 0, 0, 0, 0, 0, 0, 0, 0, 0, 0, 0, 0, 0,\n",
       "       0, 0, 0, 0, 0, 0, 1, 1, 1, 1, 1, 1, 1, 1, 1, 1, 1, 1, 1, 1, 1, 1,\n",
       "       1, 1, 1, 1, 1, 1, 1, 1, 1, 1, 1, 1, 1, 1, 1, 1, 1, 1, 1, 1, 1, 1,\n",
       "       1, 1, 1, 1, 1, 1, 1, 1, 1, 1, 1, 1, 2, 2, 2, 2, 2, 2, 2, 2, 2, 2,\n",
       "       2, 2, 2, 2, 2, 2, 2, 2, 2, 2, 2, 2, 2, 2, 2, 2, 2, 2, 2, 2, 2, 2,\n",
       "       2, 2, 2, 2, 2, 2, 2, 2, 2, 2, 2, 2, 2, 2, 2, 2, 2, 2])"
      ]
     },
     "execution_count": 5,
     "metadata": {},
     "output_type": "execute_result"
    }
   ],
   "source": [
    "data.target"
   ]
  },
  {
   "cell_type": "code",
   "execution_count": 6,
   "id": "3e743d3c",
   "metadata": {
    "execution": {
     "iopub.execute_input": "2025-02-19T07:24:17.522330Z",
     "iopub.status.busy": "2025-02-19T07:24:17.522079Z",
     "iopub.status.idle": "2025-02-19T07:24:17.676687Z",
     "shell.execute_reply": "2025-02-19T07:24:17.675409Z"
    },
    "papermill": {
     "duration": 0.159541,
     "end_time": "2025-02-19T07:24:17.678614",
     "exception": false,
     "start_time": "2025-02-19T07:24:17.519073",
     "status": "completed"
    },
    "tags": []
   },
   "outputs": [],
   "source": [
    "from sklearn.model_selection import train_test_split\n",
    "X = data.data\n",
    "Y = data.target\n",
    "X_train , X_test , Y_train , Y_test = train_test_split(X,Y,test_size = 0.1)\n"
   ]
  },
  {
   "cell_type": "code",
   "execution_count": 7,
   "id": "cef61998",
   "metadata": {
    "execution": {
     "iopub.execute_input": "2025-02-19T07:24:17.684811Z",
     "iopub.status.busy": "2025-02-19T07:24:17.684522Z",
     "iopub.status.idle": "2025-02-19T07:24:17.888052Z",
     "shell.execute_reply": "2025-02-19T07:24:17.887118Z"
    },
    "papermill": {
     "duration": 0.208092,
     "end_time": "2025-02-19T07:24:17.889455",
     "exception": false,
     "start_time": "2025-02-19T07:24:17.681363",
     "status": "completed"
    },
    "tags": []
   },
   "outputs": [
    {
     "data": {
      "text/html": [
       "<style>#sk-container-id-1 {color: black;background-color: white;}#sk-container-id-1 pre{padding: 0;}#sk-container-id-1 div.sk-toggleable {background-color: white;}#sk-container-id-1 label.sk-toggleable__label {cursor: pointer;display: block;width: 100%;margin-bottom: 0;padding: 0.3em;box-sizing: border-box;text-align: center;}#sk-container-id-1 label.sk-toggleable__label-arrow:before {content: \"▸\";float: left;margin-right: 0.25em;color: #696969;}#sk-container-id-1 label.sk-toggleable__label-arrow:hover:before {color: black;}#sk-container-id-1 div.sk-estimator:hover label.sk-toggleable__label-arrow:before {color: black;}#sk-container-id-1 div.sk-toggleable__content {max-height: 0;max-width: 0;overflow: hidden;text-align: left;background-color: #f0f8ff;}#sk-container-id-1 div.sk-toggleable__content pre {margin: 0.2em;color: black;border-radius: 0.25em;background-color: #f0f8ff;}#sk-container-id-1 input.sk-toggleable__control:checked~div.sk-toggleable__content {max-height: 200px;max-width: 100%;overflow: auto;}#sk-container-id-1 input.sk-toggleable__control:checked~label.sk-toggleable__label-arrow:before {content: \"▾\";}#sk-container-id-1 div.sk-estimator input.sk-toggleable__control:checked~label.sk-toggleable__label {background-color: #d4ebff;}#sk-container-id-1 div.sk-label input.sk-toggleable__control:checked~label.sk-toggleable__label {background-color: #d4ebff;}#sk-container-id-1 input.sk-hidden--visually {border: 0;clip: rect(1px 1px 1px 1px);clip: rect(1px, 1px, 1px, 1px);height: 1px;margin: -1px;overflow: hidden;padding: 0;position: absolute;width: 1px;}#sk-container-id-1 div.sk-estimator {font-family: monospace;background-color: #f0f8ff;border: 1px dotted black;border-radius: 0.25em;box-sizing: border-box;margin-bottom: 0.5em;}#sk-container-id-1 div.sk-estimator:hover {background-color: #d4ebff;}#sk-container-id-1 div.sk-parallel-item::after {content: \"\";width: 100%;border-bottom: 1px solid gray;flex-grow: 1;}#sk-container-id-1 div.sk-label:hover label.sk-toggleable__label {background-color: #d4ebff;}#sk-container-id-1 div.sk-serial::before {content: \"\";position: absolute;border-left: 1px solid gray;box-sizing: border-box;top: 0;bottom: 0;left: 50%;z-index: 0;}#sk-container-id-1 div.sk-serial {display: flex;flex-direction: column;align-items: center;background-color: white;padding-right: 0.2em;padding-left: 0.2em;position: relative;}#sk-container-id-1 div.sk-item {position: relative;z-index: 1;}#sk-container-id-1 div.sk-parallel {display: flex;align-items: stretch;justify-content: center;background-color: white;position: relative;}#sk-container-id-1 div.sk-item::before, #sk-container-id-1 div.sk-parallel-item::before {content: \"\";position: absolute;border-left: 1px solid gray;box-sizing: border-box;top: 0;bottom: 0;left: 50%;z-index: -1;}#sk-container-id-1 div.sk-parallel-item {display: flex;flex-direction: column;z-index: 1;position: relative;background-color: white;}#sk-container-id-1 div.sk-parallel-item:first-child::after {align-self: flex-end;width: 50%;}#sk-container-id-1 div.sk-parallel-item:last-child::after {align-self: flex-start;width: 50%;}#sk-container-id-1 div.sk-parallel-item:only-child::after {width: 0;}#sk-container-id-1 div.sk-dashed-wrapped {border: 1px dashed gray;margin: 0 0.4em 0.5em 0.4em;box-sizing: border-box;padding-bottom: 0.4em;background-color: white;}#sk-container-id-1 div.sk-label label {font-family: monospace;font-weight: bold;display: inline-block;line-height: 1.2em;}#sk-container-id-1 div.sk-label-container {text-align: center;}#sk-container-id-1 div.sk-container {/* jupyter's `normalize.less` sets `[hidden] { display: none; }` but bootstrap.min.css set `[hidden] { display: none !important; }` so we also need the `!important` here to be able to override the default hidden behavior on the sphinx rendered scikit-learn.org. See: https://github.com/scikit-learn/scikit-learn/issues/21755 */display: inline-block !important;position: relative;}#sk-container-id-1 div.sk-text-repr-fallback {display: none;}</style><div id=\"sk-container-id-1\" class=\"sk-top-container\"><div class=\"sk-text-repr-fallback\"><pre>LogisticRegression()</pre><b>In a Jupyter environment, please rerun this cell to show the HTML representation or trust the notebook. <br />On GitHub, the HTML representation is unable to render, please try loading this page with nbviewer.org.</b></div><div class=\"sk-container\" hidden><div class=\"sk-item\"><div class=\"sk-estimator sk-toggleable\"><input class=\"sk-toggleable__control sk-hidden--visually\" id=\"sk-estimator-id-1\" type=\"checkbox\" checked><label for=\"sk-estimator-id-1\" class=\"sk-toggleable__label sk-toggleable__label-arrow\">LogisticRegression</label><div class=\"sk-toggleable__content\"><pre>LogisticRegression()</pre></div></div></div></div></div>"
      ],
      "text/plain": [
       "LogisticRegression()"
      ]
     },
     "execution_count": 7,
     "metadata": {},
     "output_type": "execute_result"
    }
   ],
   "source": [
    "from sklearn.linear_model import LogisticRegression\n",
    "\n",
    "model = LogisticRegression()\n",
    "\n",
    "from sklearn.preprocessing import StandardScaler\n",
    "scaler = StandardScaler()\n",
    "X_train_scaled = scaler.fit_transform(X_train)\n",
    "X_test_scaled = scaler.transform(X_test)\n",
    "\n",
    "# len(X_test)\n",
    "model.fit(X_train_scaled,Y_train)"
   ]
  },
  {
   "cell_type": "code",
   "execution_count": 8,
   "id": "d8e8e4eb",
   "metadata": {
    "execution": {
     "iopub.execute_input": "2025-02-19T07:24:17.897230Z",
     "iopub.status.busy": "2025-02-19T07:24:17.896810Z",
     "iopub.status.idle": "2025-02-19T07:24:17.904653Z",
     "shell.execute_reply": "2025-02-19T07:24:17.903508Z"
    },
    "papermill": {
     "duration": 0.012751,
     "end_time": "2025-02-19T07:24:17.905968",
     "exception": false,
     "start_time": "2025-02-19T07:24:17.893217",
     "status": "completed"
    },
    "tags": []
   },
   "outputs": [
    {
     "data": {
      "text/plain": [
       "array([2, 1, 1, 2, 0, 2, 0, 2, 2, 1, 2, 0, 2, 2, 1])"
      ]
     },
     "execution_count": 8,
     "metadata": {},
     "output_type": "execute_result"
    }
   ],
   "source": [
    "model.predict(X_test_scaled )"
   ]
  },
  {
   "cell_type": "code",
   "execution_count": 9,
   "id": "e0f0f0d4",
   "metadata": {
    "execution": {
     "iopub.execute_input": "2025-02-19T07:24:17.912565Z",
     "iopub.status.busy": "2025-02-19T07:24:17.912193Z",
     "iopub.status.idle": "2025-02-19T07:24:17.918413Z",
     "shell.execute_reply": "2025-02-19T07:24:17.917322Z"
    },
    "papermill": {
     "duration": 0.011146,
     "end_time": "2025-02-19T07:24:17.920046",
     "exception": false,
     "start_time": "2025-02-19T07:24:17.908900",
     "status": "completed"
    },
    "tags": []
   },
   "outputs": [
    {
     "data": {
      "text/plain": [
       "1.0"
      ]
     },
     "execution_count": 9,
     "metadata": {},
     "output_type": "execute_result"
    }
   ],
   "source": [
    "model.score(X_test_scaled , Y_test)"
   ]
  }
 ],
 "metadata": {
  "kaggle": {
   "accelerator": "none",
   "dataSources": [],
   "dockerImageVersionId": 30886,
   "isGpuEnabled": false,
   "isInternetEnabled": false,
   "language": "python",
   "sourceType": "notebook"
  },
  "kernelspec": {
   "display_name": "Python 3",
   "language": "python",
   "name": "python3"
  },
  "language_info": {
   "codemirror_mode": {
    "name": "ipython",
    "version": 3
   },
   "file_extension": ".py",
   "mimetype": "text/x-python",
   "name": "python",
   "nbconvert_exporter": "python",
   "pygments_lexer": "ipython3",
   "version": "3.10.12"
  },
  "papermill": {
   "default_parameters": {},
   "duration": 6.573725,
   "end_time": "2025-02-19T07:24:18.643282",
   "environment_variables": {},
   "exception": null,
   "input_path": "__notebook__.ipynb",
   "output_path": "__notebook__.ipynb",
   "parameters": {},
   "start_time": "2025-02-19T07:24:12.069557",
   "version": "2.6.0"
  }
 },
 "nbformat": 4,
 "nbformat_minor": 5
}
