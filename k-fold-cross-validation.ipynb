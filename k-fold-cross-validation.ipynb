{
 "cells": [
  {
   "cell_type": "code",
   "execution_count": 1,
   "id": "87168adb",
   "metadata": {
    "_cell_guid": "b1076dfc-b9ad-4769-8c92-a6c4dae69d19",
    "_uuid": "8f2839f25d086af736a60e9eeb907d3b93b6e0e5",
    "execution": {
     "iopub.execute_input": "2025-02-24T09:22:18.856157Z",
     "iopub.status.busy": "2025-02-24T09:22:18.855663Z",
     "iopub.status.idle": "2025-02-24T09:22:21.007254Z",
     "shell.execute_reply": "2025-02-24T09:22:21.006019Z"
    },
    "papermill": {
     "duration": 2.161174,
     "end_time": "2025-02-24T09:22:21.009503",
     "exception": false,
     "start_time": "2025-02-24T09:22:18.848329",
     "status": "completed"
    },
    "tags": []
   },
   "outputs": [],
   "source": [
    "from sklearn.linear_model import LogisticRegression \n",
    "from sklearn.svm import SVC\n",
    "from sklearn.ensemble import RandomForestClassifier\n",
    "from sklearn.tree import DecisionTreeClassifier\n",
    "import numpy as np \n",
    "import matplotlib.pyplot as plt \n",
    "from sklearn.datasets import load_digits\n",
    "digits = load_digits()"
   ]
  },
  {
   "cell_type": "code",
   "execution_count": 2,
   "id": "d18aa5f0",
   "metadata": {
    "execution": {
     "iopub.execute_input": "2025-02-24T09:22:21.022543Z",
     "iopub.status.busy": "2025-02-24T09:22:21.022018Z",
     "iopub.status.idle": "2025-02-24T09:22:21.030332Z",
     "shell.execute_reply": "2025-02-24T09:22:21.029207Z"
    },
    "papermill": {
     "duration": 0.016995,
     "end_time": "2025-02-24T09:22:21.032193",
     "exception": false,
     "start_time": "2025-02-24T09:22:21.015198",
     "status": "completed"
    },
    "tags": []
   },
   "outputs": [],
   "source": [
    "from sklearn.model_selection import train_test_split\n",
    "X_train, X_test, y_train, y_test = train_test_split(digits.data,digits.target,test_size=0.3)"
   ]
  },
  {
   "cell_type": "code",
   "execution_count": 3,
   "id": "65e6fdbd",
   "metadata": {
    "execution": {
     "iopub.execute_input": "2025-02-24T09:22:21.044233Z",
     "iopub.status.busy": "2025-02-24T09:22:21.043849Z",
     "iopub.status.idle": "2025-02-24T09:22:21.219157Z",
     "shell.execute_reply": "2025-02-24T09:22:21.217683Z"
    },
    "papermill": {
     "duration": 0.183367,
     "end_time": "2025-02-24T09:22:21.221028",
     "exception": false,
     "start_time": "2025-02-24T09:22:21.037661",
     "status": "completed"
    },
    "tags": []
   },
   "outputs": [
    {
     "data": {
      "text/plain": [
       "0.9648148148148148"
      ]
     },
     "execution_count": 3,
     "metadata": {},
     "output_type": "execute_result"
    }
   ],
   "source": [
    "# Logistic Regression\n",
    "\n",
    "lr = LogisticRegression(solver='liblinear',multi_class='ovr')\n",
    "lr.fit(X_train, y_train)\n",
    "lr.score(X_test, y_test)"
   ]
  },
  {
   "cell_type": "code",
   "execution_count": 4,
   "id": "bddcde52",
   "metadata": {
    "execution": {
     "iopub.execute_input": "2025-02-24T09:22:21.233368Z",
     "iopub.status.busy": "2025-02-24T09:22:21.232979Z",
     "iopub.status.idle": "2025-02-24T09:22:21.312007Z",
     "shell.execute_reply": "2025-02-24T09:22:21.310911Z"
    },
    "papermill": {
     "duration": 0.087408,
     "end_time": "2025-02-24T09:22:21.314078",
     "exception": false,
     "start_time": "2025-02-24T09:22:21.226670",
     "status": "completed"
    },
    "tags": []
   },
   "outputs": [
    {
     "data": {
      "text/plain": [
       "0.9944444444444445"
      ]
     },
     "execution_count": 4,
     "metadata": {},
     "output_type": "execute_result"
    }
   ],
   "source": [
    "# SVM\n",
    "svm = SVC()\n",
    "svm.fit(X_train, y_train)\n",
    "svm.score(X_test, y_test)"
   ]
  },
  {
   "cell_type": "code",
   "execution_count": 5,
   "id": "0e620976",
   "metadata": {
    "execution": {
     "iopub.execute_input": "2025-02-24T09:22:21.327835Z",
     "iopub.status.busy": "2025-02-24T09:22:21.327490Z",
     "iopub.status.idle": "2025-02-24T09:22:21.525948Z",
     "shell.execute_reply": "2025-02-24T09:22:21.524893Z"
    },
    "papermill": {
     "duration": 0.207011,
     "end_time": "2025-02-24T09:22:21.527761",
     "exception": false,
     "start_time": "2025-02-24T09:22:21.320750",
     "status": "completed"
    },
    "tags": []
   },
   "outputs": [
    {
     "data": {
      "text/plain": [
       "0.9740740740740741"
      ]
     },
     "execution_count": 5,
     "metadata": {},
     "output_type": "execute_result"
    }
   ],
   "source": [
    "# Random Forest\n",
    "\n",
    "rf = RandomForestClassifier(n_estimators=50)\n",
    "rf.fit(X_train, y_train)\n",
    "rf.score(X_test, y_test)"
   ]
  },
  {
   "cell_type": "markdown",
   "id": "1396b76c",
   "metadata": {
    "papermill": {
     "duration": 0.005361,
     "end_time": "2025-02-24T09:22:21.538858",
     "exception": false,
     "start_time": "2025-02-24T09:22:21.533497",
     "status": "completed"
    },
    "tags": []
   },
   "source": [
    "**KFold cross validation**\n",
    "\n",
    "**Basic example**"
   ]
  },
  {
   "cell_type": "code",
   "execution_count": 6,
   "id": "47765c05",
   "metadata": {
    "execution": {
     "iopub.execute_input": "2025-02-24T09:22:21.551240Z",
     "iopub.status.busy": "2025-02-24T09:22:21.550830Z",
     "iopub.status.idle": "2025-02-24T09:22:21.556888Z",
     "shell.execute_reply": "2025-02-24T09:22:21.555818Z"
    },
    "papermill": {
     "duration": 0.014255,
     "end_time": "2025-02-24T09:22:21.558610",
     "exception": false,
     "start_time": "2025-02-24T09:22:21.544355",
     "status": "completed"
    },
    "tags": []
   },
   "outputs": [
    {
     "data": {
      "text/plain": [
       "KFold(n_splits=5, random_state=None, shuffle=False)"
      ]
     },
     "execution_count": 6,
     "metadata": {},
     "output_type": "execute_result"
    }
   ],
   "source": [
    "from sklearn.model_selection import KFold\n",
    "kf = KFold()\n",
    "kf"
   ]
  },
  {
   "cell_type": "code",
   "execution_count": 7,
   "id": "94a47eae",
   "metadata": {
    "execution": {
     "iopub.execute_input": "2025-02-24T09:22:21.571493Z",
     "iopub.status.busy": "2025-02-24T09:22:21.571093Z",
     "iopub.status.idle": "2025-02-24T09:22:21.578822Z",
     "shell.execute_reply": "2025-02-24T09:22:21.577055Z"
    },
    "papermill": {
     "duration": 0.016158,
     "end_time": "2025-02-24T09:22:21.580583",
     "exception": false,
     "start_time": "2025-02-24T09:22:21.564425",
     "status": "completed"
    },
    "tags": []
   },
   "outputs": [
    {
     "name": "stdout",
     "output_type": "stream",
     "text": [
      "[2 3 4 5 6 7 8] [0 1]\n",
      "[0 1 4 5 6 7 8] [2 3]\n",
      "[0 1 2 3 6 7 8] [4 5]\n",
      "[0 1 2 3 4 5 8] [6 7]\n",
      "[0 1 2 3 4 5 6 7] [8]\n"
     ]
    }
   ],
   "source": [
    "for train_index, test_index in kf.split([1,2,3,4,5,6,7,8,9]):\n",
    "    print(train_index, test_index)"
   ]
  },
  {
   "cell_type": "markdown",
   "id": "0a64e28b",
   "metadata": {
    "papermill": {
     "duration": 0.005479,
     "end_time": "2025-02-24T09:22:21.591990",
     "exception": false,
     "start_time": "2025-02-24T09:22:21.586511",
     "status": "completed"
    },
    "tags": []
   },
   "source": [
    "**Use KFold for our digits example**"
   ]
  },
  {
   "cell_type": "code",
   "execution_count": 8,
   "id": "b5ebe426",
   "metadata": {
    "execution": {
     "iopub.execute_input": "2025-02-24T09:22:21.604747Z",
     "iopub.status.busy": "2025-02-24T09:22:21.604321Z",
     "iopub.status.idle": "2025-02-24T09:22:21.608862Z",
     "shell.execute_reply": "2025-02-24T09:22:21.607767Z"
    },
    "papermill": {
     "duration": 0.012877,
     "end_time": "2025-02-24T09:22:21.610681",
     "exception": false,
     "start_time": "2025-02-24T09:22:21.597804",
     "status": "completed"
    },
    "tags": []
   },
   "outputs": [],
   "source": [
    "def get_score(model, X_train, X_test, y_train, y_test):\n",
    "    model.fit(X_train, y_train)\n",
    "    return model.score(X_test, y_test)"
   ]
  },
  {
   "cell_type": "code",
   "execution_count": 9,
   "id": "3edd1261",
   "metadata": {
    "execution": {
     "iopub.execute_input": "2025-02-24T09:22:21.623743Z",
     "iopub.status.busy": "2025-02-24T09:22:21.623367Z",
     "iopub.status.idle": "2025-02-24T09:22:22.674569Z",
     "shell.execute_reply": "2025-02-24T09:22:22.673439Z"
    },
    "papermill": {
     "duration": 1.05988,
     "end_time": "2025-02-24T09:22:22.676498",
     "exception": false,
     "start_time": "2025-02-24T09:22:21.616618",
     "status": "completed"
    },
    "tags": []
   },
   "outputs": [],
   "source": [
    "from sklearn.model_selection import StratifiedKFold\n",
    "folds = StratifiedKFold(n_splits=3)\n",
    "\n",
    "scores_logistic = []\n",
    "scores_svm = []\n",
    "scores_rf = []\n",
    "\n",
    "for train_index, test_index in folds.split(digits.data,digits.target):\n",
    "    X_train, X_test, y_train, y_test = digits.data[train_index], digits.data[test_index], \\\n",
    "                                       digits.target[train_index], digits.target[test_index]\n",
    "    scores_logistic.append(get_score(LogisticRegression(solver='liblinear',multi_class='ovr'), X_train, X_test, y_train, y_test))  \n",
    "    scores_svm.append(get_score(SVC(), X_train, X_test, y_train, y_test))\n",
    "    scores_rf.append(get_score(RandomForestClassifier(n_estimators=40), X_train, X_test, y_train, y_test))"
   ]
  },
  {
   "cell_type": "code",
   "execution_count": 10,
   "id": "242fce94",
   "metadata": {
    "execution": {
     "iopub.execute_input": "2025-02-24T09:22:22.690686Z",
     "iopub.status.busy": "2025-02-24T09:22:22.690340Z",
     "iopub.status.idle": "2025-02-24T09:22:22.696222Z",
     "shell.execute_reply": "2025-02-24T09:22:22.695052Z"
    },
    "papermill": {
     "duration": 0.014434,
     "end_time": "2025-02-24T09:22:22.697923",
     "exception": false,
     "start_time": "2025-02-24T09:22:22.683489",
     "status": "completed"
    },
    "tags": []
   },
   "outputs": [
    {
     "data": {
      "text/plain": [
       "[0.8948247078464107, 0.9532554257095158, 0.9098497495826378]"
      ]
     },
     "execution_count": 10,
     "metadata": {},
     "output_type": "execute_result"
    }
   ],
   "source": [
    "scores_logistic"
   ]
  },
  {
   "cell_type": "code",
   "execution_count": 11,
   "id": "754dbe14",
   "metadata": {
    "execution": {
     "iopub.execute_input": "2025-02-24T09:22:22.711007Z",
     "iopub.status.busy": "2025-02-24T09:22:22.710634Z",
     "iopub.status.idle": "2025-02-24T09:22:22.716090Z",
     "shell.execute_reply": "2025-02-24T09:22:22.715255Z"
    },
    "papermill": {
     "duration": 0.013756,
     "end_time": "2025-02-24T09:22:22.717708",
     "exception": false,
     "start_time": "2025-02-24T09:22:22.703952",
     "status": "completed"
    },
    "tags": []
   },
   "outputs": [
    {
     "data": {
      "text/plain": [
       "[0.9649415692821369, 0.9799666110183639, 0.9649415692821369]"
      ]
     },
     "execution_count": 11,
     "metadata": {},
     "output_type": "execute_result"
    }
   ],
   "source": [
    "scores_svm"
   ]
  },
  {
   "cell_type": "code",
   "execution_count": 12,
   "id": "57e6d5d8",
   "metadata": {
    "execution": {
     "iopub.execute_input": "2025-02-24T09:22:22.730981Z",
     "iopub.status.busy": "2025-02-24T09:22:22.730639Z",
     "iopub.status.idle": "2025-02-24T09:22:22.736431Z",
     "shell.execute_reply": "2025-02-24T09:22:22.735457Z"
    },
    "papermill": {
     "duration": 0.014496,
     "end_time": "2025-02-24T09:22:22.738295",
     "exception": false,
     "start_time": "2025-02-24T09:22:22.723799",
     "status": "completed"
    },
    "tags": []
   },
   "outputs": [
    {
     "data": {
      "text/plain": [
       "[0.9348914858096828, 0.9449081803005008, 0.9215358931552587]"
      ]
     },
     "execution_count": 12,
     "metadata": {},
     "output_type": "execute_result"
    }
   ],
   "source": [
    "scores_rf"
   ]
  },
  {
   "cell_type": "markdown",
   "id": "250ece29",
   "metadata": {
    "papermill": {
     "duration": 0.005552,
     "end_time": "2025-02-24T09:22:22.749946",
     "exception": false,
     "start_time": "2025-02-24T09:22:22.744394",
     "status": "completed"
    },
    "tags": []
   },
   "source": [
    "**cross_val_score function**"
   ]
  },
  {
   "cell_type": "code",
   "execution_count": 13,
   "id": "e40c224b",
   "metadata": {
    "execution": {
     "iopub.execute_input": "2025-02-24T09:22:22.763691Z",
     "iopub.status.busy": "2025-02-24T09:22:22.763322Z",
     "iopub.status.idle": "2025-02-24T09:22:22.767415Z",
     "shell.execute_reply": "2025-02-24T09:22:22.766344Z"
    },
    "papermill": {
     "duration": 0.01261,
     "end_time": "2025-02-24T09:22:22.768973",
     "exception": false,
     "start_time": "2025-02-24T09:22:22.756363",
     "status": "completed"
    },
    "tags": []
   },
   "outputs": [],
   "source": [
    "from sklearn.model_selection import cross_val_score"
   ]
  },
  {
   "cell_type": "code",
   "execution_count": 14,
   "id": "3088b6ad",
   "metadata": {
    "execution": {
     "iopub.execute_input": "2025-02-24T09:22:22.782330Z",
     "iopub.status.busy": "2025-02-24T09:22:22.781956Z",
     "iopub.status.idle": "2025-02-24T09:22:23.423365Z",
     "shell.execute_reply": "2025-02-24T09:22:23.422353Z"
    },
    "papermill": {
     "duration": 0.650331,
     "end_time": "2025-02-24T09:22:23.425466",
     "exception": false,
     "start_time": "2025-02-24T09:22:22.775135",
     "status": "completed"
    },
    "tags": []
   },
   "outputs": [
    {
     "data": {
      "text/plain": [
       "array([0.93777778, 0.91091314, 0.95768374, 0.90423163])"
      ]
     },
     "execution_count": 14,
     "metadata": {},
     "output_type": "execute_result"
    }
   ],
   "source": [
    "cross_val_score(LogisticRegression(solver='liblinear',multi_class='ovr'),digits.data,digits.target ,cv = 4)"
   ]
  },
  {
   "cell_type": "code",
   "execution_count": 15,
   "id": "6d351d41",
   "metadata": {
    "execution": {
     "iopub.execute_input": "2025-02-24T09:22:23.439314Z",
     "iopub.status.busy": "2025-02-24T09:22:23.438914Z",
     "iopub.status.idle": "2025-02-24T09:22:23.655718Z",
     "shell.execute_reply": "2025-02-24T09:22:23.654592Z"
    },
    "papermill": {
     "duration": 0.225613,
     "end_time": "2025-02-24T09:22:23.657542",
     "exception": false,
     "start_time": "2025-02-24T09:22:23.431929",
     "status": "completed"
    },
    "tags": []
   },
   "outputs": [
    {
     "data": {
      "text/plain": [
       "array([0.96494157, 0.97996661, 0.96494157])"
      ]
     },
     "execution_count": 15,
     "metadata": {},
     "output_type": "execute_result"
    }
   ],
   "source": [
    "cross_val_score(SVC(),digits.data,digits.target ,cv = 3)\n"
   ]
  },
  {
   "cell_type": "code",
   "execution_count": 16,
   "id": "3b6f2e12",
   "metadata": {
    "execution": {
     "iopub.execute_input": "2025-02-24T09:22:23.672195Z",
     "iopub.status.busy": "2025-02-24T09:22:23.671791Z",
     "iopub.status.idle": "2025-02-24T09:22:24.298407Z",
     "shell.execute_reply": "2025-02-24T09:22:24.297216Z"
    },
    "papermill": {
     "duration": 0.636561,
     "end_time": "2025-02-24T09:22:24.300489",
     "exception": false,
     "start_time": "2025-02-24T09:22:23.663928",
     "status": "completed"
    },
    "tags": []
   },
   "outputs": [
    {
     "data": {
      "text/plain": [
       "array([0.93489149, 0.95158598, 0.93489149])"
      ]
     },
     "execution_count": 16,
     "metadata": {},
     "output_type": "execute_result"
    }
   ],
   "source": [
    "cross_val_score(RandomForestClassifier(n_estimators = 50),digits.data,digits.target ,cv = 3)\n"
   ]
  },
  {
   "cell_type": "markdown",
   "id": "7c0e2816",
   "metadata": {
    "papermill": {
     "duration": 0.006632,
     "end_time": "2025-02-24T09:22:24.313931",
     "exception": false,
     "start_time": "2025-02-24T09:22:24.307299",
     "status": "completed"
    },
    "tags": []
   },
   "source": [
    "**Exercise**\n",
    "\n",
    "Use iris flower dataset from sklearn library and use cross_val_score against following models to measure the performance of each. In the end figure out the model with best performance,\n",
    "\n",
    "* Logistic Regression\n",
    "* SVM\n",
    "* Decision Tree\n",
    "* Random Forest"
   ]
  },
  {
   "cell_type": "code",
   "execution_count": 17,
   "id": "6fb5b601",
   "metadata": {
    "execution": {
     "iopub.execute_input": "2025-02-24T09:22:24.329080Z",
     "iopub.status.busy": "2025-02-24T09:22:24.328549Z",
     "iopub.status.idle": "2025-02-24T09:22:24.336054Z",
     "shell.execute_reply": "2025-02-24T09:22:24.334910Z"
    },
    "papermill": {
     "duration": 0.017348,
     "end_time": "2025-02-24T09:22:24.338224",
     "exception": false,
     "start_time": "2025-02-24T09:22:24.320876",
     "status": "completed"
    },
    "tags": []
   },
   "outputs": [],
   "source": [
    "from sklearn.datasets import load_iris\n",
    "iris = load_iris()"
   ]
  },
  {
   "cell_type": "code",
   "execution_count": 18,
   "id": "a9e9a108",
   "metadata": {
    "execution": {
     "iopub.execute_input": "2025-02-24T09:22:24.352648Z",
     "iopub.status.busy": "2025-02-24T09:22:24.352239Z",
     "iopub.status.idle": "2025-02-24T09:22:24.358648Z",
     "shell.execute_reply": "2025-02-24T09:22:24.357573Z"
    },
    "papermill": {
     "duration": 0.015448,
     "end_time": "2025-02-24T09:22:24.360450",
     "exception": false,
     "start_time": "2025-02-24T09:22:24.345002",
     "status": "completed"
    },
    "tags": []
   },
   "outputs": [
    {
     "data": {
      "text/plain": [
       "['DESCR',\n",
       " 'data',\n",
       " 'data_module',\n",
       " 'feature_names',\n",
       " 'filename',\n",
       " 'frame',\n",
       " 'target',\n",
       " 'target_names']"
      ]
     },
     "execution_count": 18,
     "metadata": {},
     "output_type": "execute_result"
    }
   ],
   "source": [
    "dir(iris)"
   ]
  },
  {
   "cell_type": "code",
   "execution_count": 19,
   "id": "422366fa",
   "metadata": {
    "execution": {
     "iopub.execute_input": "2025-02-24T09:22:24.375974Z",
     "iopub.status.busy": "2025-02-24T09:22:24.375573Z",
     "iopub.status.idle": "2025-02-24T09:22:24.394457Z",
     "shell.execute_reply": "2025-02-24T09:22:24.393135Z"
    },
    "papermill": {
     "duration": 0.0294,
     "end_time": "2025-02-24T09:22:24.396548",
     "exception": false,
     "start_time": "2025-02-24T09:22:24.367148",
     "status": "completed"
    },
    "tags": []
   },
   "outputs": [
    {
     "data": {
      "text/plain": [
       "0.9533333333333333"
      ]
     },
     "execution_count": 19,
     "metadata": {},
     "output_type": "execute_result"
    }
   ],
   "source": [
    "cross_val_score(LogisticRegression(solver='liblinear',multi_class='ovr'),iris.data,iris.target ,  cv =3).mean()"
   ]
  },
  {
   "cell_type": "code",
   "execution_count": 20,
   "id": "f36fecf8",
   "metadata": {
    "execution": {
     "iopub.execute_input": "2025-02-24T09:22:24.411313Z",
     "iopub.status.busy": "2025-02-24T09:22:24.410893Z",
     "iopub.status.idle": "2025-02-24T09:22:24.427648Z",
     "shell.execute_reply": "2025-02-24T09:22:24.426525Z"
    },
    "papermill": {
     "duration": 0.026345,
     "end_time": "2025-02-24T09:22:24.429584",
     "exception": false,
     "start_time": "2025-02-24T09:22:24.403239",
     "status": "completed"
    },
    "tags": []
   },
   "outputs": [
    {
     "data": {
      "text/plain": [
       "0.96"
      ]
     },
     "execution_count": 20,
     "metadata": {},
     "output_type": "execute_result"
    }
   ],
   "source": [
    "cross_val_score( SVC(),iris.data,iris.target ,  cv =3).mean()"
   ]
  },
  {
   "cell_type": "code",
   "execution_count": 21,
   "id": "eb1c3999",
   "metadata": {
    "execution": {
     "iopub.execute_input": "2025-02-24T09:22:24.447745Z",
     "iopub.status.busy": "2025-02-24T09:22:24.446761Z",
     "iopub.status.idle": "2025-02-24T09:22:24.466878Z",
     "shell.execute_reply": "2025-02-24T09:22:24.465688Z"
    },
    "papermill": {
     "duration": 0.032668,
     "end_time": "2025-02-24T09:22:24.469027",
     "exception": false,
     "start_time": "2025-02-24T09:22:24.436359",
     "status": "completed"
    },
    "tags": []
   },
   "outputs": [
    {
     "data": {
      "text/plain": [
       "0.9533333333333333"
      ]
     },
     "execution_count": 21,
     "metadata": {},
     "output_type": "execute_result"
    }
   ],
   "source": [
    "cross_val_score(DecisionTreeClassifier(),iris.data,iris.target ,  cv =3).mean()\n"
   ]
  },
  {
   "cell_type": "code",
   "execution_count": 22,
   "id": "f5b1b02d",
   "metadata": {
    "execution": {
     "iopub.execute_input": "2025-02-24T09:22:24.488210Z",
     "iopub.status.busy": "2025-02-24T09:22:24.487821Z",
     "iopub.status.idle": "2025-02-24T09:22:24.596374Z",
     "shell.execute_reply": "2025-02-24T09:22:24.594832Z"
    },
    "papermill": {
     "duration": 0.118816,
     "end_time": "2025-02-24T09:22:24.598484",
     "exception": false,
     "start_time": "2025-02-24T09:22:24.479668",
     "status": "completed"
    },
    "tags": []
   },
   "outputs": [
    {
     "data": {
      "text/plain": [
       "0.9533333333333333"
      ]
     },
     "execution_count": 22,
     "metadata": {},
     "output_type": "execute_result"
    }
   ],
   "source": [
    "cross_val_score(RandomForestClassifier(n_estimators=20),iris.data,iris.target ,  cv =3).mean()\n"
   ]
  },
  {
   "cell_type": "code",
   "execution_count": null,
   "id": "9e489ce9",
   "metadata": {
    "papermill": {
     "duration": 0.007373,
     "end_time": "2025-02-24T09:22:24.612894",
     "exception": false,
     "start_time": "2025-02-24T09:22:24.605521",
     "status": "completed"
    },
    "tags": []
   },
   "outputs": [],
   "source": []
  }
 ],
 "metadata": {
  "kaggle": {
   "accelerator": "none",
   "dataSources": [],
   "dockerImageVersionId": 30918,
   "isGpuEnabled": false,
   "isInternetEnabled": true,
   "language": "python",
   "sourceType": "notebook"
  },
  "kernelspec": {
   "display_name": "Python 3",
   "language": "python",
   "name": "python3"
  },
  "language_info": {
   "codemirror_mode": {
    "name": "ipython",
    "version": 3
   },
   "file_extension": ".py",
   "mimetype": "text/x-python",
   "name": "python",
   "nbconvert_exporter": "python",
   "pygments_lexer": "ipython3",
   "version": "3.10.12"
  },
  "papermill": {
   "default_parameters": {},
   "duration": 9.472611,
   "end_time": "2025-02-24T09:22:25.241897",
   "environment_variables": {},
   "exception": null,
   "input_path": "__notebook__.ipynb",
   "output_path": "__notebook__.ipynb",
   "parameters": {},
   "start_time": "2025-02-24T09:22:15.769286",
   "version": "2.6.0"
  }
 },
 "nbformat": 4,
 "nbformat_minor": 5
}
