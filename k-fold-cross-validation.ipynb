{
 "cells": [
  {
   "cell_type": "code",
   "execution_count": 1,
   "id": "fa987f47",
   "metadata": {
    "_cell_guid": "b1076dfc-b9ad-4769-8c92-a6c4dae69d19",
    "_uuid": "8f2839f25d086af736a60e9eeb907d3b93b6e0e5",
    "execution": {
     "iopub.execute_input": "2025-02-24T09:48:12.734581Z",
     "iopub.status.busy": "2025-02-24T09:48:12.734097Z",
     "iopub.status.idle": "2025-02-24T09:48:14.798515Z",
     "shell.execute_reply": "2025-02-24T09:48:14.797258Z"
    },
    "papermill": {
     "duration": 2.073916,
     "end_time": "2025-02-24T09:48:14.800483",
     "exception": false,
     "start_time": "2025-02-24T09:48:12.726567",
     "status": "completed"
    },
    "tags": []
   },
   "outputs": [],
   "source": [
    "from sklearn.linear_model import LogisticRegression \n",
    "from sklearn.svm import SVC\n",
    "from sklearn.ensemble import RandomForestClassifier\n",
    "from sklearn.tree import DecisionTreeClassifier\n",
    "import numpy as np \n",
    "import matplotlib.pyplot as plt \n",
    "from sklearn.datasets import load_digits\n",
    "digits = load_digits()"
   ]
  },
  {
   "cell_type": "code",
   "execution_count": 2,
   "id": "d4f0e82e",
   "metadata": {
    "execution": {
     "iopub.execute_input": "2025-02-24T09:48:14.813251Z",
     "iopub.status.busy": "2025-02-24T09:48:14.812701Z",
     "iopub.status.idle": "2025-02-24T09:48:14.820258Z",
     "shell.execute_reply": "2025-02-24T09:48:14.819049Z"
    },
    "papermill": {
     "duration": 0.015682,
     "end_time": "2025-02-24T09:48:14.821927",
     "exception": false,
     "start_time": "2025-02-24T09:48:14.806245",
     "status": "completed"
    },
    "tags": []
   },
   "outputs": [],
   "source": [
    "from sklearn.model_selection import train_test_split\n",
    "X_train, X_test, y_train, y_test = train_test_split(digits.data,digits.target,test_size=0.3)"
   ]
  },
  {
   "cell_type": "code",
   "execution_count": 3,
   "id": "17521139",
   "metadata": {
    "execution": {
     "iopub.execute_input": "2025-02-24T09:48:14.834328Z",
     "iopub.status.busy": "2025-02-24T09:48:14.833964Z",
     "iopub.status.idle": "2025-02-24T09:48:15.018328Z",
     "shell.execute_reply": "2025-02-24T09:48:15.017052Z"
    },
    "papermill": {
     "duration": 0.192542,
     "end_time": "2025-02-24T09:48:15.020090",
     "exception": false,
     "start_time": "2025-02-24T09:48:14.827548",
     "status": "completed"
    },
    "tags": []
   },
   "outputs": [
    {
     "data": {
      "text/plain": [
       "0.9462962962962963"
      ]
     },
     "execution_count": 3,
     "metadata": {},
     "output_type": "execute_result"
    }
   ],
   "source": [
    "# Logistic Regression\n",
    "\n",
    "lr = LogisticRegression(solver='liblinear',multi_class='ovr')\n",
    "lr.fit(X_train, y_train)\n",
    "lr.score(X_test, y_test)"
   ]
  },
  {
   "cell_type": "code",
   "execution_count": 4,
   "id": "6fcdeb2a",
   "metadata": {
    "execution": {
     "iopub.execute_input": "2025-02-24T09:48:15.032934Z",
     "iopub.status.busy": "2025-02-24T09:48:15.032560Z",
     "iopub.status.idle": "2025-02-24T09:48:15.117570Z",
     "shell.execute_reply": "2025-02-24T09:48:15.116613Z"
    },
    "papermill": {
     "duration": 0.093285,
     "end_time": "2025-02-24T09:48:15.119292",
     "exception": false,
     "start_time": "2025-02-24T09:48:15.026007",
     "status": "completed"
    },
    "tags": []
   },
   "outputs": [
    {
     "data": {
      "text/plain": [
       "0.9851851851851852"
      ]
     },
     "execution_count": 4,
     "metadata": {},
     "output_type": "execute_result"
    }
   ],
   "source": [
    "# SVM\n",
    "svm = SVC()\n",
    "svm.fit(X_train, y_train)\n",
    "svm.score(X_test, y_test)"
   ]
  },
  {
   "cell_type": "code",
   "execution_count": 5,
   "id": "3e7ccbe0",
   "metadata": {
    "execution": {
     "iopub.execute_input": "2025-02-24T09:48:15.132183Z",
     "iopub.status.busy": "2025-02-24T09:48:15.131813Z",
     "iopub.status.idle": "2025-02-24T09:48:15.323704Z",
     "shell.execute_reply": "2025-02-24T09:48:15.322629Z"
    },
    "papermill": {
     "duration": 0.200213,
     "end_time": "2025-02-24T09:48:15.325369",
     "exception": false,
     "start_time": "2025-02-24T09:48:15.125156",
     "status": "completed"
    },
    "tags": []
   },
   "outputs": [
    {
     "data": {
      "text/plain": [
       "0.9648148148148148"
      ]
     },
     "execution_count": 5,
     "metadata": {},
     "output_type": "execute_result"
    }
   ],
   "source": [
    "# Random Forest\n",
    "\n",
    "rf = RandomForestClassifier(n_estimators=50)\n",
    "rf.fit(X_train, y_train)\n",
    "rf.score(X_test, y_test)"
   ]
  },
  {
   "cell_type": "markdown",
   "id": "d5d510c0",
   "metadata": {
    "papermill": {
     "duration": 0.00548,
     "end_time": "2025-02-24T09:48:15.336792",
     "exception": false,
     "start_time": "2025-02-24T09:48:15.331312",
     "status": "completed"
    },
    "tags": []
   },
   "source": [
    "**KFold cross validation**\n",
    "\n",
    "**Basic example**"
   ]
  },
  {
   "cell_type": "code",
   "execution_count": 6,
   "id": "a247ba4f",
   "metadata": {
    "execution": {
     "iopub.execute_input": "2025-02-24T09:48:15.349313Z",
     "iopub.status.busy": "2025-02-24T09:48:15.348963Z",
     "iopub.status.idle": "2025-02-24T09:48:15.355170Z",
     "shell.execute_reply": "2025-02-24T09:48:15.354115Z"
    },
    "papermill": {
     "duration": 0.014422,
     "end_time": "2025-02-24T09:48:15.356794",
     "exception": false,
     "start_time": "2025-02-24T09:48:15.342372",
     "status": "completed"
    },
    "tags": []
   },
   "outputs": [
    {
     "data": {
      "text/plain": [
       "KFold(n_splits=5, random_state=None, shuffle=False)"
      ]
     },
     "execution_count": 6,
     "metadata": {},
     "output_type": "execute_result"
    }
   ],
   "source": [
    "from sklearn.model_selection import KFold\n",
    "kf = KFold()\n",
    "kf"
   ]
  },
  {
   "cell_type": "code",
   "execution_count": 7,
   "id": "2546584e",
   "metadata": {
    "execution": {
     "iopub.execute_input": "2025-02-24T09:48:15.369659Z",
     "iopub.status.busy": "2025-02-24T09:48:15.369320Z",
     "iopub.status.idle": "2025-02-24T09:48:15.378213Z",
     "shell.execute_reply": "2025-02-24T09:48:15.377113Z"
    },
    "papermill": {
     "duration": 0.017141,
     "end_time": "2025-02-24T09:48:15.379885",
     "exception": false,
     "start_time": "2025-02-24T09:48:15.362744",
     "status": "completed"
    },
    "tags": []
   },
   "outputs": [
    {
     "name": "stdout",
     "output_type": "stream",
     "text": [
      "[2 3 4 5 6 7 8] [0 1]\n",
      "[0 1 4 5 6 7 8] [2 3]\n",
      "[0 1 2 3 6 7 8] [4 5]\n",
      "[0 1 2 3 4 5 8] [6 7]\n",
      "[0 1 2 3 4 5 6 7] [8]\n"
     ]
    }
   ],
   "source": [
    "for train_index, test_index in kf.split([1,2,3,4,5,6,7,8,9]):\n",
    "    print(train_index, test_index)"
   ]
  },
  {
   "cell_type": "markdown",
   "id": "6ef5b628",
   "metadata": {
    "papermill": {
     "duration": 0.005593,
     "end_time": "2025-02-24T09:48:15.393107",
     "exception": false,
     "start_time": "2025-02-24T09:48:15.387514",
     "status": "completed"
    },
    "tags": []
   },
   "source": [
    "**Use KFold for our digits example**"
   ]
  },
  {
   "cell_type": "code",
   "execution_count": 8,
   "id": "b24a707b",
   "metadata": {
    "execution": {
     "iopub.execute_input": "2025-02-24T09:48:15.406002Z",
     "iopub.status.busy": "2025-02-24T09:48:15.405626Z",
     "iopub.status.idle": "2025-02-24T09:48:15.410344Z",
     "shell.execute_reply": "2025-02-24T09:48:15.409255Z"
    },
    "papermill": {
     "duration": 0.013152,
     "end_time": "2025-02-24T09:48:15.412108",
     "exception": false,
     "start_time": "2025-02-24T09:48:15.398956",
     "status": "completed"
    },
    "tags": []
   },
   "outputs": [],
   "source": [
    "def get_score(model, X_train, X_test, y_train, y_test):\n",
    "    model.fit(X_train, y_train)\n",
    "    return model.score(X_test, y_test)"
   ]
  },
  {
   "cell_type": "code",
   "execution_count": 9,
   "id": "defb675c",
   "metadata": {
    "execution": {
     "iopub.execute_input": "2025-02-24T09:48:15.425521Z",
     "iopub.status.busy": "2025-02-24T09:48:15.425200Z",
     "iopub.status.idle": "2025-02-24T09:48:16.485981Z",
     "shell.execute_reply": "2025-02-24T09:48:16.484812Z"
    },
    "papermill": {
     "duration": 1.069621,
     "end_time": "2025-02-24T09:48:16.487980",
     "exception": false,
     "start_time": "2025-02-24T09:48:15.418359",
     "status": "completed"
    },
    "tags": []
   },
   "outputs": [],
   "source": [
    "from sklearn.model_selection import StratifiedKFold\n",
    "folds = StratifiedKFold(n_splits=3)\n",
    "\n",
    "scores_logistic = []\n",
    "scores_svm = []\n",
    "scores_rf = []\n",
    "\n",
    "for train_index, test_index in folds.split(digits.data,digits.target):\n",
    "    X_train, X_test, y_train, y_test = digits.data[train_index], digits.data[test_index], \\\n",
    "                                       digits.target[train_index], digits.target[test_index]\n",
    "    scores_logistic.append(get_score(LogisticRegression(solver='liblinear',multi_class='ovr'), X_train, X_test, y_train, y_test))  \n",
    "    scores_svm.append(get_score(SVC(), X_train, X_test, y_train, y_test))\n",
    "    scores_rf.append(get_score(RandomForestClassifier(n_estimators=40), X_train, X_test, y_train, y_test))"
   ]
  },
  {
   "cell_type": "code",
   "execution_count": 10,
   "id": "c91f589b",
   "metadata": {
    "execution": {
     "iopub.execute_input": "2025-02-24T09:48:16.501113Z",
     "iopub.status.busy": "2025-02-24T09:48:16.500748Z",
     "iopub.status.idle": "2025-02-24T09:48:16.506622Z",
     "shell.execute_reply": "2025-02-24T09:48:16.505664Z"
    },
    "papermill": {
     "duration": 0.014265,
     "end_time": "2025-02-24T09:48:16.508281",
     "exception": false,
     "start_time": "2025-02-24T09:48:16.494016",
     "status": "completed"
    },
    "tags": []
   },
   "outputs": [
    {
     "data": {
      "text/plain": [
       "[0.8948247078464107, 0.9532554257095158, 0.9098497495826378]"
      ]
     },
     "execution_count": 10,
     "metadata": {},
     "output_type": "execute_result"
    }
   ],
   "source": [
    "scores_logistic"
   ]
  },
  {
   "cell_type": "code",
   "execution_count": 11,
   "id": "59c8bbdc",
   "metadata": {
    "execution": {
     "iopub.execute_input": "2025-02-24T09:48:16.521465Z",
     "iopub.status.busy": "2025-02-24T09:48:16.521138Z",
     "iopub.status.idle": "2025-02-24T09:48:16.526772Z",
     "shell.execute_reply": "2025-02-24T09:48:16.525762Z"
    },
    "papermill": {
     "duration": 0.014141,
     "end_time": "2025-02-24T09:48:16.528530",
     "exception": false,
     "start_time": "2025-02-24T09:48:16.514389",
     "status": "completed"
    },
    "tags": []
   },
   "outputs": [
    {
     "data": {
      "text/plain": [
       "[0.9649415692821369, 0.9799666110183639, 0.9649415692821369]"
      ]
     },
     "execution_count": 11,
     "metadata": {},
     "output_type": "execute_result"
    }
   ],
   "source": [
    "scores_svm"
   ]
  },
  {
   "cell_type": "code",
   "execution_count": 12,
   "id": "fb12d552",
   "metadata": {
    "execution": {
     "iopub.execute_input": "2025-02-24T09:48:16.542598Z",
     "iopub.status.busy": "2025-02-24T09:48:16.542243Z",
     "iopub.status.idle": "2025-02-24T09:48:16.548411Z",
     "shell.execute_reply": "2025-02-24T09:48:16.547247Z"
    },
    "papermill": {
     "duration": 0.015404,
     "end_time": "2025-02-24T09:48:16.550309",
     "exception": false,
     "start_time": "2025-02-24T09:48:16.534905",
     "status": "completed"
    },
    "tags": []
   },
   "outputs": [
    {
     "data": {
      "text/plain": [
       "[0.9298831385642737, 0.9515859766277128, 0.9215358931552587]"
      ]
     },
     "execution_count": 12,
     "metadata": {},
     "output_type": "execute_result"
    }
   ],
   "source": [
    "scores_rf"
   ]
  },
  {
   "cell_type": "markdown",
   "id": "dec4f1dc",
   "metadata": {
    "papermill": {
     "duration": 0.00618,
     "end_time": "2025-02-24T09:48:16.562952",
     "exception": false,
     "start_time": "2025-02-24T09:48:16.556772",
     "status": "completed"
    },
    "tags": []
   },
   "source": [
    "**cross_val_score function**"
   ]
  },
  {
   "cell_type": "code",
   "execution_count": 13,
   "id": "02f04a87",
   "metadata": {
    "execution": {
     "iopub.execute_input": "2025-02-24T09:48:16.576472Z",
     "iopub.status.busy": "2025-02-24T09:48:16.576106Z",
     "iopub.status.idle": "2025-02-24T09:48:16.580310Z",
     "shell.execute_reply": "2025-02-24T09:48:16.579239Z"
    },
    "papermill": {
     "duration": 0.012865,
     "end_time": "2025-02-24T09:48:16.581923",
     "exception": false,
     "start_time": "2025-02-24T09:48:16.569058",
     "status": "completed"
    },
    "tags": []
   },
   "outputs": [],
   "source": [
    "from sklearn.model_selection import cross_val_score"
   ]
  },
  {
   "cell_type": "code",
   "execution_count": 14,
   "id": "bb57a113",
   "metadata": {
    "execution": {
     "iopub.execute_input": "2025-02-24T09:48:16.595761Z",
     "iopub.status.busy": "2025-02-24T09:48:16.595399Z",
     "iopub.status.idle": "2025-02-24T09:48:17.278539Z",
     "shell.execute_reply": "2025-02-24T09:48:17.277500Z"
    },
    "papermill": {
     "duration": 0.691791,
     "end_time": "2025-02-24T09:48:17.280316",
     "exception": false,
     "start_time": "2025-02-24T09:48:16.588525",
     "status": "completed"
    },
    "tags": []
   },
   "outputs": [
    {
     "data": {
      "text/plain": [
       "array([0.93777778, 0.91091314, 0.95768374, 0.90423163])"
      ]
     },
     "execution_count": 14,
     "metadata": {},
     "output_type": "execute_result"
    }
   ],
   "source": [
    "cross_val_score(LogisticRegression(solver='liblinear',multi_class='ovr'),digits.data,digits.target ,cv = 4)"
   ]
  },
  {
   "cell_type": "code",
   "execution_count": 15,
   "id": "32b86cea",
   "metadata": {
    "execution": {
     "iopub.execute_input": "2025-02-24T09:48:17.296408Z",
     "iopub.status.busy": "2025-02-24T09:48:17.296046Z",
     "iopub.status.idle": "2025-02-24T09:48:17.569766Z",
     "shell.execute_reply": "2025-02-24T09:48:17.568231Z"
    },
    "papermill": {
     "duration": 0.284404,
     "end_time": "2025-02-24T09:48:17.572735",
     "exception": false,
     "start_time": "2025-02-24T09:48:17.288331",
     "status": "completed"
    },
    "tags": []
   },
   "outputs": [
    {
     "data": {
      "text/plain": [
       "array([0.96494157, 0.97996661, 0.96494157])"
      ]
     },
     "execution_count": 15,
     "metadata": {},
     "output_type": "execute_result"
    }
   ],
   "source": [
    "cross_val_score(SVC(),digits.data,digits.target ,cv = 3)\n"
   ]
  },
  {
   "cell_type": "code",
   "execution_count": 16,
   "id": "e2df80a0",
   "metadata": {
    "execution": {
     "iopub.execute_input": "2025-02-24T09:48:17.597105Z",
     "iopub.status.busy": "2025-02-24T09:48:17.596522Z",
     "iopub.status.idle": "2025-02-24T09:48:18.155681Z",
     "shell.execute_reply": "2025-02-24T09:48:18.154654Z"
    },
    "papermill": {
     "duration": 0.572043,
     "end_time": "2025-02-24T09:48:18.157503",
     "exception": false,
     "start_time": "2025-02-24T09:48:17.585460",
     "status": "completed"
    },
    "tags": []
   },
   "outputs": [
    {
     "data": {
      "text/plain": [
       "array([0.94490818, 0.93989983, 0.92487479])"
      ]
     },
     "execution_count": 16,
     "metadata": {},
     "output_type": "execute_result"
    }
   ],
   "source": [
    "cross_val_score(RandomForestClassifier(n_estimators = 50),digits.data,digits.target ,cv = 3)\n"
   ]
  },
  {
   "cell_type": "markdown",
   "id": "9d27d8d8",
   "metadata": {
    "papermill": {
     "duration": 0.006024,
     "end_time": "2025-02-24T09:48:18.170115",
     "exception": false,
     "start_time": "2025-02-24T09:48:18.164091",
     "status": "completed"
    },
    "tags": []
   },
   "source": [
    "**Exercise**\n",
    "\n",
    "Use iris flower dataset from sklearn library and use cross_val_score against following models to measure the performance of each. In the end figure out the model with best performance,\n",
    "\n",
    "* Logistic Regression\n",
    "* SVM\n",
    "* Decision Tree\n",
    "* Random Forest"
   ]
  },
  {
   "cell_type": "code",
   "execution_count": 17,
   "id": "e81f1932",
   "metadata": {
    "execution": {
     "iopub.execute_input": "2025-02-24T09:48:18.183984Z",
     "iopub.status.busy": "2025-02-24T09:48:18.183587Z",
     "iopub.status.idle": "2025-02-24T09:48:18.191372Z",
     "shell.execute_reply": "2025-02-24T09:48:18.190173Z"
    },
    "papermill": {
     "duration": 0.017039,
     "end_time": "2025-02-24T09:48:18.193403",
     "exception": false,
     "start_time": "2025-02-24T09:48:18.176364",
     "status": "completed"
    },
    "tags": []
   },
   "outputs": [],
   "source": [
    "from sklearn.datasets import load_iris\n",
    "iris = load_iris()"
   ]
  },
  {
   "cell_type": "code",
   "execution_count": 18,
   "id": "d4e16b6b",
   "metadata": {
    "execution": {
     "iopub.execute_input": "2025-02-24T09:48:18.207823Z",
     "iopub.status.busy": "2025-02-24T09:48:18.207432Z",
     "iopub.status.idle": "2025-02-24T09:48:18.213339Z",
     "shell.execute_reply": "2025-02-24T09:48:18.212261Z"
    },
    "papermill": {
     "duration": 0.015371,
     "end_time": "2025-02-24T09:48:18.215503",
     "exception": false,
     "start_time": "2025-02-24T09:48:18.200132",
     "status": "completed"
    },
    "tags": []
   },
   "outputs": [
    {
     "data": {
      "text/plain": [
       "['DESCR',\n",
       " 'data',\n",
       " 'data_module',\n",
       " 'feature_names',\n",
       " 'filename',\n",
       " 'frame',\n",
       " 'target',\n",
       " 'target_names']"
      ]
     },
     "execution_count": 18,
     "metadata": {},
     "output_type": "execute_result"
    }
   ],
   "source": [
    "dir(iris)"
   ]
  },
  {
   "cell_type": "code",
   "execution_count": 19,
   "id": "f5bc273f",
   "metadata": {
    "execution": {
     "iopub.execute_input": "2025-02-24T09:48:18.230353Z",
     "iopub.status.busy": "2025-02-24T09:48:18.229921Z",
     "iopub.status.idle": "2025-02-24T09:48:18.247640Z",
     "shell.execute_reply": "2025-02-24T09:48:18.246379Z"
    },
    "papermill": {
     "duration": 0.027274,
     "end_time": "2025-02-24T09:48:18.249570",
     "exception": false,
     "start_time": "2025-02-24T09:48:18.222296",
     "status": "completed"
    },
    "tags": []
   },
   "outputs": [
    {
     "data": {
      "text/plain": [
       "0.9533333333333333"
      ]
     },
     "execution_count": 19,
     "metadata": {},
     "output_type": "execute_result"
    }
   ],
   "source": [
    "cross_val_score(LogisticRegression(solver='liblinear',multi_class='ovr'),iris.data,iris.target ,  cv =3).mean()"
   ]
  },
  {
   "cell_type": "code",
   "execution_count": 20,
   "id": "473cae76",
   "metadata": {
    "execution": {
     "iopub.execute_input": "2025-02-24T09:48:18.264111Z",
     "iopub.status.busy": "2025-02-24T09:48:18.263772Z",
     "iopub.status.idle": "2025-02-24T09:48:18.278237Z",
     "shell.execute_reply": "2025-02-24T09:48:18.277004Z"
    },
    "papermill": {
     "duration": 0.023657,
     "end_time": "2025-02-24T09:48:18.279954",
     "exception": false,
     "start_time": "2025-02-24T09:48:18.256297",
     "status": "completed"
    },
    "tags": []
   },
   "outputs": [
    {
     "data": {
      "text/plain": [
       "0.96"
      ]
     },
     "execution_count": 20,
     "metadata": {},
     "output_type": "execute_result"
    }
   ],
   "source": [
    "cross_val_score( SVC(),iris.data,iris.target ,  cv =3).mean()"
   ]
  },
  {
   "cell_type": "code",
   "execution_count": 21,
   "id": "833cc208",
   "metadata": {
    "execution": {
     "iopub.execute_input": "2025-02-24T09:48:18.294508Z",
     "iopub.status.busy": "2025-02-24T09:48:18.294180Z",
     "iopub.status.idle": "2025-02-24T09:48:18.307092Z",
     "shell.execute_reply": "2025-02-24T09:48:18.305826Z"
    },
    "papermill": {
     "duration": 0.022275,
     "end_time": "2025-02-24T09:48:18.308972",
     "exception": false,
     "start_time": "2025-02-24T09:48:18.286697",
     "status": "completed"
    },
    "tags": []
   },
   "outputs": [
    {
     "data": {
      "text/plain": [
       "0.9666666666666667"
      ]
     },
     "execution_count": 21,
     "metadata": {},
     "output_type": "execute_result"
    }
   ],
   "source": [
    "cross_val_score(DecisionTreeClassifier(),iris.data,iris.target , cv =3).mean()\n"
   ]
  },
  {
   "cell_type": "code",
   "execution_count": 22,
   "id": "c05de090",
   "metadata": {
    "execution": {
     "iopub.execute_input": "2025-02-24T09:48:18.324059Z",
     "iopub.status.busy": "2025-02-24T09:48:18.323649Z",
     "iopub.status.idle": "2025-02-24T09:48:18.428122Z",
     "shell.execute_reply": "2025-02-24T09:48:18.427064Z"
    },
    "papermill": {
     "duration": 0.113904,
     "end_time": "2025-02-24T09:48:18.429878",
     "exception": false,
     "start_time": "2025-02-24T09:48:18.315974",
     "status": "completed"
    },
    "tags": []
   },
   "outputs": [
    {
     "data": {
      "text/plain": [
       "0.96"
      ]
     },
     "execution_count": 22,
     "metadata": {},
     "output_type": "execute_result"
    }
   ],
   "source": [
    "cross_val_score(RandomForestClassifier(n_estimators=20),iris.data,iris.target, cv =3).mean()\n"
   ]
  },
  {
   "cell_type": "code",
   "execution_count": 23,
   "id": "fc3da5cd",
   "metadata": {
    "execution": {
     "iopub.execute_input": "2025-02-24T09:48:18.445690Z",
     "iopub.status.busy": "2025-02-24T09:48:18.445360Z",
     "iopub.status.idle": "2025-02-24T09:48:18.572057Z",
     "shell.execute_reply": "2025-02-24T09:48:18.570917Z"
    },
    "papermill": {
     "duration": 0.137015,
     "end_time": "2025-02-24T09:48:18.573838",
     "exception": false,
     "start_time": "2025-02-24T09:48:18.436823",
     "status": "completed"
    },
    "tags": []
   },
   "outputs": [
    {
     "data": {
      "text/plain": [
       "0.9666666666666667"
      ]
     },
     "execution_count": 23,
     "metadata": {},
     "output_type": "execute_result"
    }
   ],
   "source": [
    "def best_model(iris):\n",
    "    \n",
    "    lg_score = cross_val_score(LogisticRegression(solver='liblinear',multi_class='ovr'),iris.data,iris.target ,  cv =3).mean()\n",
    "    svc_score=cross_val_score( SVC(),iris.data,iris.target , cv =3).mean()\n",
    "    tree_score=cross_val_score(DecisionTreeClassifier(),iris.data,iris.target , cv =3).mean()\n",
    "    rf_score = cross_val_score(RandomForestClassifier(n_estimators=20),iris.data,iris.target, cv =3).mean()\n",
    "\n",
    "    lt = [lg_score,svc_score,tree_score,rf_score]\n",
    "    \n",
    "    return max(lt)\n",
    "    \n",
    "    \n",
    "best_model(iris)"
   ]
  },
  {
   "cell_type": "code",
   "execution_count": 24,
   "id": "6f37fb6b",
   "metadata": {
    "execution": {
     "iopub.execute_input": "2025-02-24T09:48:18.589387Z",
     "iopub.status.busy": "2025-02-24T09:48:18.588985Z",
     "iopub.status.idle": "2025-02-24T09:48:18.712461Z",
     "shell.execute_reply": "2025-02-24T09:48:18.711199Z"
    },
    "papermill": {
     "duration": 0.133316,
     "end_time": "2025-02-24T09:48:18.714294",
     "exception": false,
     "start_time": "2025-02-24T09:48:18.580978",
     "status": "completed"
    },
    "tags": []
   },
   "outputs": [
    {
     "name": "stdout",
     "output_type": "stream",
     "text": [
      "Best model: ('SVC', 0.96)\n"
     ]
    }
   ],
   "source": [
    "def best_model(iris):\n",
    "    models = {\n",
    "        \"Logistic Regression\": cross_val_score(LogisticRegression(solver='liblinear', multi_class='ovr'), iris.data, iris.target, cv=3).mean(),\n",
    "        \"SVC\": cross_val_score(SVC(), iris.data, iris.target, cv=3).mean(),\n",
    "        \"Decision Tree\": cross_val_score(DecisionTreeClassifier(), iris.data, iris.target, cv=3).mean(),\n",
    "        \"Random Forest\": cross_val_score(RandomForestClassifier(n_estimators=20), iris.data, iris.target, cv=3).mean()\n",
    "    }\n",
    "\n",
    "    best_model_name = max(models, key=models.get)  # Get model with highest score\n",
    "    return best_model_name, models[best_model_name]\n",
    "\n",
    "# Call function\n",
    "print(\"Best model:\", best_model(iris))"
   ]
  }
 ],
 "metadata": {
  "kaggle": {
   "accelerator": "none",
   "dataSources": [],
   "dockerImageVersionId": 30918,
   "isGpuEnabled": false,
   "isInternetEnabled": true,
   "language": "python",
   "sourceType": "notebook"
  },
  "kernelspec": {
   "display_name": "Python 3",
   "language": "python",
   "name": "python3"
  },
  "language_info": {
   "codemirror_mode": {
    "name": "ipython",
    "version": 3
   },
   "file_extension": ".py",
   "mimetype": "text/x-python",
   "name": "python",
   "nbconvert_exporter": "python",
   "pygments_lexer": "ipython3",
   "version": "3.10.12"
  },
  "papermill": {
   "default_parameters": {},
   "duration": 9.452781,
   "end_time": "2025-02-24T09:48:19.343029",
   "environment_variables": {},
   "exception": null,
   "input_path": "__notebook__.ipynb",
   "output_path": "__notebook__.ipynb",
   "parameters": {},
   "start_time": "2025-02-24T09:48:09.890248",
   "version": "2.6.0"
  }
 },
 "nbformat": 4,
 "nbformat_minor": 5
}
