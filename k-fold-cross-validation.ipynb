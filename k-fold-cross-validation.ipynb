{
 "cells": [
  {
   "cell_type": "code",
   "execution_count": 1,
   "id": "c0618e94",
   "metadata": {
    "_cell_guid": "b1076dfc-b9ad-4769-8c92-a6c4dae69d19",
    "_uuid": "8f2839f25d086af736a60e9eeb907d3b93b6e0e5",
    "execution": {
     "iopub.execute_input": "2025-02-24T09:01:48.436031Z",
     "iopub.status.busy": "2025-02-24T09:01:48.435662Z",
     "iopub.status.idle": "2025-02-24T09:01:50.580051Z",
     "shell.execute_reply": "2025-02-24T09:01:50.578958Z"
    },
    "papermill": {
     "duration": 2.152854,
     "end_time": "2025-02-24T09:01:50.581953",
     "exception": false,
     "start_time": "2025-02-24T09:01:48.429099",
     "status": "completed"
    },
    "tags": []
   },
   "outputs": [],
   "source": [
    "from sklearn.linear_model import LogisticRegression \n",
    "from sklearn.svm import SVC\n",
    "from sklearn.ensemble import RandomForestClassifier\n",
    "import numpy as np \n",
    "import matplotlib.pyplot as plt \n",
    "from sklearn.datasets import load_digits\n",
    "digits = load_digits()"
   ]
  },
  {
   "cell_type": "code",
   "execution_count": 2,
   "id": "e6d483f1",
   "metadata": {
    "execution": {
     "iopub.execute_input": "2025-02-24T09:01:50.593584Z",
     "iopub.status.busy": "2025-02-24T09:01:50.593065Z",
     "iopub.status.idle": "2025-02-24T09:01:50.600163Z",
     "shell.execute_reply": "2025-02-24T09:01:50.599223Z"
    },
    "papermill": {
     "duration": 0.014712,
     "end_time": "2025-02-24T09:01:50.601797",
     "exception": false,
     "start_time": "2025-02-24T09:01:50.587085",
     "status": "completed"
    },
    "tags": []
   },
   "outputs": [],
   "source": [
    "from sklearn.model_selection import train_test_split\n",
    "X_train, X_test, y_train, y_test = train_test_split(digits.data,digits.target,test_size=0.3)"
   ]
  },
  {
   "cell_type": "code",
   "execution_count": 3,
   "id": "bb117498",
   "metadata": {
    "execution": {
     "iopub.execute_input": "2025-02-24T09:01:50.611823Z",
     "iopub.status.busy": "2025-02-24T09:01:50.611450Z",
     "iopub.status.idle": "2025-02-24T09:01:50.785756Z",
     "shell.execute_reply": "2025-02-24T09:01:50.784545Z"
    },
    "papermill": {
     "duration": 0.181142,
     "end_time": "2025-02-24T09:01:50.787334",
     "exception": false,
     "start_time": "2025-02-24T09:01:50.606192",
     "status": "completed"
    },
    "tags": []
   },
   "outputs": [
    {
     "data": {
      "text/plain": [
       "0.9518518518518518"
      ]
     },
     "execution_count": 3,
     "metadata": {},
     "output_type": "execute_result"
    }
   ],
   "source": [
    "# Logistic Regression\n",
    "\n",
    "lr = LogisticRegression(solver='liblinear',multi_class='ovr')\n",
    "lr.fit(X_train, y_train)\n",
    "lr.score(X_test, y_test)"
   ]
  },
  {
   "cell_type": "code",
   "execution_count": 4,
   "id": "e7a69765",
   "metadata": {
    "execution": {
     "iopub.execute_input": "2025-02-24T09:01:50.799586Z",
     "iopub.status.busy": "2025-02-24T09:01:50.799175Z",
     "iopub.status.idle": "2025-02-24T09:01:50.889192Z",
     "shell.execute_reply": "2025-02-24T09:01:50.887987Z"
    },
    "papermill": {
     "duration": 0.098819,
     "end_time": "2025-02-24T09:01:50.890999",
     "exception": false,
     "start_time": "2025-02-24T09:01:50.792180",
     "status": "completed"
    },
    "tags": []
   },
   "outputs": [
    {
     "data": {
      "text/plain": [
       "0.9833333333333333"
      ]
     },
     "execution_count": 4,
     "metadata": {},
     "output_type": "execute_result"
    }
   ],
   "source": [
    "# SVM\n",
    "svm = SVC()\n",
    "svm.fit(X_train, y_train)\n",
    "svm.score(X_test, y_test)"
   ]
  },
  {
   "cell_type": "code",
   "execution_count": 5,
   "id": "a0e536de",
   "metadata": {
    "execution": {
     "iopub.execute_input": "2025-02-24T09:01:50.901751Z",
     "iopub.status.busy": "2025-02-24T09:01:50.901353Z",
     "iopub.status.idle": "2025-02-24T09:01:51.096195Z",
     "shell.execute_reply": "2025-02-24T09:01:51.095039Z"
    },
    "papermill": {
     "duration": 0.202192,
     "end_time": "2025-02-24T09:01:51.097994",
     "exception": false,
     "start_time": "2025-02-24T09:01:50.895802",
     "status": "completed"
    },
    "tags": []
   },
   "outputs": [
    {
     "data": {
      "text/plain": [
       "0.9666666666666667"
      ]
     },
     "execution_count": 5,
     "metadata": {},
     "output_type": "execute_result"
    }
   ],
   "source": [
    "# Random Forest\n",
    "\n",
    "rf = RandomForestClassifier(n_estimators=50)\n",
    "rf.fit(X_train, y_train)\n",
    "rf.score(X_test, y_test)"
   ]
  },
  {
   "cell_type": "markdown",
   "id": "ecff4595",
   "metadata": {
    "papermill": {
     "duration": 0.004348,
     "end_time": "2025-02-24T09:01:51.107241",
     "exception": false,
     "start_time": "2025-02-24T09:01:51.102893",
     "status": "completed"
    },
    "tags": []
   },
   "source": [
    "**KFold cross validation**\n",
    "\n",
    "**Basic example**"
   ]
  },
  {
   "cell_type": "code",
   "execution_count": 6,
   "id": "c55d204b",
   "metadata": {
    "execution": {
     "iopub.execute_input": "2025-02-24T09:01:51.117906Z",
     "iopub.status.busy": "2025-02-24T09:01:51.117554Z",
     "iopub.status.idle": "2025-02-24T09:01:51.124256Z",
     "shell.execute_reply": "2025-02-24T09:01:51.123192Z"
    },
    "papermill": {
     "duration": 0.013992,
     "end_time": "2025-02-24T09:01:51.126017",
     "exception": false,
     "start_time": "2025-02-24T09:01:51.112025",
     "status": "completed"
    },
    "tags": []
   },
   "outputs": [
    {
     "data": {
      "text/plain": [
       "KFold(n_splits=5, random_state=None, shuffle=False)"
      ]
     },
     "execution_count": 6,
     "metadata": {},
     "output_type": "execute_result"
    }
   ],
   "source": [
    "from sklearn.model_selection import KFold\n",
    "kf = KFold()\n",
    "kf"
   ]
  },
  {
   "cell_type": "code",
   "execution_count": 7,
   "id": "ef8cc51c",
   "metadata": {
    "execution": {
     "iopub.execute_input": "2025-02-24T09:01:51.141192Z",
     "iopub.status.busy": "2025-02-24T09:01:51.140794Z",
     "iopub.status.idle": "2025-02-24T09:01:51.150707Z",
     "shell.execute_reply": "2025-02-24T09:01:51.149322Z"
    },
    "papermill": {
     "duration": 0.021384,
     "end_time": "2025-02-24T09:01:51.153316",
     "exception": false,
     "start_time": "2025-02-24T09:01:51.131932",
     "status": "completed"
    },
    "tags": []
   },
   "outputs": [
    {
     "name": "stdout",
     "output_type": "stream",
     "text": [
      "[2 3 4 5 6 7 8] [0 1]\n",
      "[0 1 4 5 6 7 8] [2 3]\n",
      "[0 1 2 3 6 7 8] [4 5]\n",
      "[0 1 2 3 4 5 8] [6 7]\n",
      "[0 1 2 3 4 5 6 7] [8]\n"
     ]
    }
   ],
   "source": [
    "for train_index, test_index in kf.split([1,2,3,4,5,6,7,8,9]):\n",
    "    print(train_index, test_index)"
   ]
  },
  {
   "cell_type": "markdown",
   "id": "dc4e3738",
   "metadata": {
    "papermill": {
     "duration": 0.005457,
     "end_time": "2025-02-24T09:01:51.164668",
     "exception": false,
     "start_time": "2025-02-24T09:01:51.159211",
     "status": "completed"
    },
    "tags": []
   },
   "source": [
    "**Use KFold for our digits example**"
   ]
  },
  {
   "cell_type": "code",
   "execution_count": 8,
   "id": "97c769e8",
   "metadata": {
    "execution": {
     "iopub.execute_input": "2025-02-24T09:01:51.177359Z",
     "iopub.status.busy": "2025-02-24T09:01:51.176202Z",
     "iopub.status.idle": "2025-02-24T09:01:51.182901Z",
     "shell.execute_reply": "2025-02-24T09:01:51.181746Z"
    },
    "papermill": {
     "duration": 0.015102,
     "end_time": "2025-02-24T09:01:51.185088",
     "exception": false,
     "start_time": "2025-02-24T09:01:51.169986",
     "status": "completed"
    },
    "tags": []
   },
   "outputs": [],
   "source": [
    "def get_score(model, X_train, X_test, y_train, y_test):\n",
    "    model.fit(X_train, y_train)\n",
    "    return model.score(X_test, y_test)"
   ]
  },
  {
   "cell_type": "code",
   "execution_count": 9,
   "id": "0737a5a5",
   "metadata": {
    "execution": {
     "iopub.execute_input": "2025-02-24T09:01:51.197217Z",
     "iopub.status.busy": "2025-02-24T09:01:51.196762Z",
     "iopub.status.idle": "2025-02-24T09:01:52.229136Z",
     "shell.execute_reply": "2025-02-24T09:01:52.227962Z"
    },
    "papermill": {
     "duration": 1.040374,
     "end_time": "2025-02-24T09:01:52.231152",
     "exception": false,
     "start_time": "2025-02-24T09:01:51.190778",
     "status": "completed"
    },
    "tags": []
   },
   "outputs": [],
   "source": [
    "from sklearn.model_selection import StratifiedKFold\n",
    "folds = StratifiedKFold(n_splits=3)\n",
    "\n",
    "scores_logistic = []\n",
    "scores_svm = []\n",
    "scores_rf = []\n",
    "\n",
    "for train_index, test_index in folds.split(digits.data,digits.target):\n",
    "    X_train, X_test, y_train, y_test = digits.data[train_index], digits.data[test_index], \\\n",
    "                                       digits.target[train_index], digits.target[test_index]\n",
    "    scores_logistic.append(get_score(LogisticRegression(solver='liblinear',multi_class='ovr'), X_train, X_test, y_train, y_test))  \n",
    "    scores_svm.append(get_score(SVC(), X_train, X_test, y_train, y_test))\n",
    "    scores_rf.append(get_score(RandomForestClassifier(n_estimators=40), X_train, X_test, y_train, y_test))"
   ]
  },
  {
   "cell_type": "code",
   "execution_count": 10,
   "id": "6bacf53d",
   "metadata": {
    "execution": {
     "iopub.execute_input": "2025-02-24T09:01:52.242919Z",
     "iopub.status.busy": "2025-02-24T09:01:52.242548Z",
     "iopub.status.idle": "2025-02-24T09:01:52.248237Z",
     "shell.execute_reply": "2025-02-24T09:01:52.247305Z"
    },
    "papermill": {
     "duration": 0.013807,
     "end_time": "2025-02-24T09:01:52.250135",
     "exception": false,
     "start_time": "2025-02-24T09:01:52.236328",
     "status": "completed"
    },
    "tags": []
   },
   "outputs": [
    {
     "data": {
      "text/plain": [
       "[0.8948247078464107, 0.9532554257095158, 0.9098497495826378]"
      ]
     },
     "execution_count": 10,
     "metadata": {},
     "output_type": "execute_result"
    }
   ],
   "source": [
    "scores_logistic"
   ]
  },
  {
   "cell_type": "code",
   "execution_count": 11,
   "id": "5e4ac3fd",
   "metadata": {
    "execution": {
     "iopub.execute_input": "2025-02-24T09:01:52.261641Z",
     "iopub.status.busy": "2025-02-24T09:01:52.261253Z",
     "iopub.status.idle": "2025-02-24T09:01:52.266806Z",
     "shell.execute_reply": "2025-02-24T09:01:52.265839Z"
    },
    "papermill": {
     "duration": 0.013045,
     "end_time": "2025-02-24T09:01:52.268522",
     "exception": false,
     "start_time": "2025-02-24T09:01:52.255477",
     "status": "completed"
    },
    "tags": []
   },
   "outputs": [
    {
     "data": {
      "text/plain": [
       "[0.9649415692821369, 0.9799666110183639, 0.9649415692821369]"
      ]
     },
     "execution_count": 11,
     "metadata": {},
     "output_type": "execute_result"
    }
   ],
   "source": [
    "scores_svm"
   ]
  },
  {
   "cell_type": "code",
   "execution_count": 12,
   "id": "0ea82106",
   "metadata": {
    "execution": {
     "iopub.execute_input": "2025-02-24T09:01:52.280257Z",
     "iopub.status.busy": "2025-02-24T09:01:52.279890Z",
     "iopub.status.idle": "2025-02-24T09:01:52.285704Z",
     "shell.execute_reply": "2025-02-24T09:01:52.284664Z"
    },
    "papermill": {
     "duration": 0.013651,
     "end_time": "2025-02-24T09:01:52.287338",
     "exception": false,
     "start_time": "2025-02-24T09:01:52.273687",
     "status": "completed"
    },
    "tags": []
   },
   "outputs": [
    {
     "data": {
      "text/plain": [
       "[0.9298831385642737, 0.9582637729549248, 0.9265442404006677]"
      ]
     },
     "execution_count": 12,
     "metadata": {},
     "output_type": "execute_result"
    }
   ],
   "source": [
    "scores_rf"
   ]
  },
  {
   "cell_type": "markdown",
   "id": "1e8adcda",
   "metadata": {
    "papermill": {
     "duration": 0.004883,
     "end_time": "2025-02-24T09:01:52.297712",
     "exception": false,
     "start_time": "2025-02-24T09:01:52.292829",
     "status": "completed"
    },
    "tags": []
   },
   "source": [
    "**cross_val_score function**"
   ]
  },
  {
   "cell_type": "code",
   "execution_count": 13,
   "id": "042bff14",
   "metadata": {
    "execution": {
     "iopub.execute_input": "2025-02-24T09:01:52.309790Z",
     "iopub.status.busy": "2025-02-24T09:01:52.309386Z",
     "iopub.status.idle": "2025-02-24T09:01:52.313605Z",
     "shell.execute_reply": "2025-02-24T09:01:52.312516Z"
    },
    "papermill": {
     "duration": 0.012381,
     "end_time": "2025-02-24T09:01:52.315249",
     "exception": false,
     "start_time": "2025-02-24T09:01:52.302868",
     "status": "completed"
    },
    "tags": []
   },
   "outputs": [],
   "source": [
    "from sklearn.model_selection import cross_val_score"
   ]
  },
  {
   "cell_type": "code",
   "execution_count": 14,
   "id": "f96e5b8e",
   "metadata": {
    "execution": {
     "iopub.execute_input": "2025-02-24T09:01:52.326870Z",
     "iopub.status.busy": "2025-02-24T09:01:52.326520Z",
     "iopub.status.idle": "2025-02-24T09:01:52.931764Z",
     "shell.execute_reply": "2025-02-24T09:01:52.930641Z"
    },
    "papermill": {
     "duration": 0.612873,
     "end_time": "2025-02-24T09:01:52.933466",
     "exception": false,
     "start_time": "2025-02-24T09:01:52.320593",
     "status": "completed"
    },
    "tags": []
   },
   "outputs": [
    {
     "data": {
      "text/plain": [
       "array([0.93777778, 0.91091314, 0.95768374, 0.90423163])"
      ]
     },
     "execution_count": 14,
     "metadata": {},
     "output_type": "execute_result"
    }
   ],
   "source": [
    "cross_val_score(LogisticRegression(solver='liblinear',multi_class='ovr'),digits.data,digits.target ,cv = 4)"
   ]
  },
  {
   "cell_type": "code",
   "execution_count": 15,
   "id": "97c46459",
   "metadata": {
    "execution": {
     "iopub.execute_input": "2025-02-24T09:01:52.946551Z",
     "iopub.status.busy": "2025-02-24T09:01:52.946153Z",
     "iopub.status.idle": "2025-02-24T09:01:53.164979Z",
     "shell.execute_reply": "2025-02-24T09:01:53.163864Z"
    },
    "papermill": {
     "duration": 0.227205,
     "end_time": "2025-02-24T09:01:53.166790",
     "exception": false,
     "start_time": "2025-02-24T09:01:52.939585",
     "status": "completed"
    },
    "tags": []
   },
   "outputs": [
    {
     "data": {
      "text/plain": [
       "array([0.96494157, 0.97996661, 0.96494157])"
      ]
     },
     "execution_count": 15,
     "metadata": {},
     "output_type": "execute_result"
    }
   ],
   "source": [
    "cross_val_score(SVC(),digits.data,digits.target ,cv = 3)\n"
   ]
  },
  {
   "cell_type": "code",
   "execution_count": 16,
   "id": "95ed3cf2",
   "metadata": {
    "execution": {
     "iopub.execute_input": "2025-02-24T09:01:53.179210Z",
     "iopub.status.busy": "2025-02-24T09:01:53.178850Z",
     "iopub.status.idle": "2025-02-24T09:01:53.704481Z",
     "shell.execute_reply": "2025-02-24T09:01:53.703406Z"
    },
    "papermill": {
     "duration": 0.533961,
     "end_time": "2025-02-24T09:01:53.706057",
     "exception": false,
     "start_time": "2025-02-24T09:01:53.172096",
     "status": "completed"
    },
    "tags": []
   },
   "outputs": [
    {
     "data": {
      "text/plain": [
       "array([0.93656093, 0.94657763, 0.92654424])"
      ]
     },
     "execution_count": 16,
     "metadata": {},
     "output_type": "execute_result"
    }
   ],
   "source": [
    "cross_val_score(RandomForestClassifier(n_estimators = 50),digits.data,digits.target ,cv = 3)\n"
   ]
  },
  {
   "cell_type": "markdown",
   "id": "e002c282",
   "metadata": {
    "papermill": {
     "duration": 0.005034,
     "end_time": "2025-02-24T09:01:53.716389",
     "exception": false,
     "start_time": "2025-02-24T09:01:53.711355",
     "status": "completed"
    },
    "tags": []
   },
   "source": [
    "**Exercise**\n",
    "\n",
    "Use iris flower dataset from sklearn library and use cross_val_score against following models to measure the performance of each. In the end figure out the model with best performance,\n",
    "\n",
    "* Logistic Regression\n",
    "* SVM\n",
    "* Decision Tree\n",
    "* Random Forest"
   ]
  },
  {
   "cell_type": "code",
   "execution_count": null,
   "id": "9ae8aefe",
   "metadata": {
    "papermill": {
     "duration": 0.004885,
     "end_time": "2025-02-24T09:01:53.726465",
     "exception": false,
     "start_time": "2025-02-24T09:01:53.721580",
     "status": "completed"
    },
    "tags": []
   },
   "outputs": [],
   "source": []
  }
 ],
 "metadata": {
  "kaggle": {
   "accelerator": "none",
   "dataSources": [],
   "dockerImageVersionId": 30918,
   "isGpuEnabled": false,
   "isInternetEnabled": true,
   "language": "python",
   "sourceType": "notebook"
  },
  "kernelspec": {
   "display_name": "Python 3",
   "language": "python",
   "name": "python3"
  },
  "language_info": {
   "codemirror_mode": {
    "name": "ipython",
    "version": 3
   },
   "file_extension": ".py",
   "mimetype": "text/x-python",
   "name": "python",
   "nbconvert_exporter": "python",
   "pygments_lexer": "ipython3",
   "version": "3.10.12"
  },
  "papermill": {
   "default_parameters": {},
   "duration": 8.687313,
   "end_time": "2025-02-24T09:01:54.354266",
   "environment_variables": {},
   "exception": null,
   "input_path": "__notebook__.ipynb",
   "output_path": "__notebook__.ipynb",
   "parameters": {},
   "start_time": "2025-02-24T09:01:45.666953",
   "version": "2.6.0"
  }
 },
 "nbformat": 4,
 "nbformat_minor": 5
}
