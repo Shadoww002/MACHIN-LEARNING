{
 "cells": [
  {
   "cell_type": "code",
   "execution_count": 1,
   "id": "adec06fd",
   "metadata": {
    "_cell_guid": "b1076dfc-b9ad-4769-8c92-a6c4dae69d19",
    "_uuid": "8f2839f25d086af736a60e9eeb907d3b93b6e0e5",
    "execution": {
     "iopub.execute_input": "2025-02-28T09:59:15.568304Z",
     "iopub.status.busy": "2025-02-28T09:59:15.567913Z",
     "iopub.status.idle": "2025-02-28T09:59:16.548414Z",
     "shell.execute_reply": "2025-02-28T09:59:16.547410Z"
    },
    "papermill": {
     "duration": 0.987101,
     "end_time": "2025-02-28T09:59:16.550538",
     "exception": false,
     "start_time": "2025-02-28T09:59:15.563437",
     "status": "completed"
    },
    "tags": []
   },
   "outputs": [],
   "source": [
    "import numpy as np # linear algebra\n",
    "import pandas as pd # data processing, CSV file I/O (e.g. pd.read_csv)\n",
    "import os\n",
    "for dirname, _, filenames in os.walk('/kaggle/input'):\n",
    "    for filename in filenames:\n",
    "        print(os.path.join(dirname, filename))"
   ]
  },
  {
   "cell_type": "markdown",
   "id": "85435a75",
   "metadata": {
    "papermill": {
     "duration": 0.002313,
     "end_time": "2025-02-28T09:59:16.556078",
     "exception": false,
     "start_time": "2025-02-28T09:59:16.553765",
     "status": "completed"
    },
    "tags": []
   },
   "source": [
    "**Exercise: Machine Learning Finding Optimal Model and Hyperparameters**"
   ]
  },
  {
   "cell_type": "markdown",
   "id": "1cc57d9d",
   "metadata": {
    "papermill": {
     "duration": 0.002183,
     "end_time": "2025-02-28T09:59:16.560774",
     "exception": false,
     "start_time": "2025-02-28T09:59:16.558591",
     "status": "completed"
    },
    "tags": []
   },
   "source": [
    "*For digits dataset in sklearn.dataset, please try following classifiers and find out the one that gives best performance. Also find the optimal parameters for that classifier.*"
   ]
  },
  {
   "cell_type": "code",
   "execution_count": 2,
   "id": "74e47c2a",
   "metadata": {
    "execution": {
     "iopub.execute_input": "2025-02-28T09:59:16.567140Z",
     "iopub.status.busy": "2025-02-28T09:59:16.566641Z",
     "iopub.status.idle": "2025-02-28T09:59:18.612540Z",
     "shell.execute_reply": "2025-02-28T09:59:18.611331Z"
    },
    "papermill": {
     "duration": 2.05153,
     "end_time": "2025-02-28T09:59:18.614725",
     "exception": false,
     "start_time": "2025-02-28T09:59:16.563195",
     "status": "completed"
    },
    "tags": []
   },
   "outputs": [],
   "source": [
    "from sklearn import svm\n",
    "from sklearn.ensemble import RandomForestClassifier\n",
    "from sklearn.linear_model import LogisticRegression\n",
    "from sklearn.naive_bayes import GaussianNB\n",
    "from sklearn.naive_bayes import MultinomialNB\n",
    "from sklearn.tree import DecisionTreeClassifier"
   ]
  },
  {
   "cell_type": "code",
   "execution_count": 3,
   "id": "b8cfc1ec",
   "metadata": {
    "execution": {
     "iopub.execute_input": "2025-02-28T09:59:18.621695Z",
     "iopub.status.busy": "2025-02-28T09:59:18.621168Z",
     "iopub.status.idle": "2025-02-28T09:59:18.771887Z",
     "shell.execute_reply": "2025-02-28T09:59:18.770582Z"
    },
    "papermill": {
     "duration": 0.156291,
     "end_time": "2025-02-28T09:59:18.773818",
     "exception": false,
     "start_time": "2025-02-28T09:59:18.617527",
     "status": "completed"
    },
    "tags": []
   },
   "outputs": [
    {
     "data": {
      "text/plain": [
       "['DESCR', 'data', 'feature_names', 'frame', 'images', 'target', 'target_names']"
      ]
     },
     "execution_count": 3,
     "metadata": {},
     "output_type": "execute_result"
    }
   ],
   "source": [
    "from sklearn.datasets import load_digits\n",
    "digits = load_digits()\n",
    "dir(digits)"
   ]
  },
  {
   "cell_type": "code",
   "execution_count": 4,
   "id": "c91f2f0c",
   "metadata": {
    "execution": {
     "iopub.execute_input": "2025-02-28T09:59:18.780848Z",
     "iopub.status.busy": "2025-02-28T09:59:18.780445Z",
     "iopub.status.idle": "2025-02-28T09:59:18.784626Z",
     "shell.execute_reply": "2025-02-28T09:59:18.783629Z"
    },
    "papermill": {
     "duration": 0.00956,
     "end_time": "2025-02-28T09:59:18.786334",
     "exception": false,
     "start_time": "2025-02-28T09:59:18.776774",
     "status": "completed"
    },
    "tags": []
   },
   "outputs": [],
   "source": [
    "from sklearn.model_selection import GridSearchCV"
   ]
  },
  {
   "cell_type": "code",
   "execution_count": 5,
   "id": "d3d977af",
   "metadata": {
    "execution": {
     "iopub.execute_input": "2025-02-28T09:59:18.793762Z",
     "iopub.status.busy": "2025-02-28T09:59:18.793401Z",
     "iopub.status.idle": "2025-02-28T09:59:18.799954Z",
     "shell.execute_reply": "2025-02-28T09:59:18.798818Z"
    },
    "papermill": {
     "duration": 0.012628,
     "end_time": "2025-02-28T09:59:18.801933",
     "exception": false,
     "start_time": "2025-02-28T09:59:18.789305",
     "status": "completed"
    },
    "tags": []
   },
   "outputs": [],
   "source": [
    "model_para ={\n",
    "    \"svm\":{ \"model\":svm.SVC(),\n",
    "           \"para\":{\n",
    "               \"C\":range(1,100,5),\n",
    "               \"kernel\":[\"rbf\",\"linear\"],\n",
    "               \"gamma\":[\"auto\",\"scale\"]\n",
    "           } \n",
    "    },\n",
    "    \"RandomForestClassifier\":{\n",
    "        \"model\":RandomForestClassifier(),\n",
    "        \"para\":{\n",
    "            \"n_estimators\":range(1,100,5)\n",
    "        }\n",
    "    },\n",
    "    \"LogisticRegression\" :{\n",
    "        \"model\":LogisticRegression(multi_class='auto',solver=\"liblinear\"),\n",
    "        \"para\":{\n",
    "            \"C\":range(1,100,5)\n",
    "        }\n",
    "    },\n",
    "    \"GaussianNB\":{\n",
    "        \"model\":GaussianNB(),\n",
    "        \"para\":{      \n",
    "        }\n",
    "    },\n",
    "    \"MultinomialNB\":{\n",
    "        \"model\":MultinomialNB(),\n",
    "        \"para\" : {\n",
    "            \n",
    "        }\n",
    "    },\n",
    "    \"DecisionTreeClassifier\":{\n",
    "        \"model\":DecisionTreeClassifier(),\n",
    "        \"para\":{      \n",
    "        }\n",
    "    }\n",
    "}"
   ]
  },
  {
   "cell_type": "code",
   "execution_count": 6,
   "id": "fa17ca3a",
   "metadata": {
    "execution": {
     "iopub.execute_input": "2025-02-28T09:59:18.809131Z",
     "iopub.status.busy": "2025-02-28T09:59:18.808739Z",
     "iopub.status.idle": "2025-02-28T10:01:04.632566Z",
     "shell.execute_reply": "2025-02-28T10:01:04.631318Z"
    },
    "papermill": {
     "duration": 105.83155,
     "end_time": "2025-02-28T10:01:04.636353",
     "exception": false,
     "start_time": "2025-02-28T09:59:18.804803",
     "status": "completed"
    },
    "tags": []
   },
   "outputs": [
    {
     "data": {
      "text/html": [
       "<div>\n",
       "<style scoped>\n",
       "    .dataframe tbody tr th:only-of-type {\n",
       "        vertical-align: middle;\n",
       "    }\n",
       "\n",
       "    .dataframe tbody tr th {\n",
       "        vertical-align: top;\n",
       "    }\n",
       "\n",
       "    .dataframe thead th {\n",
       "        text-align: right;\n",
       "    }\n",
       "</style>\n",
       "<table border=\"1\" class=\"dataframe\">\n",
       "  <thead>\n",
       "    <tr style=\"text-align: right;\">\n",
       "      <th></th>\n",
       "      <th>model</th>\n",
       "      <th>best_score</th>\n",
       "      <th>best_params</th>\n",
       "    </tr>\n",
       "  </thead>\n",
       "  <tbody>\n",
       "    <tr>\n",
       "      <th>0</th>\n",
       "      <td>svm</td>\n",
       "      <td>0.973850</td>\n",
       "      <td>{'C': 6, 'gamma': 'scale', 'kernel': 'rbf'}</td>\n",
       "    </tr>\n",
       "    <tr>\n",
       "      <th>1</th>\n",
       "      <td>RandomForestClassifier</td>\n",
       "      <td>0.937691</td>\n",
       "      <td>{'n_estimators': 86}</td>\n",
       "    </tr>\n",
       "    <tr>\n",
       "      <th>2</th>\n",
       "      <td>LogisticRegression</td>\n",
       "      <td>0.922114</td>\n",
       "      <td>{'C': 1}</td>\n",
       "    </tr>\n",
       "    <tr>\n",
       "      <th>3</th>\n",
       "      <td>GaussianNB</td>\n",
       "      <td>0.806928</td>\n",
       "      <td>{}</td>\n",
       "    </tr>\n",
       "    <tr>\n",
       "      <th>4</th>\n",
       "      <td>MultinomialNB</td>\n",
       "      <td>0.870350</td>\n",
       "      <td>{}</td>\n",
       "    </tr>\n",
       "    <tr>\n",
       "      <th>5</th>\n",
       "      <td>DecisionTreeClassifier</td>\n",
       "      <td>0.779672</td>\n",
       "      <td>{}</td>\n",
       "    </tr>\n",
       "  </tbody>\n",
       "</table>\n",
       "</div>"
      ],
      "text/plain": [
       "                    model  best_score  \\\n",
       "0                     svm    0.973850   \n",
       "1  RandomForestClassifier    0.937691   \n",
       "2      LogisticRegression    0.922114   \n",
       "3              GaussianNB    0.806928   \n",
       "4           MultinomialNB    0.870350   \n",
       "5  DecisionTreeClassifier    0.779672   \n",
       "\n",
       "                                   best_params  \n",
       "0  {'C': 6, 'gamma': 'scale', 'kernel': 'rbf'}  \n",
       "1                         {'n_estimators': 86}  \n",
       "2                                     {'C': 1}  \n",
       "3                                           {}  \n",
       "4                                           {}  \n",
       "5                                           {}  "
      ]
     },
     "execution_count": 6,
     "metadata": {},
     "output_type": "execute_result"
    }
   ],
   "source": [
    "scores = []\n",
    "for model_name , mp in model_para.items():\n",
    "    clf = GridSearchCV(mp[\"model\"],mp[\"para\"],cv=5,return_train_score =False)\n",
    "    clf.fit(digits.data,digits.target)\n",
    "\n",
    "    scores.append({\n",
    "        'model': model_name,\n",
    "        'best_score': clf.best_score_ ,\n",
    "        'best_params': clf.best_params_\n",
    "    })\n",
    "df = pd.DataFrame(scores,columns=['model','best_score','best_params'])\n",
    "df"
   ]
  }
 ],
 "metadata": {
  "kaggle": {
   "accelerator": "none",
   "dataSources": [],
   "dockerImageVersionId": 30918,
   "isGpuEnabled": false,
   "isInternetEnabled": true,
   "language": "python",
   "sourceType": "notebook"
  },
  "kernelspec": {
   "display_name": "Python 3",
   "language": "python",
   "name": "python3"
  },
  "language_info": {
   "codemirror_mode": {
    "name": "ipython",
    "version": 3
   },
   "file_extension": ".py",
   "mimetype": "text/x-python",
   "name": "python",
   "nbconvert_exporter": "python",
   "pygments_lexer": "ipython3",
   "version": "3.10.12"
  },
  "papermill": {
   "default_parameters": {},
   "duration": 112.862308,
   "end_time": "2025-02-28T10:01:05.360767",
   "environment_variables": {},
   "exception": null,
   "input_path": "__notebook__.ipynb",
   "output_path": "__notebook__.ipynb",
   "parameters": {},
   "start_time": "2025-02-28T09:59:12.498459",
   "version": "2.6.0"
  }
 },
 "nbformat": 4,
 "nbformat_minor": 5
}
