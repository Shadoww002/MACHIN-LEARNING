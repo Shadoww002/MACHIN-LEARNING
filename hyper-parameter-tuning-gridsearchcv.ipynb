{
 "cells": [
  {
   "cell_type": "code",
   "execution_count": 1,
   "id": "13e63d1b",
   "metadata": {
    "_cell_guid": "b1076dfc-b9ad-4769-8c92-a6c4dae69d19",
    "_uuid": "8f2839f25d086af736a60e9eeb907d3b93b6e0e5",
    "execution": {
     "iopub.execute_input": "2025-02-28T09:51:02.842464Z",
     "iopub.status.busy": "2025-02-28T09:51:02.841899Z",
     "iopub.status.idle": "2025-02-28T09:51:03.987989Z",
     "shell.execute_reply": "2025-02-28T09:51:03.986739Z"
    },
    "papermill": {
     "duration": 1.153095,
     "end_time": "2025-02-28T09:51:03.990520",
     "exception": false,
     "start_time": "2025-02-28T09:51:02.837425",
     "status": "completed"
    },
    "tags": []
   },
   "outputs": [],
   "source": [
    "import numpy as np # linear algebra\n",
    "import pandas as pd # data processing, CSV file I/O (e.g. pd.read_csv)\n",
    "import os\n",
    "for dirname, _, filenames in os.walk('/kaggle/input'):\n",
    "    for filename in filenames:\n",
    "        print(os.path.join(dirname, filename))"
   ]
  },
  {
   "cell_type": "markdown",
   "id": "33f847d0",
   "metadata": {
    "papermill": {
     "duration": 0.002278,
     "end_time": "2025-02-28T09:51:03.995971",
     "exception": false,
     "start_time": "2025-02-28T09:51:03.993693",
     "status": "completed"
    },
    "tags": []
   },
   "source": [
    "**Exercise: Machine Learning Finding Optimal Model and Hyperparameters**"
   ]
  },
  {
   "cell_type": "markdown",
   "id": "30bba6e1",
   "metadata": {
    "papermill": {
     "duration": 0.00231,
     "end_time": "2025-02-28T09:51:04.000743",
     "exception": false,
     "start_time": "2025-02-28T09:51:03.998433",
     "status": "completed"
    },
    "tags": []
   },
   "source": [
    "*For digits dataset in sklearn.dataset, please try following classifiers and find out the one that gives best performance. Also find the optimal parameters for that classifier.*"
   ]
  },
  {
   "cell_type": "code",
   "execution_count": 2,
   "id": "58a0fbd8",
   "metadata": {
    "execution": {
     "iopub.execute_input": "2025-02-28T09:51:04.007178Z",
     "iopub.status.busy": "2025-02-28T09:51:04.006626Z",
     "iopub.status.idle": "2025-02-28T09:51:06.379106Z",
     "shell.execute_reply": "2025-02-28T09:51:06.377953Z"
    },
    "papermill": {
     "duration": 2.377839,
     "end_time": "2025-02-28T09:51:06.381054",
     "exception": false,
     "start_time": "2025-02-28T09:51:04.003215",
     "status": "completed"
    },
    "tags": []
   },
   "outputs": [],
   "source": [
    "from sklearn import svm\n",
    "from sklearn.ensemble import RandomForestClassifier\n",
    "from sklearn.linear_model import LogisticRegression\n",
    "from sklearn.naive_bayes import GaussianNB\n",
    "from sklearn.naive_bayes import MultinomialNB\n",
    "from sklearn.tree import DecisionTreeClassifier"
   ]
  },
  {
   "cell_type": "code",
   "execution_count": 3,
   "id": "17088885",
   "metadata": {
    "execution": {
     "iopub.execute_input": "2025-02-28T09:51:06.387728Z",
     "iopub.status.busy": "2025-02-28T09:51:06.387226Z",
     "iopub.status.idle": "2025-02-28T09:51:06.572661Z",
     "shell.execute_reply": "2025-02-28T09:51:06.571480Z"
    },
    "papermill": {
     "duration": 0.191066,
     "end_time": "2025-02-28T09:51:06.574784",
     "exception": false,
     "start_time": "2025-02-28T09:51:06.383718",
     "status": "completed"
    },
    "tags": []
   },
   "outputs": [
    {
     "data": {
      "text/plain": [
       "['DESCR', 'data', 'feature_names', 'frame', 'images', 'target', 'target_names']"
      ]
     },
     "execution_count": 3,
     "metadata": {},
     "output_type": "execute_result"
    }
   ],
   "source": [
    "from sklearn.datasets import load_digits\n",
    "digits = load_digits()\n",
    "dir(digits)"
   ]
  },
  {
   "cell_type": "code",
   "execution_count": 4,
   "id": "c7d5ec87",
   "metadata": {
    "execution": {
     "iopub.execute_input": "2025-02-28T09:51:06.584883Z",
     "iopub.status.busy": "2025-02-28T09:51:06.584484Z",
     "iopub.status.idle": "2025-02-28T09:51:06.588984Z",
     "shell.execute_reply": "2025-02-28T09:51:06.587846Z"
    },
    "papermill": {
     "duration": 0.01158,
     "end_time": "2025-02-28T09:51:06.590840",
     "exception": false,
     "start_time": "2025-02-28T09:51:06.579260",
     "status": "completed"
    },
    "tags": []
   },
   "outputs": [],
   "source": [
    "from sklearn.model_selection import GridSearchCV"
   ]
  },
  {
   "cell_type": "code",
   "execution_count": 5,
   "id": "4759f351",
   "metadata": {
    "execution": {
     "iopub.execute_input": "2025-02-28T09:51:06.598139Z",
     "iopub.status.busy": "2025-02-28T09:51:06.597726Z",
     "iopub.status.idle": "2025-02-28T09:51:06.604366Z",
     "shell.execute_reply": "2025-02-28T09:51:06.603203Z"
    },
    "papermill": {
     "duration": 0.012726,
     "end_time": "2025-02-28T09:51:06.606490",
     "exception": false,
     "start_time": "2025-02-28T09:51:06.593764",
     "status": "completed"
    },
    "tags": []
   },
   "outputs": [],
   "source": [
    "model_para ={\n",
    "    \"svm\":{ \"model\":svm.SVC(gamma=\"auto\"),\n",
    "           \"para\":{\n",
    "               \"C\":range(1,100,5),\n",
    "               \"kernel\":[\"rbf\",\"linear\"]\n",
    "           } \n",
    "    },\n",
    "    \"RandomForestClassifier\":{\n",
    "        \"model\":RandomForestClassifier(),\n",
    "        \"para\":{\n",
    "            \"n_estimators\":range(1,100,5)\n",
    "        }\n",
    "    },\n",
    "    \"LogisticRegression\" :{\n",
    "        \"model\":LogisticRegression(multi_class='auto',solver=\"liblinear\"),\n",
    "        \"para\":{\n",
    "            \"C\":range(1,100,5)\n",
    "        }\n",
    "    },\n",
    "    \"GaussianNB\":{\n",
    "        \"model\":GaussianNB(),\n",
    "        \"para\":{      \n",
    "        }\n",
    "    },\n",
    "    \"MultinomialNB\":{\n",
    "        \"model\":MultinomialNB(),\n",
    "        \"para\" : {\n",
    "            \n",
    "        }\n",
    "    },\n",
    "    \"DecisionTreeClassifier\":{\n",
    "        \"model\":DecisionTreeClassifier(),\n",
    "        \"para\":{      \n",
    "        }\n",
    "    }\n",
    "}"
   ]
  },
  {
   "cell_type": "code",
   "execution_count": 6,
   "id": "47d0b4e7",
   "metadata": {
    "execution": {
     "iopub.execute_input": "2025-02-28T09:51:06.616741Z",
     "iopub.status.busy": "2025-02-28T09:51:06.616315Z",
     "iopub.status.idle": "2025-02-28T09:52:35.839679Z",
     "shell.execute_reply": "2025-02-28T09:52:35.838355Z"
    },
    "papermill": {
     "duration": 89.233611,
     "end_time": "2025-02-28T09:52:35.844508",
     "exception": false,
     "start_time": "2025-02-28T09:51:06.610897",
     "status": "completed"
    },
    "tags": []
   },
   "outputs": [
    {
     "data": {
      "text/html": [
       "<div>\n",
       "<style scoped>\n",
       "    .dataframe tbody tr th:only-of-type {\n",
       "        vertical-align: middle;\n",
       "    }\n",
       "\n",
       "    .dataframe tbody tr th {\n",
       "        vertical-align: top;\n",
       "    }\n",
       "\n",
       "    .dataframe thead th {\n",
       "        text-align: right;\n",
       "    }\n",
       "</style>\n",
       "<table border=\"1\" class=\"dataframe\">\n",
       "  <thead>\n",
       "    <tr style=\"text-align: right;\">\n",
       "      <th></th>\n",
       "      <th>model</th>\n",
       "      <th>best_score</th>\n",
       "      <th>best_params</th>\n",
       "    </tr>\n",
       "  </thead>\n",
       "  <tbody>\n",
       "    <tr>\n",
       "      <th>0</th>\n",
       "      <td>svm</td>\n",
       "      <td>0.947697</td>\n",
       "      <td>{'C': 1, 'kernel': 'linear'}</td>\n",
       "    </tr>\n",
       "    <tr>\n",
       "      <th>1</th>\n",
       "      <td>RandomForestClassifier</td>\n",
       "      <td>0.940477</td>\n",
       "      <td>{'n_estimators': 71}</td>\n",
       "    </tr>\n",
       "    <tr>\n",
       "      <th>2</th>\n",
       "      <td>LogisticRegression</td>\n",
       "      <td>0.922114</td>\n",
       "      <td>{'C': 1}</td>\n",
       "    </tr>\n",
       "    <tr>\n",
       "      <th>3</th>\n",
       "      <td>GaussianNB</td>\n",
       "      <td>0.806928</td>\n",
       "      <td>{}</td>\n",
       "    </tr>\n",
       "    <tr>\n",
       "      <th>4</th>\n",
       "      <td>MultinomialNB</td>\n",
       "      <td>0.870350</td>\n",
       "      <td>{}</td>\n",
       "    </tr>\n",
       "    <tr>\n",
       "      <th>5</th>\n",
       "      <td>DecisionTreeClassifier</td>\n",
       "      <td>0.774112</td>\n",
       "      <td>{}</td>\n",
       "    </tr>\n",
       "  </tbody>\n",
       "</table>\n",
       "</div>"
      ],
      "text/plain": [
       "                    model  best_score                   best_params\n",
       "0                     svm    0.947697  {'C': 1, 'kernel': 'linear'}\n",
       "1  RandomForestClassifier    0.940477          {'n_estimators': 71}\n",
       "2      LogisticRegression    0.922114                      {'C': 1}\n",
       "3              GaussianNB    0.806928                            {}\n",
       "4           MultinomialNB    0.870350                            {}\n",
       "5  DecisionTreeClassifier    0.774112                            {}"
      ]
     },
     "execution_count": 6,
     "metadata": {},
     "output_type": "execute_result"
    }
   ],
   "source": [
    "scores = []\n",
    "for model_name , mp in model_para.items():\n",
    "    clf = GridSearchCV(mp[\"model\"],mp[\"para\"],cv=5,return_train_score =False)\n",
    "    clf.fit(digits.data,digits.target)\n",
    "\n",
    "    scores.append({\n",
    "        'model': model_name,\n",
    "        'best_score': clf.best_score_ ,\n",
    "        'best_params': clf.best_params_\n",
    "    })\n",
    "df = pd.DataFrame(scores,columns=['model','best_score','best_params'])\n",
    "df"
   ]
  }
 ],
 "metadata": {
  "kaggle": {
   "accelerator": "none",
   "dataSources": [],
   "dockerImageVersionId": 30918,
   "isGpuEnabled": false,
   "isInternetEnabled": true,
   "language": "python",
   "sourceType": "notebook"
  },
  "kernelspec": {
   "display_name": "Python 3",
   "language": "python",
   "name": "python3"
  },
  "language_info": {
   "codemirror_mode": {
    "name": "ipython",
    "version": 3
   },
   "file_extension": ".py",
   "mimetype": "text/x-python",
   "name": "python",
   "nbconvert_exporter": "python",
   "pygments_lexer": "ipython3",
   "version": "3.10.12"
  },
  "papermill": {
   "default_parameters": {},
   "duration": 96.841565,
   "end_time": "2025-02-28T09:52:36.669238",
   "environment_variables": {},
   "exception": null,
   "input_path": "__notebook__.ipynb",
   "output_path": "__notebook__.ipynb",
   "parameters": {},
   "start_time": "2025-02-28T09:50:59.827673",
   "version": "2.6.0"
  }
 },
 "nbformat": 4,
 "nbformat_minor": 5
}
