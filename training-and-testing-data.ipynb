{
 "cells": [
  {
   "cell_type": "code",
   "execution_count": 1,
   "id": "13ffb323",
   "metadata": {
    "_cell_guid": "b1076dfc-b9ad-4769-8c92-a6c4dae69d19",
    "_uuid": "8f2839f25d086af736a60e9eeb907d3b93b6e0e5",
    "execution": {
     "iopub.execute_input": "2025-02-12T17:12:43.047856Z",
     "iopub.status.busy": "2025-02-12T17:12:43.047427Z",
     "iopub.status.idle": "2025-02-12T17:12:44.210900Z",
     "shell.execute_reply": "2025-02-12T17:12:44.209334Z"
    },
    "papermill": {
     "duration": 1.170976,
     "end_time": "2025-02-12T17:12:44.213191",
     "exception": false,
     "start_time": "2025-02-12T17:12:43.042215",
     "status": "completed"
    },
    "tags": []
   },
   "outputs": [
    {
     "name": "stdout",
     "output_type": "stream",
     "text": [
      "/kaggle/input/car-data/car_data.csv\n",
      "/kaggle/input/car-data-linear/car_data_linear.csv\n"
     ]
    }
   ],
   "source": [
    "# This Python 3 environment comes with many helpful analytics libraries installed\n",
    "# It is defined by the kaggle/python Docker image: https://github.com/kaggle/docker-python\n",
    "# For example, here's several helpful packages to load\n",
    "\n",
    "import numpy as np # linear algebra\n",
    "import pandas as pd # data processing, CSV file I/O (e.g. pd.read_csv)\n",
    "\n",
    "# Input data files are available in the read-only \"../input/\" directory\n",
    "# For example, running this (by clicking run or pressing Shift+Enter) will list all files under the input directory\n",
    "\n",
    "import os\n",
    "for dirname, _, filenames in os.walk('/kaggle/input'):\n",
    "    for filename in filenames:\n",
    "        print(os.path.join(dirname, filename))\n",
    "\n",
    "# You can write up to 20GB to the current directory (/kaggle/working/) that gets preserved as output when you create a version using \"Save & Run All\" \n",
    "# You can also write temporary files to /kaggle/temp/, but they won't be saved outside of the current session"
   ]
  },
  {
   "cell_type": "code",
   "execution_count": 2,
   "id": "430f2a18",
   "metadata": {
    "execution": {
     "iopub.execute_input": "2025-02-12T17:12:44.222166Z",
     "iopub.status.busy": "2025-02-12T17:12:44.221641Z",
     "iopub.status.idle": "2025-02-12T17:12:46.153821Z",
     "shell.execute_reply": "2025-02-12T17:12:46.152685Z"
    },
    "papermill": {
     "duration": 1.93866,
     "end_time": "2025-02-12T17:12:46.155836",
     "exception": false,
     "start_time": "2025-02-12T17:12:44.217176",
     "status": "completed"
    },
    "tags": []
   },
   "outputs": [],
   "source": [
    "import matplotlib.pyplot as plt \n",
    "from sklearn import linear_model"
   ]
  },
  {
   "cell_type": "code",
   "execution_count": 3,
   "id": "70a5e686",
   "metadata": {
    "execution": {
     "iopub.execute_input": "2025-02-12T17:12:46.165065Z",
     "iopub.status.busy": "2025-02-12T17:12:46.164469Z",
     "iopub.status.idle": "2025-02-12T17:12:46.212428Z",
     "shell.execute_reply": "2025-02-12T17:12:46.211372Z"
    },
    "papermill": {
     "duration": 0.054563,
     "end_time": "2025-02-12T17:12:46.214133",
     "exception": false,
     "start_time": "2025-02-12T17:12:46.159570",
     "status": "completed"
    },
    "tags": []
   },
   "outputs": [
    {
     "data": {
      "text/html": [
       "<div>\n",
       "<style scoped>\n",
       "    .dataframe tbody tr th:only-of-type {\n",
       "        vertical-align: middle;\n",
       "    }\n",
       "\n",
       "    .dataframe tbody tr th {\n",
       "        vertical-align: top;\n",
       "    }\n",
       "\n",
       "    .dataframe thead th {\n",
       "        text-align: right;\n",
       "    }\n",
       "</style>\n",
       "<table border=\"1\" class=\"dataframe\">\n",
       "  <thead>\n",
       "    <tr style=\"text-align: right;\">\n",
       "      <th></th>\n",
       "      <th>Mileage</th>\n",
       "      <th>Age</th>\n",
       "      <th>Sell Price</th>\n",
       "    </tr>\n",
       "  </thead>\n",
       "  <tbody>\n",
       "    <tr>\n",
       "      <th>0</th>\n",
       "      <td>176981</td>\n",
       "      <td>7</td>\n",
       "      <td>19529.9</td>\n",
       "    </tr>\n",
       "    <tr>\n",
       "      <th>1</th>\n",
       "      <td>29870</td>\n",
       "      <td>15</td>\n",
       "      <td>17107.0</td>\n",
       "    </tr>\n",
       "    <tr>\n",
       "      <th>2</th>\n",
       "      <td>175650</td>\n",
       "      <td>11</td>\n",
       "      <td>10806.0</td>\n",
       "    </tr>\n",
       "    <tr>\n",
       "      <th>3</th>\n",
       "      <td>36790</td>\n",
       "      <td>8</td>\n",
       "      <td>31212.0</td>\n",
       "    </tr>\n",
       "    <tr>\n",
       "      <th>4</th>\n",
       "      <td>128874</td>\n",
       "      <td>7</td>\n",
       "      <td>24868.6</td>\n",
       "    </tr>\n",
       "    <tr>\n",
       "      <th>...</th>\n",
       "      <td>...</td>\n",
       "      <td>...</td>\n",
       "      <td>...</td>\n",
       "    </tr>\n",
       "    <tr>\n",
       "      <th>495</th>\n",
       "      <td>74435</td>\n",
       "      <td>17</td>\n",
       "      <td>6957.5</td>\n",
       "    </tr>\n",
       "    <tr>\n",
       "      <th>496</th>\n",
       "      <td>50631</td>\n",
       "      <td>7</td>\n",
       "      <td>30402.9</td>\n",
       "    </tr>\n",
       "    <tr>\n",
       "      <th>497</th>\n",
       "      <td>139038</td>\n",
       "      <td>13</td>\n",
       "      <td>11657.2</td>\n",
       "    </tr>\n",
       "    <tr>\n",
       "      <th>498</th>\n",
       "      <td>30103</td>\n",
       "      <td>4</td>\n",
       "      <td>37603.7</td>\n",
       "    </tr>\n",
       "    <tr>\n",
       "      <th>499</th>\n",
       "      <td>74772</td>\n",
       "      <td>4</td>\n",
       "      <td>33818.8</td>\n",
       "    </tr>\n",
       "  </tbody>\n",
       "</table>\n",
       "<p>500 rows × 3 columns</p>\n",
       "</div>"
      ],
      "text/plain": [
       "     Mileage  Age  Sell Price\n",
       "0     176981    7     19529.9\n",
       "1      29870   15     17107.0\n",
       "2     175650   11     10806.0\n",
       "3      36790    8     31212.0\n",
       "4     128874    7     24868.6\n",
       "..       ...  ...         ...\n",
       "495    74435   17      6957.5\n",
       "496    50631    7     30402.9\n",
       "497   139038   13     11657.2\n",
       "498    30103    4     37603.7\n",
       "499    74772    4     33818.8\n",
       "\n",
       "[500 rows x 3 columns]"
      ]
     },
     "execution_count": 3,
     "metadata": {},
     "output_type": "execute_result"
    }
   ],
   "source": [
    "df = pd.read_csv(\"/kaggle/input/car-data-linear/car_data_linear.csv\")\n",
    "df\n"
   ]
  },
  {
   "cell_type": "code",
   "execution_count": 4,
   "id": "4a978248",
   "metadata": {
    "execution": {
     "iopub.execute_input": "2025-02-12T17:12:46.222663Z",
     "iopub.status.busy": "2025-02-12T17:12:46.222326Z",
     "iopub.status.idle": "2025-02-12T17:12:46.569824Z",
     "shell.execute_reply": "2025-02-12T17:12:46.568646Z"
    },
    "papermill": {
     "duration": 0.353624,
     "end_time": "2025-02-12T17:12:46.571591",
     "exception": false,
     "start_time": "2025-02-12T17:12:46.217967",
     "status": "completed"
    },
    "tags": []
   },
   "outputs": [
    {
     "data": {
      "text/plain": [
       "<matplotlib.collections.PathCollection at 0x7947281a70a0>"
      ]
     },
     "execution_count": 4,
     "metadata": {},
     "output_type": "execute_result"
    },
    {
     "data": {
      "image/png": "[encoded data removed]",
      "text/plain": [
       "<Figure size 640x480 with 1 Axes>"
      ]
     },
     "metadata": {},
     "output_type": "display_data"
    }
   ],
   "source": [
    "plt.scatter(df[\"Mileage\"],df[\"Sell Price\"])"
   ]
  },
  {
   "cell_type": "code",
   "execution_count": 5,
   "id": "a5bb130e",
   "metadata": {
    "execution": {
     "iopub.execute_input": "2025-02-12T17:12:46.582979Z",
     "iopub.status.busy": "2025-02-12T17:12:46.582588Z",
     "iopub.status.idle": "2025-02-12T17:12:46.786670Z",
     "shell.execute_reply": "2025-02-12T17:12:46.785629Z"
    },
    "papermill": {
     "duration": 0.211595,
     "end_time": "2025-02-12T17:12:46.788277",
     "exception": false,
     "start_time": "2025-02-12T17:12:46.576682",
     "status": "completed"
    },
    "tags": []
   },
   "outputs": [
    {
     "data": {
      "text/plain": [
       "<matplotlib.collections.PathCollection at 0x794727e99b10>"
      ]
     },
     "execution_count": 5,
     "metadata": {},
     "output_type": "execute_result"
    },
    {
     "data": {
      "image/png": "[encoded data removed]",
      "text/plain": [
       "<Figure size 640x480 with 1 Axes>"
      ]
     },
     "metadata": {},
     "output_type": "display_data"
    }
   ],
   "source": [
    "plt.scatter(df[\"Age\"],df[\"Sell Price\"])\n",
    "# plt.plot(df[\"Age\"],df[\"Sell Price\"])"
   ]
  },
  {
   "cell_type": "code",
   "execution_count": 6,
   "id": "79104694",
   "metadata": {
    "execution": {
     "iopub.execute_input": "2025-02-12T17:12:46.802389Z",
     "iopub.status.busy": "2025-02-12T17:12:46.801930Z",
     "iopub.status.idle": "2025-02-12T17:12:46.814138Z",
     "shell.execute_reply": "2025-02-12T17:12:46.812643Z"
    },
    "papermill": {
     "duration": 0.021516,
     "end_time": "2025-02-12T17:12:46.815942",
     "exception": false,
     "start_time": "2025-02-12T17:12:46.794426",
     "status": "completed"
    },
    "tags": []
   },
   "outputs": [
    {
     "name": "stdout",
     "output_type": "stream",
     "text": [
      "     Mileage  Age\n",
      "0     176981    7\n",
      "1      29870   15\n",
      "2     175650   11\n",
      "3      36790    8\n",
      "4     128874    7\n",
      "..       ...  ...\n",
      "495    74435   17\n",
      "496    50631    7\n",
      "497   139038   13\n",
      "498    30103    4\n",
      "499    74772    4\n",
      "\n",
      "[500 rows x 2 columns]\n",
      "     Sell Price\n",
      "0       19529.9\n",
      "1       17107.0\n",
      "2       10806.0\n",
      "3       31212.0\n",
      "4       24868.6\n",
      "..          ...\n",
      "495      6957.5\n",
      "496     30402.9\n",
      "497     11657.2\n",
      "498     37603.7\n",
      "499     33818.8\n",
      "\n",
      "[500 rows x 1 columns]\n"
     ]
    }
   ],
   "source": [
    "X = df[[\"Mileage\",\"Age\"]]\n",
    "Y = df[[\"Sell Price\"]]\n",
    "\n",
    "print(X)\n",
    "print(Y)"
   ]
  },
  {
   "cell_type": "code",
   "execution_count": 7,
   "id": "5c005c5a",
   "metadata": {
    "execution": {
     "iopub.execute_input": "2025-02-12T17:12:46.829527Z",
     "iopub.status.busy": "2025-02-12T17:12:46.829109Z",
     "iopub.status.idle": "2025-02-12T17:12:46.833725Z",
     "shell.execute_reply": "2025-02-12T17:12:46.832522Z"
    },
    "papermill": {
     "duration": 0.013448,
     "end_time": "2025-02-12T17:12:46.835544",
     "exception": false,
     "start_time": "2025-02-12T17:12:46.822096",
     "status": "completed"
    },
    "tags": []
   },
   "outputs": [],
   "source": [
    "from sklearn.model_selection import train_test_split"
   ]
  },
  {
   "cell_type": "code",
   "execution_count": 8,
   "id": "3b3c9214",
   "metadata": {
    "execution": {
     "iopub.execute_input": "2025-02-12T17:12:46.849419Z",
     "iopub.status.busy": "2025-02-12T17:12:46.849048Z",
     "iopub.status.idle": "2025-02-12T17:12:46.854840Z",
     "shell.execute_reply": "2025-02-12T17:12:46.853795Z"
    },
    "papermill": {
     "duration": 0.015131,
     "end_time": "2025-02-12T17:12:46.856855",
     "exception": false,
     "start_time": "2025-02-12T17:12:46.841724",
     "status": "completed"
    },
    "tags": []
   },
   "outputs": [],
   "source": [
    "x_train,x_test , y_train ,y_test =train_test_split(X,Y,test_size = 0.2)"
   ]
  },
  {
   "cell_type": "code",
   "execution_count": 9,
   "id": "2f374d58",
   "metadata": {
    "execution": {
     "iopub.execute_input": "2025-02-12T17:12:46.870624Z",
     "iopub.status.busy": "2025-02-12T17:12:46.870237Z",
     "iopub.status.idle": "2025-02-12T17:12:46.876211Z",
     "shell.execute_reply": "2025-02-12T17:12:46.875174Z"
    },
    "papermill": {
     "duration": 0.014951,
     "end_time": "2025-02-12T17:12:46.878084",
     "exception": false,
     "start_time": "2025-02-12T17:12:46.863133",
     "status": "completed"
    },
    "tags": []
   },
   "outputs": [
    {
     "data": {
      "text/plain": [
       "400"
      ]
     },
     "execution_count": 9,
     "metadata": {},
     "output_type": "execute_result"
    }
   ],
   "source": [
    "len(x_train)"
   ]
  },
  {
   "cell_type": "code",
   "execution_count": 10,
   "id": "de908f1f",
   "metadata": {
    "execution": {
     "iopub.execute_input": "2025-02-12T17:12:46.891828Z",
     "iopub.status.busy": "2025-02-12T17:12:46.891398Z",
     "iopub.status.idle": "2025-02-12T17:12:46.897728Z",
     "shell.execute_reply": "2025-02-12T17:12:46.896593Z"
    },
    "papermill": {
     "duration": 0.015361,
     "end_time": "2025-02-12T17:12:46.899692",
     "exception": false,
     "start_time": "2025-02-12T17:12:46.884331",
     "status": "completed"
    },
    "tags": []
   },
   "outputs": [
    {
     "data": {
      "text/plain": [
       "100"
      ]
     },
     "execution_count": 10,
     "metadata": {},
     "output_type": "execute_result"
    }
   ],
   "source": [
    "len(y_test)"
   ]
  },
  {
   "cell_type": "code",
   "execution_count": 11,
   "id": "ff1570c5",
   "metadata": {
    "execution": {
     "iopub.execute_input": "2025-02-12T17:12:46.913895Z",
     "iopub.status.busy": "2025-02-12T17:12:46.913487Z",
     "iopub.status.idle": "2025-02-12T17:12:46.959936Z",
     "shell.execute_reply": "2025-02-12T17:12:46.958819Z"
    },
    "papermill": {
     "duration": 0.05577,
     "end_time": "2025-02-12T17:12:46.961977",
     "exception": false,
     "start_time": "2025-02-12T17:12:46.906207",
     "status": "completed"
    },
    "tags": []
   },
   "outputs": [
    {
     "data": {
      "text/plain": [
       "array([[ 1.38142861e+04],\n",
       "       [ 2.51875334e+04],\n",
       "       [ 1.34861813e+04],\n",
       "       [ 5.70738064e+03],\n",
       "       [ 3.87849672e+04],\n",
       "       [ 2.65202358e+04],\n",
       "       [-4.08789632e+03],\n",
       "       [ 3.13285798e+04],\n",
       "       [ 2.30428408e+04],\n",
       "       [ 3.88881966e+04],\n",
       "       [ 3.46897276e+04],\n",
       "       [ 1.06184681e+04],\n",
       "       [ 3.66868476e+04],\n",
       "       [ 8.91697580e+03],\n",
       "       [ 2.21936793e+03],\n",
       "       [ 3.06595645e+04],\n",
       "       [ 6.66435001e+03],\n",
       "       [ 9.41977007e+02],\n",
       "       [ 2.07234460e+04],\n",
       "       [ 7.49572229e+02],\n",
       "       [ 3.31009369e+04],\n",
       "       [ 1.66621699e+04],\n",
       "       [ 3.03703074e+04],\n",
       "       [ 3.35173134e+03],\n",
       "       [ 1.37999265e+04],\n",
       "       [ 2.26242188e+04],\n",
       "       [ 2.45133734e+04],\n",
       "       [ 2.29486364e+04],\n",
       "       [ 2.20494047e+04],\n",
       "       [ 1.08832306e+04],\n",
       "       [ 3.22368900e+01],\n",
       "       [ 3.85399986e+04],\n",
       "       [ 1.82483577e+04],\n",
       "       [ 9.28890271e+03],\n",
       "       [ 1.50363687e+04],\n",
       "       [ 1.52354079e+04],\n",
       "       [ 3.41315735e+04],\n",
       "       [ 1.58085715e+04],\n",
       "       [ 2.46836451e+04],\n",
       "       [ 1.31718954e+04],\n",
       "       [ 1.22197137e+04],\n",
       "       [ 1.62895224e+04],\n",
       "       [ 7.60242314e+03],\n",
       "       [ 2.25963941e+04],\n",
       "       [ 3.05099070e+04],\n",
       "       [ 1.43166332e+04],\n",
       "       [ 3.10252687e+04],\n",
       "       [ 2.28206069e+04],\n",
       "       [ 2.95194695e+04],\n",
       "       [ 1.58163965e+04],\n",
       "       [ 3.39413147e+04],\n",
       "       [ 3.05557849e+04],\n",
       "       [ 3.48416823e+04],\n",
       "       [ 3.63153616e+04],\n",
       "       [ 3.71815210e+04],\n",
       "       [ 1.29079887e+04],\n",
       "       [ 3.11020215e+04],\n",
       "       [ 3.16877976e+04],\n",
       "       [ 1.37471085e+04],\n",
       "       [ 2.56926249e+04],\n",
       "       [ 1.82137956e+04],\n",
       "       [ 3.74145174e+04],\n",
       "       [ 3.89950199e+04],\n",
       "       [ 1.63160665e+04],\n",
       "       [ 3.28662963e+04],\n",
       "       [ 2.62819982e+04],\n",
       "       [ 9.19555095e+03],\n",
       "       [ 3.28871392e+04],\n",
       "       [ 2.53822837e+04],\n",
       "       [ 2.13312714e+04],\n",
       "       [ 3.01126780e+04],\n",
       "       [ 3.65171420e+04],\n",
       "       [ 3.42409385e+04],\n",
       "       [ 2.21195791e+02],\n",
       "       [ 2.61655546e+04],\n",
       "       [ 3.20011407e+04],\n",
       "       [ 2.63530142e+04],\n",
       "       [ 2.74248440e+04],\n",
       "       [ 4.42076713e+04],\n",
       "       [ 3.45927208e+04],\n",
       "       [ 1.76041780e+04],\n",
       "       [ 8.38429450e+03],\n",
       "       [ 2.55592672e+04],\n",
       "       [ 1.40779000e+04],\n",
       "       [ 3.45785671e+04],\n",
       "       [ 1.63463428e+03],\n",
       "       [-3.32736647e+03],\n",
       "       [ 2.59677670e+04],\n",
       "       [ 3.69387499e+04],\n",
       "       [ 1.09278570e+04],\n",
       "       [ 2.53608392e+04],\n",
       "       [ 9.54868775e+03],\n",
       "       [ 3.81247775e+04],\n",
       "       [ 1.96827966e+04],\n",
       "       [ 2.47029918e+04],\n",
       "       [ 4.24013953e+03],\n",
       "       [ 4.35723619e+03],\n",
       "       [ 3.14900615e+04],\n",
       "       [ 7.22295455e+03],\n",
       "       [ 2.82190770e+04]])"
      ]
     },
     "execution_count": 11,
     "metadata": {},
     "output_type": "execute_result"
    }
   ],
   "source": [
    "reg = linear_model.LinearRegression()\n",
    "model = reg.fit(x_train,y_train)\n",
    "\n",
    "model.predict(x_test)"
   ]
  },
  {
   "cell_type": "code",
   "execution_count": 12,
   "id": "baa1868e",
   "metadata": {
    "execution": {
     "iopub.execute_input": "2025-02-12T17:12:46.976400Z",
     "iopub.status.busy": "2025-02-12T17:12:46.975975Z",
     "iopub.status.idle": "2025-02-12T17:12:46.985313Z",
     "shell.execute_reply": "2025-02-12T17:12:46.983989Z"
    },
    "papermill": {
     "duration": 0.018608,
     "end_time": "2025-02-12T17:12:46.987272",
     "exception": false,
     "start_time": "2025-02-12T17:12:46.968664",
     "status": "completed"
    },
    "tags": []
   },
   "outputs": [
    {
     "data": {
      "text/plain": [
       "0.9907532783621502"
      ]
     },
     "execution_count": 12,
     "metadata": {},
     "output_type": "execute_result"
    }
   ],
   "source": [
    "model.score(x_test,y_test)"
   ]
  }
 ],
 "metadata": {
  "kaggle": {
   "accelerator": "none",
   "dataSources": [
    {
     "datasetId": 6655416,
     "sourceId": 10734088,
     "sourceType": "datasetVersion"
    },
    {
     "datasetId": 6655455,
     "sourceId": 10734134,
     "sourceType": "datasetVersion"
    }
   ],
   "dockerImageVersionId": 30886,
   "isGpuEnabled": false,
   "isInternetEnabled": false,
   "language": "python",
   "sourceType": "notebook"
  },
  "kernelspec": {
   "display_name": "Python 3",
   "language": "python",
   "name": "python3"
  },
  "language_info": {
   "codemirror_mode": {
    "name": "ipython",
    "version": 3
   },
   "file_extension": ".py",
   "mimetype": "text/x-python",
   "name": "python",
   "nbconvert_exporter": "python",
   "pygments_lexer": "ipython3",
   "version": "3.10.12"
  },
  "papermill": {
   "default_parameters": {},
   "duration": 7.690471,
   "end_time": "2025-02-12T17:12:47.715179",
   "environment_variables": {},
   "exception": null,
   "input_path": "__notebook__.ipynb",
   "output_path": "__notebook__.ipynb",
   "parameters": {},
   "start_time": "2025-02-12T17:12:40.024708",
   "version": "2.6.0"
  }
 },
 "nbformat": 4,
 "nbformat_minor": 5
}
