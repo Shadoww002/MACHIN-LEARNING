{
 "cells": [
  {
   "cell_type": "code",
   "execution_count": 1,
   "id": "18cdb422",
   "metadata": {
    "_cell_guid": "b1076dfc-b9ad-4769-8c92-a6c4dae69d19",
    "_uuid": "8f2839f25d086af736a60e9eeb907d3b93b6e0e5",
    "execution": {
     "iopub.execute_input": "2025-02-27T18:13:40.718590Z",
     "iopub.status.busy": "2025-02-27T18:13:40.718216Z",
     "iopub.status.idle": "2025-02-27T18:13:41.711853Z",
     "shell.execute_reply": "2025-02-27T18:13:41.710909Z"
    },
    "papermill": {
     "duration": 1.001356,
     "end_time": "2025-02-27T18:13:41.714060",
     "exception": false,
     "start_time": "2025-02-27T18:13:40.712704",
     "status": "completed"
    },
    "tags": []
   },
   "outputs": [],
   "source": [
    "import numpy as np # linear algebra\n",
    "import pandas as pd # data processing, CSV file I/O (e.g. pd.read_csv)\n",
    "\n",
    "import os\n",
    "for dirname, _, filenames in os.walk('/kaggle/input'):\n",
    "    for filename in filenames:\n",
    "        print(os.path.join(dirname, filename))"
   ]
  },
  {
   "cell_type": "markdown",
   "id": "79fe5d35",
   "metadata": {
    "papermill": {
     "duration": 0.00329,
     "end_time": "2025-02-27T18:13:41.721466",
     "exception": false,
     "start_time": "2025-02-27T18:13:41.718176",
     "status": "completed"
    },
    "tags": []
   },
   "source": [
    "**Exercise**\n",
    "\n",
    "1. Use iris flower dataset from sklearn library and try to form clusters of flowers using petal width and length features. Drop other two features for simplicity.\n",
    "2. Figure out if any preprocessing such as scaling would help here\n",
    "3. Draw elbow plot and from that figure out optimal value of k"
   ]
  },
  {
   "cell_type": "code",
   "execution_count": 2,
   "id": "a272ead0",
   "metadata": {
    "execution": {
     "iopub.execute_input": "2025-02-27T18:13:41.729850Z",
     "iopub.status.busy": "2025-02-27T18:13:41.729370Z",
     "iopub.status.idle": "2025-02-27T18:13:43.787522Z",
     "shell.execute_reply": "2025-02-27T18:13:43.786311Z"
    },
    "papermill": {
     "duration": 2.064946,
     "end_time": "2025-02-27T18:13:43.789919",
     "exception": false,
     "start_time": "2025-02-27T18:13:41.724973",
     "status": "completed"
    },
    "tags": []
   },
   "outputs": [],
   "source": [
    "from sklearn.datasets import load_iris\n",
    "import matplotlib.pyplot as plt \n",
    "from sklearn.cluster import KMeans "
   ]
  },
  {
   "cell_type": "code",
   "execution_count": 3,
   "id": "6f69049d",
   "metadata": {
    "execution": {
     "iopub.execute_input": "2025-02-27T18:13:43.798768Z",
     "iopub.status.busy": "2025-02-27T18:13:43.798194Z",
     "iopub.status.idle": "2025-02-27T18:13:43.812338Z",
     "shell.execute_reply": "2025-02-27T18:13:43.811068Z"
    },
    "papermill": {
     "duration": 0.020423,
     "end_time": "2025-02-27T18:13:43.814267",
     "exception": false,
     "start_time": "2025-02-27T18:13:43.793844",
     "status": "completed"
    },
    "tags": []
   },
   "outputs": [
    {
     "data": {
      "text/plain": [
       "['DESCR',\n",
       " 'data',\n",
       " 'data_module',\n",
       " 'feature_names',\n",
       " 'filename',\n",
       " 'frame',\n",
       " 'target',\n",
       " 'target_names']"
      ]
     },
     "execution_count": 3,
     "metadata": {},
     "output_type": "execute_result"
    }
   ],
   "source": [
    "iris = load_iris()\n",
    "dir(iris)"
   ]
  },
  {
   "cell_type": "code",
   "execution_count": 4,
   "id": "6fd16ca7",
   "metadata": {
    "execution": {
     "iopub.execute_input": "2025-02-27T18:13:43.822945Z",
     "iopub.status.busy": "2025-02-27T18:13:43.822548Z",
     "iopub.status.idle": "2025-02-27T18:13:43.827439Z",
     "shell.execute_reply": "2025-02-27T18:13:43.826131Z"
    },
    "papermill": {
     "duration": 0.011086,
     "end_time": "2025-02-27T18:13:43.829235",
     "exception": false,
     "start_time": "2025-02-27T18:13:43.818149",
     "status": "completed"
    },
    "tags": []
   },
   "outputs": [],
   "source": [
    "x = iris.data[2:,2:]"
   ]
  },
  {
   "cell_type": "code",
   "execution_count": 5,
   "id": "b0f94d77",
   "metadata": {
    "execution": {
     "iopub.execute_input": "2025-02-27T18:13:43.838318Z",
     "iopub.status.busy": "2025-02-27T18:13:43.837906Z",
     "iopub.status.idle": "2025-02-27T18:13:43.844366Z",
     "shell.execute_reply": "2025-02-27T18:13:43.843238Z"
    },
    "papermill": {
     "duration": 0.013179,
     "end_time": "2025-02-27T18:13:43.846429",
     "exception": false,
     "start_time": "2025-02-27T18:13:43.833250",
     "status": "completed"
    },
    "tags": []
   },
   "outputs": [
    {
     "data": {
      "text/plain": [
       "['sepal length (cm)',\n",
       " 'sepal width (cm)',\n",
       " 'petal length (cm)',\n",
       " 'petal width (cm)']"
      ]
     },
     "execution_count": 5,
     "metadata": {},
     "output_type": "execute_result"
    }
   ],
   "source": [
    "iris.feature_names"
   ]
  },
  {
   "cell_type": "code",
   "execution_count": 6,
   "id": "baadcabd",
   "metadata": {
    "execution": {
     "iopub.execute_input": "2025-02-27T18:13:43.855646Z",
     "iopub.status.busy": "2025-02-27T18:13:43.855290Z",
     "iopub.status.idle": "2025-02-27T18:13:43.885278Z",
     "shell.execute_reply": "2025-02-27T18:13:43.883995Z"
    },
    "papermill": {
     "duration": 0.036866,
     "end_time": "2025-02-27T18:13:43.887354",
     "exception": false,
     "start_time": "2025-02-27T18:13:43.850488",
     "status": "completed"
    },
    "tags": []
   },
   "outputs": [
    {
     "data": {
      "text/html": [
       "<div>\n",
       "<style scoped>\n",
       "    .dataframe tbody tr th:only-of-type {\n",
       "        vertical-align: middle;\n",
       "    }\n",
       "\n",
       "    .dataframe tbody tr th {\n",
       "        vertical-align: top;\n",
       "    }\n",
       "\n",
       "    .dataframe thead th {\n",
       "        text-align: right;\n",
       "    }\n",
       "</style>\n",
       "<table border=\"1\" class=\"dataframe\">\n",
       "  <thead>\n",
       "    <tr style=\"text-align: right;\">\n",
       "      <th></th>\n",
       "      <th>petal length (cm)</th>\n",
       "      <th>petal width (cm)</th>\n",
       "    </tr>\n",
       "  </thead>\n",
       "  <tbody>\n",
       "    <tr>\n",
       "      <th>0</th>\n",
       "      <td>1.3</td>\n",
       "      <td>0.2</td>\n",
       "    </tr>\n",
       "    <tr>\n",
       "      <th>1</th>\n",
       "      <td>1.5</td>\n",
       "      <td>0.2</td>\n",
       "    </tr>\n",
       "    <tr>\n",
       "      <th>2</th>\n",
       "      <td>1.4</td>\n",
       "      <td>0.2</td>\n",
       "    </tr>\n",
       "    <tr>\n",
       "      <th>3</th>\n",
       "      <td>1.7</td>\n",
       "      <td>0.4</td>\n",
       "    </tr>\n",
       "    <tr>\n",
       "      <th>4</th>\n",
       "      <td>1.4</td>\n",
       "      <td>0.3</td>\n",
       "    </tr>\n",
       "  </tbody>\n",
       "</table>\n",
       "</div>"
      ],
      "text/plain": [
       "   petal length (cm)  petal width (cm)\n",
       "0                1.3               0.2\n",
       "1                1.5               0.2\n",
       "2                1.4               0.2\n",
       "3                1.7               0.4\n",
       "4                1.4               0.3"
      ]
     },
     "execution_count": 6,
     "metadata": {},
     "output_type": "execute_result"
    }
   ],
   "source": [
    "df = pd.DataFrame(x , columns=[\"petal length (cm)\",\"petal width (cm)\"])\n",
    "df.head()"
   ]
  },
  {
   "cell_type": "code",
   "execution_count": 7,
   "id": "7486f2f0",
   "metadata": {
    "execution": {
     "iopub.execute_input": "2025-02-27T18:13:43.896881Z",
     "iopub.status.busy": "2025-02-27T18:13:43.896491Z",
     "iopub.status.idle": "2025-02-27T18:13:44.203716Z",
     "shell.execute_reply": "2025-02-27T18:13:44.202421Z"
    },
    "papermill": {
     "duration": 0.313823,
     "end_time": "2025-02-27T18:13:44.205372",
     "exception": false,
     "start_time": "2025-02-27T18:13:43.891549",
     "status": "completed"
    },
    "tags": []
   },
   "outputs": [
    {
     "data": {
      "text/plain": [
       "Text(0, 0.5, 'petal width (cm)')"
      ]
     },
     "execution_count": 7,
     "metadata": {},
     "output_type": "execute_result"
    },
    {
     "data": {
      "image/png": "[encoded data removed]",
      "text/plain": [
       "<Figure size 640x480 with 1 Axes>"
      ]
     },
     "metadata": {},
     "output_type": "display_data"
    }
   ],
   "source": [
    "plt.scatter(df[\"petal length (cm)\"],df[\"petal width (cm)\"])\n",
    "plt.xlabel(\"petal length (cm)\")\n",
    "plt.ylabel(\"petal width (cm)\")"
   ]
  },
  {
   "cell_type": "code",
   "execution_count": 8,
   "id": "79ee022f",
   "metadata": {
    "execution": {
     "iopub.execute_input": "2025-02-27T18:13:44.215569Z",
     "iopub.status.busy": "2025-02-27T18:13:44.215186Z",
     "iopub.status.idle": "2025-02-27T18:13:44.289692Z",
     "shell.execute_reply": "2025-02-27T18:13:44.287189Z"
    },
    "papermill": {
     "duration": 0.082,
     "end_time": "2025-02-27T18:13:44.291806",
     "exception": false,
     "start_time": "2025-02-27T18:13:44.209806",
     "status": "completed"
    },
    "tags": []
   },
   "outputs": [
    {
     "data": {
      "text/plain": [
       "array([0, 0, 0, 0, 0, 0, 0, 0, 0, 0, 0, 0, 0, 0, 0, 0, 0, 0, 0, 0, 0, 0,\n",
       "       0, 0, 0, 0, 0, 0, 0, 0, 0, 0, 0, 0, 0, 0, 0, 0, 0, 0, 0, 0, 0, 0,\n",
       "       0, 0, 0, 0, 1, 1, 1, 1, 1, 1, 1, 1, 1, 1, 1, 1, 1, 1, 1, 1, 1, 1,\n",
       "       1, 1, 1, 1, 1, 1, 1, 1, 1, 1, 1, 1, 1, 1, 1, 1, 1, 1, 1, 1, 1, 1,\n",
       "       1, 1, 1, 1, 1, 1, 1, 1, 0, 1, 1, 1, 1, 1, 1, 1, 1, 1, 1, 1, 1, 1,\n",
       "       1, 1, 1, 1, 1, 1, 1, 1, 1, 1, 1, 1, 1, 1, 1, 1, 1, 1, 1, 1, 1, 1,\n",
       "       1, 1, 1, 1, 1, 1, 1, 1, 1, 1, 1, 1, 1, 1, 1, 1], dtype=int32)"
      ]
     },
     "execution_count": 8,
     "metadata": {},
     "output_type": "execute_result"
    }
   ],
   "source": [
    "km = KMeans(n_clusters = 2, n_init='auto')\n",
    "y_pred = km.fit_predict(df[[\"petal length (cm)\",\"petal width (cm)\"]])\n",
    "y_pred"
   ]
  },
  {
   "cell_type": "code",
   "execution_count": 9,
   "id": "e3529627",
   "metadata": {
    "execution": {
     "iopub.execute_input": "2025-02-27T18:13:44.305700Z",
     "iopub.status.busy": "2025-02-27T18:13:44.305336Z",
     "iopub.status.idle": "2025-02-27T18:13:44.316739Z",
     "shell.execute_reply": "2025-02-27T18:13:44.315722Z"
    },
    "papermill": {
     "duration": 0.019677,
     "end_time": "2025-02-27T18:13:44.318372",
     "exception": false,
     "start_time": "2025-02-27T18:13:44.298695",
     "status": "completed"
    },
    "tags": []
   },
   "outputs": [
    {
     "data": {
      "text/html": [
       "<div>\n",
       "<style scoped>\n",
       "    .dataframe tbody tr th:only-of-type {\n",
       "        vertical-align: middle;\n",
       "    }\n",
       "\n",
       "    .dataframe tbody tr th {\n",
       "        vertical-align: top;\n",
       "    }\n",
       "\n",
       "    .dataframe thead th {\n",
       "        text-align: right;\n",
       "    }\n",
       "</style>\n",
       "<table border=\"1\" class=\"dataframe\">\n",
       "  <thead>\n",
       "    <tr style=\"text-align: right;\">\n",
       "      <th></th>\n",
       "      <th>petal length (cm)</th>\n",
       "      <th>petal width (cm)</th>\n",
       "      <th>cluster</th>\n",
       "    </tr>\n",
       "  </thead>\n",
       "  <tbody>\n",
       "    <tr>\n",
       "      <th>0</th>\n",
       "      <td>1.3</td>\n",
       "      <td>0.2</td>\n",
       "      <td>0</td>\n",
       "    </tr>\n",
       "    <tr>\n",
       "      <th>1</th>\n",
       "      <td>1.5</td>\n",
       "      <td>0.2</td>\n",
       "      <td>0</td>\n",
       "    </tr>\n",
       "    <tr>\n",
       "      <th>2</th>\n",
       "      <td>1.4</td>\n",
       "      <td>0.2</td>\n",
       "      <td>0</td>\n",
       "    </tr>\n",
       "    <tr>\n",
       "      <th>3</th>\n",
       "      <td>1.7</td>\n",
       "      <td>0.4</td>\n",
       "      <td>0</td>\n",
       "    </tr>\n",
       "    <tr>\n",
       "      <th>4</th>\n",
       "      <td>1.4</td>\n",
       "      <td>0.3</td>\n",
       "      <td>0</td>\n",
       "    </tr>\n",
       "  </tbody>\n",
       "</table>\n",
       "</div>"
      ],
      "text/plain": [
       "   petal length (cm)  petal width (cm)  cluster\n",
       "0                1.3               0.2        0\n",
       "1                1.5               0.2        0\n",
       "2                1.4               0.2        0\n",
       "3                1.7               0.4        0\n",
       "4                1.4               0.3        0"
      ]
     },
     "execution_count": 9,
     "metadata": {},
     "output_type": "execute_result"
    }
   ],
   "source": [
    "df[\"cluster\"] = y_pred\n",
    "df.head()"
   ]
  },
  {
   "cell_type": "code",
   "execution_count": 10,
   "id": "25f264bf",
   "metadata": {
    "execution": {
     "iopub.execute_input": "2025-02-27T18:13:44.329538Z",
     "iopub.status.busy": "2025-02-27T18:13:44.329164Z",
     "iopub.status.idle": "2025-02-27T18:13:44.335383Z",
     "shell.execute_reply": "2025-02-27T18:13:44.334157Z"
    },
    "papermill": {
     "duration": 0.013726,
     "end_time": "2025-02-27T18:13:44.337152",
     "exception": false,
     "start_time": "2025-02-27T18:13:44.323426",
     "status": "completed"
    },
    "tags": []
   },
   "outputs": [
    {
     "data": {
      "text/plain": [
       "array([[1.49591837, 0.26530612],\n",
       "       [4.92525253, 1.68181818]])"
      ]
     },
     "execution_count": 10,
     "metadata": {},
     "output_type": "execute_result"
    }
   ],
   "source": [
    "km.cluster_centers_"
   ]
  },
  {
   "cell_type": "code",
   "execution_count": 11,
   "id": "b47fc083",
   "metadata": {
    "execution": {
     "iopub.execute_input": "2025-02-27T18:13:44.348315Z",
     "iopub.status.busy": "2025-02-27T18:13:44.347902Z",
     "iopub.status.idle": "2025-02-27T18:13:44.618074Z",
     "shell.execute_reply": "2025-02-27T18:13:44.616715Z"
    },
    "papermill": {
     "duration": 0.2776,
     "end_time": "2025-02-27T18:13:44.619777",
     "exception": false,
     "start_time": "2025-02-27T18:13:44.342177",
     "status": "completed"
    },
    "tags": []
   },
   "outputs": [
    {
     "data": {
      "text/plain": [
       "<matplotlib.legend.Legend at 0x7c6748ad9600>"
      ]
     },
     "execution_count": 11,
     "metadata": {},
     "output_type": "execute_result"
    },
    {
     "data": {
      "image/png": "[encoded data removed]",
      "text/plain": [
       "<Figure size 640x480 with 1 Axes>"
      ]
     },
     "metadata": {},
     "output_type": "display_data"
    }
   ],
   "source": [
    "df1 = df[df.cluster==0]\n",
    "df2 = df[df.cluster==1]\n",
    "plt.scatter(df1[\"petal length (cm)\"],df1['petal width (cm)'],color='green')\n",
    "plt.scatter(df2[\"petal length (cm)\"],df2['petal width (cm)'],color='red')\n",
    "plt.scatter(km.cluster_centers_[:,0],km.cluster_centers_[:,1],color='black',marker='*',label='centroid')\n",
    "plt.legend()"
   ]
  },
  {
   "cell_type": "code",
   "execution_count": 12,
   "id": "af236fba",
   "metadata": {
    "execution": {
     "iopub.execute_input": "2025-02-27T18:13:44.632366Z",
     "iopub.status.busy": "2025-02-27T18:13:44.631836Z",
     "iopub.status.idle": "2025-02-27T18:13:44.707319Z",
     "shell.execute_reply": "2025-02-27T18:13:44.705536Z"
    },
    "papermill": {
     "duration": 0.086692,
     "end_time": "2025-02-27T18:13:44.712252",
     "exception": false,
     "start_time": "2025-02-27T18:13:44.625560",
     "status": "completed"
    },
    "tags": []
   },
   "outputs": [],
   "source": [
    "sse = []\n",
    "k_rng = range(1,10)\n",
    "for k in k_rng:\n",
    "    km = KMeans(n_clusters=k,n_init =\"auto\")\n",
    "    km.fit(df[['petal length (cm)','petal width (cm)']])\n",
    "    sse.append(km.inertia_)"
   ]
  },
  {
   "cell_type": "code",
   "execution_count": 13,
   "id": "2a7a6ca0",
   "metadata": {
    "execution": {
     "iopub.execute_input": "2025-02-27T18:13:44.728975Z",
     "iopub.status.busy": "2025-02-27T18:13:44.728477Z",
     "iopub.status.idle": "2025-02-27T18:13:44.955676Z",
     "shell.execute_reply": "2025-02-27T18:13:44.954347Z"
    },
    "papermill": {
     "duration": 0.235896,
     "end_time": "2025-02-27T18:13:44.957622",
     "exception": false,
     "start_time": "2025-02-27T18:13:44.721726",
     "status": "completed"
    },
    "tags": []
   },
   "outputs": [
    {
     "data": {
      "text/plain": [
       "[<matplotlib.lines.Line2D at 0x7c6748b0ac20>]"
      ]
     },
     "execution_count": 13,
     "metadata": {},
     "output_type": "execute_result"
    },
    {
     "data": {
      "image/png": "[encoded data removed]",
      "text/plain": [
       "<Figure size 640x480 with 1 Axes>"
      ]
     },
     "metadata": {},
     "output_type": "display_data"
    }
   ],
   "source": [
    "plt.xlabel('K')\n",
    "plt.ylabel('Sum of squared error')\n",
    "plt.plot(k_rng,sse)"
   ]
  }
 ],
 "metadata": {
  "kaggle": {
   "accelerator": "none",
   "dataSources": [],
   "dockerImageVersionId": 30918,
   "isGpuEnabled": false,
   "isInternetEnabled": true,
   "language": "python",
   "sourceType": "notebook"
  },
  "kernelspec": {
   "display_name": "Python 3",
   "language": "python",
   "name": "python3"
  },
  "language_info": {
   "codemirror_mode": {
    "name": "ipython",
    "version": 3
   },
   "file_extension": ".py",
   "mimetype": "text/x-python",
   "name": "python",
   "nbconvert_exporter": "python",
   "pygments_lexer": "ipython3",
   "version": "3.10.12"
  },
  "papermill": {
   "default_parameters": {},
   "duration": 7.757258,
   "end_time": "2025-02-27T18:13:45.690219",
   "environment_variables": {},
   "exception": null,
   "input_path": "__notebook__.ipynb",
   "output_path": "__notebook__.ipynb",
   "parameters": {},
   "start_time": "2025-02-27T18:13:37.932961",
   "version": "2.6.0"
  }
 },
 "nbformat": 4,
 "nbformat_minor": 5
}
