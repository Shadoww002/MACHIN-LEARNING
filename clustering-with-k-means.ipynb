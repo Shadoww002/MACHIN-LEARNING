{
 "cells": [
  {
   "cell_type": "code",
   "execution_count": 1,
   "id": "71e8da21",
   "metadata": {
    "_cell_guid": "b1076dfc-b9ad-4769-8c92-a6c4dae69d19",
    "_uuid": "8f2839f25d086af736a60e9eeb907d3b93b6e0e5",
    "execution": {
     "iopub.execute_input": "2025-02-27T17:08:17.571136Z",
     "iopub.status.busy": "2025-02-27T17:08:17.570660Z",
     "iopub.status.idle": "2025-02-27T17:08:19.217597Z",
     "shell.execute_reply": "2025-02-27T17:08:19.216569Z"
    },
    "papermill": {
     "duration": 1.65478,
     "end_time": "2025-02-27T17:08:19.219252",
     "exception": false,
     "start_time": "2025-02-27T17:08:17.564472",
     "status": "completed"
    },
    "tags": []
   },
   "outputs": [],
   "source": [
    "import numpy as np # linear algebra\n",
    "import pandas as pd # data processing, CSV file I/O (e.g. pd.read_csv)\n",
    "\n",
    "import os\n",
    "for dirname, _, filenames in os.walk('/kaggle/input'):\n",
    "    for filename in filenames:\n",
    "        print(os.path.join(dirname, filename))"
   ]
  },
  {
   "cell_type": "markdown",
   "id": "68043cf8",
   "metadata": {
    "papermill": {
     "duration": 0.003464,
     "end_time": "2025-02-27T17:08:19.226536",
     "exception": false,
     "start_time": "2025-02-27T17:08:19.223072",
     "status": "completed"
    },
    "tags": []
   },
   "source": [
    "**Exercise**\n",
    "\n",
    "1. Use iris flower dataset from sklearn library and try to form clusters of flowers using petal width and length features. Drop other two features for simplicity.\n",
    "2. Figure out if any preprocessing such as scaling would help here\n",
    "3. Draw elbow plot and from that figure out optimal value of k"
   ]
  },
  {
   "cell_type": "code",
   "execution_count": 2,
   "id": "12bb9353",
   "metadata": {
    "execution": {
     "iopub.execute_input": "2025-02-27T17:08:19.234399Z",
     "iopub.status.busy": "2025-02-27T17:08:19.233871Z",
     "iopub.status.idle": "2025-02-27T17:08:22.936069Z",
     "shell.execute_reply": "2025-02-27T17:08:22.934955Z"
    },
    "papermill": {
     "duration": 3.708544,
     "end_time": "2025-02-27T17:08:22.938210",
     "exception": false,
     "start_time": "2025-02-27T17:08:19.229666",
     "status": "completed"
    },
    "tags": []
   },
   "outputs": [],
   "source": [
    "from sklearn.datasets import load_iris\n",
    "import matplotlib.pyplot as plt \n",
    "from sklearn.cluster import KMeans "
   ]
  },
  {
   "cell_type": "code",
   "execution_count": 3,
   "id": "2a409381",
   "metadata": {
    "execution": {
     "iopub.execute_input": "2025-02-27T17:08:22.946441Z",
     "iopub.status.busy": "2025-02-27T17:08:22.945879Z",
     "iopub.status.idle": "2025-02-27T17:08:22.966809Z",
     "shell.execute_reply": "2025-02-27T17:08:22.965834Z"
    },
    "papermill": {
     "duration": 0.026436,
     "end_time": "2025-02-27T17:08:22.968361",
     "exception": false,
     "start_time": "2025-02-27T17:08:22.941925",
     "status": "completed"
    },
    "tags": []
   },
   "outputs": [
    {
     "data": {
      "text/plain": [
       "['DESCR',\n",
       " 'data',\n",
       " 'data_module',\n",
       " 'feature_names',\n",
       " 'filename',\n",
       " 'frame',\n",
       " 'target',\n",
       " 'target_names']"
      ]
     },
     "execution_count": 3,
     "metadata": {},
     "output_type": "execute_result"
    }
   ],
   "source": [
    "iris = load_iris()\n",
    "dir(iris)"
   ]
  },
  {
   "cell_type": "code",
   "execution_count": 4,
   "id": "9c60a21a",
   "metadata": {
    "execution": {
     "iopub.execute_input": "2025-02-27T17:08:22.977865Z",
     "iopub.status.busy": "2025-02-27T17:08:22.977189Z",
     "iopub.status.idle": "2025-02-27T17:08:22.982128Z",
     "shell.execute_reply": "2025-02-27T17:08:22.981210Z"
    },
    "papermill": {
     "duration": 0.011751,
     "end_time": "2025-02-27T17:08:22.984460",
     "exception": false,
     "start_time": "2025-02-27T17:08:22.972709",
     "status": "completed"
    },
    "tags": []
   },
   "outputs": [],
   "source": [
    "x = iris.data[2:,2:]"
   ]
  },
  {
   "cell_type": "code",
   "execution_count": 5,
   "id": "a414a768",
   "metadata": {
    "execution": {
     "iopub.execute_input": "2025-02-27T17:08:22.992539Z",
     "iopub.status.busy": "2025-02-27T17:08:22.992107Z",
     "iopub.status.idle": "2025-02-27T17:08:22.998637Z",
     "shell.execute_reply": "2025-02-27T17:08:22.997131Z"
    },
    "papermill": {
     "duration": 0.012551,
     "end_time": "2025-02-27T17:08:23.000757",
     "exception": false,
     "start_time": "2025-02-27T17:08:22.988206",
     "status": "completed"
    },
    "tags": []
   },
   "outputs": [
    {
     "data": {
      "text/plain": [
       "['sepal length (cm)',\n",
       " 'sepal width (cm)',\n",
       " 'petal length (cm)',\n",
       " 'petal width (cm)']"
      ]
     },
     "execution_count": 5,
     "metadata": {},
     "output_type": "execute_result"
    }
   ],
   "source": [
    "iris.feature_names"
   ]
  },
  {
   "cell_type": "code",
   "execution_count": 6,
   "id": "f873c8d8",
   "metadata": {
    "execution": {
     "iopub.execute_input": "2025-02-27T17:08:23.008954Z",
     "iopub.status.busy": "2025-02-27T17:08:23.008598Z",
     "iopub.status.idle": "2025-02-27T17:08:23.043694Z",
     "shell.execute_reply": "2025-02-27T17:08:23.042577Z"
    },
    "papermill": {
     "duration": 0.041026,
     "end_time": "2025-02-27T17:08:23.045624",
     "exception": false,
     "start_time": "2025-02-27T17:08:23.004598",
     "status": "completed"
    },
    "tags": []
   },
   "outputs": [
    {
     "data": {
      "text/html": [
       "<div>\n",
       "<style scoped>\n",
       "    .dataframe tbody tr th:only-of-type {\n",
       "        vertical-align: middle;\n",
       "    }\n",
       "\n",
       "    .dataframe tbody tr th {\n",
       "        vertical-align: top;\n",
       "    }\n",
       "\n",
       "    .dataframe thead th {\n",
       "        text-align: right;\n",
       "    }\n",
       "</style>\n",
       "<table border=\"1\" class=\"dataframe\">\n",
       "  <thead>\n",
       "    <tr style=\"text-align: right;\">\n",
       "      <th></th>\n",
       "      <th>petal length (cm)</th>\n",
       "      <th>petal width (cm)</th>\n",
       "    </tr>\n",
       "  </thead>\n",
       "  <tbody>\n",
       "    <tr>\n",
       "      <th>0</th>\n",
       "      <td>1.3</td>\n",
       "      <td>0.2</td>\n",
       "    </tr>\n",
       "    <tr>\n",
       "      <th>1</th>\n",
       "      <td>1.5</td>\n",
       "      <td>0.2</td>\n",
       "    </tr>\n",
       "    <tr>\n",
       "      <th>2</th>\n",
       "      <td>1.4</td>\n",
       "      <td>0.2</td>\n",
       "    </tr>\n",
       "    <tr>\n",
       "      <th>3</th>\n",
       "      <td>1.7</td>\n",
       "      <td>0.4</td>\n",
       "    </tr>\n",
       "    <tr>\n",
       "      <th>4</th>\n",
       "      <td>1.4</td>\n",
       "      <td>0.3</td>\n",
       "    </tr>\n",
       "  </tbody>\n",
       "</table>\n",
       "</div>"
      ],
      "text/plain": [
       "   petal length (cm)  petal width (cm)\n",
       "0                1.3               0.2\n",
       "1                1.5               0.2\n",
       "2                1.4               0.2\n",
       "3                1.7               0.4\n",
       "4                1.4               0.3"
      ]
     },
     "execution_count": 6,
     "metadata": {},
     "output_type": "execute_result"
    }
   ],
   "source": [
    "df = pd.DataFrame(x , columns=[\"petal length (cm)\",\"petal width (cm)\"])\n",
    "df.head()"
   ]
  },
  {
   "cell_type": "code",
   "execution_count": 7,
   "id": "d70caeb6",
   "metadata": {
    "execution": {
     "iopub.execute_input": "2025-02-27T17:08:23.056994Z",
     "iopub.status.busy": "2025-02-27T17:08:23.056396Z",
     "iopub.status.idle": "2025-02-27T17:08:23.432676Z",
     "shell.execute_reply": "2025-02-27T17:08:23.431838Z"
    },
    "papermill": {
     "duration": 0.383232,
     "end_time": "2025-02-27T17:08:23.433994",
     "exception": false,
     "start_time": "2025-02-27T17:08:23.050762",
     "status": "completed"
    },
    "tags": []
   },
   "outputs": [
    {
     "data": {
      "text/plain": [
       "Text(0, 0.5, 'petal width (cm)')"
      ]
     },
     "execution_count": 7,
     "metadata": {},
     "output_type": "execute_result"
    },
    {
     "data": {
      "image/png": "[encoded data removed]",
      "text/plain": [
       "<Figure size 640x480 with 1 Axes>"
      ]
     },
     "metadata": {},
     "output_type": "display_data"
    }
   ],
   "source": [
    "plt.scatter(df[\"petal length (cm)\"],df[\"petal width (cm)\"])\n",
    "plt.xlabel(\"petal length (cm)\")\n",
    "plt.ylabel(\"petal width (cm)\")"
   ]
  },
  {
   "cell_type": "code",
   "execution_count": 8,
   "id": "c4b71149",
   "metadata": {
    "execution": {
     "iopub.execute_input": "2025-02-27T17:08:23.442510Z",
     "iopub.status.busy": "2025-02-27T17:08:23.442060Z",
     "iopub.status.idle": "2025-02-27T17:08:23.533886Z",
     "shell.execute_reply": "2025-02-27T17:08:23.533177Z"
    },
    "papermill": {
     "duration": 0.098028,
     "end_time": "2025-02-27T17:08:23.535894",
     "exception": false,
     "start_time": "2025-02-27T17:08:23.437866",
     "status": "completed"
    },
    "tags": []
   },
   "outputs": [
    {
     "data": {
      "text/plain": [
       "array([1, 1, 1, 1, 1, 1, 1, 1, 1, 1, 1, 1, 1, 1, 1, 1, 1, 1, 1, 1, 1, 1,\n",
       "       1, 1, 1, 1, 1, 1, 1, 1, 1, 1, 1, 1, 1, 1, 1, 1, 1, 1, 1, 1, 1, 1,\n",
       "       1, 1, 1, 1, 0, 0, 0, 0, 0, 0, 0, 0, 0, 0, 0, 0, 0, 0, 0, 0, 0, 0,\n",
       "       0, 0, 0, 0, 0, 0, 0, 0, 0, 0, 0, 0, 0, 0, 0, 0, 0, 0, 0, 0, 0, 0,\n",
       "       0, 0, 0, 0, 0, 0, 0, 0, 1, 0, 0, 0, 0, 0, 0, 0, 0, 0, 0, 0, 0, 0,\n",
       "       0, 0, 0, 0, 0, 0, 0, 0, 0, 0, 0, 0, 0, 0, 0, 0, 0, 0, 0, 0, 0, 0,\n",
       "       0, 0, 0, 0, 0, 0, 0, 0, 0, 0, 0, 0, 0, 0, 0, 0], dtype=int32)"
      ]
     },
     "execution_count": 8,
     "metadata": {},
     "output_type": "execute_result"
    }
   ],
   "source": [
    "km = KMeans(n_clusters = 2, n_init='auto')\n",
    "y_pred = km.fit_predict(df[[\"petal length (cm)\",\"petal width (cm)\"]])\n",
    "y_pred"
   ]
  },
  {
   "cell_type": "code",
   "execution_count": 9,
   "id": "5515c4b8",
   "metadata": {
    "execution": {
     "iopub.execute_input": "2025-02-27T17:08:23.546094Z",
     "iopub.status.busy": "2025-02-27T17:08:23.545707Z",
     "iopub.status.idle": "2025-02-27T17:08:23.556512Z",
     "shell.execute_reply": "2025-02-27T17:08:23.555644Z"
    },
    "papermill": {
     "duration": 0.01888,
     "end_time": "2025-02-27T17:08:23.559017",
     "exception": false,
     "start_time": "2025-02-27T17:08:23.540137",
     "status": "completed"
    },
    "tags": []
   },
   "outputs": [
    {
     "data": {
      "text/html": [
       "<div>\n",
       "<style scoped>\n",
       "    .dataframe tbody tr th:only-of-type {\n",
       "        vertical-align: middle;\n",
       "    }\n",
       "\n",
       "    .dataframe tbody tr th {\n",
       "        vertical-align: top;\n",
       "    }\n",
       "\n",
       "    .dataframe thead th {\n",
       "        text-align: right;\n",
       "    }\n",
       "</style>\n",
       "<table border=\"1\" class=\"dataframe\">\n",
       "  <thead>\n",
       "    <tr style=\"text-align: right;\">\n",
       "      <th></th>\n",
       "      <th>petal length (cm)</th>\n",
       "      <th>petal width (cm)</th>\n",
       "      <th>cluster</th>\n",
       "    </tr>\n",
       "  </thead>\n",
       "  <tbody>\n",
       "    <tr>\n",
       "      <th>0</th>\n",
       "      <td>1.3</td>\n",
       "      <td>0.2</td>\n",
       "      <td>1</td>\n",
       "    </tr>\n",
       "    <tr>\n",
       "      <th>1</th>\n",
       "      <td>1.5</td>\n",
       "      <td>0.2</td>\n",
       "      <td>1</td>\n",
       "    </tr>\n",
       "    <tr>\n",
       "      <th>2</th>\n",
       "      <td>1.4</td>\n",
       "      <td>0.2</td>\n",
       "      <td>1</td>\n",
       "    </tr>\n",
       "    <tr>\n",
       "      <th>3</th>\n",
       "      <td>1.7</td>\n",
       "      <td>0.4</td>\n",
       "      <td>1</td>\n",
       "    </tr>\n",
       "    <tr>\n",
       "      <th>4</th>\n",
       "      <td>1.4</td>\n",
       "      <td>0.3</td>\n",
       "      <td>1</td>\n",
       "    </tr>\n",
       "  </tbody>\n",
       "</table>\n",
       "</div>"
      ],
      "text/plain": [
       "   petal length (cm)  petal width (cm)  cluster\n",
       "0                1.3               0.2        1\n",
       "1                1.5               0.2        1\n",
       "2                1.4               0.2        1\n",
       "3                1.7               0.4        1\n",
       "4                1.4               0.3        1"
      ]
     },
     "execution_count": 9,
     "metadata": {},
     "output_type": "execute_result"
    }
   ],
   "source": [
    "df[\"cluster\"] = y_pred\n",
    "df.head()"
   ]
  },
  {
   "cell_type": "code",
   "execution_count": 10,
   "id": "c2c82db8",
   "metadata": {
    "execution": {
     "iopub.execute_input": "2025-02-27T17:08:23.571911Z",
     "iopub.status.busy": "2025-02-27T17:08:23.571491Z",
     "iopub.status.idle": "2025-02-27T17:08:23.579109Z",
     "shell.execute_reply": "2025-02-27T17:08:23.577991Z"
    },
    "papermill": {
     "duration": 0.018582,
     "end_time": "2025-02-27T17:08:23.583172",
     "exception": false,
     "start_time": "2025-02-27T17:08:23.564590",
     "status": "completed"
    },
    "tags": []
   },
   "outputs": [
    {
     "data": {
      "text/plain": [
       "array([[4.92525253, 1.68181818],\n",
       "       [1.49591837, 0.26530612]])"
      ]
     },
     "execution_count": 10,
     "metadata": {},
     "output_type": "execute_result"
    }
   ],
   "source": [
    "km.cluster_centers_"
   ]
  },
  {
   "cell_type": "code",
   "execution_count": 11,
   "id": "0bf2e706",
   "metadata": {
    "execution": {
     "iopub.execute_input": "2025-02-27T17:08:23.595800Z",
     "iopub.status.busy": "2025-02-27T17:08:23.595094Z",
     "iopub.status.idle": "2025-02-27T17:08:23.813626Z",
     "shell.execute_reply": "2025-02-27T17:08:23.812709Z"
    },
    "papermill": {
     "duration": 0.225493,
     "end_time": "2025-02-27T17:08:23.814927",
     "exception": false,
     "start_time": "2025-02-27T17:08:23.589434",
     "status": "completed"
    },
    "tags": []
   },
   "outputs": [
    {
     "data": {
      "text/plain": [
       "<matplotlib.legend.Legend at 0x7ceb1eb45450>"
      ]
     },
     "execution_count": 11,
     "metadata": {},
     "output_type": "execute_result"
    },
    {
     "data": {
      "image/png": "[encoded data removed]",
      "text/plain": [
       "<Figure size 640x480 with 1 Axes>"
      ]
     },
     "metadata": {},
     "output_type": "display_data"
    }
   ],
   "source": [
    "df1 = df[df.cluster==0]\n",
    "df2 = df[df.cluster==1]\n",
    "plt.scatter(df1[\"petal length (cm)\"],df1['petal width (cm)'],color='green')\n",
    "plt.scatter(df2[\"petal length (cm)\"],df2['petal width (cm)'],color='red')\n",
    "plt.scatter(km.cluster_centers_[:,0],km.cluster_centers_[:,1],color='purple',marker='*',label='centroid')\n",
    "plt.legend()"
   ]
  },
  {
   "cell_type": "code",
   "execution_count": 12,
   "id": "2f1ad015",
   "metadata": {
    "execution": {
     "iopub.execute_input": "2025-02-27T17:08:23.825757Z",
     "iopub.status.busy": "2025-02-27T17:08:23.825289Z",
     "iopub.status.idle": "2025-02-27T17:08:23.867820Z",
     "shell.execute_reply": "2025-02-27T17:08:23.866951Z"
    },
    "papermill": {
     "duration": 0.050541,
     "end_time": "2025-02-27T17:08:23.869948",
     "exception": false,
     "start_time": "2025-02-27T17:08:23.819407",
     "status": "completed"
    },
    "tags": []
   },
   "outputs": [],
   "source": [
    "sse = []\n",
    "k_rng = range(1,10)\n",
    "for k in k_rng:\n",
    "    km = KMeans(n_clusters=k,n_init =\"auto\")\n",
    "    km.fit(df[['petal length (cm)','petal width (cm)']])\n",
    "    sse.append(km.inertia_)"
   ]
  },
  {
   "cell_type": "code",
   "execution_count": 13,
   "id": "46db07f5",
   "metadata": {
    "execution": {
     "iopub.execute_input": "2025-02-27T17:08:23.884034Z",
     "iopub.status.busy": "2025-02-27T17:08:23.883581Z",
     "iopub.status.idle": "2025-02-27T17:08:24.041806Z",
     "shell.execute_reply": "2025-02-27T17:08:24.040496Z"
    },
    "papermill": {
     "duration": 0.166787,
     "end_time": "2025-02-27T17:08:24.043215",
     "exception": false,
     "start_time": "2025-02-27T17:08:23.876428",
     "status": "completed"
    },
    "tags": []
   },
   "outputs": [
    {
     "data": {
      "text/plain": [
       "[<matplotlib.lines.Line2D at 0x7ceb1eb72980>]"
      ]
     },
     "execution_count": 13,
     "metadata": {},
     "output_type": "execute_result"
    },
    {
     "data": {
      "image/png": "[encoded data removed]",
      "text/plain": [
       "<Figure size 640x480 with 1 Axes>"
      ]
     },
     "metadata": {},
     "output_type": "display_data"
    }
   ],
   "source": [
    "plt.xlabel('K')\n",
    "plt.ylabel('Sum of squared error')\n",
    "plt.plot(k_rng,sse)"
   ]
  },
  {
   "cell_type": "code",
   "execution_count": null,
   "id": "7fde923f",
   "metadata": {
    "papermill": {
     "duration": 0.004006,
     "end_time": "2025-02-27T17:08:24.052267",
     "exception": false,
     "start_time": "2025-02-27T17:08:24.048261",
     "status": "completed"
    },
    "tags": []
   },
   "outputs": [],
   "source": []
  }
 ],
 "metadata": {
  "kaggle": {
   "accelerator": "none",
   "dataSources": [],
   "dockerImageVersionId": 30918,
   "isGpuEnabled": false,
   "isInternetEnabled": true,
   "language": "python",
   "sourceType": "notebook"
  },
  "kernelspec": {
   "display_name": "Python 3",
   "language": "python",
   "name": "python3"
  },
  "language_info": {
   "codemirror_mode": {
    "name": "ipython",
    "version": 3
   },
   "file_extension": ".py",
   "mimetype": "text/x-python",
   "name": "python",
   "nbconvert_exporter": "python",
   "pygments_lexer": "ipython3",
   "version": "3.10.12"
  },
  "papermill": {
   "default_parameters": {},
   "duration": 10.843756,
   "end_time": "2025-02-27T17:08:25.080484",
   "environment_variables": {},
   "exception": null,
   "input_path": "__notebook__.ipynb",
   "output_path": "__notebook__.ipynb",
   "parameters": {},
   "start_time": "2025-02-27T17:08:14.236728",
   "version": "2.6.0"
  }
 },
 "nbformat": 4,
 "nbformat_minor": 5
}
