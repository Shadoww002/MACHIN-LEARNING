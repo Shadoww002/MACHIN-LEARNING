{
 "cells": [
  {
   "cell_type": "code",
   "execution_count": 1,
   "id": "b967b579",
   "metadata": {
    "_cell_guid": "b1076dfc-b9ad-4769-8c92-a6c4dae69d19",
    "_uuid": "8f2839f25d086af736a60e9eeb907d3b93b6e0e5",
    "execution": {
     "iopub.execute_input": "2025-02-23T10:11:01.859709Z",
     "iopub.status.busy": "2025-02-23T10:11:01.859340Z",
     "iopub.status.idle": "2025-02-23T10:11:02.952842Z",
     "shell.execute_reply": "2025-02-23T10:11:02.951692Z"
    },
    "papermill": {
     "duration": 1.105286,
     "end_time": "2025-02-23T10:11:02.954876",
     "exception": false,
     "start_time": "2025-02-23T10:11:01.849590",
     "status": "completed"
    },
    "tags": []
   },
   "outputs": [],
   "source": [
    "# This Python 3 environment comes with many helpful analytics libraries installed\n",
    "# It is defined by the kaggle/python Docker image: https://github.com/kaggle/docker-python\n",
    "# For example, here's several helpful packages to load\n",
    "\n",
    "import numpy as np # linear algebra\n",
    "import pandas as pd # data processing, CSV file I/O (e.g. pd.read_csv)\n",
    "\n",
    "# Input data files are available in the read-only \"../input/\" directory\n",
    "# For example, running this (by clicking run or pressing Shift+Enter) will list all files under the input directory\n",
    "\n",
    "import os\n",
    "for dirname, _, filenames in os.walk('/kaggle/input'):\n",
    "    for filename in filenames:\n",
    "        print(os.path.join(dirname, filename))\n",
    "\n",
    "# You can write up to 20GB to the current directory (/kaggle/working/) that gets preserved as output when you create a version using \"Save & Run All\" \n",
    "# You can also write temporary files to /kaggle/temp/, but they won't be saved outside of the current session"
   ]
  },
  {
   "cell_type": "code",
   "execution_count": 2,
   "id": "20bf33e5",
   "metadata": {
    "execution": {
     "iopub.execute_input": "2025-02-23T10:11:02.969015Z",
     "iopub.status.busy": "2025-02-23T10:11:02.968496Z",
     "iopub.status.idle": "2025-02-23T10:11:04.672030Z",
     "shell.execute_reply": "2025-02-23T10:11:04.670654Z"
    },
    "papermill": {
     "duration": 1.712527,
     "end_time": "2025-02-23T10:11:04.673922",
     "exception": false,
     "start_time": "2025-02-23T10:11:02.961395",
     "status": "completed"
    },
    "tags": []
   },
   "outputs": [
    {
     "data": {
      "text/plain": [
       "['DESCR',\n",
       " 'data',\n",
       " 'data_module',\n",
       " 'feature_names',\n",
       " 'filename',\n",
       " 'frame',\n",
       " 'target',\n",
       " 'target_names']"
      ]
     },
     "execution_count": 2,
     "metadata": {},
     "output_type": "execute_result"
    }
   ],
   "source": [
    "from sklearn.datasets import load_iris\n",
    "data = load_iris()\n",
    "dir(data)"
   ]
  },
  {
   "cell_type": "code",
   "execution_count": 3,
   "id": "ab9b3c16",
   "metadata": {
    "execution": {
     "iopub.execute_input": "2025-02-23T10:11:04.688877Z",
     "iopub.status.busy": "2025-02-23T10:11:04.688353Z",
     "iopub.status.idle": "2025-02-23T10:11:04.695568Z",
     "shell.execute_reply": "2025-02-23T10:11:04.694366Z"
    },
    "papermill": {
     "duration": 0.017022,
     "end_time": "2025-02-23T10:11:04.697484",
     "exception": false,
     "start_time": "2025-02-23T10:11:04.680462",
     "status": "completed"
    },
    "tags": []
   },
   "outputs": [
    {
     "data": {
      "text/plain": [
       "['sepal length (cm)',\n",
       " 'sepal width (cm)',\n",
       " 'petal length (cm)',\n",
       " 'petal width (cm)']"
      ]
     },
     "execution_count": 3,
     "metadata": {},
     "output_type": "execute_result"
    }
   ],
   "source": [
    "data.feature_names"
   ]
  },
  {
   "cell_type": "code",
   "execution_count": 4,
   "id": "105deca5",
   "metadata": {
    "execution": {
     "iopub.execute_input": "2025-02-23T10:11:04.711744Z",
     "iopub.status.busy": "2025-02-23T10:11:04.711397Z",
     "iopub.status.idle": "2025-02-23T10:11:04.744070Z",
     "shell.execute_reply": "2025-02-23T10:11:04.742758Z"
    },
    "papermill": {
     "duration": 0.041919,
     "end_time": "2025-02-23T10:11:04.745959",
     "exception": false,
     "start_time": "2025-02-23T10:11:04.704040",
     "status": "completed"
    },
    "tags": []
   },
   "outputs": [
    {
     "data": {
      "text/html": [
       "<div>\n",
       "<style scoped>\n",
       "    .dataframe tbody tr th:only-of-type {\n",
       "        vertical-align: middle;\n",
       "    }\n",
       "\n",
       "    .dataframe tbody tr th {\n",
       "        vertical-align: top;\n",
       "    }\n",
       "\n",
       "    .dataframe thead th {\n",
       "        text-align: right;\n",
       "    }\n",
       "</style>\n",
       "<table border=\"1\" class=\"dataframe\">\n",
       "  <thead>\n",
       "    <tr style=\"text-align: right;\">\n",
       "      <th></th>\n",
       "      <th>sepal length (cm)</th>\n",
       "      <th>sepal width (cm)</th>\n",
       "      <th>petal length (cm)</th>\n",
       "      <th>petal width (cm)</th>\n",
       "    </tr>\n",
       "  </thead>\n",
       "  <tbody>\n",
       "    <tr>\n",
       "      <th>0</th>\n",
       "      <td>5.1</td>\n",
       "      <td>3.5</td>\n",
       "      <td>1.4</td>\n",
       "      <td>0.2</td>\n",
       "    </tr>\n",
       "    <tr>\n",
       "      <th>1</th>\n",
       "      <td>4.9</td>\n",
       "      <td>3.0</td>\n",
       "      <td>1.4</td>\n",
       "      <td>0.2</td>\n",
       "    </tr>\n",
       "    <tr>\n",
       "      <th>2</th>\n",
       "      <td>4.7</td>\n",
       "      <td>3.2</td>\n",
       "      <td>1.3</td>\n",
       "      <td>0.2</td>\n",
       "    </tr>\n",
       "    <tr>\n",
       "      <th>3</th>\n",
       "      <td>4.6</td>\n",
       "      <td>3.1</td>\n",
       "      <td>1.5</td>\n",
       "      <td>0.2</td>\n",
       "    </tr>\n",
       "    <tr>\n",
       "      <th>4</th>\n",
       "      <td>5.0</td>\n",
       "      <td>3.6</td>\n",
       "      <td>1.4</td>\n",
       "      <td>0.2</td>\n",
       "    </tr>\n",
       "  </tbody>\n",
       "</table>\n",
       "</div>"
      ],
      "text/plain": [
       "   sepal length (cm)  sepal width (cm)  petal length (cm)  petal width (cm)\n",
       "0                5.1               3.5                1.4               0.2\n",
       "1                4.9               3.0                1.4               0.2\n",
       "2                4.7               3.2                1.3               0.2\n",
       "3                4.6               3.1                1.5               0.2\n",
       "4                5.0               3.6                1.4               0.2"
      ]
     },
     "execution_count": 4,
     "metadata": {},
     "output_type": "execute_result"
    }
   ],
   "source": [
    "df = pd.DataFrame(data.data,columns =data.feature_names)\n",
    "df.head()"
   ]
  },
  {
   "cell_type": "code",
   "execution_count": 5,
   "id": "a4fd513d",
   "metadata": {
    "execution": {
     "iopub.execute_input": "2025-02-23T10:11:04.759946Z",
     "iopub.status.busy": "2025-02-23T10:11:04.759558Z",
     "iopub.status.idle": "2025-02-23T10:11:04.772194Z",
     "shell.execute_reply": "2025-02-23T10:11:04.770961Z"
    },
    "papermill": {
     "duration": 0.021605,
     "end_time": "2025-02-23T10:11:04.774087",
     "exception": false,
     "start_time": "2025-02-23T10:11:04.752482",
     "status": "completed"
    },
    "tags": []
   },
   "outputs": [
    {
     "data": {
      "text/html": [
       "<div>\n",
       "<style scoped>\n",
       "    .dataframe tbody tr th:only-of-type {\n",
       "        vertical-align: middle;\n",
       "    }\n",
       "\n",
       "    .dataframe tbody tr th {\n",
       "        vertical-align: top;\n",
       "    }\n",
       "\n",
       "    .dataframe thead th {\n",
       "        text-align: right;\n",
       "    }\n",
       "</style>\n",
       "<table border=\"1\" class=\"dataframe\">\n",
       "  <thead>\n",
       "    <tr style=\"text-align: right;\">\n",
       "      <th></th>\n",
       "      <th>sepal length (cm)</th>\n",
       "      <th>sepal width (cm)</th>\n",
       "      <th>petal length (cm)</th>\n",
       "      <th>petal width (cm)</th>\n",
       "      <th>target</th>\n",
       "    </tr>\n",
       "  </thead>\n",
       "  <tbody>\n",
       "    <tr>\n",
       "      <th>0</th>\n",
       "      <td>5.1</td>\n",
       "      <td>3.5</td>\n",
       "      <td>1.4</td>\n",
       "      <td>0.2</td>\n",
       "      <td>0</td>\n",
       "    </tr>\n",
       "    <tr>\n",
       "      <th>1</th>\n",
       "      <td>4.9</td>\n",
       "      <td>3.0</td>\n",
       "      <td>1.4</td>\n",
       "      <td>0.2</td>\n",
       "      <td>0</td>\n",
       "    </tr>\n",
       "    <tr>\n",
       "      <th>2</th>\n",
       "      <td>4.7</td>\n",
       "      <td>3.2</td>\n",
       "      <td>1.3</td>\n",
       "      <td>0.2</td>\n",
       "      <td>0</td>\n",
       "    </tr>\n",
       "    <tr>\n",
       "      <th>3</th>\n",
       "      <td>4.6</td>\n",
       "      <td>3.1</td>\n",
       "      <td>1.5</td>\n",
       "      <td>0.2</td>\n",
       "      <td>0</td>\n",
       "    </tr>\n",
       "    <tr>\n",
       "      <th>4</th>\n",
       "      <td>5.0</td>\n",
       "      <td>3.6</td>\n",
       "      <td>1.4</td>\n",
       "      <td>0.2</td>\n",
       "      <td>0</td>\n",
       "    </tr>\n",
       "  </tbody>\n",
       "</table>\n",
       "</div>"
      ],
      "text/plain": [
       "   sepal length (cm)  sepal width (cm)  petal length (cm)  petal width (cm)  \\\n",
       "0                5.1               3.5                1.4               0.2   \n",
       "1                4.9               3.0                1.4               0.2   \n",
       "2                4.7               3.2                1.3               0.2   \n",
       "3                4.6               3.1                1.5               0.2   \n",
       "4                5.0               3.6                1.4               0.2   \n",
       "\n",
       "   target  \n",
       "0       0  \n",
       "1       0  \n",
       "2       0  \n",
       "3       0  \n",
       "4       0  "
      ]
     },
     "execution_count": 5,
     "metadata": {},
     "output_type": "execute_result"
    }
   ],
   "source": [
    "df[\"target\"] = data.target\n",
    "df.head()"
   ]
  },
  {
   "cell_type": "code",
   "execution_count": 6,
   "id": "a0bd1e06",
   "metadata": {
    "execution": {
     "iopub.execute_input": "2025-02-23T10:11:04.789700Z",
     "iopub.status.busy": "2025-02-23T10:11:04.789314Z",
     "iopub.status.idle": "2025-02-23T10:11:04.795012Z",
     "shell.execute_reply": "2025-02-23T10:11:04.793913Z"
    },
    "papermill": {
     "duration": 0.015477,
     "end_time": "2025-02-23T10:11:04.796801",
     "exception": false,
     "start_time": "2025-02-23T10:11:04.781324",
     "status": "completed"
    },
    "tags": []
   },
   "outputs": [],
   "source": [
    "df[\"flower_name\"] = df.target.apply(lambda x : data.target_names[x])"
   ]
  },
  {
   "cell_type": "code",
   "execution_count": 7,
   "id": "efba2f07",
   "metadata": {
    "execution": {
     "iopub.execute_input": "2025-02-23T10:11:04.811472Z",
     "iopub.status.busy": "2025-02-23T10:11:04.811140Z",
     "iopub.status.idle": "2025-02-23T10:11:04.823210Z",
     "shell.execute_reply": "2025-02-23T10:11:04.822228Z"
    },
    "papermill": {
     "duration": 0.021377,
     "end_time": "2025-02-23T10:11:04.824875",
     "exception": false,
     "start_time": "2025-02-23T10:11:04.803498",
     "status": "completed"
    },
    "tags": []
   },
   "outputs": [
    {
     "data": {
      "text/html": [
       "<div>\n",
       "<style scoped>\n",
       "    .dataframe tbody tr th:only-of-type {\n",
       "        vertical-align: middle;\n",
       "    }\n",
       "\n",
       "    .dataframe tbody tr th {\n",
       "        vertical-align: top;\n",
       "    }\n",
       "\n",
       "    .dataframe thead th {\n",
       "        text-align: right;\n",
       "    }\n",
       "</style>\n",
       "<table border=\"1\" class=\"dataframe\">\n",
       "  <thead>\n",
       "    <tr style=\"text-align: right;\">\n",
       "      <th></th>\n",
       "      <th>sepal length (cm)</th>\n",
       "      <th>sepal width (cm)</th>\n",
       "      <th>petal length (cm)</th>\n",
       "      <th>petal width (cm)</th>\n",
       "      <th>target</th>\n",
       "      <th>flower_name</th>\n",
       "    </tr>\n",
       "  </thead>\n",
       "  <tbody>\n",
       "    <tr>\n",
       "      <th>0</th>\n",
       "      <td>5.1</td>\n",
       "      <td>3.5</td>\n",
       "      <td>1.4</td>\n",
       "      <td>0.2</td>\n",
       "      <td>0</td>\n",
       "      <td>setosa</td>\n",
       "    </tr>\n",
       "    <tr>\n",
       "      <th>1</th>\n",
       "      <td>4.9</td>\n",
       "      <td>3.0</td>\n",
       "      <td>1.4</td>\n",
       "      <td>0.2</td>\n",
       "      <td>0</td>\n",
       "      <td>setosa</td>\n",
       "    </tr>\n",
       "    <tr>\n",
       "      <th>2</th>\n",
       "      <td>4.7</td>\n",
       "      <td>3.2</td>\n",
       "      <td>1.3</td>\n",
       "      <td>0.2</td>\n",
       "      <td>0</td>\n",
       "      <td>setosa</td>\n",
       "    </tr>\n",
       "    <tr>\n",
       "      <th>3</th>\n",
       "      <td>4.6</td>\n",
       "      <td>3.1</td>\n",
       "      <td>1.5</td>\n",
       "      <td>0.2</td>\n",
       "      <td>0</td>\n",
       "      <td>setosa</td>\n",
       "    </tr>\n",
       "    <tr>\n",
       "      <th>4</th>\n",
       "      <td>5.0</td>\n",
       "      <td>3.6</td>\n",
       "      <td>1.4</td>\n",
       "      <td>0.2</td>\n",
       "      <td>0</td>\n",
       "      <td>setosa</td>\n",
       "    </tr>\n",
       "  </tbody>\n",
       "</table>\n",
       "</div>"
      ],
      "text/plain": [
       "   sepal length (cm)  sepal width (cm)  petal length (cm)  petal width (cm)  \\\n",
       "0                5.1               3.5                1.4               0.2   \n",
       "1                4.9               3.0                1.4               0.2   \n",
       "2                4.7               3.2                1.3               0.2   \n",
       "3                4.6               3.1                1.5               0.2   \n",
       "4                5.0               3.6                1.4               0.2   \n",
       "\n",
       "   target flower_name  \n",
       "0       0      setosa  \n",
       "1       0      setosa  \n",
       "2       0      setosa  \n",
       "3       0      setosa  \n",
       "4       0      setosa  "
      ]
     },
     "execution_count": 7,
     "metadata": {},
     "output_type": "execute_result"
    }
   ],
   "source": [
    "df.head()"
   ]
  },
  {
   "cell_type": "code",
   "execution_count": 8,
   "id": "4258a173",
   "metadata": {
    "execution": {
     "iopub.execute_input": "2025-02-23T10:11:04.839803Z",
     "iopub.status.busy": "2025-02-23T10:11:04.839458Z",
     "iopub.status.idle": "2025-02-23T10:11:04.844216Z",
     "shell.execute_reply": "2025-02-23T10:11:04.843166Z"
    },
    "papermill": {
     "duration": 0.014458,
     "end_time": "2025-02-23T10:11:04.846065",
     "exception": false,
     "start_time": "2025-02-23T10:11:04.831607",
     "status": "completed"
    },
    "tags": []
   },
   "outputs": [],
   "source": [
    "df0 = df[:50]\n",
    "df1 = df[50:100]\n",
    "df2 = df[100:150]"
   ]
  },
  {
   "cell_type": "code",
   "execution_count": 9,
   "id": "e3b2cd16",
   "metadata": {
    "execution": {
     "iopub.execute_input": "2025-02-23T10:11:04.861237Z",
     "iopub.status.busy": "2025-02-23T10:11:04.860675Z",
     "iopub.status.idle": "2025-02-23T10:11:04.865407Z",
     "shell.execute_reply": "2025-02-23T10:11:04.864419Z"
    },
    "papermill": {
     "duration": 0.014374,
     "end_time": "2025-02-23T10:11:04.867139",
     "exception": false,
     "start_time": "2025-02-23T10:11:04.852765",
     "status": "completed"
    },
    "tags": []
   },
   "outputs": [],
   "source": [
    "import matplotlib.pyplot as plt"
   ]
  },
  {
   "cell_type": "code",
   "execution_count": 10,
   "id": "8ff1d02e",
   "metadata": {
    "execution": {
     "iopub.execute_input": "2025-02-23T10:11:04.882045Z",
     "iopub.status.busy": "2025-02-23T10:11:04.881658Z",
     "iopub.status.idle": "2025-02-23T10:11:05.213861Z",
     "shell.execute_reply": "2025-02-23T10:11:05.212373Z"
    },
    "papermill": {
     "duration": 0.341531,
     "end_time": "2025-02-23T10:11:05.215690",
     "exception": false,
     "start_time": "2025-02-23T10:11:04.874159",
     "status": "completed"
    },
    "tags": []
   },
   "outputs": [
    {
     "data": {
      "text/plain": [
       "<matplotlib.collections.PathCollection at 0x7d67e67cf6a0>"
      ]
     },
     "execution_count": 10,
     "metadata": {},
     "output_type": "execute_result"
    },
    {
     "data": {
      "image/png": "[encoded data removed]",
      "text/plain": [
       "<Figure size 640x480 with 1 Axes>"
      ]
     },
     "metadata": {},
     "output_type": "display_data"
    }
   ],
   "source": [
    "plt.xlabel('Sepal Length')\n",
    "plt.ylabel('Sepal Width')\n",
    "plt.scatter(df0['sepal length (cm)'], df0['sepal width (cm)'],color=\"green\",marker='+')\n",
    "plt.scatter(df1['sepal length (cm)'], df1['sepal width (cm)'],color=\"blue\",marker='.')"
   ]
  },
  {
   "cell_type": "code",
   "execution_count": 11,
   "id": "1c3a7a69",
   "metadata": {
    "execution": {
     "iopub.execute_input": "2025-02-23T10:11:05.231471Z",
     "iopub.status.busy": "2025-02-23T10:11:05.231119Z",
     "iopub.status.idle": "2025-02-23T10:11:05.427810Z",
     "shell.execute_reply": "2025-02-23T10:11:05.426749Z"
    },
    "papermill": {
     "duration": 0.206778,
     "end_time": "2025-02-23T10:11:05.429783",
     "exception": false,
     "start_time": "2025-02-23T10:11:05.223005",
     "status": "completed"
    },
    "tags": []
   },
   "outputs": [
    {
     "data": {
      "text/plain": [
       "<matplotlib.collections.PathCollection at 0x7d67e6446380>"
      ]
     },
     "execution_count": 11,
     "metadata": {},
     "output_type": "execute_result"
    },
    {
     "data": {
      "image/png": "[encoded data removed]",
      "text/plain": [
       "<Figure size 640x480 with 1 Axes>"
      ]
     },
     "metadata": {},
     "output_type": "display_data"
    }
   ],
   "source": [
    "plt.xlabel(\"Petal Length\")\n",
    "plt.ylabel(\"Petal Width\")\n",
    "plt.scatter(df0[\"petal length (cm)\"],df0[\"petal width (cm)\"],color=\"Red\",marker=\"+\")\n",
    "plt.scatter(df1[\"petal length (cm)\"],df1[\"petal width (cm)\"],color=\"Blue\",marker=\".\")"
   ]
  },
  {
   "cell_type": "code",
   "execution_count": 12,
   "id": "8dfa7432",
   "metadata": {
    "execution": {
     "iopub.execute_input": "2025-02-23T10:11:05.446895Z",
     "iopub.status.busy": "2025-02-23T10:11:05.446475Z",
     "iopub.status.idle": "2025-02-23T10:11:05.595810Z",
     "shell.execute_reply": "2025-02-23T10:11:05.594879Z"
    },
    "papermill": {
     "duration": 0.160125,
     "end_time": "2025-02-23T10:11:05.597679",
     "exception": false,
     "start_time": "2025-02-23T10:11:05.437554",
     "status": "completed"
    },
    "tags": []
   },
   "outputs": [],
   "source": [
    "from sklearn.model_selection import train_test_split\n",
    "x = df.drop([\"target\",\"flower_name\"],axis = \"columns\")\n",
    "y = df[\"target\"]\n",
    "x_train , x_test , y_train , y_test = train_test_split(x,y,test_size=0.2)"
   ]
  },
  {
   "cell_type": "code",
   "execution_count": 13,
   "id": "dad39969",
   "metadata": {
    "execution": {
     "iopub.execute_input": "2025-02-23T10:11:05.614596Z",
     "iopub.status.busy": "2025-02-23T10:11:05.614214Z",
     "iopub.status.idle": "2025-02-23T10:11:05.748773Z",
     "shell.execute_reply": "2025-02-23T10:11:05.747877Z"
    },
    "papermill": {
     "duration": 0.145281,
     "end_time": "2025-02-23T10:11:05.750709",
     "exception": false,
     "start_time": "2025-02-23T10:11:05.605428",
     "status": "completed"
    },
    "tags": []
   },
   "outputs": [],
   "source": [
    "from sklearn.svm import SVC\n",
    "\n",
    "model = SVC()"
   ]
  },
  {
   "cell_type": "code",
   "execution_count": 14,
   "id": "46590719",
   "metadata": {
    "execution": {
     "iopub.execute_input": "2025-02-23T10:11:05.771660Z",
     "iopub.status.busy": "2025-02-23T10:11:05.771261Z",
     "iopub.status.idle": "2025-02-23T10:11:05.788436Z",
     "shell.execute_reply": "2025-02-23T10:11:05.787324Z"
    },
    "papermill": {
     "duration": 0.028641,
     "end_time": "2025-02-23T10:11:05.790392",
     "exception": false,
     "start_time": "2025-02-23T10:11:05.761751",
     "status": "completed"
    },
    "tags": []
   },
   "outputs": [
    {
     "data": {
      "text/html": [
       "<style>#sk-container-id-1 {color: black;background-color: white;}#sk-container-id-1 pre{padding: 0;}#sk-container-id-1 div.sk-toggleable {background-color: white;}#sk-container-id-1 label.sk-toggleable__label {cursor: pointer;display: block;width: 100%;margin-bottom: 0;padding: 0.3em;box-sizing: border-box;text-align: center;}#sk-container-id-1 label.sk-toggleable__label-arrow:before {content: \"▸\";float: left;margin-right: 0.25em;color: #696969;}#sk-container-id-1 label.sk-toggleable__label-arrow:hover:before {color: black;}#sk-container-id-1 div.sk-estimator:hover label.sk-toggleable__label-arrow:before {color: black;}#sk-container-id-1 div.sk-toggleable__content {max-height: 0;max-width: 0;overflow: hidden;text-align: left;background-color: #f0f8ff;}#sk-container-id-1 div.sk-toggleable__content pre {margin: 0.2em;color: black;border-radius: 0.25em;background-color: #f0f8ff;}#sk-container-id-1 input.sk-toggleable__control:checked~div.sk-toggleable__content {max-height: 200px;max-width: 100%;overflow: auto;}#sk-container-id-1 input.sk-toggleable__control:checked~label.sk-toggleable__label-arrow:before {content: \"▾\";}#sk-container-id-1 div.sk-estimator input.sk-toggleable__control:checked~label.sk-toggleable__label {background-color: #d4ebff;}#sk-container-id-1 div.sk-label input.sk-toggleable__control:checked~label.sk-toggleable__label {background-color: #d4ebff;}#sk-container-id-1 input.sk-hidden--visually {border: 0;clip: rect(1px 1px 1px 1px);clip: rect(1px, 1px, 1px, 1px);height: 1px;margin: -1px;overflow: hidden;padding: 0;position: absolute;width: 1px;}#sk-container-id-1 div.sk-estimator {font-family: monospace;background-color: #f0f8ff;border: 1px dotted black;border-radius: 0.25em;box-sizing: border-box;margin-bottom: 0.5em;}#sk-container-id-1 div.sk-estimator:hover {background-color: #d4ebff;}#sk-container-id-1 div.sk-parallel-item::after {content: \"\";width: 100%;border-bottom: 1px solid gray;flex-grow: 1;}#sk-container-id-1 div.sk-label:hover label.sk-toggleable__label {background-color: #d4ebff;}#sk-container-id-1 div.sk-serial::before {content: \"\";position: absolute;border-left: 1px solid gray;box-sizing: border-box;top: 0;bottom: 0;left: 50%;z-index: 0;}#sk-container-id-1 div.sk-serial {display: flex;flex-direction: column;align-items: center;background-color: white;padding-right: 0.2em;padding-left: 0.2em;position: relative;}#sk-container-id-1 div.sk-item {position: relative;z-index: 1;}#sk-container-id-1 div.sk-parallel {display: flex;align-items: stretch;justify-content: center;background-color: white;position: relative;}#sk-container-id-1 div.sk-item::before, #sk-container-id-1 div.sk-parallel-item::before {content: \"\";position: absolute;border-left: 1px solid gray;box-sizing: border-box;top: 0;bottom: 0;left: 50%;z-index: -1;}#sk-container-id-1 div.sk-parallel-item {display: flex;flex-direction: column;z-index: 1;position: relative;background-color: white;}#sk-container-id-1 div.sk-parallel-item:first-child::after {align-self: flex-end;width: 50%;}#sk-container-id-1 div.sk-parallel-item:last-child::after {align-self: flex-start;width: 50%;}#sk-container-id-1 div.sk-parallel-item:only-child::after {width: 0;}#sk-container-id-1 div.sk-dashed-wrapped {border: 1px dashed gray;margin: 0 0.4em 0.5em 0.4em;box-sizing: border-box;padding-bottom: 0.4em;background-color: white;}#sk-container-id-1 div.sk-label label {font-family: monospace;font-weight: bold;display: inline-block;line-height: 1.2em;}#sk-container-id-1 div.sk-label-container {text-align: center;}#sk-container-id-1 div.sk-container {/* jupyter's `normalize.less` sets `[hidden] { display: none; }` but bootstrap.min.css set `[hidden] { display: none !important; }` so we also need the `!important` here to be able to override the default hidden behavior on the sphinx rendered scikit-learn.org. See: https://github.com/scikit-learn/scikit-learn/issues/21755 */display: inline-block !important;position: relative;}#sk-container-id-1 div.sk-text-repr-fallback {display: none;}</style><div id=\"sk-container-id-1\" class=\"sk-top-container\"><div class=\"sk-text-repr-fallback\"><pre>SVC()</pre><b>In a Jupyter environment, please rerun this cell to show the HTML representation or trust the notebook. <br />On GitHub, the HTML representation is unable to render, please try loading this page with nbviewer.org.</b></div><div class=\"sk-container\" hidden><div class=\"sk-item\"><div class=\"sk-estimator sk-toggleable\"><input class=\"sk-toggleable__control sk-hidden--visually\" id=\"sk-estimator-id-1\" type=\"checkbox\" checked><label for=\"sk-estimator-id-1\" class=\"sk-toggleable__label sk-toggleable__label-arrow\">SVC</label><div class=\"sk-toggleable__content\"><pre>SVC()</pre></div></div></div></div></div>"
      ],
      "text/plain": [
       "SVC()"
      ]
     },
     "execution_count": 14,
     "metadata": {},
     "output_type": "execute_result"
    }
   ],
   "source": [
    "model.fit(x_train,y_train)"
   ]
  },
  {
   "cell_type": "code",
   "execution_count": 15,
   "id": "20a307dc",
   "metadata": {
    "execution": {
     "iopub.execute_input": "2025-02-23T10:11:05.808812Z",
     "iopub.status.busy": "2025-02-23T10:11:05.808431Z",
     "iopub.status.idle": "2025-02-23T10:11:05.817404Z",
     "shell.execute_reply": "2025-02-23T10:11:05.816305Z"
    },
    "papermill": {
     "duration": 0.020397,
     "end_time": "2025-02-23T10:11:05.819160",
     "exception": false,
     "start_time": "2025-02-23T10:11:05.798763",
     "status": "completed"
    },
    "tags": []
   },
   "outputs": [
    {
     "data": {
      "text/plain": [
       "0.9666666666666667"
      ]
     },
     "execution_count": 15,
     "metadata": {},
     "output_type": "execute_result"
    }
   ],
   "source": [
    "model.score(x_test , y_test)"
   ]
  },
  {
   "cell_type": "code",
   "execution_count": 16,
   "id": "b3d66fbe",
   "metadata": {
    "execution": {
     "iopub.execute_input": "2025-02-23T10:11:05.836752Z",
     "iopub.status.busy": "2025-02-23T10:11:05.836336Z",
     "iopub.status.idle": "2025-02-23T10:11:05.845571Z",
     "shell.execute_reply": "2025-02-23T10:11:05.844529Z"
    },
    "papermill": {
     "duration": 0.02001,
     "end_time": "2025-02-23T10:11:05.847415",
     "exception": false,
     "start_time": "2025-02-23T10:11:05.827405",
     "status": "completed"
    },
    "tags": []
   },
   "outputs": [
    {
     "data": {
      "text/plain": [
       "array([0])"
      ]
     },
     "execution_count": 16,
     "metadata": {},
     "output_type": "execute_result"
    }
   ],
   "source": [
    "d= pd.DataFrame([[4.8, 4, 1.5, 0.3]], columns=['sepal length (cm)', 'sepal width (cm)', 'petal length (cm)', 'petal width (cm)'])\n",
    "model.predict(d)"
   ]
  },
  {
   "cell_type": "markdown",
   "id": "76e575c5",
   "metadata": {
    "papermill": {
     "duration": 0.009279,
     "end_time": "2025-02-23T10:11:05.865478",
     "exception": false,
     "start_time": "2025-02-23T10:11:05.856199",
     "status": "completed"
    },
    "tags": []
   },
   "source": [
    "**Tune Parameter**"
   ]
  },
  {
   "cell_type": "markdown",
   "id": "3c10db32",
   "metadata": {
    "papermill": {
     "duration": 0.008123,
     "end_time": "2025-02-23T10:11:05.882242",
     "exception": false,
     "start_time": "2025-02-23T10:11:05.874119",
     "status": "completed"
    },
    "tags": []
   },
   "source": [
    "**1. Regularization (C)**"
   ]
  },
  {
   "cell_type": "code",
   "execution_count": 17,
   "id": "691635a4",
   "metadata": {
    "execution": {
     "iopub.execute_input": "2025-02-23T10:11:05.899514Z",
     "iopub.status.busy": "2025-02-23T10:11:05.899161Z",
     "iopub.status.idle": "2025-02-23T10:11:05.910027Z",
     "shell.execute_reply": "2025-02-23T10:11:05.909059Z"
    },
    "papermill": {
     "duration": 0.021558,
     "end_time": "2025-02-23T10:11:05.911871",
     "exception": false,
     "start_time": "2025-02-23T10:11:05.890313",
     "status": "completed"
    },
    "tags": []
   },
   "outputs": [
    {
     "data": {
      "text/plain": [
       "0.9666666666666667"
      ]
     },
     "execution_count": 17,
     "metadata": {},
     "output_type": "execute_result"
    }
   ],
   "source": [
    "model_C = SVC(C=1)\n",
    "model_C.fit(x_train, y_train)\n",
    "model_C.score(x_test, y_test)"
   ]
  },
  {
   "cell_type": "code",
   "execution_count": 18,
   "id": "b3936deb",
   "metadata": {
    "execution": {
     "iopub.execute_input": "2025-02-23T10:11:05.929689Z",
     "iopub.status.busy": "2025-02-23T10:11:05.929330Z",
     "iopub.status.idle": "2025-02-23T10:11:05.941199Z",
     "shell.execute_reply": "2025-02-23T10:11:05.940086Z"
    },
    "papermill": {
     "duration": 0.022683,
     "end_time": "2025-02-23T10:11:05.942994",
     "exception": false,
     "start_time": "2025-02-23T10:11:05.920311",
     "status": "completed"
    },
    "tags": []
   },
   "outputs": [
    {
     "data": {
      "text/plain": [
       "1.0"
      ]
     },
     "execution_count": 18,
     "metadata": {},
     "output_type": "execute_result"
    }
   ],
   "source": [
    "model_C = SVC(C=10)\n",
    "model_C.fit(x_train, y_train)\n",
    "model_C.score(x_test, y_test)"
   ]
  },
  {
   "cell_type": "code",
   "execution_count": 19,
   "id": "f718d186",
   "metadata": {
    "execution": {
     "iopub.execute_input": "2025-02-23T10:11:05.961035Z",
     "iopub.status.busy": "2025-02-23T10:11:05.960631Z",
     "iopub.status.idle": "2025-02-23T10:11:05.972073Z",
     "shell.execute_reply": "2025-02-23T10:11:05.970950Z"
    },
    "papermill": {
     "duration": 0.022421,
     "end_time": "2025-02-23T10:11:05.973888",
     "exception": false,
     "start_time": "2025-02-23T10:11:05.951467",
     "status": "completed"
    },
    "tags": []
   },
   "outputs": [
    {
     "data": {
      "text/plain": [
       "0.9333333333333333"
      ]
     },
     "execution_count": 19,
     "metadata": {},
     "output_type": "execute_result"
    }
   ],
   "source": [
    "model_C = SVC(C=100)\n",
    "model_C.fit(x_train, y_train)\n",
    "model_C.score(x_test, y_test)"
   ]
  },
  {
   "cell_type": "markdown",
   "id": "984837c6",
   "metadata": {
    "papermill": {
     "duration": 0.008152,
     "end_time": "2025-02-23T10:11:05.991130",
     "exception": false,
     "start_time": "2025-02-23T10:11:05.982978",
     "status": "completed"
    },
    "tags": []
   },
   "source": [
    "**2. Gamma**"
   ]
  },
  {
   "cell_type": "code",
   "execution_count": 20,
   "id": "f8b63105",
   "metadata": {
    "execution": {
     "iopub.execute_input": "2025-02-23T10:11:06.009328Z",
     "iopub.status.busy": "2025-02-23T10:11:06.008942Z",
     "iopub.status.idle": "2025-02-23T10:11:06.021000Z",
     "shell.execute_reply": "2025-02-23T10:11:06.019894Z"
    },
    "papermill": {
     "duration": 0.023409,
     "end_time": "2025-02-23T10:11:06.022937",
     "exception": false,
     "start_time": "2025-02-23T10:11:05.999528",
     "status": "completed"
    },
    "tags": []
   },
   "outputs": [
    {
     "data": {
      "text/plain": [
       "0.8666666666666667"
      ]
     },
     "execution_count": 20,
     "metadata": {},
     "output_type": "execute_result"
    }
   ],
   "source": [
    "model_g = SVC(gamma=10)\n",
    "model_g.fit(x_train, y_train)\n",
    "model_g.score(x_test, y_test)"
   ]
  },
  {
   "cell_type": "code",
   "execution_count": 21,
   "id": "e5792c06",
   "metadata": {
    "execution": {
     "iopub.execute_input": "2025-02-23T10:11:06.042170Z",
     "iopub.status.busy": "2025-02-23T10:11:06.041780Z",
     "iopub.status.idle": "2025-02-23T10:11:06.053903Z",
     "shell.execute_reply": "2025-02-23T10:11:06.052954Z"
    },
    "papermill": {
     "duration": 0.023572,
     "end_time": "2025-02-23T10:11:06.055582",
     "exception": false,
     "start_time": "2025-02-23T10:11:06.032010",
     "status": "completed"
    },
    "tags": []
   },
   "outputs": [
    {
     "data": {
      "text/plain": [
       "0.5666666666666667"
      ]
     },
     "execution_count": 21,
     "metadata": {},
     "output_type": "execute_result"
    }
   ],
   "source": [
    "model_g = SVC(gamma=100)\n",
    "model_g.fit(x_train, y_train)\n",
    "model_g.score(x_test, y_test)"
   ]
  },
  {
   "cell_type": "code",
   "execution_count": 22,
   "id": "35352c53",
   "metadata": {
    "execution": {
     "iopub.execute_input": "2025-02-23T10:11:06.074842Z",
     "iopub.status.busy": "2025-02-23T10:11:06.074450Z",
     "iopub.status.idle": "2025-02-23T10:11:06.085726Z",
     "shell.execute_reply": "2025-02-23T10:11:06.084644Z"
    },
    "papermill": {
     "duration": 0.023306,
     "end_time": "2025-02-23T10:11:06.087691",
     "exception": false,
     "start_time": "2025-02-23T10:11:06.064385",
     "status": "completed"
    },
    "tags": []
   },
   "outputs": [
    {
     "data": {
      "text/plain": [
       "1.0"
      ]
     },
     "execution_count": 22,
     "metadata": {},
     "output_type": "execute_result"
    }
   ],
   "source": [
    "model_g = SVC(gamma=1)\n",
    "model_g.fit(x_train, y_train)\n",
    "model_g.score(x_test, y_test)\n"
   ]
  },
  {
   "cell_type": "markdown",
   "id": "ed46eed5",
   "metadata": {
    "papermill": {
     "duration": 0.008198,
     "end_time": "2025-02-23T10:11:06.104795",
     "exception": false,
     "start_time": "2025-02-23T10:11:06.096597",
     "status": "completed"
    },
    "tags": []
   },
   "source": [
    "**3. Kernel**"
   ]
  },
  {
   "cell_type": "code",
   "execution_count": 23,
   "id": "5e7ca81e",
   "metadata": {
    "execution": {
     "iopub.execute_input": "2025-02-23T10:11:06.123238Z",
     "iopub.status.busy": "2025-02-23T10:11:06.122885Z",
     "iopub.status.idle": "2025-02-23T10:11:06.133309Z",
     "shell.execute_reply": "2025-02-23T10:11:06.132367Z"
    },
    "papermill": {
     "duration": 0.021633,
     "end_time": "2025-02-23T10:11:06.134972",
     "exception": false,
     "start_time": "2025-02-23T10:11:06.113339",
     "status": "completed"
    },
    "tags": []
   },
   "outputs": [
    {
     "data": {
      "text/plain": [
       "1.0"
      ]
     },
     "execution_count": 23,
     "metadata": {},
     "output_type": "execute_result"
    }
   ],
   "source": [
    "model_linear_kernal = SVC(kernel='linear')\n",
    "model_linear_kernal.fit(x_train, y_train)\n",
    "model_linear_kernal.score(x_test, y_test)"
   ]
  },
  {
   "cell_type": "markdown",
   "id": "60834b84",
   "metadata": {
    "papermill": {
     "duration": 0.008602,
     "end_time": "2025-02-23T10:11:06.152649",
     "exception": false,
     "start_time": "2025-02-23T10:11:06.144047",
     "status": "completed"
    },
    "tags": []
   },
   "source": [
    "**Exercise**\n",
    "\n",
    "Train SVM classifier using sklearn digits dataset (i.e. from sklearn.datasets import load_digits) and then,\n",
    "\n",
    "1.Measure accuracy of your model using different kernels such as rbf and linear.\n",
    "\n",
    "2.Tune your model further using regularization and gamma parameters and try to come up with highest accurancy score\n",
    "\n",
    "3.Use 80% of samples as training data size"
   ]
  },
  {
   "cell_type": "code",
   "execution_count": 24,
   "id": "8ec67756",
   "metadata": {
    "execution": {
     "iopub.execute_input": "2025-02-23T10:11:06.171653Z",
     "iopub.status.busy": "2025-02-23T10:11:06.171116Z",
     "iopub.status.idle": "2025-02-23T10:11:06.190022Z",
     "shell.execute_reply": "2025-02-23T10:11:06.188941Z"
    },
    "papermill": {
     "duration": 0.030538,
     "end_time": "2025-02-23T10:11:06.191929",
     "exception": false,
     "start_time": "2025-02-23T10:11:06.161391",
     "status": "completed"
    },
    "tags": []
   },
   "outputs": [],
   "source": [
    "from sklearn.datasets import load_digits\n",
    "\n",
    "digit = load_digits()"
   ]
  },
  {
   "cell_type": "code",
   "execution_count": 25,
   "id": "6759575f",
   "metadata": {
    "execution": {
     "iopub.execute_input": "2025-02-23T10:11:06.211176Z",
     "iopub.status.busy": "2025-02-23T10:11:06.210806Z",
     "iopub.status.idle": "2025-02-23T10:11:06.217064Z",
     "shell.execute_reply": "2025-02-23T10:11:06.216018Z"
    },
    "papermill": {
     "duration": 0.017688,
     "end_time": "2025-02-23T10:11:06.218677",
     "exception": false,
     "start_time": "2025-02-23T10:11:06.200989",
     "status": "completed"
    },
    "tags": []
   },
   "outputs": [
    {
     "data": {
      "text/plain": [
       "['DESCR', 'data', 'feature_names', 'frame', 'images', 'target', 'target_names']"
      ]
     },
     "execution_count": 25,
     "metadata": {},
     "output_type": "execute_result"
    }
   ],
   "source": [
    "dir(digit)"
   ]
  },
  {
   "cell_type": "code",
   "execution_count": null,
   "id": "0c8f0d9c",
   "metadata": {
    "papermill": {
     "duration": 0.00848,
     "end_time": "2025-02-23T10:11:06.236197",
     "exception": false,
     "start_time": "2025-02-23T10:11:06.227717",
     "status": "completed"
    },
    "tags": []
   },
   "outputs": [],
   "source": []
  },
  {
   "cell_type": "code",
   "execution_count": null,
   "id": "4eacfa73",
   "metadata": {
    "papermill": {
     "duration": 0.00874,
     "end_time": "2025-02-23T10:11:06.253884",
     "exception": false,
     "start_time": "2025-02-23T10:11:06.245144",
     "status": "completed"
    },
    "tags": []
   },
   "outputs": [],
   "source": []
  }
 ],
 "metadata": {
  "kaggle": {
   "accelerator": "none",
   "dataSources": [],
   "dockerImageVersionId": 30918,
   "isGpuEnabled": false,
   "isInternetEnabled": false,
   "language": "python",
   "sourceType": "notebook"
  },
  "kernelspec": {
   "display_name": "Python 3",
   "language": "python",
   "name": "python3"
  },
  "language_info": {
   "codemirror_mode": {
    "name": "ipython",
    "version": 3
   },
   "file_extension": ".py",
   "mimetype": "text/x-python",
   "name": "python",
   "nbconvert_exporter": "python",
   "pygments_lexer": "ipython3",
   "version": "3.10.12"
  },
  "papermill": {
   "default_parameters": {},
   "duration": 8.203675,
   "end_time": "2025-02-23T10:11:07.083806",
   "environment_variables": {},
   "exception": null,
   "input_path": "__notebook__.ipynb",
   "output_path": "__notebook__.ipynb",
   "parameters": {},
   "start_time": "2025-02-23T10:10:58.880131",
   "version": "2.6.0"
  }
 },
 "nbformat": 4,
 "nbformat_minor": 5
}
