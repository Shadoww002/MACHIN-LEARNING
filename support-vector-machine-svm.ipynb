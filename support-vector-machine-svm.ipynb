{
 "cells": [
  {
   "cell_type": "code",
   "execution_count": 1,
   "id": "9a083a7d",
   "metadata": {
    "_cell_guid": "b1076dfc-b9ad-4769-8c92-a6c4dae69d19",
    "_uuid": "8f2839f25d086af736a60e9eeb907d3b93b6e0e5",
    "execution": {
     "iopub.execute_input": "2025-02-23T10:35:43.444262Z",
     "iopub.status.busy": "2025-02-23T10:35:43.443891Z",
     "iopub.status.idle": "2025-02-23T10:35:44.526018Z",
     "shell.execute_reply": "2025-02-23T10:35:44.524844Z"
    },
    "papermill": {
     "duration": 1.095875,
     "end_time": "2025-02-23T10:35:44.528294",
     "exception": false,
     "start_time": "2025-02-23T10:35:43.432419",
     "status": "completed"
    },
    "tags": []
   },
   "outputs": [],
   "source": [
    "# This Python 3 environment comes with many helpful analytics libraries installed\n",
    "# It is defined by the kaggle/python Docker image: https://github.com/kaggle/docker-python\n",
    "# For example, here's several helpful packages to load\n",
    "\n",
    "import numpy as np # linear algebra\n",
    "import pandas as pd # data processing, CSV file I/O (e.g. pd.read_csv)\n",
    "\n",
    "# Input data files are available in the read-only \"../input/\" directory\n",
    "# For example, running this (by clicking run or pressing Shift+Enter) will list all files under the input directory\n",
    "\n",
    "import os\n",
    "for dirname, _, filenames in os.walk('/kaggle/input'):\n",
    "    for filename in filenames:\n",
    "        print(os.path.join(dirname, filename))\n",
    "\n",
    "# You can write up to 20GB to the current directory (/kaggle/working/) that gets preserved as output when you create a version using \"Save & Run All\" \n",
    "# You can also write temporary files to /kaggle/temp/, but they won't be saved outside of the current session"
   ]
  },
  {
   "cell_type": "code",
   "execution_count": 2,
   "id": "d6a0d9b6",
   "metadata": {
    "execution": {
     "iopub.execute_input": "2025-02-23T10:35:44.548821Z",
     "iopub.status.busy": "2025-02-23T10:35:44.548305Z",
     "iopub.status.idle": "2025-02-23T10:35:46.234690Z",
     "shell.execute_reply": "2025-02-23T10:35:46.233355Z"
    },
    "papermill": {
     "duration": 1.698502,
     "end_time": "2025-02-23T10:35:46.236807",
     "exception": false,
     "start_time": "2025-02-23T10:35:44.538305",
     "status": "completed"
    },
    "tags": []
   },
   "outputs": [
    {
     "data": {
      "text/plain": [
       "['DESCR',\n",
       " 'data',\n",
       " 'data_module',\n",
       " 'feature_names',\n",
       " 'filename',\n",
       " 'frame',\n",
       " 'target',\n",
       " 'target_names']"
      ]
     },
     "execution_count": 2,
     "metadata": {},
     "output_type": "execute_result"
    }
   ],
   "source": [
    "from sklearn.datasets import load_iris\n",
    "data = load_iris()\n",
    "dir(data)"
   ]
  },
  {
   "cell_type": "code",
   "execution_count": 3,
   "id": "1cac3413",
   "metadata": {
    "execution": {
     "iopub.execute_input": "2025-02-23T10:35:46.256028Z",
     "iopub.status.busy": "2025-02-23T10:35:46.255283Z",
     "iopub.status.idle": "2025-02-23T10:35:46.262519Z",
     "shell.execute_reply": "2025-02-23T10:35:46.261340Z"
    },
    "papermill": {
     "duration": 0.019127,
     "end_time": "2025-02-23T10:35:46.264667",
     "exception": false,
     "start_time": "2025-02-23T10:35:46.245540",
     "status": "completed"
    },
    "tags": []
   },
   "outputs": [
    {
     "data": {
      "text/plain": [
       "['sepal length (cm)',\n",
       " 'sepal width (cm)',\n",
       " 'petal length (cm)',\n",
       " 'petal width (cm)']"
      ]
     },
     "execution_count": 3,
     "metadata": {},
     "output_type": "execute_result"
    }
   ],
   "source": [
    "data.feature_names"
   ]
  },
  {
   "cell_type": "code",
   "execution_count": 4,
   "id": "e3ec99c7",
   "metadata": {
    "execution": {
     "iopub.execute_input": "2025-02-23T10:35:46.284987Z",
     "iopub.status.busy": "2025-02-23T10:35:46.284561Z",
     "iopub.status.idle": "2025-02-23T10:35:46.320910Z",
     "shell.execute_reply": "2025-02-23T10:35:46.319503Z"
    },
    "papermill": {
     "duration": 0.04873,
     "end_time": "2025-02-23T10:35:46.323099",
     "exception": false,
     "start_time": "2025-02-23T10:35:46.274369",
     "status": "completed"
    },
    "tags": []
   },
   "outputs": [
    {
     "data": {
      "text/html": [
       "<div>\n",
       "<style scoped>\n",
       "    .dataframe tbody tr th:only-of-type {\n",
       "        vertical-align: middle;\n",
       "    }\n",
       "\n",
       "    .dataframe tbody tr th {\n",
       "        vertical-align: top;\n",
       "    }\n",
       "\n",
       "    .dataframe thead th {\n",
       "        text-align: right;\n",
       "    }\n",
       "</style>\n",
       "<table border=\"1\" class=\"dataframe\">\n",
       "  <thead>\n",
       "    <tr style=\"text-align: right;\">\n",
       "      <th></th>\n",
       "      <th>sepal length (cm)</th>\n",
       "      <th>sepal width (cm)</th>\n",
       "      <th>petal length (cm)</th>\n",
       "      <th>petal width (cm)</th>\n",
       "    </tr>\n",
       "  </thead>\n",
       "  <tbody>\n",
       "    <tr>\n",
       "      <th>0</th>\n",
       "      <td>5.1</td>\n",
       "      <td>3.5</td>\n",
       "      <td>1.4</td>\n",
       "      <td>0.2</td>\n",
       "    </tr>\n",
       "    <tr>\n",
       "      <th>1</th>\n",
       "      <td>4.9</td>\n",
       "      <td>3.0</td>\n",
       "      <td>1.4</td>\n",
       "      <td>0.2</td>\n",
       "    </tr>\n",
       "    <tr>\n",
       "      <th>2</th>\n",
       "      <td>4.7</td>\n",
       "      <td>3.2</td>\n",
       "      <td>1.3</td>\n",
       "      <td>0.2</td>\n",
       "    </tr>\n",
       "    <tr>\n",
       "      <th>3</th>\n",
       "      <td>4.6</td>\n",
       "      <td>3.1</td>\n",
       "      <td>1.5</td>\n",
       "      <td>0.2</td>\n",
       "    </tr>\n",
       "    <tr>\n",
       "      <th>4</th>\n",
       "      <td>5.0</td>\n",
       "      <td>3.6</td>\n",
       "      <td>1.4</td>\n",
       "      <td>0.2</td>\n",
       "    </tr>\n",
       "  </tbody>\n",
       "</table>\n",
       "</div>"
      ],
      "text/plain": [
       "   sepal length (cm)  sepal width (cm)  petal length (cm)  petal width (cm)\n",
       "0                5.1               3.5                1.4               0.2\n",
       "1                4.9               3.0                1.4               0.2\n",
       "2                4.7               3.2                1.3               0.2\n",
       "3                4.6               3.1                1.5               0.2\n",
       "4                5.0               3.6                1.4               0.2"
      ]
     },
     "execution_count": 4,
     "metadata": {},
     "output_type": "execute_result"
    }
   ],
   "source": [
    "df = pd.DataFrame(data.data,columns =data.feature_names)\n",
    "df.head()"
   ]
  },
  {
   "cell_type": "code",
   "execution_count": 5,
   "id": "c8889f74",
   "metadata": {
    "execution": {
     "iopub.execute_input": "2025-02-23T10:35:46.342196Z",
     "iopub.status.busy": "2025-02-23T10:35:46.341827Z",
     "iopub.status.idle": "2025-02-23T10:35:46.354959Z",
     "shell.execute_reply": "2025-02-23T10:35:46.353564Z"
    },
    "papermill": {
     "duration": 0.024881,
     "end_time": "2025-02-23T10:35:46.356891",
     "exception": false,
     "start_time": "2025-02-23T10:35:46.332010",
     "status": "completed"
    },
    "tags": []
   },
   "outputs": [
    {
     "data": {
      "text/html": [
       "<div>\n",
       "<style scoped>\n",
       "    .dataframe tbody tr th:only-of-type {\n",
       "        vertical-align: middle;\n",
       "    }\n",
       "\n",
       "    .dataframe tbody tr th {\n",
       "        vertical-align: top;\n",
       "    }\n",
       "\n",
       "    .dataframe thead th {\n",
       "        text-align: right;\n",
       "    }\n",
       "</style>\n",
       "<table border=\"1\" class=\"dataframe\">\n",
       "  <thead>\n",
       "    <tr style=\"text-align: right;\">\n",
       "      <th></th>\n",
       "      <th>sepal length (cm)</th>\n",
       "      <th>sepal width (cm)</th>\n",
       "      <th>petal length (cm)</th>\n",
       "      <th>petal width (cm)</th>\n",
       "      <th>target</th>\n",
       "    </tr>\n",
       "  </thead>\n",
       "  <tbody>\n",
       "    <tr>\n",
       "      <th>0</th>\n",
       "      <td>5.1</td>\n",
       "      <td>3.5</td>\n",
       "      <td>1.4</td>\n",
       "      <td>0.2</td>\n",
       "      <td>0</td>\n",
       "    </tr>\n",
       "    <tr>\n",
       "      <th>1</th>\n",
       "      <td>4.9</td>\n",
       "      <td>3.0</td>\n",
       "      <td>1.4</td>\n",
       "      <td>0.2</td>\n",
       "      <td>0</td>\n",
       "    </tr>\n",
       "    <tr>\n",
       "      <th>2</th>\n",
       "      <td>4.7</td>\n",
       "      <td>3.2</td>\n",
       "      <td>1.3</td>\n",
       "      <td>0.2</td>\n",
       "      <td>0</td>\n",
       "    </tr>\n",
       "    <tr>\n",
       "      <th>3</th>\n",
       "      <td>4.6</td>\n",
       "      <td>3.1</td>\n",
       "      <td>1.5</td>\n",
       "      <td>0.2</td>\n",
       "      <td>0</td>\n",
       "    </tr>\n",
       "    <tr>\n",
       "      <th>4</th>\n",
       "      <td>5.0</td>\n",
       "      <td>3.6</td>\n",
       "      <td>1.4</td>\n",
       "      <td>0.2</td>\n",
       "      <td>0</td>\n",
       "    </tr>\n",
       "  </tbody>\n",
       "</table>\n",
       "</div>"
      ],
      "text/plain": [
       "   sepal length (cm)  sepal width (cm)  petal length (cm)  petal width (cm)  \\\n",
       "0                5.1               3.5                1.4               0.2   \n",
       "1                4.9               3.0                1.4               0.2   \n",
       "2                4.7               3.2                1.3               0.2   \n",
       "3                4.6               3.1                1.5               0.2   \n",
       "4                5.0               3.6                1.4               0.2   \n",
       "\n",
       "   target  \n",
       "0       0  \n",
       "1       0  \n",
       "2       0  \n",
       "3       0  \n",
       "4       0  "
      ]
     },
     "execution_count": 5,
     "metadata": {},
     "output_type": "execute_result"
    }
   ],
   "source": [
    "df[\"target\"] = data.target\n",
    "df.head()"
   ]
  },
  {
   "cell_type": "code",
   "execution_count": 6,
   "id": "70788ca2",
   "metadata": {
    "execution": {
     "iopub.execute_input": "2025-02-23T10:35:46.375787Z",
     "iopub.status.busy": "2025-02-23T10:35:46.375315Z",
     "iopub.status.idle": "2025-02-23T10:35:46.382142Z",
     "shell.execute_reply": "2025-02-23T10:35:46.380828Z"
    },
    "papermill": {
     "duration": 0.018659,
     "end_time": "2025-02-23T10:35:46.384327",
     "exception": false,
     "start_time": "2025-02-23T10:35:46.365668",
     "status": "completed"
    },
    "tags": []
   },
   "outputs": [],
   "source": [
    "df[\"flower_name\"] = df.target.apply(lambda x : data.target_names[x])"
   ]
  },
  {
   "cell_type": "code",
   "execution_count": 7,
   "id": "f209a8ed",
   "metadata": {
    "execution": {
     "iopub.execute_input": "2025-02-23T10:35:46.402912Z",
     "iopub.status.busy": "2025-02-23T10:35:46.402468Z",
     "iopub.status.idle": "2025-02-23T10:35:46.416942Z",
     "shell.execute_reply": "2025-02-23T10:35:46.415467Z"
    },
    "papermill": {
     "duration": 0.026326,
     "end_time": "2025-02-23T10:35:46.419077",
     "exception": false,
     "start_time": "2025-02-23T10:35:46.392751",
     "status": "completed"
    },
    "tags": []
   },
   "outputs": [
    {
     "data": {
      "text/html": [
       "<div>\n",
       "<style scoped>\n",
       "    .dataframe tbody tr th:only-of-type {\n",
       "        vertical-align: middle;\n",
       "    }\n",
       "\n",
       "    .dataframe tbody tr th {\n",
       "        vertical-align: top;\n",
       "    }\n",
       "\n",
       "    .dataframe thead th {\n",
       "        text-align: right;\n",
       "    }\n",
       "</style>\n",
       "<table border=\"1\" class=\"dataframe\">\n",
       "  <thead>\n",
       "    <tr style=\"text-align: right;\">\n",
       "      <th></th>\n",
       "      <th>sepal length (cm)</th>\n",
       "      <th>sepal width (cm)</th>\n",
       "      <th>petal length (cm)</th>\n",
       "      <th>petal width (cm)</th>\n",
       "      <th>target</th>\n",
       "      <th>flower_name</th>\n",
       "    </tr>\n",
       "  </thead>\n",
       "  <tbody>\n",
       "    <tr>\n",
       "      <th>0</th>\n",
       "      <td>5.1</td>\n",
       "      <td>3.5</td>\n",
       "      <td>1.4</td>\n",
       "      <td>0.2</td>\n",
       "      <td>0</td>\n",
       "      <td>setosa</td>\n",
       "    </tr>\n",
       "    <tr>\n",
       "      <th>1</th>\n",
       "      <td>4.9</td>\n",
       "      <td>3.0</td>\n",
       "      <td>1.4</td>\n",
       "      <td>0.2</td>\n",
       "      <td>0</td>\n",
       "      <td>setosa</td>\n",
       "    </tr>\n",
       "    <tr>\n",
       "      <th>2</th>\n",
       "      <td>4.7</td>\n",
       "      <td>3.2</td>\n",
       "      <td>1.3</td>\n",
       "      <td>0.2</td>\n",
       "      <td>0</td>\n",
       "      <td>setosa</td>\n",
       "    </tr>\n",
       "    <tr>\n",
       "      <th>3</th>\n",
       "      <td>4.6</td>\n",
       "      <td>3.1</td>\n",
       "      <td>1.5</td>\n",
       "      <td>0.2</td>\n",
       "      <td>0</td>\n",
       "      <td>setosa</td>\n",
       "    </tr>\n",
       "    <tr>\n",
       "      <th>4</th>\n",
       "      <td>5.0</td>\n",
       "      <td>3.6</td>\n",
       "      <td>1.4</td>\n",
       "      <td>0.2</td>\n",
       "      <td>0</td>\n",
       "      <td>setosa</td>\n",
       "    </tr>\n",
       "  </tbody>\n",
       "</table>\n",
       "</div>"
      ],
      "text/plain": [
       "   sepal length (cm)  sepal width (cm)  petal length (cm)  petal width (cm)  \\\n",
       "0                5.1               3.5                1.4               0.2   \n",
       "1                4.9               3.0                1.4               0.2   \n",
       "2                4.7               3.2                1.3               0.2   \n",
       "3                4.6               3.1                1.5               0.2   \n",
       "4                5.0               3.6                1.4               0.2   \n",
       "\n",
       "   target flower_name  \n",
       "0       0      setosa  \n",
       "1       0      setosa  \n",
       "2       0      setosa  \n",
       "3       0      setosa  \n",
       "4       0      setosa  "
      ]
     },
     "execution_count": 7,
     "metadata": {},
     "output_type": "execute_result"
    }
   ],
   "source": [
    "df.head()"
   ]
  },
  {
   "cell_type": "code",
   "execution_count": 8,
   "id": "2dc79304",
   "metadata": {
    "execution": {
     "iopub.execute_input": "2025-02-23T10:35:46.438886Z",
     "iopub.status.busy": "2025-02-23T10:35:46.438507Z",
     "iopub.status.idle": "2025-02-23T10:35:46.444143Z",
     "shell.execute_reply": "2025-02-23T10:35:46.442590Z"
    },
    "papermill": {
     "duration": 0.017693,
     "end_time": "2025-02-23T10:35:46.446097",
     "exception": false,
     "start_time": "2025-02-23T10:35:46.428404",
     "status": "completed"
    },
    "tags": []
   },
   "outputs": [],
   "source": [
    "df0 = df[:50]\n",
    "df1 = df[50:100]\n",
    "df2 = df[100:150]"
   ]
  },
  {
   "cell_type": "code",
   "execution_count": 9,
   "id": "2f2b729e",
   "metadata": {
    "execution": {
     "iopub.execute_input": "2025-02-23T10:35:46.465868Z",
     "iopub.status.busy": "2025-02-23T10:35:46.465393Z",
     "iopub.status.idle": "2025-02-23T10:35:46.470348Z",
     "shell.execute_reply": "2025-02-23T10:35:46.469191Z"
    },
    "papermill": {
     "duration": 0.016481,
     "end_time": "2025-02-23T10:35:46.472177",
     "exception": false,
     "start_time": "2025-02-23T10:35:46.455696",
     "status": "completed"
    },
    "tags": []
   },
   "outputs": [],
   "source": [
    "import matplotlib.pyplot as plt"
   ]
  },
  {
   "cell_type": "code",
   "execution_count": 10,
   "id": "f4e2087d",
   "metadata": {
    "execution": {
     "iopub.execute_input": "2025-02-23T10:35:46.491724Z",
     "iopub.status.busy": "2025-02-23T10:35:46.491331Z",
     "iopub.status.idle": "2025-02-23T10:35:46.807782Z",
     "shell.execute_reply": "2025-02-23T10:35:46.806259Z"
    },
    "papermill": {
     "duration": 0.328379,
     "end_time": "2025-02-23T10:35:46.809752",
     "exception": false,
     "start_time": "2025-02-23T10:35:46.481373",
     "status": "completed"
    },
    "tags": []
   },
   "outputs": [
    {
     "data": {
      "text/plain": [
       "<matplotlib.collections.PathCollection at 0x79165a4276a0>"
      ]
     },
     "execution_count": 10,
     "metadata": {},
     "output_type": "execute_result"
    },
    {
     "data": {
      "image/png": "[encoded data removed]",
      "text/plain": [
       "<Figure size 640x480 with 1 Axes>"
      ]
     },
     "metadata": {},
     "output_type": "display_data"
    }
   ],
   "source": [
    "plt.xlabel('Sepal Length')\n",
    "plt.ylabel('Sepal Width')\n",
    "plt.scatter(df0['sepal length (cm)'], df0['sepal width (cm)'],color=\"green\",marker='+')\n",
    "plt.scatter(df1['sepal length (cm)'], df1['sepal width (cm)'],color=\"blue\",marker='.')"
   ]
  },
  {
   "cell_type": "code",
   "execution_count": 11,
   "id": "c5d7af6c",
   "metadata": {
    "execution": {
     "iopub.execute_input": "2025-02-23T10:35:46.829386Z",
     "iopub.status.busy": "2025-02-23T10:35:46.829042Z",
     "iopub.status.idle": "2025-02-23T10:35:47.060889Z",
     "shell.execute_reply": "2025-02-23T10:35:47.059214Z"
    },
    "papermill": {
     "duration": 0.244391,
     "end_time": "2025-02-23T10:35:47.063397",
     "exception": false,
     "start_time": "2025-02-23T10:35:46.819006",
     "status": "completed"
    },
    "tags": []
   },
   "outputs": [
    {
     "data": {
      "text/plain": [
       "<matplotlib.collections.PathCollection at 0x79165a355c90>"
      ]
     },
     "execution_count": 11,
     "metadata": {},
     "output_type": "execute_result"
    },
    {
     "data": {
      "image/png": "[encoded data removed]",
      "text/plain": [
       "<Figure size 640x480 with 1 Axes>"
      ]
     },
     "metadata": {},
     "output_type": "display_data"
    }
   ],
   "source": [
    "plt.xlabel(\"Petal Length\")\n",
    "plt.ylabel(\"Petal Width\")\n",
    "plt.scatter(df0[\"petal length (cm)\"],df0[\"petal width (cm)\"],color=\"Red\",marker=\"+\")\n",
    "plt.scatter(df1[\"petal length (cm)\"],df1[\"petal width (cm)\"],color=\"Blue\",marker=\".\")"
   ]
  },
  {
   "cell_type": "code",
   "execution_count": 12,
   "id": "7437462d",
   "metadata": {
    "execution": {
     "iopub.execute_input": "2025-02-23T10:35:47.085294Z",
     "iopub.status.busy": "2025-02-23T10:35:47.084869Z",
     "iopub.status.idle": "2025-02-23T10:35:47.249989Z",
     "shell.execute_reply": "2025-02-23T10:35:47.248415Z"
    },
    "papermill": {
     "duration": 0.178736,
     "end_time": "2025-02-23T10:35:47.252051",
     "exception": false,
     "start_time": "2025-02-23T10:35:47.073315",
     "status": "completed"
    },
    "tags": []
   },
   "outputs": [],
   "source": [
    "from sklearn.model_selection import train_test_split\n",
    "x = df.drop([\"target\",\"flower_name\"],axis = \"columns\")\n",
    "y = df[\"target\"]\n",
    "x_train , x_test , y_train , y_test = train_test_split(x,y,test_size=0.2)"
   ]
  },
  {
   "cell_type": "code",
   "execution_count": 13,
   "id": "64892b0b",
   "metadata": {
    "execution": {
     "iopub.execute_input": "2025-02-23T10:35:47.280341Z",
     "iopub.status.busy": "2025-02-23T10:35:47.279983Z",
     "iopub.status.idle": "2025-02-23T10:35:47.448316Z",
     "shell.execute_reply": "2025-02-23T10:35:47.445896Z"
    },
    "papermill": {
     "duration": 0.18474,
     "end_time": "2025-02-23T10:35:47.451213",
     "exception": false,
     "start_time": "2025-02-23T10:35:47.266473",
     "status": "completed"
    },
    "tags": []
   },
   "outputs": [],
   "source": [
    "from sklearn.svm import SVC\n",
    "\n",
    "model = SVC()"
   ]
  },
  {
   "cell_type": "code",
   "execution_count": 14,
   "id": "1d9d8cb7",
   "metadata": {
    "execution": {
     "iopub.execute_input": "2025-02-23T10:35:47.477388Z",
     "iopub.status.busy": "2025-02-23T10:35:47.477051Z",
     "iopub.status.idle": "2025-02-23T10:35:47.499266Z",
     "shell.execute_reply": "2025-02-23T10:35:47.498072Z"
    },
    "papermill": {
     "duration": 0.039263,
     "end_time": "2025-02-23T10:35:47.501893",
     "exception": false,
     "start_time": "2025-02-23T10:35:47.462630",
     "status": "completed"
    },
    "tags": []
   },
   "outputs": [
    {
     "data": {
      "text/html": [
       "<style>#sk-container-id-1 {color: black;background-color: white;}#sk-container-id-1 pre{padding: 0;}#sk-container-id-1 div.sk-toggleable {background-color: white;}#sk-container-id-1 label.sk-toggleable__label {cursor: pointer;display: block;width: 100%;margin-bottom: 0;padding: 0.3em;box-sizing: border-box;text-align: center;}#sk-container-id-1 label.sk-toggleable__label-arrow:before {content: \"▸\";float: left;margin-right: 0.25em;color: #696969;}#sk-container-id-1 label.sk-toggleable__label-arrow:hover:before {color: black;}#sk-container-id-1 div.sk-estimator:hover label.sk-toggleable__label-arrow:before {color: black;}#sk-container-id-1 div.sk-toggleable__content {max-height: 0;max-width: 0;overflow: hidden;text-align: left;background-color: #f0f8ff;}#sk-container-id-1 div.sk-toggleable__content pre {margin: 0.2em;color: black;border-radius: 0.25em;background-color: #f0f8ff;}#sk-container-id-1 input.sk-toggleable__control:checked~div.sk-toggleable__content {max-height: 200px;max-width: 100%;overflow: auto;}#sk-container-id-1 input.sk-toggleable__control:checked~label.sk-toggleable__label-arrow:before {content: \"▾\";}#sk-container-id-1 div.sk-estimator input.sk-toggleable__control:checked~label.sk-toggleable__label {background-color: #d4ebff;}#sk-container-id-1 div.sk-label input.sk-toggleable__control:checked~label.sk-toggleable__label {background-color: #d4ebff;}#sk-container-id-1 input.sk-hidden--visually {border: 0;clip: rect(1px 1px 1px 1px);clip: rect(1px, 1px, 1px, 1px);height: 1px;margin: -1px;overflow: hidden;padding: 0;position: absolute;width: 1px;}#sk-container-id-1 div.sk-estimator {font-family: monospace;background-color: #f0f8ff;border: 1px dotted black;border-radius: 0.25em;box-sizing: border-box;margin-bottom: 0.5em;}#sk-container-id-1 div.sk-estimator:hover {background-color: #d4ebff;}#sk-container-id-1 div.sk-parallel-item::after {content: \"\";width: 100%;border-bottom: 1px solid gray;flex-grow: 1;}#sk-container-id-1 div.sk-label:hover label.sk-toggleable__label {background-color: #d4ebff;}#sk-container-id-1 div.sk-serial::before {content: \"\";position: absolute;border-left: 1px solid gray;box-sizing: border-box;top: 0;bottom: 0;left: 50%;z-index: 0;}#sk-container-id-1 div.sk-serial {display: flex;flex-direction: column;align-items: center;background-color: white;padding-right: 0.2em;padding-left: 0.2em;position: relative;}#sk-container-id-1 div.sk-item {position: relative;z-index: 1;}#sk-container-id-1 div.sk-parallel {display: flex;align-items: stretch;justify-content: center;background-color: white;position: relative;}#sk-container-id-1 div.sk-item::before, #sk-container-id-1 div.sk-parallel-item::before {content: \"\";position: absolute;border-left: 1px solid gray;box-sizing: border-box;top: 0;bottom: 0;left: 50%;z-index: -1;}#sk-container-id-1 div.sk-parallel-item {display: flex;flex-direction: column;z-index: 1;position: relative;background-color: white;}#sk-container-id-1 div.sk-parallel-item:first-child::after {align-self: flex-end;width: 50%;}#sk-container-id-1 div.sk-parallel-item:last-child::after {align-self: flex-start;width: 50%;}#sk-container-id-1 div.sk-parallel-item:only-child::after {width: 0;}#sk-container-id-1 div.sk-dashed-wrapped {border: 1px dashed gray;margin: 0 0.4em 0.5em 0.4em;box-sizing: border-box;padding-bottom: 0.4em;background-color: white;}#sk-container-id-1 div.sk-label label {font-family: monospace;font-weight: bold;display: inline-block;line-height: 1.2em;}#sk-container-id-1 div.sk-label-container {text-align: center;}#sk-container-id-1 div.sk-container {/* jupyter's `normalize.less` sets `[hidden] { display: none; }` but bootstrap.min.css set `[hidden] { display: none !important; }` so we also need the `!important` here to be able to override the default hidden behavior on the sphinx rendered scikit-learn.org. See: https://github.com/scikit-learn/scikit-learn/issues/21755 */display: inline-block !important;position: relative;}#sk-container-id-1 div.sk-text-repr-fallback {display: none;}</style><div id=\"sk-container-id-1\" class=\"sk-top-container\"><div class=\"sk-text-repr-fallback\"><pre>SVC()</pre><b>In a Jupyter environment, please rerun this cell to show the HTML representation or trust the notebook. <br />On GitHub, the HTML representation is unable to render, please try loading this page with nbviewer.org.</b></div><div class=\"sk-container\" hidden><div class=\"sk-item\"><div class=\"sk-estimator sk-toggleable\"><input class=\"sk-toggleable__control sk-hidden--visually\" id=\"sk-estimator-id-1\" type=\"checkbox\" checked><label for=\"sk-estimator-id-1\" class=\"sk-toggleable__label sk-toggleable__label-arrow\">SVC</label><div class=\"sk-toggleable__content\"><pre>SVC()</pre></div></div></div></div></div>"
      ],
      "text/plain": [
       "SVC()"
      ]
     },
     "execution_count": 14,
     "metadata": {},
     "output_type": "execute_result"
    }
   ],
   "source": [
    "model.fit(x_train,y_train)"
   ]
  },
  {
   "cell_type": "code",
   "execution_count": 15,
   "id": "a622c6f8",
   "metadata": {
    "execution": {
     "iopub.execute_input": "2025-02-23T10:35:47.532225Z",
     "iopub.status.busy": "2025-02-23T10:35:47.531805Z",
     "iopub.status.idle": "2025-02-23T10:35:47.543573Z",
     "shell.execute_reply": "2025-02-23T10:35:47.542010Z"
    },
    "papermill": {
     "duration": 0.029634,
     "end_time": "2025-02-23T10:35:47.545897",
     "exception": false,
     "start_time": "2025-02-23T10:35:47.516263",
     "status": "completed"
    },
    "tags": []
   },
   "outputs": [
    {
     "data": {
      "text/plain": [
       "0.9"
      ]
     },
     "execution_count": 15,
     "metadata": {},
     "output_type": "execute_result"
    }
   ],
   "source": [
    "model.score(x_test , y_test)"
   ]
  },
  {
   "cell_type": "code",
   "execution_count": 16,
   "id": "b13f297d",
   "metadata": {
    "execution": {
     "iopub.execute_input": "2025-02-23T10:35:47.569527Z",
     "iopub.status.busy": "2025-02-23T10:35:47.569090Z",
     "iopub.status.idle": "2025-02-23T10:35:47.580868Z",
     "shell.execute_reply": "2025-02-23T10:35:47.579300Z"
    },
    "papermill": {
     "duration": 0.026214,
     "end_time": "2025-02-23T10:35:47.583075",
     "exception": false,
     "start_time": "2025-02-23T10:35:47.556861",
     "status": "completed"
    },
    "tags": []
   },
   "outputs": [
    {
     "data": {
      "text/plain": [
       "array([0])"
      ]
     },
     "execution_count": 16,
     "metadata": {},
     "output_type": "execute_result"
    }
   ],
   "source": [
    "d= pd.DataFrame([[4.8, 4, 1.5, 0.3]], columns=['sepal length (cm)', 'sepal width (cm)', 'petal length (cm)', 'petal width (cm)'])\n",
    "model.predict(d)"
   ]
  },
  {
   "cell_type": "markdown",
   "id": "fac302c5",
   "metadata": {
    "papermill": {
     "duration": 0.016755,
     "end_time": "2025-02-23T10:35:47.618220",
     "exception": false,
     "start_time": "2025-02-23T10:35:47.601465",
     "status": "completed"
    },
    "tags": []
   },
   "source": [
    "**Tune Parameter**"
   ]
  },
  {
   "cell_type": "markdown",
   "id": "580967a9",
   "metadata": {
    "papermill": {
     "duration": 0.01291,
     "end_time": "2025-02-23T10:35:47.643672",
     "exception": false,
     "start_time": "2025-02-23T10:35:47.630762",
     "status": "completed"
    },
    "tags": []
   },
   "source": [
    "**1. Regularization (C)**"
   ]
  },
  {
   "cell_type": "code",
   "execution_count": 17,
   "id": "26eb9618",
   "metadata": {
    "execution": {
     "iopub.execute_input": "2025-02-23T10:35:47.667798Z",
     "iopub.status.busy": "2025-02-23T10:35:47.667353Z",
     "iopub.status.idle": "2025-02-23T10:35:47.679922Z",
     "shell.execute_reply": "2025-02-23T10:35:47.678602Z"
    },
    "papermill": {
     "duration": 0.027428,
     "end_time": "2025-02-23T10:35:47.682047",
     "exception": false,
     "start_time": "2025-02-23T10:35:47.654619",
     "status": "completed"
    },
    "tags": []
   },
   "outputs": [
    {
     "data": {
      "text/plain": [
       "0.9"
      ]
     },
     "execution_count": 17,
     "metadata": {},
     "output_type": "execute_result"
    }
   ],
   "source": [
    "model_C = SVC(C=1)\n",
    "model_C.fit(x_train, y_train)\n",
    "model_C.score(x_test, y_test)"
   ]
  },
  {
   "cell_type": "code",
   "execution_count": 18,
   "id": "ea9ed354",
   "metadata": {
    "execution": {
     "iopub.execute_input": "2025-02-23T10:35:47.705655Z",
     "iopub.status.busy": "2025-02-23T10:35:47.705141Z",
     "iopub.status.idle": "2025-02-23T10:35:47.719057Z",
     "shell.execute_reply": "2025-02-23T10:35:47.717520Z"
    },
    "papermill": {
     "duration": 0.028286,
     "end_time": "2025-02-23T10:35:47.721338",
     "exception": false,
     "start_time": "2025-02-23T10:35:47.693052",
     "status": "completed"
    },
    "tags": []
   },
   "outputs": [
    {
     "data": {
      "text/plain": [
       "0.9333333333333333"
      ]
     },
     "execution_count": 18,
     "metadata": {},
     "output_type": "execute_result"
    }
   ],
   "source": [
    "model_C = SVC(C=10)\n",
    "model_C.fit(x_train, y_train)\n",
    "model_C.score(x_test, y_test)"
   ]
  },
  {
   "cell_type": "code",
   "execution_count": 19,
   "id": "d9ba8e4d",
   "metadata": {
    "execution": {
     "iopub.execute_input": "2025-02-23T10:35:47.744819Z",
     "iopub.status.busy": "2025-02-23T10:35:47.744314Z",
     "iopub.status.idle": "2025-02-23T10:35:47.759990Z",
     "shell.execute_reply": "2025-02-23T10:35:47.758490Z"
    },
    "papermill": {
     "duration": 0.030361,
     "end_time": "2025-02-23T10:35:47.762456",
     "exception": false,
     "start_time": "2025-02-23T10:35:47.732095",
     "status": "completed"
    },
    "tags": []
   },
   "outputs": [
    {
     "data": {
      "text/plain": [
       "0.9"
      ]
     },
     "execution_count": 19,
     "metadata": {},
     "output_type": "execute_result"
    }
   ],
   "source": [
    "model_C = SVC(C=100)\n",
    "model_C.fit(x_train, y_train)\n",
    "model_C.score(x_test, y_test)"
   ]
  },
  {
   "cell_type": "markdown",
   "id": "7fb97807",
   "metadata": {
    "papermill": {
     "duration": 0.010543,
     "end_time": "2025-02-23T10:35:47.784171",
     "exception": false,
     "start_time": "2025-02-23T10:35:47.773628",
     "status": "completed"
    },
    "tags": []
   },
   "source": [
    "**2. Gamma**"
   ]
  },
  {
   "cell_type": "code",
   "execution_count": 20,
   "id": "c4a8227c",
   "metadata": {
    "execution": {
     "iopub.execute_input": "2025-02-23T10:35:47.808970Z",
     "iopub.status.busy": "2025-02-23T10:35:47.808562Z",
     "iopub.status.idle": "2025-02-23T10:35:47.823080Z",
     "shell.execute_reply": "2025-02-23T10:35:47.821474Z"
    },
    "papermill": {
     "duration": 0.029933,
     "end_time": "2025-02-23T10:35:47.825575",
     "exception": false,
     "start_time": "2025-02-23T10:35:47.795642",
     "status": "completed"
    },
    "tags": []
   },
   "outputs": [
    {
     "data": {
      "text/plain": [
       "0.8666666666666667"
      ]
     },
     "execution_count": 20,
     "metadata": {},
     "output_type": "execute_result"
    }
   ],
   "source": [
    "model_g = SVC(gamma=10)\n",
    "model_g.fit(x_train, y_train)\n",
    "model_g.score(x_test, y_test)"
   ]
  },
  {
   "cell_type": "code",
   "execution_count": 21,
   "id": "dc0fb2c9",
   "metadata": {
    "execution": {
     "iopub.execute_input": "2025-02-23T10:35:47.850220Z",
     "iopub.status.busy": "2025-02-23T10:35:47.849676Z",
     "iopub.status.idle": "2025-02-23T10:35:47.864538Z",
     "shell.execute_reply": "2025-02-23T10:35:47.863054Z"
    },
    "papermill": {
     "duration": 0.029545,
     "end_time": "2025-02-23T10:35:47.866862",
     "exception": false,
     "start_time": "2025-02-23T10:35:47.837317",
     "status": "completed"
    },
    "tags": []
   },
   "outputs": [
    {
     "data": {
      "text/plain": [
       "0.5333333333333333"
      ]
     },
     "execution_count": 21,
     "metadata": {},
     "output_type": "execute_result"
    }
   ],
   "source": [
    "model_g = SVC(gamma=100)\n",
    "model_g.fit(x_train, y_train)\n",
    "model_g.score(x_test, y_test)"
   ]
  },
  {
   "cell_type": "code",
   "execution_count": 22,
   "id": "170dece9",
   "metadata": {
    "execution": {
     "iopub.execute_input": "2025-02-23T10:35:47.891200Z",
     "iopub.status.busy": "2025-02-23T10:35:47.890810Z",
     "iopub.status.idle": "2025-02-23T10:35:47.903581Z",
     "shell.execute_reply": "2025-02-23T10:35:47.902399Z"
    },
    "papermill": {
     "duration": 0.027016,
     "end_time": "2025-02-23T10:35:47.905372",
     "exception": false,
     "start_time": "2025-02-23T10:35:47.878356",
     "status": "completed"
    },
    "tags": []
   },
   "outputs": [
    {
     "data": {
      "text/plain": [
       "0.9"
      ]
     },
     "execution_count": 22,
     "metadata": {},
     "output_type": "execute_result"
    }
   ],
   "source": [
    "model_g = SVC(gamma=1)\n",
    "model_g.fit(x_train, y_train)\n",
    "model_g.score(x_test, y_test)\n"
   ]
  },
  {
   "cell_type": "markdown",
   "id": "3e62fe61",
   "metadata": {
    "papermill": {
     "duration": 0.010373,
     "end_time": "2025-02-23T10:35:47.926694",
     "exception": false,
     "start_time": "2025-02-23T10:35:47.916321",
     "status": "completed"
    },
    "tags": []
   },
   "source": [
    "**3. Kernel**"
   ]
  },
  {
   "cell_type": "code",
   "execution_count": 23,
   "id": "d6600aa8",
   "metadata": {
    "execution": {
     "iopub.execute_input": "2025-02-23T10:35:47.950104Z",
     "iopub.status.busy": "2025-02-23T10:35:47.949667Z",
     "iopub.status.idle": "2025-02-23T10:35:47.964261Z",
     "shell.execute_reply": "2025-02-23T10:35:47.962920Z"
    },
    "papermill": {
     "duration": 0.028924,
     "end_time": "2025-02-23T10:35:47.966645",
     "exception": false,
     "start_time": "2025-02-23T10:35:47.937721",
     "status": "completed"
    },
    "tags": []
   },
   "outputs": [
    {
     "data": {
      "text/plain": [
       "0.9333333333333333"
      ]
     },
     "execution_count": 23,
     "metadata": {},
     "output_type": "execute_result"
    }
   ],
   "source": [
    "model_linear_kernal = SVC(kernel='linear')\n",
    "model_linear_kernal.fit(x_train, y_train)\n",
    "model_linear_kernal.score(x_test, y_test)"
   ]
  },
  {
   "cell_type": "markdown",
   "id": "1cd5e44f",
   "metadata": {
    "papermill": {
     "duration": 0.011064,
     "end_time": "2025-02-23T10:35:47.990067",
     "exception": false,
     "start_time": "2025-02-23T10:35:47.979003",
     "status": "completed"
    },
    "tags": []
   },
   "source": [
    "**Exercise**\n",
    "\n",
    "Train SVM classifier using sklearn digits dataset (i.e. from sklearn.datasets import load_digits) and then,\n",
    "\n",
    "1.Measure accuracy of your model using different kernels such as rbf and linear.\n",
    "\n",
    "2.Tune your model further using regularization and gamma parameters and try to come up with highest accurancy score\n",
    "\n",
    "3.Use 80% of samples as training data size"
   ]
  },
  {
   "cell_type": "code",
   "execution_count": 24,
   "id": "f6b46da4",
   "metadata": {
    "execution": {
     "iopub.execute_input": "2025-02-23T10:35:48.014849Z",
     "iopub.status.busy": "2025-02-23T10:35:48.014477Z",
     "iopub.status.idle": "2025-02-23T10:35:48.032022Z",
     "shell.execute_reply": "2025-02-23T10:35:48.030969Z"
    },
    "papermill": {
     "duration": 0.032732,
     "end_time": "2025-02-23T10:35:48.034325",
     "exception": false,
     "start_time": "2025-02-23T10:35:48.001593",
     "status": "completed"
    },
    "tags": []
   },
   "outputs": [],
   "source": [
    "from sklearn.datasets import load_digits\n",
    "\n",
    "digit = load_digits()"
   ]
  },
  {
   "cell_type": "code",
   "execution_count": 25,
   "id": "edce5c72",
   "metadata": {
    "execution": {
     "iopub.execute_input": "2025-02-23T10:35:48.059759Z",
     "iopub.status.busy": "2025-02-23T10:35:48.059374Z",
     "iopub.status.idle": "2025-02-23T10:35:48.066389Z",
     "shell.execute_reply": "2025-02-23T10:35:48.064956Z"
    },
    "papermill": {
     "duration": 0.021866,
     "end_time": "2025-02-23T10:35:48.068543",
     "exception": false,
     "start_time": "2025-02-23T10:35:48.046677",
     "status": "completed"
    },
    "tags": []
   },
   "outputs": [
    {
     "data": {
      "text/plain": [
       "['DESCR', 'data', 'feature_names', 'frame', 'images', 'target', 'target_names']"
      ]
     },
     "execution_count": 25,
     "metadata": {},
     "output_type": "execute_result"
    }
   ],
   "source": [
    "dir(digit)"
   ]
  },
  {
   "cell_type": "code",
   "execution_count": 26,
   "id": "692880a2",
   "metadata": {
    "execution": {
     "iopub.execute_input": "2025-02-23T10:35:48.093908Z",
     "iopub.status.busy": "2025-02-23T10:35:48.093555Z",
     "iopub.status.idle": "2025-02-23T10:35:48.129957Z",
     "shell.execute_reply": "2025-02-23T10:35:48.128574Z"
    },
    "papermill": {
     "duration": 0.051871,
     "end_time": "2025-02-23T10:35:48.132276",
     "exception": false,
     "start_time": "2025-02-23T10:35:48.080405",
     "status": "completed"
    },
    "tags": []
   },
   "outputs": [
    {
     "data": {
      "text/html": [
       "<div>\n",
       "<style scoped>\n",
       "    .dataframe tbody tr th:only-of-type {\n",
       "        vertical-align: middle;\n",
       "    }\n",
       "\n",
       "    .dataframe tbody tr th {\n",
       "        vertical-align: top;\n",
       "    }\n",
       "\n",
       "    .dataframe thead th {\n",
       "        text-align: right;\n",
       "    }\n",
       "</style>\n",
       "<table border=\"1\" class=\"dataframe\">\n",
       "  <thead>\n",
       "    <tr style=\"text-align: right;\">\n",
       "      <th></th>\n",
       "      <th>pixel_0_0</th>\n",
       "      <th>pixel_0_1</th>\n",
       "      <th>pixel_0_2</th>\n",
       "      <th>pixel_0_3</th>\n",
       "      <th>pixel_0_4</th>\n",
       "      <th>pixel_0_5</th>\n",
       "      <th>pixel_0_6</th>\n",
       "      <th>pixel_0_7</th>\n",
       "      <th>pixel_1_0</th>\n",
       "      <th>pixel_1_1</th>\n",
       "      <th>...</th>\n",
       "      <th>pixel_6_7</th>\n",
       "      <th>pixel_7_0</th>\n",
       "      <th>pixel_7_1</th>\n",
       "      <th>pixel_7_2</th>\n",
       "      <th>pixel_7_3</th>\n",
       "      <th>pixel_7_4</th>\n",
       "      <th>pixel_7_5</th>\n",
       "      <th>pixel_7_6</th>\n",
       "      <th>pixel_7_7</th>\n",
       "      <th>target</th>\n",
       "    </tr>\n",
       "  </thead>\n",
       "  <tbody>\n",
       "    <tr>\n",
       "      <th>0</th>\n",
       "      <td>0.0</td>\n",
       "      <td>0.0</td>\n",
       "      <td>5.0</td>\n",
       "      <td>13.0</td>\n",
       "      <td>9.0</td>\n",
       "      <td>1.0</td>\n",
       "      <td>0.0</td>\n",
       "      <td>0.0</td>\n",
       "      <td>0.0</td>\n",
       "      <td>0.0</td>\n",
       "      <td>...</td>\n",
       "      <td>0.0</td>\n",
       "      <td>0.0</td>\n",
       "      <td>0.0</td>\n",
       "      <td>6.0</td>\n",
       "      <td>13.0</td>\n",
       "      <td>10.0</td>\n",
       "      <td>0.0</td>\n",
       "      <td>0.0</td>\n",
       "      <td>0.0</td>\n",
       "      <td>0</td>\n",
       "    </tr>\n",
       "    <tr>\n",
       "      <th>1</th>\n",
       "      <td>0.0</td>\n",
       "      <td>0.0</td>\n",
       "      <td>0.0</td>\n",
       "      <td>12.0</td>\n",
       "      <td>13.0</td>\n",
       "      <td>5.0</td>\n",
       "      <td>0.0</td>\n",
       "      <td>0.0</td>\n",
       "      <td>0.0</td>\n",
       "      <td>0.0</td>\n",
       "      <td>...</td>\n",
       "      <td>0.0</td>\n",
       "      <td>0.0</td>\n",
       "      <td>0.0</td>\n",
       "      <td>0.0</td>\n",
       "      <td>11.0</td>\n",
       "      <td>16.0</td>\n",
       "      <td>10.0</td>\n",
       "      <td>0.0</td>\n",
       "      <td>0.0</td>\n",
       "      <td>1</td>\n",
       "    </tr>\n",
       "    <tr>\n",
       "      <th>2</th>\n",
       "      <td>0.0</td>\n",
       "      <td>0.0</td>\n",
       "      <td>0.0</td>\n",
       "      <td>4.0</td>\n",
       "      <td>15.0</td>\n",
       "      <td>12.0</td>\n",
       "      <td>0.0</td>\n",
       "      <td>0.0</td>\n",
       "      <td>0.0</td>\n",
       "      <td>0.0</td>\n",
       "      <td>...</td>\n",
       "      <td>0.0</td>\n",
       "      <td>0.0</td>\n",
       "      <td>0.0</td>\n",
       "      <td>0.0</td>\n",
       "      <td>3.0</td>\n",
       "      <td>11.0</td>\n",
       "      <td>16.0</td>\n",
       "      <td>9.0</td>\n",
       "      <td>0.0</td>\n",
       "      <td>2</td>\n",
       "    </tr>\n",
       "    <tr>\n",
       "      <th>3</th>\n",
       "      <td>0.0</td>\n",
       "      <td>0.0</td>\n",
       "      <td>7.0</td>\n",
       "      <td>15.0</td>\n",
       "      <td>13.0</td>\n",
       "      <td>1.0</td>\n",
       "      <td>0.0</td>\n",
       "      <td>0.0</td>\n",
       "      <td>0.0</td>\n",
       "      <td>8.0</td>\n",
       "      <td>...</td>\n",
       "      <td>0.0</td>\n",
       "      <td>0.0</td>\n",
       "      <td>0.0</td>\n",
       "      <td>7.0</td>\n",
       "      <td>13.0</td>\n",
       "      <td>13.0</td>\n",
       "      <td>9.0</td>\n",
       "      <td>0.0</td>\n",
       "      <td>0.0</td>\n",
       "      <td>3</td>\n",
       "    </tr>\n",
       "    <tr>\n",
       "      <th>4</th>\n",
       "      <td>0.0</td>\n",
       "      <td>0.0</td>\n",
       "      <td>0.0</td>\n",
       "      <td>1.0</td>\n",
       "      <td>11.0</td>\n",
       "      <td>0.0</td>\n",
       "      <td>0.0</td>\n",
       "      <td>0.0</td>\n",
       "      <td>0.0</td>\n",
       "      <td>0.0</td>\n",
       "      <td>...</td>\n",
       "      <td>0.0</td>\n",
       "      <td>0.0</td>\n",
       "      <td>0.0</td>\n",
       "      <td>0.0</td>\n",
       "      <td>2.0</td>\n",
       "      <td>16.0</td>\n",
       "      <td>4.0</td>\n",
       "      <td>0.0</td>\n",
       "      <td>0.0</td>\n",
       "      <td>4</td>\n",
       "    </tr>\n",
       "    <tr>\n",
       "      <th>...</th>\n",
       "      <td>...</td>\n",
       "      <td>...</td>\n",
       "      <td>...</td>\n",
       "      <td>...</td>\n",
       "      <td>...</td>\n",
       "      <td>...</td>\n",
       "      <td>...</td>\n",
       "      <td>...</td>\n",
       "      <td>...</td>\n",
       "      <td>...</td>\n",
       "      <td>...</td>\n",
       "      <td>...</td>\n",
       "      <td>...</td>\n",
       "      <td>...</td>\n",
       "      <td>...</td>\n",
       "      <td>...</td>\n",
       "      <td>...</td>\n",
       "      <td>...</td>\n",
       "      <td>...</td>\n",
       "      <td>...</td>\n",
       "      <td>...</td>\n",
       "    </tr>\n",
       "    <tr>\n",
       "      <th>1792</th>\n",
       "      <td>0.0</td>\n",
       "      <td>0.0</td>\n",
       "      <td>4.0</td>\n",
       "      <td>10.0</td>\n",
       "      <td>13.0</td>\n",
       "      <td>6.0</td>\n",
       "      <td>0.0</td>\n",
       "      <td>0.0</td>\n",
       "      <td>0.0</td>\n",
       "      <td>1.0</td>\n",
       "      <td>...</td>\n",
       "      <td>0.0</td>\n",
       "      <td>0.0</td>\n",
       "      <td>0.0</td>\n",
       "      <td>2.0</td>\n",
       "      <td>14.0</td>\n",
       "      <td>15.0</td>\n",
       "      <td>9.0</td>\n",
       "      <td>0.0</td>\n",
       "      <td>0.0</td>\n",
       "      <td>9</td>\n",
       "    </tr>\n",
       "    <tr>\n",
       "      <th>1793</th>\n",
       "      <td>0.0</td>\n",
       "      <td>0.0</td>\n",
       "      <td>6.0</td>\n",
       "      <td>16.0</td>\n",
       "      <td>13.0</td>\n",
       "      <td>11.0</td>\n",
       "      <td>1.0</td>\n",
       "      <td>0.0</td>\n",
       "      <td>0.0</td>\n",
       "      <td>0.0</td>\n",
       "      <td>...</td>\n",
       "      <td>0.0</td>\n",
       "      <td>0.0</td>\n",
       "      <td>0.0</td>\n",
       "      <td>6.0</td>\n",
       "      <td>16.0</td>\n",
       "      <td>14.0</td>\n",
       "      <td>6.0</td>\n",
       "      <td>0.0</td>\n",
       "      <td>0.0</td>\n",
       "      <td>0</td>\n",
       "    </tr>\n",
       "    <tr>\n",
       "      <th>1794</th>\n",
       "      <td>0.0</td>\n",
       "      <td>0.0</td>\n",
       "      <td>1.0</td>\n",
       "      <td>11.0</td>\n",
       "      <td>15.0</td>\n",
       "      <td>1.0</td>\n",
       "      <td>0.0</td>\n",
       "      <td>0.0</td>\n",
       "      <td>0.0</td>\n",
       "      <td>0.0</td>\n",
       "      <td>...</td>\n",
       "      <td>0.0</td>\n",
       "      <td>0.0</td>\n",
       "      <td>0.0</td>\n",
       "      <td>2.0</td>\n",
       "      <td>9.0</td>\n",
       "      <td>13.0</td>\n",
       "      <td>6.0</td>\n",
       "      <td>0.0</td>\n",
       "      <td>0.0</td>\n",
       "      <td>8</td>\n",
       "    </tr>\n",
       "    <tr>\n",
       "      <th>1795</th>\n",
       "      <td>0.0</td>\n",
       "      <td>0.0</td>\n",
       "      <td>2.0</td>\n",
       "      <td>10.0</td>\n",
       "      <td>7.0</td>\n",
       "      <td>0.0</td>\n",
       "      <td>0.0</td>\n",
       "      <td>0.0</td>\n",
       "      <td>0.0</td>\n",
       "      <td>0.0</td>\n",
       "      <td>...</td>\n",
       "      <td>0.0</td>\n",
       "      <td>0.0</td>\n",
       "      <td>0.0</td>\n",
       "      <td>5.0</td>\n",
       "      <td>12.0</td>\n",
       "      <td>16.0</td>\n",
       "      <td>12.0</td>\n",
       "      <td>0.0</td>\n",
       "      <td>0.0</td>\n",
       "      <td>9</td>\n",
       "    </tr>\n",
       "    <tr>\n",
       "      <th>1796</th>\n",
       "      <td>0.0</td>\n",
       "      <td>0.0</td>\n",
       "      <td>10.0</td>\n",
       "      <td>14.0</td>\n",
       "      <td>8.0</td>\n",
       "      <td>1.0</td>\n",
       "      <td>0.0</td>\n",
       "      <td>0.0</td>\n",
       "      <td>0.0</td>\n",
       "      <td>2.0</td>\n",
       "      <td>...</td>\n",
       "      <td>0.0</td>\n",
       "      <td>0.0</td>\n",
       "      <td>1.0</td>\n",
       "      <td>8.0</td>\n",
       "      <td>12.0</td>\n",
       "      <td>14.0</td>\n",
       "      <td>12.0</td>\n",
       "      <td>1.0</td>\n",
       "      <td>0.0</td>\n",
       "      <td>8</td>\n",
       "    </tr>\n",
       "  </tbody>\n",
       "</table>\n",
       "<p>1797 rows × 65 columns</p>\n",
       "</div>"
      ],
      "text/plain": [
       "      pixel_0_0  pixel_0_1  pixel_0_2  pixel_0_3  pixel_0_4  pixel_0_5  \\\n",
       "0           0.0        0.0        5.0       13.0        9.0        1.0   \n",
       "1           0.0        0.0        0.0       12.0       13.0        5.0   \n",
       "2           0.0        0.0        0.0        4.0       15.0       12.0   \n",
       "3           0.0        0.0        7.0       15.0       13.0        1.0   \n",
       "4           0.0        0.0        0.0        1.0       11.0        0.0   \n",
       "...         ...        ...        ...        ...        ...        ...   \n",
       "1792        0.0        0.0        4.0       10.0       13.0        6.0   \n",
       "1793        0.0        0.0        6.0       16.0       13.0       11.0   \n",
       "1794        0.0        0.0        1.0       11.0       15.0        1.0   \n",
       "1795        0.0        0.0        2.0       10.0        7.0        0.0   \n",
       "1796        0.0        0.0       10.0       14.0        8.0        1.0   \n",
       "\n",
       "      pixel_0_6  pixel_0_7  pixel_1_0  pixel_1_1  ...  pixel_6_7  pixel_7_0  \\\n",
       "0           0.0        0.0        0.0        0.0  ...        0.0        0.0   \n",
       "1           0.0        0.0        0.0        0.0  ...        0.0        0.0   \n",
       "2           0.0        0.0        0.0        0.0  ...        0.0        0.0   \n",
       "3           0.0        0.0        0.0        8.0  ...        0.0        0.0   \n",
       "4           0.0        0.0        0.0        0.0  ...        0.0        0.0   \n",
       "...         ...        ...        ...        ...  ...        ...        ...   \n",
       "1792        0.0        0.0        0.0        1.0  ...        0.0        0.0   \n",
       "1793        1.0        0.0        0.0        0.0  ...        0.0        0.0   \n",
       "1794        0.0        0.0        0.0        0.0  ...        0.0        0.0   \n",
       "1795        0.0        0.0        0.0        0.0  ...        0.0        0.0   \n",
       "1796        0.0        0.0        0.0        2.0  ...        0.0        0.0   \n",
       "\n",
       "      pixel_7_1  pixel_7_2  pixel_7_3  pixel_7_4  pixel_7_5  pixel_7_6  \\\n",
       "0           0.0        6.0       13.0       10.0        0.0        0.0   \n",
       "1           0.0        0.0       11.0       16.0       10.0        0.0   \n",
       "2           0.0        0.0        3.0       11.0       16.0        9.0   \n",
       "3           0.0        7.0       13.0       13.0        9.0        0.0   \n",
       "4           0.0        0.0        2.0       16.0        4.0        0.0   \n",
       "...         ...        ...        ...        ...        ...        ...   \n",
       "1792        0.0        2.0       14.0       15.0        9.0        0.0   \n",
       "1793        0.0        6.0       16.0       14.0        6.0        0.0   \n",
       "1794        0.0        2.0        9.0       13.0        6.0        0.0   \n",
       "1795        0.0        5.0       12.0       16.0       12.0        0.0   \n",
       "1796        1.0        8.0       12.0       14.0       12.0        1.0   \n",
       "\n",
       "      pixel_7_7  target  \n",
       "0           0.0       0  \n",
       "1           0.0       1  \n",
       "2           0.0       2  \n",
       "3           0.0       3  \n",
       "4           0.0       4  \n",
       "...         ...     ...  \n",
       "1792        0.0       9  \n",
       "1793        0.0       0  \n",
       "1794        0.0       8  \n",
       "1795        0.0       9  \n",
       "1796        0.0       8  \n",
       "\n",
       "[1797 rows x 65 columns]"
      ]
     },
     "execution_count": 26,
     "metadata": {},
     "output_type": "execute_result"
    }
   ],
   "source": [
    "# df_digit = pd.DataFrame(digit.data,digit.target)\n",
    "df_digit = pd.DataFrame(digit.data, columns=digit.feature_names)\n",
    "df_digit[\"target\"] = digit.target\n",
    "df_digit"
   ]
  },
  {
   "cell_type": "code",
   "execution_count": 27,
   "id": "3fc94d5e",
   "metadata": {
    "execution": {
     "iopub.execute_input": "2025-02-23T10:35:48.158241Z",
     "iopub.status.busy": "2025-02-23T10:35:48.157856Z",
     "iopub.status.idle": "2025-02-23T10:35:48.167457Z",
     "shell.execute_reply": "2025-02-23T10:35:48.166085Z"
    },
    "papermill": {
     "duration": 0.0248,
     "end_time": "2025-02-23T10:35:48.169517",
     "exception": false,
     "start_time": "2025-02-23T10:35:48.144717",
     "status": "completed"
    },
    "tags": []
   },
   "outputs": [],
   "source": [
    "from sklearn.model_selection import train_test_split \n",
    "u = df_digit.drop(\"target\",axis=\"columns\")\n",
    "v = df_digit.target\n",
    "\n",
    "X_train ,X_test , Y_train,Y_test = train_test_split(u,v,test_size=0.2)"
   ]
  },
  {
   "cell_type": "code",
   "execution_count": 28,
   "id": "271b34df",
   "metadata": {
    "execution": {
     "iopub.execute_input": "2025-02-23T10:35:48.194235Z",
     "iopub.status.busy": "2025-02-23T10:35:48.193874Z",
     "iopub.status.idle": "2025-02-23T10:35:48.258316Z",
     "shell.execute_reply": "2025-02-23T10:35:48.256762Z"
    },
    "papermill": {
     "duration": 0.07973,
     "end_time": "2025-02-23T10:35:48.260839",
     "exception": false,
     "start_time": "2025-02-23T10:35:48.181109",
     "status": "completed"
    },
    "tags": []
   },
   "outputs": [
    {
     "data": {
      "text/html": [
       "<style>#sk-container-id-2 {color: black;background-color: white;}#sk-container-id-2 pre{padding: 0;}#sk-container-id-2 div.sk-toggleable {background-color: white;}#sk-container-id-2 label.sk-toggleable__label {cursor: pointer;display: block;width: 100%;margin-bottom: 0;padding: 0.3em;box-sizing: border-box;text-align: center;}#sk-container-id-2 label.sk-toggleable__label-arrow:before {content: \"▸\";float: left;margin-right: 0.25em;color: #696969;}#sk-container-id-2 label.sk-toggleable__label-arrow:hover:before {color: black;}#sk-container-id-2 div.sk-estimator:hover label.sk-toggleable__label-arrow:before {color: black;}#sk-container-id-2 div.sk-toggleable__content {max-height: 0;max-width: 0;overflow: hidden;text-align: left;background-color: #f0f8ff;}#sk-container-id-2 div.sk-toggleable__content pre {margin: 0.2em;color: black;border-radius: 0.25em;background-color: #f0f8ff;}#sk-container-id-2 input.sk-toggleable__control:checked~div.sk-toggleable__content {max-height: 200px;max-width: 100%;overflow: auto;}#sk-container-id-2 input.sk-toggleable__control:checked~label.sk-toggleable__label-arrow:before {content: \"▾\";}#sk-container-id-2 div.sk-estimator input.sk-toggleable__control:checked~label.sk-toggleable__label {background-color: #d4ebff;}#sk-container-id-2 div.sk-label input.sk-toggleable__control:checked~label.sk-toggleable__label {background-color: #d4ebff;}#sk-container-id-2 input.sk-hidden--visually {border: 0;clip: rect(1px 1px 1px 1px);clip: rect(1px, 1px, 1px, 1px);height: 1px;margin: -1px;overflow: hidden;padding: 0;position: absolute;width: 1px;}#sk-container-id-2 div.sk-estimator {font-family: monospace;background-color: #f0f8ff;border: 1px dotted black;border-radius: 0.25em;box-sizing: border-box;margin-bottom: 0.5em;}#sk-container-id-2 div.sk-estimator:hover {background-color: #d4ebff;}#sk-container-id-2 div.sk-parallel-item::after {content: \"\";width: 100%;border-bottom: 1px solid gray;flex-grow: 1;}#sk-container-id-2 div.sk-label:hover label.sk-toggleable__label {background-color: #d4ebff;}#sk-container-id-2 div.sk-serial::before {content: \"\";position: absolute;border-left: 1px solid gray;box-sizing: border-box;top: 0;bottom: 0;left: 50%;z-index: 0;}#sk-container-id-2 div.sk-serial {display: flex;flex-direction: column;align-items: center;background-color: white;padding-right: 0.2em;padding-left: 0.2em;position: relative;}#sk-container-id-2 div.sk-item {position: relative;z-index: 1;}#sk-container-id-2 div.sk-parallel {display: flex;align-items: stretch;justify-content: center;background-color: white;position: relative;}#sk-container-id-2 div.sk-item::before, #sk-container-id-2 div.sk-parallel-item::before {content: \"\";position: absolute;border-left: 1px solid gray;box-sizing: border-box;top: 0;bottom: 0;left: 50%;z-index: -1;}#sk-container-id-2 div.sk-parallel-item {display: flex;flex-direction: column;z-index: 1;position: relative;background-color: white;}#sk-container-id-2 div.sk-parallel-item:first-child::after {align-self: flex-end;width: 50%;}#sk-container-id-2 div.sk-parallel-item:last-child::after {align-self: flex-start;width: 50%;}#sk-container-id-2 div.sk-parallel-item:only-child::after {width: 0;}#sk-container-id-2 div.sk-dashed-wrapped {border: 1px dashed gray;margin: 0 0.4em 0.5em 0.4em;box-sizing: border-box;padding-bottom: 0.4em;background-color: white;}#sk-container-id-2 div.sk-label label {font-family: monospace;font-weight: bold;display: inline-block;line-height: 1.2em;}#sk-container-id-2 div.sk-label-container {text-align: center;}#sk-container-id-2 div.sk-container {/* jupyter's `normalize.less` sets `[hidden] { display: none; }` but bootstrap.min.css set `[hidden] { display: none !important; }` so we also need the `!important` here to be able to override the default hidden behavior on the sphinx rendered scikit-learn.org. See: https://github.com/scikit-learn/scikit-learn/issues/21755 */display: inline-block !important;position: relative;}#sk-container-id-2 div.sk-text-repr-fallback {display: none;}</style><div id=\"sk-container-id-2\" class=\"sk-top-container\"><div class=\"sk-text-repr-fallback\"><pre>SVC()</pre><b>In a Jupyter environment, please rerun this cell to show the HTML representation or trust the notebook. <br />On GitHub, the HTML representation is unable to render, please try loading this page with nbviewer.org.</b></div><div class=\"sk-container\" hidden><div class=\"sk-item\"><div class=\"sk-estimator sk-toggleable\"><input class=\"sk-toggleable__control sk-hidden--visually\" id=\"sk-estimator-id-2\" type=\"checkbox\" checked><label for=\"sk-estimator-id-2\" class=\"sk-toggleable__label sk-toggleable__label-arrow\">SVC</label><div class=\"sk-toggleable__content\"><pre>SVC()</pre></div></div></div></div></div>"
      ],
      "text/plain": [
       "SVC()"
      ]
     },
     "execution_count": 28,
     "metadata": {},
     "output_type": "execute_result"
    }
   ],
   "source": [
    "model2 = SVC()\n",
    "model2.fit(X_train,Y_train)"
   ]
  },
  {
   "cell_type": "code",
   "execution_count": 29,
   "id": "651327f5",
   "metadata": {
    "execution": {
     "iopub.execute_input": "2025-02-23T10:35:48.289865Z",
     "iopub.status.busy": "2025-02-23T10:35:48.289494Z",
     "iopub.status.idle": "2025-02-23T10:35:48.324668Z",
     "shell.execute_reply": "2025-02-23T10:35:48.323224Z"
    },
    "papermill": {
     "duration": 0.05103,
     "end_time": "2025-02-23T10:35:48.326936",
     "exception": false,
     "start_time": "2025-02-23T10:35:48.275906",
     "status": "completed"
    },
    "tags": []
   },
   "outputs": [
    {
     "data": {
      "text/plain": [
       "0.9888888888888889"
      ]
     },
     "execution_count": 29,
     "metadata": {},
     "output_type": "execute_result"
    }
   ],
   "source": [
    "model2.score(X_test , Y_test)"
   ]
  },
  {
   "cell_type": "markdown",
   "id": "0d300a22",
   "metadata": {
    "papermill": {
     "duration": 0.013385,
     "end_time": "2025-02-23T10:35:48.352721",
     "exception": false,
     "start_time": "2025-02-23T10:35:48.339336",
     "status": "completed"
    },
    "tags": []
   },
   "source": [
    "**Kernel as rbf**"
   ]
  },
  {
   "cell_type": "code",
   "execution_count": 30,
   "id": "0101a671",
   "metadata": {
    "execution": {
     "iopub.execute_input": "2025-02-23T10:35:48.378832Z",
     "iopub.status.busy": "2025-02-23T10:35:48.378482Z",
     "iopub.status.idle": "2025-02-23T10:35:48.468559Z",
     "shell.execute_reply": "2025-02-23T10:35:48.467216Z"
    },
    "papermill": {
     "duration": 0.106048,
     "end_time": "2025-02-23T10:35:48.471056",
     "exception": false,
     "start_time": "2025-02-23T10:35:48.365008",
     "status": "completed"
    },
    "tags": []
   },
   "outputs": [
    {
     "data": {
      "text/plain": [
       "0.9888888888888889"
      ]
     },
     "execution_count": 30,
     "metadata": {},
     "output_type": "execute_result"
    }
   ],
   "source": [
    "model2_k= SVC(kernel=\"rbf\")\n",
    "model2_k.fit(X_train,Y_train)\n",
    "model2_k.score(X_test , Y_test)"
   ]
  },
  {
   "cell_type": "markdown",
   "id": "fb637498",
   "metadata": {
    "papermill": {
     "duration": 0.012503,
     "end_time": "2025-02-23T10:35:48.496383",
     "exception": false,
     "start_time": "2025-02-23T10:35:48.483880",
     "status": "completed"
    },
    "tags": []
   },
   "source": [
    "**Kernel as linear**"
   ]
  },
  {
   "cell_type": "code",
   "execution_count": 31,
   "id": "654fe824",
   "metadata": {
    "execution": {
     "iopub.execute_input": "2025-02-23T10:35:48.524295Z",
     "iopub.status.busy": "2025-02-23T10:35:48.523951Z",
     "iopub.status.idle": "2025-02-23T10:35:48.574106Z",
     "shell.execute_reply": "2025-02-23T10:35:48.572231Z"
    },
    "papermill": {
     "duration": 0.066569,
     "end_time": "2025-02-23T10:35:48.576394",
     "exception": false,
     "start_time": "2025-02-23T10:35:48.509825",
     "status": "completed"
    },
    "tags": []
   },
   "outputs": [
    {
     "data": {
      "text/plain": [
       "0.9861111111111112"
      ]
     },
     "execution_count": 31,
     "metadata": {},
     "output_type": "execute_result"
    }
   ],
   "source": [
    "model2_k= SVC(kernel=\"linear\")\n",
    "model2_k.fit(X_train,Y_train)\n",
    "model2_k.score(X_test , Y_test)"
   ]
  },
  {
   "cell_type": "markdown",
   "id": "dbda8ee0",
   "metadata": {
    "papermill": {
     "duration": 0.013077,
     "end_time": "2025-02-23T10:35:48.602076",
     "exception": false,
     "start_time": "2025-02-23T10:35:48.588999",
     "status": "completed"
    },
    "tags": []
   },
   "source": [
    "**Tunning The Parameters**"
   ]
  },
  {
   "cell_type": "code",
   "execution_count": 32,
   "id": "18eea5c1",
   "metadata": {
    "execution": {
     "iopub.execute_input": "2025-02-23T10:35:48.628793Z",
     "iopub.status.busy": "2025-02-23T10:35:48.628414Z",
     "iopub.status.idle": "2025-02-23T10:35:48.970706Z",
     "shell.execute_reply": "2025-02-23T10:35:48.969314Z"
    },
    "papermill": {
     "duration": 0.35837,
     "end_time": "2025-02-23T10:35:48.972993",
     "exception": false,
     "start_time": "2025-02-23T10:35:48.614623",
     "status": "completed"
    },
    "tags": []
   },
   "outputs": [
    {
     "data": {
      "text/plain": [
       "0.10277777777777777"
      ]
     },
     "execution_count": 32,
     "metadata": {},
     "output_type": "execute_result"
    }
   ],
   "source": [
    "model2_g= SVC(gamma=0.1)\n",
    "model2_g.fit(X_train,Y_train)\n",
    "model2_g.score(X_test , Y_test)"
   ]
  },
  {
   "cell_type": "code",
   "execution_count": 33,
   "id": "147e1260",
   "metadata": {
    "execution": {
     "iopub.execute_input": "2025-02-23T10:35:49.001370Z",
     "iopub.status.busy": "2025-02-23T10:35:49.000975Z",
     "iopub.status.idle": "2025-02-23T10:35:49.309795Z",
     "shell.execute_reply": "2025-02-23T10:35:49.308764Z"
    },
    "papermill": {
     "duration": 0.325681,
     "end_time": "2025-02-23T10:35:49.311859",
     "exception": false,
     "start_time": "2025-02-23T10:35:48.986178",
     "status": "completed"
    },
    "tags": []
   },
   "outputs": [
    {
     "data": {
      "text/plain": [
       "0.09166666666666666"
      ]
     },
     "execution_count": 33,
     "metadata": {},
     "output_type": "execute_result"
    }
   ],
   "source": [
    "model2_g= SVC(gamma=10)\n",
    "model2_g.fit(X_train,Y_train)\n",
    "model2_g.score(X_test , Y_test)"
   ]
  },
  {
   "cell_type": "code",
   "execution_count": 34,
   "id": "4f95a265",
   "metadata": {
    "execution": {
     "iopub.execute_input": "2025-02-23T10:35:49.337338Z",
     "iopub.status.busy": "2025-02-23T10:35:49.336981Z",
     "iopub.status.idle": "2025-02-23T10:35:49.419701Z",
     "shell.execute_reply": "2025-02-23T10:35:49.418565Z"
    },
    "papermill": {
     "duration": 0.097816,
     "end_time": "2025-02-23T10:35:49.421898",
     "exception": false,
     "start_time": "2025-02-23T10:35:49.324082",
     "status": "completed"
    },
    "tags": []
   },
   "outputs": [
    {
     "data": {
      "text/plain": [
       "0.9916666666666667"
      ]
     },
     "execution_count": 34,
     "metadata": {},
     "output_type": "execute_result"
    }
   ],
   "source": [
    "model2_c= SVC(C=10)\n",
    "model2_c.fit(X_train,Y_train)\n",
    "model2_c.score(X_test , Y_test)"
   ]
  },
  {
   "cell_type": "code",
   "execution_count": 35,
   "id": "c4bba6e2",
   "metadata": {
    "execution": {
     "iopub.execute_input": "2025-02-23T10:35:49.450278Z",
     "iopub.status.busy": "2025-02-23T10:35:49.449878Z",
     "iopub.status.idle": "2025-02-23T10:35:49.531264Z",
     "shell.execute_reply": "2025-02-23T10:35:49.529740Z"
    },
    "papermill": {
     "duration": 0.097217,
     "end_time": "2025-02-23T10:35:49.533208",
     "exception": false,
     "start_time": "2025-02-23T10:35:49.435991",
     "status": "completed"
    },
    "tags": []
   },
   "outputs": [
    {
     "data": {
      "text/plain": [
       "0.9916666666666667"
      ]
     },
     "execution_count": 35,
     "metadata": {},
     "output_type": "execute_result"
    }
   ],
   "source": [
    "model2_c= SVC(C=100)\n",
    "model2_c.fit(X_train,Y_train)\n",
    "model2_c.score(X_test , Y_test)"
   ]
  },
  {
   "cell_type": "code",
   "execution_count": 36,
   "id": "8d9cd190",
   "metadata": {
    "execution": {
     "iopub.execute_input": "2025-02-23T10:35:49.560576Z",
     "iopub.status.busy": "2025-02-23T10:35:49.560189Z",
     "iopub.status.idle": "2025-02-23T10:35:49.647805Z",
     "shell.execute_reply": "2025-02-23T10:35:49.646391Z"
    },
    "papermill": {
     "duration": 0.103159,
     "end_time": "2025-02-23T10:35:49.649726",
     "exception": false,
     "start_time": "2025-02-23T10:35:49.546567",
     "status": "completed"
    },
    "tags": []
   },
   "outputs": [
    {
     "data": {
      "text/plain": [
       "0.9888888888888889"
      ]
     },
     "execution_count": 36,
     "metadata": {},
     "output_type": "execute_result"
    }
   ],
   "source": [
    "model2_c= SVC(C=1)\n",
    "model2_c.fit(X_train,Y_train)\n",
    "model2_c.score(X_test , Y_test)"
   ]
  },
  {
   "cell_type": "code",
   "execution_count": 37,
   "id": "6c41e9f0",
   "metadata": {
    "execution": {
     "iopub.execute_input": "2025-02-23T10:35:49.675777Z",
     "iopub.status.busy": "2025-02-23T10:35:49.675299Z",
     "iopub.status.idle": "2025-02-23T10:35:49.851148Z",
     "shell.execute_reply": "2025-02-23T10:35:49.849872Z"
    },
    "papermill": {
     "duration": 0.191571,
     "end_time": "2025-02-23T10:35:49.853380",
     "exception": false,
     "start_time": "2025-02-23T10:35:49.661809",
     "status": "completed"
    },
    "tags": []
   },
   "outputs": [
    {
     "data": {
      "text/plain": [
       "0.9694444444444444"
      ]
     },
     "execution_count": 37,
     "metadata": {},
     "output_type": "execute_result"
    }
   ],
   "source": [
    "model2_c= SVC(C=0.1)\n",
    "model2_c.fit(X_train,Y_train)\n",
    "model2_c.score(X_test , Y_test)"
   ]
  }
 ],
 "metadata": {
  "kaggle": {
   "accelerator": "none",
   "dataSources": [],
   "dockerImageVersionId": 30918,
   "isGpuEnabled": false,
   "isInternetEnabled": false,
   "language": "python",
   "sourceType": "notebook"
  },
  "kernelspec": {
   "display_name": "Python 3",
   "language": "python",
   "name": "python3"
  },
  "language_info": {
   "codemirror_mode": {
    "name": "ipython",
    "version": 3
   },
   "file_extension": ".py",
   "mimetype": "text/x-python",
   "name": "python",
   "nbconvert_exporter": "python",
   "pygments_lexer": "ipython3",
   "version": "3.10.12"
  },
  "papermill": {
   "default_parameters": {},
   "duration": 10.513564,
   "end_time": "2025-02-23T10:35:50.689230",
   "environment_variables": {},
   "exception": null,
   "input_path": "__notebook__.ipynb",
   "output_path": "__notebook__.ipynb",
   "parameters": {},
   "start_time": "2025-02-23T10:35:40.175666",
   "version": "2.6.0"
  }
 },
 "nbformat": 4,
 "nbformat_minor": 5
}
