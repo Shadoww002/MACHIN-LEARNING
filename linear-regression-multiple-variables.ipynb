{
 "cells": [
  {
   "cell_type": "code",
   "execution_count": 1,
   "id": "476586b5",
   "metadata": {
    "_cell_guid": "b1076dfc-b9ad-4769-8c92-a6c4dae69d19",
    "_uuid": "8f2839f25d086af736a60e9eeb907d3b93b6e0e5",
    "execution": {
     "iopub.execute_input": "2025-02-09T07:30:44.578043Z",
     "iopub.status.busy": "2025-02-09T07:30:44.577685Z",
     "iopub.status.idle": "2025-02-09T07:30:45.507224Z",
     "shell.execute_reply": "2025-02-09T07:30:45.505860Z"
    },
    "papermill": {
     "duration": 0.935856,
     "end_time": "2025-02-09T07:30:45.508852",
     "exception": false,
     "start_time": "2025-02-09T07:30:44.572996",
     "status": "completed"
    },
    "tags": []
   },
   "outputs": [
    {
     "name": "stdout",
     "output_type": "stream",
     "text": [
      "/kaggle/input/realstate-data/real_estate_data.csv\n",
      "/kaggle/input/exercise-data/hiring.csv\n"
     ]
    }
   ],
   "source": [
    "# This Python 3 environment comes with many helpful analytics libraries installed\n",
    "# It is defined by the kaggle/python Docker image: https://github.com/kaggle/docker-python\n",
    "# For example, here's several helpful packages to load\n",
    "\n",
    "import numpy as np # linear algebra\n",
    "import pandas as pd # data processing, CSV file I/O (e.g. pd.read_csv)\n",
    "\n",
    "# Input data files are available in the read-only \"../input/\" directory\n",
    "# For example, running this (by clicking run or pressing Shift+Enter) will list all files under the input directory\n",
    "\n",
    "import os\n",
    "for dirname, _, filenames in os.walk('/kaggle/input'):\n",
    "    for filename in filenames:\n",
    "        print(os.path.join(dirname, filename))\n",
    "\n",
    "# You can write up to 20GB to the current directory (/kaggle/working/) that gets preserved as output when you create a version using \"Save & Run All\" \n",
    "# You can also write temporary files to /kaggle/temp/, but they won't be saved outside of the current session"
   ]
  },
  {
   "cell_type": "code",
   "execution_count": 2,
   "id": "2112315b",
   "metadata": {
    "execution": {
     "iopub.execute_input": "2025-02-09T07:30:45.516970Z",
     "iopub.status.busy": "2025-02-09T07:30:45.516505Z",
     "iopub.status.idle": "2025-02-09T07:30:45.520573Z",
     "shell.execute_reply": "2025-02-09T07:30:45.519688Z"
    },
    "papermill": {
     "duration": 0.009471,
     "end_time": "2025-02-09T07:30:45.522050",
     "exception": false,
     "start_time": "2025-02-09T07:30:45.512579",
     "status": "completed"
    },
    "tags": []
   },
   "outputs": [],
   "source": [
    "import matplotlib.pyplot as plt"
   ]
  },
  {
   "cell_type": "code",
   "execution_count": 3,
   "id": "75bde4c5",
   "metadata": {
    "execution": {
     "iopub.execute_input": "2025-02-09T07:30:45.529646Z",
     "iopub.status.busy": "2025-02-09T07:30:45.529340Z",
     "iopub.status.idle": "2025-02-09T07:30:47.046563Z",
     "shell.execute_reply": "2025-02-09T07:30:47.045575Z"
    },
    "papermill": {
     "duration": 1.523037,
     "end_time": "2025-02-09T07:30:47.048421",
     "exception": false,
     "start_time": "2025-02-09T07:30:45.525384",
     "status": "completed"
    },
    "tags": []
   },
   "outputs": [],
   "source": [
    "from sklearn import linear_model"
   ]
  },
  {
   "cell_type": "code",
   "execution_count": 4,
   "id": "27165d2e",
   "metadata": {
    "execution": {
     "iopub.execute_input": "2025-02-09T07:30:47.056432Z",
     "iopub.status.busy": "2025-02-09T07:30:47.055964Z",
     "iopub.status.idle": "2025-02-09T07:30:47.059973Z",
     "shell.execute_reply": "2025-02-09T07:30:47.059132Z"
    },
    "papermill": {
     "duration": 0.009582,
     "end_time": "2025-02-09T07:30:47.061415",
     "exception": false,
     "start_time": "2025-02-09T07:30:47.051833",
     "status": "completed"
    },
    "tags": []
   },
   "outputs": [],
   "source": [
    "import math"
   ]
  },
  {
   "cell_type": "code",
   "execution_count": 5,
   "id": "0869dc08",
   "metadata": {
    "execution": {
     "iopub.execute_input": "2025-02-09T07:30:47.068688Z",
     "iopub.status.busy": "2025-02-09T07:30:47.068387Z",
     "iopub.status.idle": "2025-02-09T07:30:47.084368Z",
     "shell.execute_reply": "2025-02-09T07:30:47.083401Z"
    },
    "papermill": {
     "duration": 0.021616,
     "end_time": "2025-02-09T07:30:47.086257",
     "exception": false,
     "start_time": "2025-02-09T07:30:47.064641",
     "status": "completed"
    },
    "tags": []
   },
   "outputs": [],
   "source": [
    "df = pd.read_csv(\"/kaggle/input/realstate-data/real_estate_data.csv\")"
   ]
  },
  {
   "cell_type": "code",
   "execution_count": 6,
   "id": "e5f57733",
   "metadata": {
    "execution": {
     "iopub.execute_input": "2025-02-09T07:30:47.093991Z",
     "iopub.status.busy": "2025-02-09T07:30:47.093644Z",
     "iopub.status.idle": "2025-02-09T07:30:47.123677Z",
     "shell.execute_reply": "2025-02-09T07:30:47.122477Z"
    },
    "papermill": {
     "duration": 0.035916,
     "end_time": "2025-02-09T07:30:47.125610",
     "exception": false,
     "start_time": "2025-02-09T07:30:47.089694",
     "status": "completed"
    },
    "tags": []
   },
   "outputs": [
    {
     "name": "stderr",
     "output_type": "stream",
     "text": [
      "/usr/local/lib/python3.10/dist-packages/pandas/io/formats/format.py:1458: RuntimeWarning: invalid value encountered in greater\n",
      "  has_large_values = (abs_vals > 1e6).any()\n",
      "/usr/local/lib/python3.10/dist-packages/pandas/io/formats/format.py:1459: RuntimeWarning: invalid value encountered in less\n",
      "  has_small_values = ((abs_vals < 10 ** (-self.digits)) & (abs_vals > 0)).any()\n",
      "/usr/local/lib/python3.10/dist-packages/pandas/io/formats/format.py:1459: RuntimeWarning: invalid value encountered in greater\n",
      "  has_small_values = ((abs_vals < 10 ** (-self.digits)) & (abs_vals > 0)).any()\n"
     ]
    },
    {
     "data": {
      "text/html": [
       "<div>\n",
       "<style scoped>\n",
       "    .dataframe tbody tr th:only-of-type {\n",
       "        vertical-align: middle;\n",
       "    }\n",
       "\n",
       "    .dataframe tbody tr th {\n",
       "        vertical-align: top;\n",
       "    }\n",
       "\n",
       "    .dataframe thead th {\n",
       "        text-align: right;\n",
       "    }\n",
       "</style>\n",
       "<table border=\"1\" class=\"dataframe\">\n",
       "  <thead>\n",
       "    <tr style=\"text-align: right;\">\n",
       "      <th></th>\n",
       "      <th>Area (sq ft)</th>\n",
       "      <th>Bedrooms</th>\n",
       "      <th>Price (in lakhs)</th>\n",
       "      <th>Age (years)</th>\n",
       "    </tr>\n",
       "  </thead>\n",
       "  <tbody>\n",
       "    <tr>\n",
       "      <th>0</th>\n",
       "      <td>2678</td>\n",
       "      <td>3.0</td>\n",
       "      <td>115</td>\n",
       "      <td>19.0</td>\n",
       "    </tr>\n",
       "    <tr>\n",
       "      <th>1</th>\n",
       "      <td>1326</td>\n",
       "      <td>3.0</td>\n",
       "      <td>116</td>\n",
       "      <td>0.0</td>\n",
       "    </tr>\n",
       "    <tr>\n",
       "      <th>2</th>\n",
       "      <td>872</td>\n",
       "      <td>2.0</td>\n",
       "      <td>58</td>\n",
       "      <td>8.0</td>\n",
       "    </tr>\n",
       "    <tr>\n",
       "      <th>3</th>\n",
       "      <td>609</td>\n",
       "      <td>4.0</td>\n",
       "      <td>205</td>\n",
       "      <td>NaN</td>\n",
       "    </tr>\n",
       "    <tr>\n",
       "      <th>4</th>\n",
       "      <td>2560</td>\n",
       "      <td>2.0</td>\n",
       "      <td>189</td>\n",
       "      <td>10.0</td>\n",
       "    </tr>\n",
       "  </tbody>\n",
       "</table>\n",
       "</div>"
      ],
      "text/plain": [
       "   Area (sq ft)  Bedrooms  Price (in lakhs)  Age (years)\n",
       "0          2678       3.0               115         19.0\n",
       "1          1326       3.0               116          0.0\n",
       "2           872       2.0                58          8.0\n",
       "3           609       4.0               205          NaN\n",
       "4          2560       2.0               189         10.0"
      ]
     },
     "execution_count": 6,
     "metadata": {},
     "output_type": "execute_result"
    }
   ],
   "source": [
    "df.head(5)"
   ]
  },
  {
   "cell_type": "code",
   "execution_count": 7,
   "id": "79a931e8",
   "metadata": {
    "execution": {
     "iopub.execute_input": "2025-02-09T07:30:47.133629Z",
     "iopub.status.busy": "2025-02-09T07:30:47.133326Z",
     "iopub.status.idle": "2025-02-09T07:30:47.137602Z",
     "shell.execute_reply": "2025-02-09T07:30:47.136744Z"
    },
    "papermill": {
     "duration": 0.010073,
     "end_time": "2025-02-09T07:30:47.139284",
     "exception": false,
     "start_time": "2025-02-09T07:30:47.129211",
     "status": "completed"
    },
    "tags": []
   },
   "outputs": [],
   "source": [
    "median_bedrooms = math.floor(df.Bedrooms.median())"
   ]
  },
  {
   "cell_type": "code",
   "execution_count": 8,
   "id": "ff233128",
   "metadata": {
    "execution": {
     "iopub.execute_input": "2025-02-09T07:30:47.147425Z",
     "iopub.status.busy": "2025-02-09T07:30:47.147088Z",
     "iopub.status.idle": "2025-02-09T07:30:47.155662Z",
     "shell.execute_reply": "2025-02-09T07:30:47.154736Z"
    },
    "papermill": {
     "duration": 0.014518,
     "end_time": "2025-02-09T07:30:47.157331",
     "exception": false,
     "start_time": "2025-02-09T07:30:47.142813",
     "status": "completed"
    },
    "tags": []
   },
   "outputs": [
    {
     "data": {
      "text/plain": [
       "0    3.0\n",
       "1    3.0\n",
       "2    2.0\n",
       "3    4.0\n",
       "4    2.0\n",
       "Name: Bedrooms, dtype: float64"
      ]
     },
     "execution_count": 8,
     "metadata": {},
     "output_type": "execute_result"
    }
   ],
   "source": [
    "df.Bedrooms.fillna(median_bedrooms).head()"
   ]
  },
  {
   "cell_type": "code",
   "execution_count": 9,
   "id": "7e81b794",
   "metadata": {
    "execution": {
     "iopub.execute_input": "2025-02-09T07:30:47.165666Z",
     "iopub.status.busy": "2025-02-09T07:30:47.165289Z",
     "iopub.status.idle": "2025-02-09T07:30:47.176432Z",
     "shell.execute_reply": "2025-02-09T07:30:47.175428Z"
    },
    "papermill": {
     "duration": 0.016813,
     "end_time": "2025-02-09T07:30:47.177830",
     "exception": false,
     "start_time": "2025-02-09T07:30:47.161017",
     "status": "completed"
    },
    "tags": []
   },
   "outputs": [
    {
     "name": "stderr",
     "output_type": "stream",
     "text": [
      "/usr/local/lib/python3.10/dist-packages/pandas/io/formats/format.py:1458: RuntimeWarning: invalid value encountered in greater\n",
      "  has_large_values = (abs_vals > 1e6).any()\n",
      "/usr/local/lib/python3.10/dist-packages/pandas/io/formats/format.py:1459: RuntimeWarning: invalid value encountered in less\n",
      "  has_small_values = ((abs_vals < 10 ** (-self.digits)) & (abs_vals > 0)).any()\n",
      "/usr/local/lib/python3.10/dist-packages/pandas/io/formats/format.py:1459: RuntimeWarning: invalid value encountered in greater\n",
      "  has_small_values = ((abs_vals < 10 ** (-self.digits)) & (abs_vals > 0)).any()\n"
     ]
    },
    {
     "data": {
      "text/html": [
       "<div>\n",
       "<style scoped>\n",
       "    .dataframe tbody tr th:only-of-type {\n",
       "        vertical-align: middle;\n",
       "    }\n",
       "\n",
       "    .dataframe tbody tr th {\n",
       "        vertical-align: top;\n",
       "    }\n",
       "\n",
       "    .dataframe thead th {\n",
       "        text-align: right;\n",
       "    }\n",
       "</style>\n",
       "<table border=\"1\" class=\"dataframe\">\n",
       "  <thead>\n",
       "    <tr style=\"text-align: right;\">\n",
       "      <th></th>\n",
       "      <th>Area (sq ft)</th>\n",
       "      <th>Bedrooms</th>\n",
       "      <th>Price (in lakhs)</th>\n",
       "      <th>Age (years)</th>\n",
       "    </tr>\n",
       "  </thead>\n",
       "  <tbody>\n",
       "    <tr>\n",
       "      <th>0</th>\n",
       "      <td>2678</td>\n",
       "      <td>3.0</td>\n",
       "      <td>115</td>\n",
       "      <td>19.0</td>\n",
       "    </tr>\n",
       "    <tr>\n",
       "      <th>1</th>\n",
       "      <td>1326</td>\n",
       "      <td>3.0</td>\n",
       "      <td>116</td>\n",
       "      <td>0.0</td>\n",
       "    </tr>\n",
       "    <tr>\n",
       "      <th>2</th>\n",
       "      <td>872</td>\n",
       "      <td>2.0</td>\n",
       "      <td>58</td>\n",
       "      <td>8.0</td>\n",
       "    </tr>\n",
       "    <tr>\n",
       "      <th>3</th>\n",
       "      <td>609</td>\n",
       "      <td>4.0</td>\n",
       "      <td>205</td>\n",
       "      <td>NaN</td>\n",
       "    </tr>\n",
       "    <tr>\n",
       "      <th>4</th>\n",
       "      <td>2560</td>\n",
       "      <td>2.0</td>\n",
       "      <td>189</td>\n",
       "      <td>10.0</td>\n",
       "    </tr>\n",
       "  </tbody>\n",
       "</table>\n",
       "</div>"
      ],
      "text/plain": [
       "   Area (sq ft)  Bedrooms  Price (in lakhs)  Age (years)\n",
       "0          2678       3.0               115         19.0\n",
       "1          1326       3.0               116          0.0\n",
       "2           872       2.0                58          8.0\n",
       "3           609       4.0               205          NaN\n",
       "4          2560       2.0               189         10.0"
      ]
     },
     "execution_count": 9,
     "metadata": {},
     "output_type": "execute_result"
    }
   ],
   "source": [
    "df.Bedrooms = df.Bedrooms.fillna(median_bedrooms)\n",
    "df.head()"
   ]
  },
  {
   "cell_type": "code",
   "execution_count": 10,
   "id": "28ebbbc4",
   "metadata": {
    "execution": {
     "iopub.execute_input": "2025-02-09T07:30:47.186482Z",
     "iopub.status.busy": "2025-02-09T07:30:47.186146Z",
     "iopub.status.idle": "2025-02-09T07:30:47.190872Z",
     "shell.execute_reply": "2025-02-09T07:30:47.189974Z"
    },
    "papermill": {
     "duration": 0.010744,
     "end_time": "2025-02-09T07:30:47.192445",
     "exception": false,
     "start_time": "2025-02-09T07:30:47.181701",
     "status": "completed"
    },
    "tags": []
   },
   "outputs": [],
   "source": [
    "mean_age = math.floor(df[\"Age (years)\"].mean())\n",
    "df[\"Age (years)\"] = df[\"Age (years)\"].fillna(mean_age)\n"
   ]
  },
  {
   "cell_type": "code",
   "execution_count": 11,
   "id": "c90a9a84",
   "metadata": {
    "execution": {
     "iopub.execute_input": "2025-02-09T07:30:47.200836Z",
     "iopub.status.busy": "2025-02-09T07:30:47.200505Z",
     "iopub.status.idle": "2025-02-09T07:30:47.210473Z",
     "shell.execute_reply": "2025-02-09T07:30:47.209491Z"
    },
    "papermill": {
     "duration": 0.015898,
     "end_time": "2025-02-09T07:30:47.212077",
     "exception": false,
     "start_time": "2025-02-09T07:30:47.196179",
     "status": "completed"
    },
    "tags": []
   },
   "outputs": [
    {
     "data": {
      "text/html": [
       "<div>\n",
       "<style scoped>\n",
       "    .dataframe tbody tr th:only-of-type {\n",
       "        vertical-align: middle;\n",
       "    }\n",
       "\n",
       "    .dataframe tbody tr th {\n",
       "        vertical-align: top;\n",
       "    }\n",
       "\n",
       "    .dataframe thead th {\n",
       "        text-align: right;\n",
       "    }\n",
       "</style>\n",
       "<table border=\"1\" class=\"dataframe\">\n",
       "  <thead>\n",
       "    <tr style=\"text-align: right;\">\n",
       "      <th></th>\n",
       "      <th>Area (sq ft)</th>\n",
       "      <th>Bedrooms</th>\n",
       "      <th>Price (in lakhs)</th>\n",
       "      <th>Age (years)</th>\n",
       "    </tr>\n",
       "  </thead>\n",
       "  <tbody>\n",
       "    <tr>\n",
       "      <th>0</th>\n",
       "      <td>2678</td>\n",
       "      <td>3.0</td>\n",
       "      <td>115</td>\n",
       "      <td>19.0</td>\n",
       "    </tr>\n",
       "    <tr>\n",
       "      <th>1</th>\n",
       "      <td>1326</td>\n",
       "      <td>3.0</td>\n",
       "      <td>116</td>\n",
       "      <td>0.0</td>\n",
       "    </tr>\n",
       "    <tr>\n",
       "      <th>2</th>\n",
       "      <td>872</td>\n",
       "      <td>2.0</td>\n",
       "      <td>58</td>\n",
       "      <td>8.0</td>\n",
       "    </tr>\n",
       "    <tr>\n",
       "      <th>3</th>\n",
       "      <td>609</td>\n",
       "      <td>4.0</td>\n",
       "      <td>205</td>\n",
       "      <td>13.0</td>\n",
       "    </tr>\n",
       "    <tr>\n",
       "      <th>4</th>\n",
       "      <td>2560</td>\n",
       "      <td>2.0</td>\n",
       "      <td>189</td>\n",
       "      <td>10.0</td>\n",
       "    </tr>\n",
       "    <tr>\n",
       "      <th>5</th>\n",
       "      <td>1431</td>\n",
       "      <td>5.0</td>\n",
       "      <td>272</td>\n",
       "      <td>18.0</td>\n",
       "    </tr>\n",
       "    <tr>\n",
       "      <th>6</th>\n",
       "      <td>798</td>\n",
       "      <td>4.0</td>\n",
       "      <td>80</td>\n",
       "      <td>17.0</td>\n",
       "    </tr>\n",
       "    <tr>\n",
       "      <th>7</th>\n",
       "      <td>2986</td>\n",
       "      <td>5.0</td>\n",
       "      <td>177</td>\n",
       "      <td>10.0</td>\n",
       "    </tr>\n",
       "  </tbody>\n",
       "</table>\n",
       "</div>"
      ],
      "text/plain": [
       "   Area (sq ft)  Bedrooms  Price (in lakhs)  Age (years)\n",
       "0          2678       3.0               115         19.0\n",
       "1          1326       3.0               116          0.0\n",
       "2           872       2.0                58          8.0\n",
       "3           609       4.0               205         13.0\n",
       "4          2560       2.0               189         10.0\n",
       "5          1431       5.0               272         18.0\n",
       "6           798       4.0                80         17.0\n",
       "7          2986       5.0               177         10.0"
      ]
     },
     "execution_count": 11,
     "metadata": {},
     "output_type": "execute_result"
    }
   ],
   "source": [
    "df.head(8)"
   ]
  },
  {
   "cell_type": "markdown",
   "id": "ac6a4533",
   "metadata": {
    "papermill": {
     "duration": 0.003668,
     "end_time": "2025-02-09T07:30:47.219795",
     "exception": false,
     "start_time": "2025-02-09T07:30:47.216127",
     "status": "completed"
    },
    "tags": []
   },
   "source": [
    "**PREDICTING THE PRICE**\n",
    "\n",
    "\n",
    "PRICE = M1 * AREA + M2 * NO. OF BEDROOMS + M3 * AGE + B\n",
    "\n",
    "*PRICE BEING DEPENDED ON AREA ,NO 0F BEDROOMS AND AGE*"
   ]
  },
  {
   "cell_type": "code",
   "execution_count": null,
   "id": "2198a443",
   "metadata": {
    "papermill": {
     "duration": 0.003628,
     "end_time": "2025-02-09T07:30:47.227178",
     "exception": false,
     "start_time": "2025-02-09T07:30:47.223550",
     "status": "completed"
    },
    "tags": []
   },
   "outputs": [],
   "source": []
  }
 ],
 "metadata": {
  "kaggle": {
   "accelerator": "none",
   "dataSources": [
    {
     "datasetId": 6631219,
     "sourceId": 10700614,
     "sourceType": "datasetVersion"
    },
    {
     "datasetId": 6631303,
     "sourceId": 10700713,
     "sourceType": "datasetVersion"
    }
   ],
   "dockerImageVersionId": 30886,
   "isGpuEnabled": false,
   "isInternetEnabled": false,
   "language": "python",
   "sourceType": "notebook"
  },
  "kernelspec": {
   "display_name": "Python 3",
   "language": "python",
   "name": "python3"
  },
  "language_info": {
   "codemirror_mode": {
    "name": "ipython",
    "version": 3
   },
   "file_extension": ".py",
   "mimetype": "text/x-python",
   "name": "python",
   "nbconvert_exporter": "python",
   "pygments_lexer": "ipython3",
   "version": "3.10.12"
  },
  "papermill": {
   "default_parameters": {},
   "duration": 5.919225,
   "end_time": "2025-02-09T07:30:47.850138",
   "environment_variables": {},
   "exception": null,
   "input_path": "__notebook__.ipynb",
   "output_path": "__notebook__.ipynb",
   "parameters": {},
   "start_time": "2025-02-09T07:30:41.930913",
   "version": "2.6.0"
  }
 },
 "nbformat": 4,
 "nbformat_minor": 5
}
