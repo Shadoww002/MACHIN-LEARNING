{
 "cells": [
  {
   "cell_type": "code",
   "execution_count": 1,
   "id": "878de88a",
   "metadata": {
    "_cell_guid": "b1076dfc-b9ad-4769-8c92-a6c4dae69d19",
    "_uuid": "8f2839f25d086af736a60e9eeb907d3b93b6e0e5",
    "execution": {
     "iopub.execute_input": "2025-02-09T08:48:56.849664Z",
     "iopub.status.busy": "2025-02-09T08:48:56.849281Z",
     "iopub.status.idle": "2025-02-09T08:48:57.743888Z",
     "shell.execute_reply": "2025-02-09T08:48:57.742606Z"
    },
    "papermill": {
     "duration": 0.903357,
     "end_time": "2025-02-09T08:48:57.745641",
     "exception": false,
     "start_time": "2025-02-09T08:48:56.842284",
     "status": "completed"
    },
    "tags": []
   },
   "outputs": [
    {
     "name": "stdout",
     "output_type": "stream",
     "text": [
      "/kaggle/input/hiring/hiring.csv\n",
      "/kaggle/input/realstate-data/real_estate_data.csv\n"
     ]
    }
   ],
   "source": [
    "# This Python 3 environment comes with many helpful analytics libraries installed\n",
    "# It is defined by the kaggle/python Docker image: https://github.com/kaggle/docker-python\n",
    "# For example, here's several helpful packages to load\n",
    "\n",
    "import numpy as np # linear algebra\n",
    "import pandas as pd # data processing, CSV file I/O (e.g. pd.read_csv)\n",
    "\n",
    "# Input data files are available in the read-only \"../input/\" directory\n",
    "# For example, running this (by clicking run or pressing Shift+Enter) will list all files under the input directory\n",
    "\n",
    "import os\n",
    "for dirname, _, filenames in os.walk('/kaggle/input'):\n",
    "    for filename in filenames:\n",
    "        print(os.path.join(dirname, filename))\n",
    "\n",
    "# You can write up to 20GB to the current directory (/kaggle/working/) that gets preserved as output when you create a version using \"Save & Run All\" \n",
    "# You can also write temporary files to /kaggle/temp/, but they won't be saved outside of the current session"
   ]
  },
  {
   "cell_type": "code",
   "execution_count": 2,
   "id": "d73ad95b",
   "metadata": {
    "execution": {
     "iopub.execute_input": "2025-02-09T08:48:57.758295Z",
     "iopub.status.busy": "2025-02-09T08:48:57.757777Z",
     "iopub.status.idle": "2025-02-09T08:48:57.762476Z",
     "shell.execute_reply": "2025-02-09T08:48:57.761461Z"
    },
    "papermill": {
     "duration": 0.012719,
     "end_time": "2025-02-09T08:48:57.764156",
     "exception": false,
     "start_time": "2025-02-09T08:48:57.751437",
     "status": "completed"
    },
    "tags": []
   },
   "outputs": [],
   "source": [
    "import matplotlib.pyplot as plt"
   ]
  },
  {
   "cell_type": "code",
   "execution_count": 3,
   "id": "99bad47d",
   "metadata": {
    "execution": {
     "iopub.execute_input": "2025-02-09T08:48:57.775898Z",
     "iopub.status.busy": "2025-02-09T08:48:57.775421Z",
     "iopub.status.idle": "2025-02-09T08:48:59.277292Z",
     "shell.execute_reply": "2025-02-09T08:48:59.276223Z"
    },
    "papermill": {
     "duration": 1.509844,
     "end_time": "2025-02-09T08:48:59.279232",
     "exception": false,
     "start_time": "2025-02-09T08:48:57.769388",
     "status": "completed"
    },
    "tags": []
   },
   "outputs": [],
   "source": [
    "from sklearn import linear_model"
   ]
  },
  {
   "cell_type": "code",
   "execution_count": 4,
   "id": "91dd1ebb",
   "metadata": {
    "execution": {
     "iopub.execute_input": "2025-02-09T08:48:59.292578Z",
     "iopub.status.busy": "2025-02-09T08:48:59.292047Z",
     "iopub.status.idle": "2025-02-09T08:48:59.296239Z",
     "shell.execute_reply": "2025-02-09T08:48:59.295175Z"
    },
    "papermill": {
     "duration": 0.012597,
     "end_time": "2025-02-09T08:48:59.297916",
     "exception": false,
     "start_time": "2025-02-09T08:48:59.285319",
     "status": "completed"
    },
    "tags": []
   },
   "outputs": [],
   "source": [
    "import math"
   ]
  },
  {
   "cell_type": "code",
   "execution_count": 5,
   "id": "d25ce07c",
   "metadata": {
    "execution": {
     "iopub.execute_input": "2025-02-09T08:48:59.309849Z",
     "iopub.status.busy": "2025-02-09T08:48:59.309399Z",
     "iopub.status.idle": "2025-02-09T08:48:59.326330Z",
     "shell.execute_reply": "2025-02-09T08:48:59.325257Z"
    },
    "papermill": {
     "duration": 0.024993,
     "end_time": "2025-02-09T08:48:59.328291",
     "exception": false,
     "start_time": "2025-02-09T08:48:59.303298",
     "status": "completed"
    },
    "tags": []
   },
   "outputs": [],
   "source": [
    "df = pd.read_csv(\"/kaggle/input/realstate-data/real_estate_data.csv\")\n",
    "df.replace([np.inf, -np.inf], np.nan, inplace=True)\n",
    "df.fillna(0, inplace=True)\n"
   ]
  },
  {
   "cell_type": "code",
   "execution_count": 6,
   "id": "47c019fb",
   "metadata": {
    "execution": {
     "iopub.execute_input": "2025-02-09T08:48:59.340298Z",
     "iopub.status.busy": "2025-02-09T08:48:59.339930Z",
     "iopub.status.idle": "2025-02-09T08:48:59.368007Z",
     "shell.execute_reply": "2025-02-09T08:48:59.366992Z"
    },
    "papermill": {
     "duration": 0.036104,
     "end_time": "2025-02-09T08:48:59.369919",
     "exception": false,
     "start_time": "2025-02-09T08:48:59.333815",
     "status": "completed"
    },
    "tags": []
   },
   "outputs": [
    {
     "data": {
      "text/html": [
       "<div>\n",
       "<style scoped>\n",
       "    .dataframe tbody tr th:only-of-type {\n",
       "        vertical-align: middle;\n",
       "    }\n",
       "\n",
       "    .dataframe tbody tr th {\n",
       "        vertical-align: top;\n",
       "    }\n",
       "\n",
       "    .dataframe thead th {\n",
       "        text-align: right;\n",
       "    }\n",
       "</style>\n",
       "<table border=\"1\" class=\"dataframe\">\n",
       "  <thead>\n",
       "    <tr style=\"text-align: right;\">\n",
       "      <th></th>\n",
       "      <th>Area (sq ft)</th>\n",
       "      <th>Bedrooms</th>\n",
       "      <th>Price (in lakhs)</th>\n",
       "      <th>Age (years)</th>\n",
       "    </tr>\n",
       "  </thead>\n",
       "  <tbody>\n",
       "    <tr>\n",
       "      <th>0</th>\n",
       "      <td>2678</td>\n",
       "      <td>3.0</td>\n",
       "      <td>115</td>\n",
       "      <td>19.0</td>\n",
       "    </tr>\n",
       "    <tr>\n",
       "      <th>1</th>\n",
       "      <td>1326</td>\n",
       "      <td>3.0</td>\n",
       "      <td>116</td>\n",
       "      <td>0.0</td>\n",
       "    </tr>\n",
       "    <tr>\n",
       "      <th>2</th>\n",
       "      <td>872</td>\n",
       "      <td>2.0</td>\n",
       "      <td>58</td>\n",
       "      <td>8.0</td>\n",
       "    </tr>\n",
       "    <tr>\n",
       "      <th>3</th>\n",
       "      <td>609</td>\n",
       "      <td>4.0</td>\n",
       "      <td>205</td>\n",
       "      <td>0.0</td>\n",
       "    </tr>\n",
       "    <tr>\n",
       "      <th>4</th>\n",
       "      <td>2560</td>\n",
       "      <td>2.0</td>\n",
       "      <td>189</td>\n",
       "      <td>10.0</td>\n",
       "    </tr>\n",
       "  </tbody>\n",
       "</table>\n",
       "</div>"
      ],
      "text/plain": [
       "   Area (sq ft)  Bedrooms  Price (in lakhs)  Age (years)\n",
       "0          2678       3.0               115         19.0\n",
       "1          1326       3.0               116          0.0\n",
       "2           872       2.0                58          8.0\n",
       "3           609       4.0               205          0.0\n",
       "4          2560       2.0               189         10.0"
      ]
     },
     "execution_count": 6,
     "metadata": {},
     "output_type": "execute_result"
    }
   ],
   "source": [
    "df.head(5)"
   ]
  },
  {
   "cell_type": "code",
   "execution_count": 7,
   "id": "30a9a3cb",
   "metadata": {
    "execution": {
     "iopub.execute_input": "2025-02-09T08:48:59.382233Z",
     "iopub.status.busy": "2025-02-09T08:48:59.381863Z",
     "iopub.status.idle": "2025-02-09T08:48:59.386385Z",
     "shell.execute_reply": "2025-02-09T08:48:59.385346Z"
    },
    "papermill": {
     "duration": 0.012524,
     "end_time": "2025-02-09T08:48:59.388018",
     "exception": false,
     "start_time": "2025-02-09T08:48:59.375494",
     "status": "completed"
    },
    "tags": []
   },
   "outputs": [],
   "source": [
    "median_bedrooms = math.floor(df.Bedrooms.median())"
   ]
  },
  {
   "cell_type": "code",
   "execution_count": 8,
   "id": "92d93891",
   "metadata": {
    "execution": {
     "iopub.execute_input": "2025-02-09T08:48:59.400192Z",
     "iopub.status.busy": "2025-02-09T08:48:59.399848Z",
     "iopub.status.idle": "2025-02-09T08:48:59.406696Z",
     "shell.execute_reply": "2025-02-09T08:48:59.405783Z"
    },
    "papermill": {
     "duration": 0.014797,
     "end_time": "2025-02-09T08:48:59.408320",
     "exception": false,
     "start_time": "2025-02-09T08:48:59.393523",
     "status": "completed"
    },
    "tags": []
   },
   "outputs": [
    {
     "data": {
      "text/plain": [
       "0    3.0\n",
       "1    3.0\n",
       "2    2.0\n",
       "3    4.0\n",
       "4    2.0\n",
       "Name: Bedrooms, dtype: float64"
      ]
     },
     "execution_count": 8,
     "metadata": {},
     "output_type": "execute_result"
    }
   ],
   "source": [
    "df.Bedrooms.fillna(median_bedrooms).head()"
   ]
  },
  {
   "cell_type": "code",
   "execution_count": 9,
   "id": "1f6bdb57",
   "metadata": {
    "execution": {
     "iopub.execute_input": "2025-02-09T08:48:59.420533Z",
     "iopub.status.busy": "2025-02-09T08:48:59.420199Z",
     "iopub.status.idle": "2025-02-09T08:48:59.431994Z",
     "shell.execute_reply": "2025-02-09T08:48:59.431138Z"
    },
    "papermill": {
     "duration": 0.019539,
     "end_time": "2025-02-09T08:48:59.433409",
     "exception": false,
     "start_time": "2025-02-09T08:48:59.413870",
     "status": "completed"
    },
    "tags": []
   },
   "outputs": [
    {
     "data": {
      "text/html": [
       "<div>\n",
       "<style scoped>\n",
       "    .dataframe tbody tr th:only-of-type {\n",
       "        vertical-align: middle;\n",
       "    }\n",
       "\n",
       "    .dataframe tbody tr th {\n",
       "        vertical-align: top;\n",
       "    }\n",
       "\n",
       "    .dataframe thead th {\n",
       "        text-align: right;\n",
       "    }\n",
       "</style>\n",
       "<table border=\"1\" class=\"dataframe\">\n",
       "  <thead>\n",
       "    <tr style=\"text-align: right;\">\n",
       "      <th></th>\n",
       "      <th>Area (sq ft)</th>\n",
       "      <th>Bedrooms</th>\n",
       "      <th>Price (in lakhs)</th>\n",
       "      <th>Age (years)</th>\n",
       "    </tr>\n",
       "  </thead>\n",
       "  <tbody>\n",
       "    <tr>\n",
       "      <th>0</th>\n",
       "      <td>2678</td>\n",
       "      <td>3.0</td>\n",
       "      <td>115</td>\n",
       "      <td>19.0</td>\n",
       "    </tr>\n",
       "    <tr>\n",
       "      <th>1</th>\n",
       "      <td>1326</td>\n",
       "      <td>3.0</td>\n",
       "      <td>116</td>\n",
       "      <td>0.0</td>\n",
       "    </tr>\n",
       "    <tr>\n",
       "      <th>2</th>\n",
       "      <td>872</td>\n",
       "      <td>2.0</td>\n",
       "      <td>58</td>\n",
       "      <td>8.0</td>\n",
       "    </tr>\n",
       "    <tr>\n",
       "      <th>3</th>\n",
       "      <td>609</td>\n",
       "      <td>4.0</td>\n",
       "      <td>205</td>\n",
       "      <td>0.0</td>\n",
       "    </tr>\n",
       "    <tr>\n",
       "      <th>4</th>\n",
       "      <td>2560</td>\n",
       "      <td>2.0</td>\n",
       "      <td>189</td>\n",
       "      <td>10.0</td>\n",
       "    </tr>\n",
       "  </tbody>\n",
       "</table>\n",
       "</div>"
      ],
      "text/plain": [
       "   Area (sq ft)  Bedrooms  Price (in lakhs)  Age (years)\n",
       "0          2678       3.0               115         19.0\n",
       "1          1326       3.0               116          0.0\n",
       "2           872       2.0                58          8.0\n",
       "3           609       4.0               205          0.0\n",
       "4          2560       2.0               189         10.0"
      ]
     },
     "execution_count": 9,
     "metadata": {},
     "output_type": "execute_result"
    }
   ],
   "source": [
    "df.Bedrooms = df.Bedrooms.fillna(median_bedrooms)\n",
    "\n",
    "df.replace([np.inf, -np.inf], np.nan, inplace=True)\n",
    "df.fillna(0, inplace=True)\n",
    "df.head()"
   ]
  },
  {
   "cell_type": "code",
   "execution_count": 10,
   "id": "b0841e75",
   "metadata": {
    "execution": {
     "iopub.execute_input": "2025-02-09T08:48:59.445949Z",
     "iopub.status.busy": "2025-02-09T08:48:59.445543Z",
     "iopub.status.idle": "2025-02-09T08:48:59.450791Z",
     "shell.execute_reply": "2025-02-09T08:48:59.449705Z"
    },
    "papermill": {
     "duration": 0.013214,
     "end_time": "2025-02-09T08:48:59.452383",
     "exception": false,
     "start_time": "2025-02-09T08:48:59.439169",
     "status": "completed"
    },
    "tags": []
   },
   "outputs": [],
   "source": [
    "mean_age = math.floor(df[\"Age (years)\"].mean())\n",
    "df[\"Age (years)\"] = df[\"Age (years)\"].fillna(mean_age)\n"
   ]
  },
  {
   "cell_type": "code",
   "execution_count": 11,
   "id": "3dfbc99a",
   "metadata": {
    "execution": {
     "iopub.execute_input": "2025-02-09T08:48:59.464916Z",
     "iopub.status.busy": "2025-02-09T08:48:59.464536Z",
     "iopub.status.idle": "2025-02-09T08:48:59.474857Z",
     "shell.execute_reply": "2025-02-09T08:48:59.473927Z"
    },
    "papermill": {
     "duration": 0.018496,
     "end_time": "2025-02-09T08:48:59.476571",
     "exception": false,
     "start_time": "2025-02-09T08:48:59.458075",
     "status": "completed"
    },
    "tags": []
   },
   "outputs": [
    {
     "data": {
      "text/html": [
       "<div>\n",
       "<style scoped>\n",
       "    .dataframe tbody tr th:only-of-type {\n",
       "        vertical-align: middle;\n",
       "    }\n",
       "\n",
       "    .dataframe tbody tr th {\n",
       "        vertical-align: top;\n",
       "    }\n",
       "\n",
       "    .dataframe thead th {\n",
       "        text-align: right;\n",
       "    }\n",
       "</style>\n",
       "<table border=\"1\" class=\"dataframe\">\n",
       "  <thead>\n",
       "    <tr style=\"text-align: right;\">\n",
       "      <th></th>\n",
       "      <th>Area (sq ft)</th>\n",
       "      <th>Bedrooms</th>\n",
       "      <th>Price (in lakhs)</th>\n",
       "      <th>Age (years)</th>\n",
       "    </tr>\n",
       "  </thead>\n",
       "  <tbody>\n",
       "    <tr>\n",
       "      <th>0</th>\n",
       "      <td>2678</td>\n",
       "      <td>3.0</td>\n",
       "      <td>115</td>\n",
       "      <td>19.0</td>\n",
       "    </tr>\n",
       "    <tr>\n",
       "      <th>1</th>\n",
       "      <td>1326</td>\n",
       "      <td>3.0</td>\n",
       "      <td>116</td>\n",
       "      <td>0.0</td>\n",
       "    </tr>\n",
       "    <tr>\n",
       "      <th>2</th>\n",
       "      <td>872</td>\n",
       "      <td>2.0</td>\n",
       "      <td>58</td>\n",
       "      <td>8.0</td>\n",
       "    </tr>\n",
       "    <tr>\n",
       "      <th>3</th>\n",
       "      <td>609</td>\n",
       "      <td>4.0</td>\n",
       "      <td>205</td>\n",
       "      <td>0.0</td>\n",
       "    </tr>\n",
       "    <tr>\n",
       "      <th>4</th>\n",
       "      <td>2560</td>\n",
       "      <td>2.0</td>\n",
       "      <td>189</td>\n",
       "      <td>10.0</td>\n",
       "    </tr>\n",
       "    <tr>\n",
       "      <th>5</th>\n",
       "      <td>1431</td>\n",
       "      <td>5.0</td>\n",
       "      <td>272</td>\n",
       "      <td>18.0</td>\n",
       "    </tr>\n",
       "    <tr>\n",
       "      <th>6</th>\n",
       "      <td>798</td>\n",
       "      <td>4.0</td>\n",
       "      <td>80</td>\n",
       "      <td>17.0</td>\n",
       "    </tr>\n",
       "    <tr>\n",
       "      <th>7</th>\n",
       "      <td>2986</td>\n",
       "      <td>5.0</td>\n",
       "      <td>177</td>\n",
       "      <td>10.0</td>\n",
       "    </tr>\n",
       "  </tbody>\n",
       "</table>\n",
       "</div>"
      ],
      "text/plain": [
       "   Area (sq ft)  Bedrooms  Price (in lakhs)  Age (years)\n",
       "0          2678       3.0               115         19.0\n",
       "1          1326       3.0               116          0.0\n",
       "2           872       2.0                58          8.0\n",
       "3           609       4.0               205          0.0\n",
       "4          2560       2.0               189         10.0\n",
       "5          1431       5.0               272         18.0\n",
       "6           798       4.0                80         17.0\n",
       "7          2986       5.0               177         10.0"
      ]
     },
     "execution_count": 11,
     "metadata": {},
     "output_type": "execute_result"
    }
   ],
   "source": [
    "df.head(8)"
   ]
  },
  {
   "cell_type": "markdown",
   "id": "b25d0f79",
   "metadata": {
    "papermill": {
     "duration": 0.005459,
     "end_time": "2025-02-09T08:48:59.487986",
     "exception": false,
     "start_time": "2025-02-09T08:48:59.482527",
     "status": "completed"
    },
    "tags": []
   },
   "source": [
    "**PREDICTING THE PRICE**\n",
    "\n",
    "\n",
    "PRICE = M1 * AREA + M2 * NO. OF BEDROOMS + M3 * AGE + B\n",
    "\n",
    "*PRICE BEING DEPENDED ON AREA ,NO 0F BEDROOMS AND AGE*"
   ]
  },
  {
   "cell_type": "code",
   "execution_count": 12,
   "id": "68c24f9f",
   "metadata": {
    "execution": {
     "iopub.execute_input": "2025-02-09T08:48:59.501044Z",
     "iopub.status.busy": "2025-02-09T08:48:59.500627Z",
     "iopub.status.idle": "2025-02-09T08:48:59.554983Z",
     "shell.execute_reply": "2025-02-09T08:48:59.553899Z"
    },
    "papermill": {
     "duration": 0.062979,
     "end_time": "2025-02-09T08:48:59.556937",
     "exception": false,
     "start_time": "2025-02-09T08:48:59.493958",
     "status": "completed"
    },
    "tags": []
   },
   "outputs": [],
   "source": [
    "reg = linear_model.LinearRegression()\n",
    "model = reg.fit(df[[\"Area (sq ft)\",\"Bedrooms\" ,\"Age (years)\"]] , df[\"Price (in lakhs)\"])"
   ]
  },
  {
   "cell_type": "code",
   "execution_count": 13,
   "id": "7de894d1",
   "metadata": {
    "execution": {
     "iopub.execute_input": "2025-02-09T08:48:59.570275Z",
     "iopub.status.busy": "2025-02-09T08:48:59.569912Z",
     "iopub.status.idle": "2025-02-09T08:48:59.576139Z",
     "shell.execute_reply": "2025-02-09T08:48:59.575060Z"
    },
    "papermill": {
     "duration": 0.014716,
     "end_time": "2025-02-09T08:48:59.577663",
     "exception": false,
     "start_time": "2025-02-09T08:48:59.562947",
     "status": "completed"
    },
    "tags": []
   },
   "outputs": [
    {
     "data": {
      "text/plain": [
       "array([ 0.01262844, -1.77769168,  1.96297834])"
      ]
     },
     "execution_count": 13,
     "metadata": {},
     "output_type": "execute_result"
    }
   ],
   "source": [
    "reg.coef_"
   ]
  },
  {
   "cell_type": "code",
   "execution_count": 14,
   "id": "caaa90f9",
   "metadata": {
    "execution": {
     "iopub.execute_input": "2025-02-09T08:48:59.590886Z",
     "iopub.status.busy": "2025-02-09T08:48:59.590486Z",
     "iopub.status.idle": "2025-02-09T08:48:59.596460Z",
     "shell.execute_reply": "2025-02-09T08:48:59.595396Z"
    },
    "papermill": {
     "duration": 0.014408,
     "end_time": "2025-02-09T08:48:59.598176",
     "exception": false,
     "start_time": "2025-02-09T08:48:59.583768",
     "status": "completed"
    },
    "tags": []
   },
   "outputs": [
    {
     "data": {
      "text/plain": [
       "114.51400128149753"
      ]
     },
     "execution_count": 14,
     "metadata": {},
     "output_type": "execute_result"
    }
   ],
   "source": [
    "reg.intercept_"
   ]
  },
  {
   "cell_type": "code",
   "execution_count": 15,
   "id": "7208318a",
   "metadata": {
    "execution": {
     "iopub.execute_input": "2025-02-09T08:48:59.611921Z",
     "iopub.status.busy": "2025-02-09T08:48:59.611519Z",
     "iopub.status.idle": "2025-02-09T08:48:59.619017Z",
     "shell.execute_reply": "2025-02-09T08:48:59.618005Z"
    },
    "papermill": {
     "duration": 0.016192,
     "end_time": "2025-02-09T08:48:59.620790",
     "exception": false,
     "start_time": "2025-02-09T08:48:59.604598",
     "status": "completed"
    },
    "tags": []
   },
   "outputs": [],
   "source": [
    "test = pd.DataFrame([[3000 , 3 , 40],[2500, 3 , 5]],columns=[\"Area (sq ft)\",\"Bedrooms\" ,\"Age (years)\"])\n",
    "test_predict = reg.predict(test)"
   ]
  },
  {
   "cell_type": "markdown",
   "id": "e13ac271",
   "metadata": {
    "papermill": {
     "duration": 0.005778,
     "end_time": "2025-02-09T08:48:59.632907",
     "exception": false,
     "start_time": "2025-02-09T08:48:59.627129",
     "status": "completed"
    },
    "tags": []
   },
   "source": [
    "Q - Find price of home with 3000 sqr ft area, 3 bedrooms, 40 year old"
   ]
  },
  {
   "cell_type": "code",
   "execution_count": 16,
   "id": "77908d75",
   "metadata": {
    "execution": {
     "iopub.execute_input": "2025-02-09T08:48:59.646643Z",
     "iopub.status.busy": "2025-02-09T08:48:59.646276Z",
     "iopub.status.idle": "2025-02-09T08:48:59.652041Z",
     "shell.execute_reply": "2025-02-09T08:48:59.651000Z"
    },
    "papermill": {
     "duration": 0.014355,
     "end_time": "2025-02-09T08:48:59.653618",
     "exception": false,
     "start_time": "2025-02-09T08:48:59.639263",
     "status": "completed"
    },
    "tags": []
   },
   "outputs": [
    {
     "data": {
      "text/plain": [
       "225.5853838552602"
      ]
     },
     "execution_count": 16,
     "metadata": {},
     "output_type": "execute_result"
    }
   ],
   "source": [
    "\n",
    "test_predict[0]"
   ]
  },
  {
   "cell_type": "markdown",
   "id": "1b8960e8",
   "metadata": {
    "papermill": {
     "duration": 0.005844,
     "end_time": "2025-02-09T08:48:59.666701",
     "exception": false,
     "start_time": "2025-02-09T08:48:59.660857",
     "status": "completed"
    },
    "tags": []
   },
   "source": [
    "Q- Find price of home with 2500 sqr ft area, 4 bedrooms, 5 year old"
   ]
  },
  {
   "cell_type": "code",
   "execution_count": 17,
   "id": "9e2e524a",
   "metadata": {
    "execution": {
     "iopub.execute_input": "2025-02-09T08:48:59.680310Z",
     "iopub.status.busy": "2025-02-09T08:48:59.679890Z",
     "iopub.status.idle": "2025-02-09T08:48:59.685905Z",
     "shell.execute_reply": "2025-02-09T08:48:59.684821Z"
    },
    "papermill": {
     "duration": 0.014759,
     "end_time": "2025-02-09T08:48:59.687631",
     "exception": false,
     "start_time": "2025-02-09T08:48:59.672872",
     "status": "completed"
    },
    "tags": []
   },
   "outputs": [
    {
     "data": {
      "text/plain": [
       "150.56692129531035"
      ]
     },
     "execution_count": 17,
     "metadata": {},
     "output_type": "execute_result"
    }
   ],
   "source": [
    "test_predict[1]"
   ]
  },
  {
   "cell_type": "markdown",
   "id": "4012ee3e",
   "metadata": {
    "papermill": {
     "duration": 0.006025,
     "end_time": "2025-02-09T08:48:59.700582",
     "exception": false,
     "start_time": "2025-02-09T08:48:59.694557",
     "status": "completed"
    },
    "tags": []
   },
   "source": [
    "**Exercise**\n",
    "\n",
    "In exercise folder (same level as this notebook on github) there is hiring.csv. This file contains hiring statics for a firm such as experience of candidate, his written test score and personal interview score. Based on these 3 factors, HR will decide the salary. Given this data, you need to build a machine learning model for HR department that can help them decide salaries for future candidates. Using this predict salaries for following candidates,\n",
    "\n",
    "2 yr experience, 9 test score, 6 interview score\n",
    "\n",
    "12 yr experience, 10 test score, 10 interview score"
   ]
  },
  {
   "cell_type": "code",
   "execution_count": 18,
   "id": "05a2ca7b",
   "metadata": {
    "execution": {
     "iopub.execute_input": "2025-02-09T08:48:59.714973Z",
     "iopub.status.busy": "2025-02-09T08:48:59.714453Z",
     "iopub.status.idle": "2025-02-09T08:48:59.732862Z",
     "shell.execute_reply": "2025-02-09T08:48:59.731802Z"
    },
    "papermill": {
     "duration": 0.027426,
     "end_time": "2025-02-09T08:48:59.734564",
     "exception": false,
     "start_time": "2025-02-09T08:48:59.707138",
     "status": "completed"
    },
    "tags": []
   },
   "outputs": [
    {
     "data": {
      "text/html": [
       "<div>\n",
       "<style scoped>\n",
       "    .dataframe tbody tr th:only-of-type {\n",
       "        vertical-align: middle;\n",
       "    }\n",
       "\n",
       "    .dataframe tbody tr th {\n",
       "        vertical-align: top;\n",
       "    }\n",
       "\n",
       "    .dataframe thead th {\n",
       "        text-align: right;\n",
       "    }\n",
       "</style>\n",
       "<table border=\"1\" class=\"dataframe\">\n",
       "  <thead>\n",
       "    <tr style=\"text-align: right;\">\n",
       "      <th></th>\n",
       "      <th>experience</th>\n",
       "      <th>test_score(out of 10)</th>\n",
       "      <th>interview_score(out of 10)</th>\n",
       "      <th>salary($)</th>\n",
       "    </tr>\n",
       "  </thead>\n",
       "  <tbody>\n",
       "    <tr>\n",
       "      <th>0</th>\n",
       "      <td>0.0</td>\n",
       "      <td>8.0</td>\n",
       "      <td>9</td>\n",
       "      <td>50000</td>\n",
       "    </tr>\n",
       "    <tr>\n",
       "      <th>1</th>\n",
       "      <td>0.0</td>\n",
       "      <td>8.0</td>\n",
       "      <td>6</td>\n",
       "      <td>45000</td>\n",
       "    </tr>\n",
       "    <tr>\n",
       "      <th>2</th>\n",
       "      <td>5.0</td>\n",
       "      <td>6.0</td>\n",
       "      <td>7</td>\n",
       "      <td>60000</td>\n",
       "    </tr>\n",
       "    <tr>\n",
       "      <th>3</th>\n",
       "      <td>2.0</td>\n",
       "      <td>10.0</td>\n",
       "      <td>10</td>\n",
       "      <td>65000</td>\n",
       "    </tr>\n",
       "    <tr>\n",
       "      <th>4</th>\n",
       "      <td>7.0</td>\n",
       "      <td>9.0</td>\n",
       "      <td>6</td>\n",
       "      <td>70000</td>\n",
       "    </tr>\n",
       "    <tr>\n",
       "      <th>5</th>\n",
       "      <td>3.0</td>\n",
       "      <td>7.0</td>\n",
       "      <td>10</td>\n",
       "      <td>62000</td>\n",
       "    </tr>\n",
       "    <tr>\n",
       "      <th>6</th>\n",
       "      <td>10.0</td>\n",
       "      <td>7.0</td>\n",
       "      <td>7</td>\n",
       "      <td>72000</td>\n",
       "    </tr>\n",
       "    <tr>\n",
       "      <th>7</th>\n",
       "      <td>11.0</td>\n",
       "      <td>7.0</td>\n",
       "      <td>8</td>\n",
       "      <td>80000</td>\n",
       "    </tr>\n",
       "  </tbody>\n",
       "</table>\n",
       "</div>"
      ],
      "text/plain": [
       "   experience  test_score(out of 10)  interview_score(out of 10)  salary($)\n",
       "0         0.0                    8.0                           9      50000\n",
       "1         0.0                    8.0                           6      45000\n",
       "2         5.0                    6.0                           7      60000\n",
       "3         2.0                   10.0                          10      65000\n",
       "4         7.0                    9.0                           6      70000\n",
       "5         3.0                    7.0                          10      62000\n",
       "6        10.0                    7.0                           7      72000\n",
       "7        11.0                    7.0                           8      80000"
      ]
     },
     "execution_count": 18,
     "metadata": {},
     "output_type": "execute_result"
    }
   ],
   "source": [
    "d = pd.read_csv(\"/kaggle/input/hiring/hiring.csv\")\n",
    "d[\"experience\"] = d[\"experience\"].fillna(0)\n",
    "d[\"test_score(out of 10)\"] = d[\"test_score(out of 10)\"].fillna(math.floor(d[\"test_score(out of 10)\"].mean()))\n",
    "\n",
    "d"
   ]
  },
  {
   "cell_type": "code",
   "execution_count": 19,
   "id": "dd7faee3",
   "metadata": {
    "execution": {
     "iopub.execute_input": "2025-02-09T08:48:59.748655Z",
     "iopub.status.busy": "2025-02-09T08:48:59.748264Z",
     "iopub.status.idle": "2025-02-09T08:48:59.758577Z",
     "shell.execute_reply": "2025-02-09T08:48:59.757566Z"
    },
    "papermill": {
     "duration": 0.01919,
     "end_time": "2025-02-09T08:48:59.760255",
     "exception": false,
     "start_time": "2025-02-09T08:48:59.741065",
     "status": "completed"
    },
    "tags": []
   },
   "outputs": [],
   "source": [
    "reg2 = linear_model.LinearRegression()\n",
    "model2 = reg2.fit(d[[\"experience\", \"test_score(out of 10)\", \"interview_score(out of 10)\"]], d[\"salary($)\"])"
   ]
  },
  {
   "cell_type": "code",
   "execution_count": 20,
   "id": "3a48d039",
   "metadata": {
    "execution": {
     "iopub.execute_input": "2025-02-09T08:48:59.774732Z",
     "iopub.status.busy": "2025-02-09T08:48:59.774310Z",
     "iopub.status.idle": "2025-02-09T08:48:59.779496Z",
     "shell.execute_reply": "2025-02-09T08:48:59.778441Z"
    },
    "papermill": {
     "duration": 0.014185,
     "end_time": "2025-02-09T08:48:59.781174",
     "exception": false,
     "start_time": "2025-02-09T08:48:59.766989",
     "status": "completed"
    },
    "tags": []
   },
   "outputs": [],
   "source": [
    "X_test = pd.DataFrame([[2,9,6],[12,10,10]],columns=[\"experience\",\"test_score(out of 10)\",\"interview_score(out of 10)\"])"
   ]
  },
  {
   "cell_type": "code",
   "execution_count": 21,
   "id": "941751b6",
   "metadata": {
    "execution": {
     "iopub.execute_input": "2025-02-09T08:48:59.795087Z",
     "iopub.status.busy": "2025-02-09T08:48:59.794649Z",
     "iopub.status.idle": "2025-02-09T08:48:59.802106Z",
     "shell.execute_reply": "2025-02-09T08:48:59.801069Z"
    },
    "papermill": {
     "duration": 0.016256,
     "end_time": "2025-02-09T08:48:59.803777",
     "exception": false,
     "start_time": "2025-02-09T08:48:59.787521",
     "status": "completed"
    },
    "tags": []
   },
   "outputs": [
    {
     "data": {
      "text/plain": [
       "array([53713.86677124, 93747.79628651])"
      ]
     },
     "execution_count": 21,
     "metadata": {},
     "output_type": "execute_result"
    }
   ],
   "source": [
    "reg2.predict(X_test)"
   ]
  },
  {
   "cell_type": "code",
   "execution_count": null,
   "id": "d6d22e4e",
   "metadata": {
    "papermill": {
     "duration": 0.006629,
     "end_time": "2025-02-09T08:48:59.817043",
     "exception": false,
     "start_time": "2025-02-09T08:48:59.810414",
     "status": "completed"
    },
    "tags": []
   },
   "outputs": [],
   "source": []
  }
 ],
 "metadata": {
  "kaggle": {
   "accelerator": "none",
   "dataSources": [
    {
     "datasetId": 6631303,
     "sourceId": 10700713,
     "sourceType": "datasetVersion"
    },
    {
     "datasetId": 6631606,
     "sourceId": 10701110,
     "sourceType": "datasetVersion"
    }
   ],
   "dockerImageVersionId": 30886,
   "isGpuEnabled": false,
   "isInternetEnabled": false,
   "language": "python",
   "sourceType": "notebook"
  },
  "kernelspec": {
   "display_name": "Python 3",
   "language": "python",
   "name": "python3"
  },
  "language_info": {
   "codemirror_mode": {
    "name": "ipython",
    "version": 3
   },
   "file_extension": ".py",
   "mimetype": "text/x-python",
   "name": "python",
   "nbconvert_exporter": "python",
   "pygments_lexer": "ipython3",
   "version": "3.10.12"
  },
  "papermill": {
   "default_parameters": {},
   "duration": 6.480269,
   "end_time": "2025-02-09T08:49:00.544863",
   "environment_variables": {},
   "exception": null,
   "input_path": "__notebook__.ipynb",
   "output_path": "__notebook__.ipynb",
   "parameters": {},
   "start_time": "2025-02-09T08:48:54.064594",
   "version": "2.6.0"
  }
 },
 "nbformat": 4,
 "nbformat_minor": 5
}
