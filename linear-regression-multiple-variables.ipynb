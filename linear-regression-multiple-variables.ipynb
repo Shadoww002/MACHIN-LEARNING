{
 "cells": [
  {
   "cell_type": "code",
   "execution_count": 1,
   "id": "3339500d",
   "metadata": {
    "_cell_guid": "b1076dfc-b9ad-4769-8c92-a6c4dae69d19",
    "_uuid": "8f2839f25d086af736a60e9eeb907d3b93b6e0e5",
    "execution": {
     "iopub.execute_input": "2025-02-09T08:21:54.066899Z",
     "iopub.status.busy": "2025-02-09T08:21:54.066388Z",
     "iopub.status.idle": "2025-02-09T08:21:55.010272Z",
     "shell.execute_reply": "2025-02-09T08:21:55.008761Z"
    },
    "papermill": {
     "duration": 0.953279,
     "end_time": "2025-02-09T08:21:55.012068",
     "exception": false,
     "start_time": "2025-02-09T08:21:54.058789",
     "status": "completed"
    },
    "tags": []
   },
   "outputs": [
    {
     "name": "stdout",
     "output_type": "stream",
     "text": [
      "/kaggle/input/hiring/hiring.csv\n",
      "/kaggle/input/realstate-data/real_estate_data.csv\n"
     ]
    }
   ],
   "source": [
    "# This Python 3 environment comes with many helpful analytics libraries installed\n",
    "# It is defined by the kaggle/python Docker image: https://github.com/kaggle/docker-python\n",
    "# For example, here's several helpful packages to load\n",
    "\n",
    "import numpy as np # linear algebra\n",
    "import pandas as pd # data processing, CSV file I/O (e.g. pd.read_csv)\n",
    "\n",
    "# Input data files are available in the read-only \"../input/\" directory\n",
    "# For example, running this (by clicking run or pressing Shift+Enter) will list all files under the input directory\n",
    "\n",
    "import os\n",
    "for dirname, _, filenames in os.walk('/kaggle/input'):\n",
    "    for filename in filenames:\n",
    "        print(os.path.join(dirname, filename))\n",
    "\n",
    "# You can write up to 20GB to the current directory (/kaggle/working/) that gets preserved as output when you create a version using \"Save & Run All\" \n",
    "# You can also write temporary files to /kaggle/temp/, but they won't be saved outside of the current session"
   ]
  },
  {
   "cell_type": "code",
   "execution_count": 2,
   "id": "a1ff0e26",
   "metadata": {
    "execution": {
     "iopub.execute_input": "2025-02-09T08:21:55.024512Z",
     "iopub.status.busy": "2025-02-09T08:21:55.024017Z",
     "iopub.status.idle": "2025-02-09T08:21:55.028427Z",
     "shell.execute_reply": "2025-02-09T08:21:55.027323Z"
    },
    "papermill": {
     "duration": 0.012583,
     "end_time": "2025-02-09T08:21:55.030247",
     "exception": false,
     "start_time": "2025-02-09T08:21:55.017664",
     "status": "completed"
    },
    "tags": []
   },
   "outputs": [],
   "source": [
    "import matplotlib.pyplot as plt"
   ]
  },
  {
   "cell_type": "code",
   "execution_count": 3,
   "id": "eeac26e5",
   "metadata": {
    "execution": {
     "iopub.execute_input": "2025-02-09T08:21:55.042246Z",
     "iopub.status.busy": "2025-02-09T08:21:55.041838Z",
     "iopub.status.idle": "2025-02-09T08:21:56.597421Z",
     "shell.execute_reply": "2025-02-09T08:21:56.596256Z"
    },
    "papermill": {
     "duration": 1.563905,
     "end_time": "2025-02-09T08:21:56.599364",
     "exception": false,
     "start_time": "2025-02-09T08:21:55.035459",
     "status": "completed"
    },
    "tags": []
   },
   "outputs": [],
   "source": [
    "from sklearn import linear_model"
   ]
  },
  {
   "cell_type": "code",
   "execution_count": 4,
   "id": "1e2dcda6",
   "metadata": {
    "execution": {
     "iopub.execute_input": "2025-02-09T08:21:56.611436Z",
     "iopub.status.busy": "2025-02-09T08:21:56.610894Z",
     "iopub.status.idle": "2025-02-09T08:21:56.615351Z",
     "shell.execute_reply": "2025-02-09T08:21:56.614196Z"
    },
    "papermill": {
     "duration": 0.012349,
     "end_time": "2025-02-09T08:21:56.616931",
     "exception": false,
     "start_time": "2025-02-09T08:21:56.604582",
     "status": "completed"
    },
    "tags": []
   },
   "outputs": [],
   "source": [
    "import math"
   ]
  },
  {
   "cell_type": "code",
   "execution_count": 5,
   "id": "bca2e41d",
   "metadata": {
    "execution": {
     "iopub.execute_input": "2025-02-09T08:21:56.628342Z",
     "iopub.status.busy": "2025-02-09T08:21:56.628007Z",
     "iopub.status.idle": "2025-02-09T08:21:56.642654Z",
     "shell.execute_reply": "2025-02-09T08:21:56.641471Z"
    },
    "papermill": {
     "duration": 0.022721,
     "end_time": "2025-02-09T08:21:56.644738",
     "exception": false,
     "start_time": "2025-02-09T08:21:56.622017",
     "status": "completed"
    },
    "tags": []
   },
   "outputs": [],
   "source": [
    "df = pd.read_csv(\"/kaggle/input/realstate-data/real_estate_data.csv\")"
   ]
  },
  {
   "cell_type": "code",
   "execution_count": 6,
   "id": "7122b9fe",
   "metadata": {
    "execution": {
     "iopub.execute_input": "2025-02-09T08:21:56.656766Z",
     "iopub.status.busy": "2025-02-09T08:21:56.656383Z",
     "iopub.status.idle": "2025-02-09T08:21:56.688481Z",
     "shell.execute_reply": "2025-02-09T08:21:56.687471Z"
    },
    "papermill": {
     "duration": 0.040216,
     "end_time": "2025-02-09T08:21:56.690293",
     "exception": false,
     "start_time": "2025-02-09T08:21:56.650077",
     "status": "completed"
    },
    "tags": []
   },
   "outputs": [
    {
     "name": "stderr",
     "output_type": "stream",
     "text": [
      "/usr/local/lib/python3.10/dist-packages/pandas/io/formats/format.py:1458: RuntimeWarning: invalid value encountered in greater\n",
      "  has_large_values = (abs_vals > 1e6).any()\n",
      "/usr/local/lib/python3.10/dist-packages/pandas/io/formats/format.py:1459: RuntimeWarning: invalid value encountered in less\n",
      "  has_small_values = ((abs_vals < 10 ** (-self.digits)) & (abs_vals > 0)).any()\n",
      "/usr/local/lib/python3.10/dist-packages/pandas/io/formats/format.py:1459: RuntimeWarning: invalid value encountered in greater\n",
      "  has_small_values = ((abs_vals < 10 ** (-self.digits)) & (abs_vals > 0)).any()\n"
     ]
    },
    {
     "data": {
      "text/html": [
       "<div>\n",
       "<style scoped>\n",
       "    .dataframe tbody tr th:only-of-type {\n",
       "        vertical-align: middle;\n",
       "    }\n",
       "\n",
       "    .dataframe tbody tr th {\n",
       "        vertical-align: top;\n",
       "    }\n",
       "\n",
       "    .dataframe thead th {\n",
       "        text-align: right;\n",
       "    }\n",
       "</style>\n",
       "<table border=\"1\" class=\"dataframe\">\n",
       "  <thead>\n",
       "    <tr style=\"text-align: right;\">\n",
       "      <th></th>\n",
       "      <th>Area (sq ft)</th>\n",
       "      <th>Bedrooms</th>\n",
       "      <th>Price (in lakhs)</th>\n",
       "      <th>Age (years)</th>\n",
       "    </tr>\n",
       "  </thead>\n",
       "  <tbody>\n",
       "    <tr>\n",
       "      <th>0</th>\n",
       "      <td>2678</td>\n",
       "      <td>3.0</td>\n",
       "      <td>115</td>\n",
       "      <td>19.0</td>\n",
       "    </tr>\n",
       "    <tr>\n",
       "      <th>1</th>\n",
       "      <td>1326</td>\n",
       "      <td>3.0</td>\n",
       "      <td>116</td>\n",
       "      <td>0.0</td>\n",
       "    </tr>\n",
       "    <tr>\n",
       "      <th>2</th>\n",
       "      <td>872</td>\n",
       "      <td>2.0</td>\n",
       "      <td>58</td>\n",
       "      <td>8.0</td>\n",
       "    </tr>\n",
       "    <tr>\n",
       "      <th>3</th>\n",
       "      <td>609</td>\n",
       "      <td>4.0</td>\n",
       "      <td>205</td>\n",
       "      <td>NaN</td>\n",
       "    </tr>\n",
       "    <tr>\n",
       "      <th>4</th>\n",
       "      <td>2560</td>\n",
       "      <td>2.0</td>\n",
       "      <td>189</td>\n",
       "      <td>10.0</td>\n",
       "    </tr>\n",
       "  </tbody>\n",
       "</table>\n",
       "</div>"
      ],
      "text/plain": [
       "   Area (sq ft)  Bedrooms  Price (in lakhs)  Age (years)\n",
       "0          2678       3.0               115         19.0\n",
       "1          1326       3.0               116          0.0\n",
       "2           872       2.0                58          8.0\n",
       "3           609       4.0               205          NaN\n",
       "4          2560       2.0               189         10.0"
      ]
     },
     "execution_count": 6,
     "metadata": {},
     "output_type": "execute_result"
    }
   ],
   "source": [
    "df.head(5)"
   ]
  },
  {
   "cell_type": "code",
   "execution_count": 7,
   "id": "6388858b",
   "metadata": {
    "execution": {
     "iopub.execute_input": "2025-02-09T08:21:56.703383Z",
     "iopub.status.busy": "2025-02-09T08:21:56.703041Z",
     "iopub.status.idle": "2025-02-09T08:21:56.707574Z",
     "shell.execute_reply": "2025-02-09T08:21:56.706657Z"
    },
    "papermill": {
     "duration": 0.013622,
     "end_time": "2025-02-09T08:21:56.709215",
     "exception": false,
     "start_time": "2025-02-09T08:21:56.695593",
     "status": "completed"
    },
    "tags": []
   },
   "outputs": [],
   "source": [
    "median_bedrooms = math.floor(df.Bedrooms.median())"
   ]
  },
  {
   "cell_type": "code",
   "execution_count": 8,
   "id": "b7cf6647",
   "metadata": {
    "execution": {
     "iopub.execute_input": "2025-02-09T08:21:56.720759Z",
     "iopub.status.busy": "2025-02-09T08:21:56.720405Z",
     "iopub.status.idle": "2025-02-09T08:21:56.729361Z",
     "shell.execute_reply": "2025-02-09T08:21:56.728307Z"
    },
    "papermill": {
     "duration": 0.016382,
     "end_time": "2025-02-09T08:21:56.730831",
     "exception": false,
     "start_time": "2025-02-09T08:21:56.714449",
     "status": "completed"
    },
    "tags": []
   },
   "outputs": [
    {
     "data": {
      "text/plain": [
       "0    3.0\n",
       "1    3.0\n",
       "2    2.0\n",
       "3    4.0\n",
       "4    2.0\n",
       "Name: Bedrooms, dtype: float64"
      ]
     },
     "execution_count": 8,
     "metadata": {},
     "output_type": "execute_result"
    }
   ],
   "source": [
    "df.Bedrooms.fillna(median_bedrooms).head()"
   ]
  },
  {
   "cell_type": "code",
   "execution_count": 9,
   "id": "3a39fdf1",
   "metadata": {
    "execution": {
     "iopub.execute_input": "2025-02-09T08:21:56.742840Z",
     "iopub.status.busy": "2025-02-09T08:21:56.742465Z",
     "iopub.status.idle": "2025-02-09T08:21:56.754692Z",
     "shell.execute_reply": "2025-02-09T08:21:56.753512Z"
    },
    "papermill": {
     "duration": 0.020187,
     "end_time": "2025-02-09T08:21:56.756387",
     "exception": false,
     "start_time": "2025-02-09T08:21:56.736200",
     "status": "completed"
    },
    "tags": []
   },
   "outputs": [
    {
     "name": "stderr",
     "output_type": "stream",
     "text": [
      "/usr/local/lib/python3.10/dist-packages/pandas/io/formats/format.py:1458: RuntimeWarning: invalid value encountered in greater\n",
      "  has_large_values = (abs_vals > 1e6).any()\n",
      "/usr/local/lib/python3.10/dist-packages/pandas/io/formats/format.py:1459: RuntimeWarning: invalid value encountered in less\n",
      "  has_small_values = ((abs_vals < 10 ** (-self.digits)) & (abs_vals > 0)).any()\n",
      "/usr/local/lib/python3.10/dist-packages/pandas/io/formats/format.py:1459: RuntimeWarning: invalid value encountered in greater\n",
      "  has_small_values = ((abs_vals < 10 ** (-self.digits)) & (abs_vals > 0)).any()\n"
     ]
    },
    {
     "data": {
      "text/html": [
       "<div>\n",
       "<style scoped>\n",
       "    .dataframe tbody tr th:only-of-type {\n",
       "        vertical-align: middle;\n",
       "    }\n",
       "\n",
       "    .dataframe tbody tr th {\n",
       "        vertical-align: top;\n",
       "    }\n",
       "\n",
       "    .dataframe thead th {\n",
       "        text-align: right;\n",
       "    }\n",
       "</style>\n",
       "<table border=\"1\" class=\"dataframe\">\n",
       "  <thead>\n",
       "    <tr style=\"text-align: right;\">\n",
       "      <th></th>\n",
       "      <th>Area (sq ft)</th>\n",
       "      <th>Bedrooms</th>\n",
       "      <th>Price (in lakhs)</th>\n",
       "      <th>Age (years)</th>\n",
       "    </tr>\n",
       "  </thead>\n",
       "  <tbody>\n",
       "    <tr>\n",
       "      <th>0</th>\n",
       "      <td>2678</td>\n",
       "      <td>3.0</td>\n",
       "      <td>115</td>\n",
       "      <td>19.0</td>\n",
       "    </tr>\n",
       "    <tr>\n",
       "      <th>1</th>\n",
       "      <td>1326</td>\n",
       "      <td>3.0</td>\n",
       "      <td>116</td>\n",
       "      <td>0.0</td>\n",
       "    </tr>\n",
       "    <tr>\n",
       "      <th>2</th>\n",
       "      <td>872</td>\n",
       "      <td>2.0</td>\n",
       "      <td>58</td>\n",
       "      <td>8.0</td>\n",
       "    </tr>\n",
       "    <tr>\n",
       "      <th>3</th>\n",
       "      <td>609</td>\n",
       "      <td>4.0</td>\n",
       "      <td>205</td>\n",
       "      <td>NaN</td>\n",
       "    </tr>\n",
       "    <tr>\n",
       "      <th>4</th>\n",
       "      <td>2560</td>\n",
       "      <td>2.0</td>\n",
       "      <td>189</td>\n",
       "      <td>10.0</td>\n",
       "    </tr>\n",
       "  </tbody>\n",
       "</table>\n",
       "</div>"
      ],
      "text/plain": [
       "   Area (sq ft)  Bedrooms  Price (in lakhs)  Age (years)\n",
       "0          2678       3.0               115         19.0\n",
       "1          1326       3.0               116          0.0\n",
       "2           872       2.0                58          8.0\n",
       "3           609       4.0               205          NaN\n",
       "4          2560       2.0               189         10.0"
      ]
     },
     "execution_count": 9,
     "metadata": {},
     "output_type": "execute_result"
    }
   ],
   "source": [
    "df.Bedrooms = df.Bedrooms.fillna(median_bedrooms)\n",
    "df.head()"
   ]
  },
  {
   "cell_type": "code",
   "execution_count": 10,
   "id": "788d3859",
   "metadata": {
    "execution": {
     "iopub.execute_input": "2025-02-09T08:21:56.769332Z",
     "iopub.status.busy": "2025-02-09T08:21:56.768897Z",
     "iopub.status.idle": "2025-02-09T08:21:56.774508Z",
     "shell.execute_reply": "2025-02-09T08:21:56.773249Z"
    },
    "papermill": {
     "duration": 0.014417,
     "end_time": "2025-02-09T08:21:56.776705",
     "exception": false,
     "start_time": "2025-02-09T08:21:56.762288",
     "status": "completed"
    },
    "tags": []
   },
   "outputs": [],
   "source": [
    "mean_age = math.floor(df[\"Age (years)\"].mean())\n",
    "df[\"Age (years)\"] = df[\"Age (years)\"].fillna(mean_age)\n"
   ]
  },
  {
   "cell_type": "code",
   "execution_count": 11,
   "id": "6858c33a",
   "metadata": {
    "execution": {
     "iopub.execute_input": "2025-02-09T08:21:56.789354Z",
     "iopub.status.busy": "2025-02-09T08:21:56.788967Z",
     "iopub.status.idle": "2025-02-09T08:21:56.799745Z",
     "shell.execute_reply": "2025-02-09T08:21:56.798654Z"
    },
    "papermill": {
     "duration": 0.019083,
     "end_time": "2025-02-09T08:21:56.801512",
     "exception": false,
     "start_time": "2025-02-09T08:21:56.782429",
     "status": "completed"
    },
    "tags": []
   },
   "outputs": [
    {
     "data": {
      "text/html": [
       "<div>\n",
       "<style scoped>\n",
       "    .dataframe tbody tr th:only-of-type {\n",
       "        vertical-align: middle;\n",
       "    }\n",
       "\n",
       "    .dataframe tbody tr th {\n",
       "        vertical-align: top;\n",
       "    }\n",
       "\n",
       "    .dataframe thead th {\n",
       "        text-align: right;\n",
       "    }\n",
       "</style>\n",
       "<table border=\"1\" class=\"dataframe\">\n",
       "  <thead>\n",
       "    <tr style=\"text-align: right;\">\n",
       "      <th></th>\n",
       "      <th>Area (sq ft)</th>\n",
       "      <th>Bedrooms</th>\n",
       "      <th>Price (in lakhs)</th>\n",
       "      <th>Age (years)</th>\n",
       "    </tr>\n",
       "  </thead>\n",
       "  <tbody>\n",
       "    <tr>\n",
       "      <th>0</th>\n",
       "      <td>2678</td>\n",
       "      <td>3.0</td>\n",
       "      <td>115</td>\n",
       "      <td>19.0</td>\n",
       "    </tr>\n",
       "    <tr>\n",
       "      <th>1</th>\n",
       "      <td>1326</td>\n",
       "      <td>3.0</td>\n",
       "      <td>116</td>\n",
       "      <td>0.0</td>\n",
       "    </tr>\n",
       "    <tr>\n",
       "      <th>2</th>\n",
       "      <td>872</td>\n",
       "      <td>2.0</td>\n",
       "      <td>58</td>\n",
       "      <td>8.0</td>\n",
       "    </tr>\n",
       "    <tr>\n",
       "      <th>3</th>\n",
       "      <td>609</td>\n",
       "      <td>4.0</td>\n",
       "      <td>205</td>\n",
       "      <td>13.0</td>\n",
       "    </tr>\n",
       "    <tr>\n",
       "      <th>4</th>\n",
       "      <td>2560</td>\n",
       "      <td>2.0</td>\n",
       "      <td>189</td>\n",
       "      <td>10.0</td>\n",
       "    </tr>\n",
       "    <tr>\n",
       "      <th>5</th>\n",
       "      <td>1431</td>\n",
       "      <td>5.0</td>\n",
       "      <td>272</td>\n",
       "      <td>18.0</td>\n",
       "    </tr>\n",
       "    <tr>\n",
       "      <th>6</th>\n",
       "      <td>798</td>\n",
       "      <td>4.0</td>\n",
       "      <td>80</td>\n",
       "      <td>17.0</td>\n",
       "    </tr>\n",
       "    <tr>\n",
       "      <th>7</th>\n",
       "      <td>2986</td>\n",
       "      <td>5.0</td>\n",
       "      <td>177</td>\n",
       "      <td>10.0</td>\n",
       "    </tr>\n",
       "  </tbody>\n",
       "</table>\n",
       "</div>"
      ],
      "text/plain": [
       "   Area (sq ft)  Bedrooms  Price (in lakhs)  Age (years)\n",
       "0          2678       3.0               115         19.0\n",
       "1          1326       3.0               116          0.0\n",
       "2           872       2.0                58          8.0\n",
       "3           609       4.0               205         13.0\n",
       "4          2560       2.0               189         10.0\n",
       "5          1431       5.0               272         18.0\n",
       "6           798       4.0                80         17.0\n",
       "7          2986       5.0               177         10.0"
      ]
     },
     "execution_count": 11,
     "metadata": {},
     "output_type": "execute_result"
    }
   ],
   "source": [
    "df.head(8)"
   ]
  },
  {
   "cell_type": "markdown",
   "id": "7f70b30d",
   "metadata": {
    "papermill": {
     "duration": 0.005448,
     "end_time": "2025-02-09T08:21:56.812917",
     "exception": false,
     "start_time": "2025-02-09T08:21:56.807469",
     "status": "completed"
    },
    "tags": []
   },
   "source": [
    "**PREDICTING THE PRICE**\n",
    "\n",
    "\n",
    "PRICE = M1 * AREA + M2 * NO. OF BEDROOMS + M3 * AGE + B\n",
    "\n",
    "*PRICE BEING DEPENDED ON AREA ,NO 0F BEDROOMS AND AGE*"
   ]
  },
  {
   "cell_type": "code",
   "execution_count": 12,
   "id": "6ec65f82",
   "metadata": {
    "execution": {
     "iopub.execute_input": "2025-02-09T08:21:56.825439Z",
     "iopub.status.busy": "2025-02-09T08:21:56.825093Z",
     "iopub.status.idle": "2025-02-09T08:21:56.906517Z",
     "shell.execute_reply": "2025-02-09T08:21:56.905369Z"
    },
    "papermill": {
     "duration": 0.089686,
     "end_time": "2025-02-09T08:21:56.908262",
     "exception": false,
     "start_time": "2025-02-09T08:21:56.818576",
     "status": "completed"
    },
    "tags": []
   },
   "outputs": [
    {
     "data": {
      "text/html": [
       "<style>#sk-container-id-1 {color: black;background-color: white;}#sk-container-id-1 pre{padding: 0;}#sk-container-id-1 div.sk-toggleable {background-color: white;}#sk-container-id-1 label.sk-toggleable__label {cursor: pointer;display: block;width: 100%;margin-bottom: 0;padding: 0.3em;box-sizing: border-box;text-align: center;}#sk-container-id-1 label.sk-toggleable__label-arrow:before {content: \"▸\";float: left;margin-right: 0.25em;color: #696969;}#sk-container-id-1 label.sk-toggleable__label-arrow:hover:before {color: black;}#sk-container-id-1 div.sk-estimator:hover label.sk-toggleable__label-arrow:before {color: black;}#sk-container-id-1 div.sk-toggleable__content {max-height: 0;max-width: 0;overflow: hidden;text-align: left;background-color: #f0f8ff;}#sk-container-id-1 div.sk-toggleable__content pre {margin: 0.2em;color: black;border-radius: 0.25em;background-color: #f0f8ff;}#sk-container-id-1 input.sk-toggleable__control:checked~div.sk-toggleable__content {max-height: 200px;max-width: 100%;overflow: auto;}#sk-container-id-1 input.sk-toggleable__control:checked~label.sk-toggleable__label-arrow:before {content: \"▾\";}#sk-container-id-1 div.sk-estimator input.sk-toggleable__control:checked~label.sk-toggleable__label {background-color: #d4ebff;}#sk-container-id-1 div.sk-label input.sk-toggleable__control:checked~label.sk-toggleable__label {background-color: #d4ebff;}#sk-container-id-1 input.sk-hidden--visually {border: 0;clip: rect(1px 1px 1px 1px);clip: rect(1px, 1px, 1px, 1px);height: 1px;margin: -1px;overflow: hidden;padding: 0;position: absolute;width: 1px;}#sk-container-id-1 div.sk-estimator {font-family: monospace;background-color: #f0f8ff;border: 1px dotted black;border-radius: 0.25em;box-sizing: border-box;margin-bottom: 0.5em;}#sk-container-id-1 div.sk-estimator:hover {background-color: #d4ebff;}#sk-container-id-1 div.sk-parallel-item::after {content: \"\";width: 100%;border-bottom: 1px solid gray;flex-grow: 1;}#sk-container-id-1 div.sk-label:hover label.sk-toggleable__label {background-color: #d4ebff;}#sk-container-id-1 div.sk-serial::before {content: \"\";position: absolute;border-left: 1px solid gray;box-sizing: border-box;top: 0;bottom: 0;left: 50%;z-index: 0;}#sk-container-id-1 div.sk-serial {display: flex;flex-direction: column;align-items: center;background-color: white;padding-right: 0.2em;padding-left: 0.2em;position: relative;}#sk-container-id-1 div.sk-item {position: relative;z-index: 1;}#sk-container-id-1 div.sk-parallel {display: flex;align-items: stretch;justify-content: center;background-color: white;position: relative;}#sk-container-id-1 div.sk-item::before, #sk-container-id-1 div.sk-parallel-item::before {content: \"\";position: absolute;border-left: 1px solid gray;box-sizing: border-box;top: 0;bottom: 0;left: 50%;z-index: -1;}#sk-container-id-1 div.sk-parallel-item {display: flex;flex-direction: column;z-index: 1;position: relative;background-color: white;}#sk-container-id-1 div.sk-parallel-item:first-child::after {align-self: flex-end;width: 50%;}#sk-container-id-1 div.sk-parallel-item:last-child::after {align-self: flex-start;width: 50%;}#sk-container-id-1 div.sk-parallel-item:only-child::after {width: 0;}#sk-container-id-1 div.sk-dashed-wrapped {border: 1px dashed gray;margin: 0 0.4em 0.5em 0.4em;box-sizing: border-box;padding-bottom: 0.4em;background-color: white;}#sk-container-id-1 div.sk-label label {font-family: monospace;font-weight: bold;display: inline-block;line-height: 1.2em;}#sk-container-id-1 div.sk-label-container {text-align: center;}#sk-container-id-1 div.sk-container {/* jupyter's `normalize.less` sets `[hidden] { display: none; }` but bootstrap.min.css set `[hidden] { display: none !important; }` so we also need the `!important` here to be able to override the default hidden behavior on the sphinx rendered scikit-learn.org. See: https://github.com/scikit-learn/scikit-learn/issues/21755 */display: inline-block !important;position: relative;}#sk-container-id-1 div.sk-text-repr-fallback {display: none;}</style><div id=\"sk-container-id-1\" class=\"sk-top-container\"><div class=\"sk-text-repr-fallback\"><pre>LinearRegression()</pre><b>In a Jupyter environment, please rerun this cell to show the HTML representation or trust the notebook. <br />On GitHub, the HTML representation is unable to render, please try loading this page with nbviewer.org.</b></div><div class=\"sk-container\" hidden><div class=\"sk-item\"><div class=\"sk-estimator sk-toggleable\"><input class=\"sk-toggleable__control sk-hidden--visually\" id=\"sk-estimator-id-1\" type=\"checkbox\" checked><label for=\"sk-estimator-id-1\" class=\"sk-toggleable__label sk-toggleable__label-arrow\">LinearRegression</label><div class=\"sk-toggleable__content\"><pre>LinearRegression()</pre></div></div></div></div></div>"
      ],
      "text/plain": [
       "LinearRegression()"
      ]
     },
     "execution_count": 12,
     "metadata": {},
     "output_type": "execute_result"
    }
   ],
   "source": [
    "reg = linear_model.LinearRegression()\n",
    "reg.fit(df[[\"Area (sq ft)\",\"Bedrooms\" ,\"Age (years)\"]] , df[\"Price (in lakhs)\"])"
   ]
  },
  {
   "cell_type": "code",
   "execution_count": 13,
   "id": "5ef2e1e4",
   "metadata": {
    "execution": {
     "iopub.execute_input": "2025-02-09T08:21:56.921983Z",
     "iopub.status.busy": "2025-02-09T08:21:56.921577Z",
     "iopub.status.idle": "2025-02-09T08:21:56.927616Z",
     "shell.execute_reply": "2025-02-09T08:21:56.926707Z"
    },
    "papermill": {
     "duration": 0.014706,
     "end_time": "2025-02-09T08:21:56.929308",
     "exception": false,
     "start_time": "2025-02-09T08:21:56.914602",
     "status": "completed"
    },
    "tags": []
   },
   "outputs": [
    {
     "data": {
      "text/plain": [
       "array([0.01583696, 4.73411379, 3.33661521])"
      ]
     },
     "execution_count": 13,
     "metadata": {},
     "output_type": "execute_result"
    }
   ],
   "source": [
    "reg.coef_"
   ]
  },
  {
   "cell_type": "code",
   "execution_count": 14,
   "id": "902ea63a",
   "metadata": {
    "execution": {
     "iopub.execute_input": "2025-02-09T08:21:56.942817Z",
     "iopub.status.busy": "2025-02-09T08:21:56.942467Z",
     "iopub.status.idle": "2025-02-09T08:21:56.948261Z",
     "shell.execute_reply": "2025-02-09T08:21:56.947204Z"
    },
    "papermill": {
     "duration": 0.014414,
     "end_time": "2025-02-09T08:21:56.950023",
     "exception": false,
     "start_time": "2025-02-09T08:21:56.935609",
     "status": "completed"
    },
    "tags": []
   },
   "outputs": [
    {
     "data": {
      "text/plain": [
       "68.66781863517704"
      ]
     },
     "execution_count": 14,
     "metadata": {},
     "output_type": "execute_result"
    }
   ],
   "source": [
    "reg.intercept_"
   ]
  },
  {
   "cell_type": "markdown",
   "id": "3c0683ce",
   "metadata": {
    "papermill": {
     "duration": 0.005858,
     "end_time": "2025-02-09T08:21:56.962209",
     "exception": false,
     "start_time": "2025-02-09T08:21:56.956351",
     "status": "completed"
    },
    "tags": []
   },
   "source": [
    "Q - Find price of home with 3000 sqr ft area, 3 bedrooms, 40 year old"
   ]
  },
  {
   "cell_type": "code",
   "execution_count": 15,
   "id": "91725bc9",
   "metadata": {
    "execution": {
     "iopub.execute_input": "2025-02-09T08:21:56.975439Z",
     "iopub.status.busy": "2025-02-09T08:21:56.975090Z",
     "iopub.status.idle": "2025-02-09T08:21:56.984142Z",
     "shell.execute_reply": "2025-02-09T08:21:56.983035Z"
    },
    "papermill": {
     "duration": 0.017586,
     "end_time": "2025-02-09T08:21:56.985773",
     "exception": false,
     "start_time": "2025-02-09T08:21:56.968187",
     "status": "completed"
    },
    "tags": []
   },
   "outputs": [
    {
     "name": "stderr",
     "output_type": "stream",
     "text": [
      "/usr/local/lib/python3.10/dist-packages/sklearn/base.py:439: UserWarning: X does not have valid feature names, but LinearRegression was fitted with feature names\n",
      "  warnings.warn(\n"
     ]
    },
    {
     "data": {
      "text/plain": [
       "array([263.84564069])"
      ]
     },
     "execution_count": 15,
     "metadata": {},
     "output_type": "execute_result"
    }
   ],
   "source": [
    "reg.predict([[3000 , 3 , 40]])"
   ]
  },
  {
   "cell_type": "markdown",
   "id": "0de51dd2",
   "metadata": {
    "papermill": {
     "duration": 0.006067,
     "end_time": "2025-02-09T08:21:56.998643",
     "exception": false,
     "start_time": "2025-02-09T08:21:56.992576",
     "status": "completed"
    },
    "tags": []
   },
   "source": [
    "Q- Find price of home with 2500 sqr ft area, 4 bedrooms, 5 year old"
   ]
  },
  {
   "cell_type": "code",
   "execution_count": 16,
   "id": "f94e08d3",
   "metadata": {
    "execution": {
     "iopub.execute_input": "2025-02-09T08:21:57.012939Z",
     "iopub.status.busy": "2025-02-09T08:21:57.012532Z",
     "iopub.status.idle": "2025-02-09T08:21:57.020132Z",
     "shell.execute_reply": "2025-02-09T08:21:57.018890Z"
    },
    "papermill": {
     "duration": 0.01628,
     "end_time": "2025-02-09T08:21:57.021726",
     "exception": false,
     "start_time": "2025-02-09T08:21:57.005446",
     "status": "completed"
    },
    "tags": []
   },
   "outputs": [
    {
     "name": "stderr",
     "output_type": "stream",
     "text": [
      "/usr/local/lib/python3.10/dist-packages/sklearn/base.py:439: UserWarning: X does not have valid feature names, but LinearRegression was fitted with feature names\n",
      "  warnings.warn(\n"
     ]
    },
    {
     "data": {
      "text/plain": [
       "array([139.14562968])"
      ]
     },
     "execution_count": 16,
     "metadata": {},
     "output_type": "execute_result"
    }
   ],
   "source": [
    "reg.predict([[2500, 3 , 5]])"
   ]
  },
  {
   "cell_type": "markdown",
   "id": "313eb321",
   "metadata": {
    "papermill": {
     "duration": 0.006071,
     "end_time": "2025-02-09T08:21:57.034640",
     "exception": false,
     "start_time": "2025-02-09T08:21:57.028569",
     "status": "completed"
    },
    "tags": []
   },
   "source": [
    "**Exercise**\n",
    "\n",
    "In exercise folder (same level as this notebook on github) there is hiring.csv. This file contains hiring statics for a firm such as experience of candidate, his written test score and personal interview score. Based on these 3 factors, HR will decide the salary. Given this data, you need to build a machine learning model for HR department that can help them decide salaries for future candidates. Using this predict salaries for following candidates,\n",
    "\n",
    "2 yr experience, 9 test score, 6 interview score\n",
    "\n",
    "12 yr experience, 10 test score, 10 interview score"
   ]
  },
  {
   "cell_type": "code",
   "execution_count": 17,
   "id": "caefcdd6",
   "metadata": {
    "execution": {
     "iopub.execute_input": "2025-02-09T08:21:57.048547Z",
     "iopub.status.busy": "2025-02-09T08:21:57.048221Z",
     "iopub.status.idle": "2025-02-09T08:21:57.064408Z",
     "shell.execute_reply": "2025-02-09T08:21:57.063264Z"
    },
    "papermill": {
     "duration": 0.025154,
     "end_time": "2025-02-09T08:21:57.066094",
     "exception": false,
     "start_time": "2025-02-09T08:21:57.040940",
     "status": "completed"
    },
    "tags": []
   },
   "outputs": [
    {
     "data": {
      "text/html": [
       "<div>\n",
       "<style scoped>\n",
       "    .dataframe tbody tr th:only-of-type {\n",
       "        vertical-align: middle;\n",
       "    }\n",
       "\n",
       "    .dataframe tbody tr th {\n",
       "        vertical-align: top;\n",
       "    }\n",
       "\n",
       "    .dataframe thead th {\n",
       "        text-align: right;\n",
       "    }\n",
       "</style>\n",
       "<table border=\"1\" class=\"dataframe\">\n",
       "  <thead>\n",
       "    <tr style=\"text-align: right;\">\n",
       "      <th></th>\n",
       "      <th>experience</th>\n",
       "      <th>test_score(out of 10)</th>\n",
       "      <th>interview_score(out of 10)</th>\n",
       "      <th>salary($)</th>\n",
       "    </tr>\n",
       "  </thead>\n",
       "  <tbody>\n",
       "    <tr>\n",
       "      <th>0</th>\n",
       "      <td>0.0</td>\n",
       "      <td>8.0</td>\n",
       "      <td>9</td>\n",
       "      <td>50000</td>\n",
       "    </tr>\n",
       "    <tr>\n",
       "      <th>1</th>\n",
       "      <td>0.0</td>\n",
       "      <td>8.0</td>\n",
       "      <td>6</td>\n",
       "      <td>45000</td>\n",
       "    </tr>\n",
       "    <tr>\n",
       "      <th>2</th>\n",
       "      <td>5.0</td>\n",
       "      <td>6.0</td>\n",
       "      <td>7</td>\n",
       "      <td>60000</td>\n",
       "    </tr>\n",
       "    <tr>\n",
       "      <th>3</th>\n",
       "      <td>2.0</td>\n",
       "      <td>10.0</td>\n",
       "      <td>10</td>\n",
       "      <td>65000</td>\n",
       "    </tr>\n",
       "    <tr>\n",
       "      <th>4</th>\n",
       "      <td>7.0</td>\n",
       "      <td>9.0</td>\n",
       "      <td>6</td>\n",
       "      <td>70000</td>\n",
       "    </tr>\n",
       "    <tr>\n",
       "      <th>5</th>\n",
       "      <td>3.0</td>\n",
       "      <td>7.0</td>\n",
       "      <td>10</td>\n",
       "      <td>62000</td>\n",
       "    </tr>\n",
       "    <tr>\n",
       "      <th>6</th>\n",
       "      <td>10.0</td>\n",
       "      <td>7.0</td>\n",
       "      <td>7</td>\n",
       "      <td>72000</td>\n",
       "    </tr>\n",
       "    <tr>\n",
       "      <th>7</th>\n",
       "      <td>11.0</td>\n",
       "      <td>7.0</td>\n",
       "      <td>8</td>\n",
       "      <td>80000</td>\n",
       "    </tr>\n",
       "  </tbody>\n",
       "</table>\n",
       "</div>"
      ],
      "text/plain": [
       "   experience  test_score(out of 10)  interview_score(out of 10)  salary($)\n",
       "0         0.0                    8.0                           9      50000\n",
       "1         0.0                    8.0                           6      45000\n",
       "2         5.0                    6.0                           7      60000\n",
       "3         2.0                   10.0                          10      65000\n",
       "4         7.0                    9.0                           6      70000\n",
       "5         3.0                    7.0                          10      62000\n",
       "6        10.0                    7.0                           7      72000\n",
       "7        11.0                    7.0                           8      80000"
      ]
     },
     "execution_count": 17,
     "metadata": {},
     "output_type": "execute_result"
    }
   ],
   "source": [
    "d = pd.read_csv(\"/kaggle/input/hiring/hiring.csv\")\n",
    "d[\"experience\"] = d[\"experience\"].fillna(0)\n",
    "d[\"test_score(out of 10)\"] = d[\"test_score(out of 10)\"].fillna(math.floor(d[\"test_score(out of 10)\"].mean()))\n",
    "\n",
    "d"
   ]
  },
  {
   "cell_type": "code",
   "execution_count": 18,
   "id": "bf6701d6",
   "metadata": {
    "execution": {
     "iopub.execute_input": "2025-02-09T08:21:57.080616Z",
     "iopub.status.busy": "2025-02-09T08:21:57.080286Z",
     "iopub.status.idle": "2025-02-09T08:21:57.093543Z",
     "shell.execute_reply": "2025-02-09T08:21:57.092635Z"
    },
    "papermill": {
     "duration": 0.022256,
     "end_time": "2025-02-09T08:21:57.095178",
     "exception": false,
     "start_time": "2025-02-09T08:21:57.072922",
     "status": "completed"
    },
    "tags": []
   },
   "outputs": [
    {
     "data": {
      "text/html": [
       "<style>#sk-container-id-2 {color: black;background-color: white;}#sk-container-id-2 pre{padding: 0;}#sk-container-id-2 div.sk-toggleable {background-color: white;}#sk-container-id-2 label.sk-toggleable__label {cursor: pointer;display: block;width: 100%;margin-bottom: 0;padding: 0.3em;box-sizing: border-box;text-align: center;}#sk-container-id-2 label.sk-toggleable__label-arrow:before {content: \"▸\";float: left;margin-right: 0.25em;color: #696969;}#sk-container-id-2 label.sk-toggleable__label-arrow:hover:before {color: black;}#sk-container-id-2 div.sk-estimator:hover label.sk-toggleable__label-arrow:before {color: black;}#sk-container-id-2 div.sk-toggleable__content {max-height: 0;max-width: 0;overflow: hidden;text-align: left;background-color: #f0f8ff;}#sk-container-id-2 div.sk-toggleable__content pre {margin: 0.2em;color: black;border-radius: 0.25em;background-color: #f0f8ff;}#sk-container-id-2 input.sk-toggleable__control:checked~div.sk-toggleable__content {max-height: 200px;max-width: 100%;overflow: auto;}#sk-container-id-2 input.sk-toggleable__control:checked~label.sk-toggleable__label-arrow:before {content: \"▾\";}#sk-container-id-2 div.sk-estimator input.sk-toggleable__control:checked~label.sk-toggleable__label {background-color: #d4ebff;}#sk-container-id-2 div.sk-label input.sk-toggleable__control:checked~label.sk-toggleable__label {background-color: #d4ebff;}#sk-container-id-2 input.sk-hidden--visually {border: 0;clip: rect(1px 1px 1px 1px);clip: rect(1px, 1px, 1px, 1px);height: 1px;margin: -1px;overflow: hidden;padding: 0;position: absolute;width: 1px;}#sk-container-id-2 div.sk-estimator {font-family: monospace;background-color: #f0f8ff;border: 1px dotted black;border-radius: 0.25em;box-sizing: border-box;margin-bottom: 0.5em;}#sk-container-id-2 div.sk-estimator:hover {background-color: #d4ebff;}#sk-container-id-2 div.sk-parallel-item::after {content: \"\";width: 100%;border-bottom: 1px solid gray;flex-grow: 1;}#sk-container-id-2 div.sk-label:hover label.sk-toggleable__label {background-color: #d4ebff;}#sk-container-id-2 div.sk-serial::before {content: \"\";position: absolute;border-left: 1px solid gray;box-sizing: border-box;top: 0;bottom: 0;left: 50%;z-index: 0;}#sk-container-id-2 div.sk-serial {display: flex;flex-direction: column;align-items: center;background-color: white;padding-right: 0.2em;padding-left: 0.2em;position: relative;}#sk-container-id-2 div.sk-item {position: relative;z-index: 1;}#sk-container-id-2 div.sk-parallel {display: flex;align-items: stretch;justify-content: center;background-color: white;position: relative;}#sk-container-id-2 div.sk-item::before, #sk-container-id-2 div.sk-parallel-item::before {content: \"\";position: absolute;border-left: 1px solid gray;box-sizing: border-box;top: 0;bottom: 0;left: 50%;z-index: -1;}#sk-container-id-2 div.sk-parallel-item {display: flex;flex-direction: column;z-index: 1;position: relative;background-color: white;}#sk-container-id-2 div.sk-parallel-item:first-child::after {align-self: flex-end;width: 50%;}#sk-container-id-2 div.sk-parallel-item:last-child::after {align-self: flex-start;width: 50%;}#sk-container-id-2 div.sk-parallel-item:only-child::after {width: 0;}#sk-container-id-2 div.sk-dashed-wrapped {border: 1px dashed gray;margin: 0 0.4em 0.5em 0.4em;box-sizing: border-box;padding-bottom: 0.4em;background-color: white;}#sk-container-id-2 div.sk-label label {font-family: monospace;font-weight: bold;display: inline-block;line-height: 1.2em;}#sk-container-id-2 div.sk-label-container {text-align: center;}#sk-container-id-2 div.sk-container {/* jupyter's `normalize.less` sets `[hidden] { display: none; }` but bootstrap.min.css set `[hidden] { display: none !important; }` so we also need the `!important` here to be able to override the default hidden behavior on the sphinx rendered scikit-learn.org. See: https://github.com/scikit-learn/scikit-learn/issues/21755 */display: inline-block !important;position: relative;}#sk-container-id-2 div.sk-text-repr-fallback {display: none;}</style><div id=\"sk-container-id-2\" class=\"sk-top-container\"><div class=\"sk-text-repr-fallback\"><pre>LinearRegression()</pre><b>In a Jupyter environment, please rerun this cell to show the HTML representation or trust the notebook. <br />On GitHub, the HTML representation is unable to render, please try loading this page with nbviewer.org.</b></div><div class=\"sk-container\" hidden><div class=\"sk-item\"><div class=\"sk-estimator sk-toggleable\"><input class=\"sk-toggleable__control sk-hidden--visually\" id=\"sk-estimator-id-2\" type=\"checkbox\" checked><label for=\"sk-estimator-id-2\" class=\"sk-toggleable__label sk-toggleable__label-arrow\">LinearRegression</label><div class=\"sk-toggleable__content\"><pre>LinearRegression()</pre></div></div></div></div></div>"
      ],
      "text/plain": [
       "LinearRegression()"
      ]
     },
     "execution_count": 18,
     "metadata": {},
     "output_type": "execute_result"
    }
   ],
   "source": [
    "reg2 = linear_model.LinearRegression()\n",
    "reg2.fit(d[[\"experience\",\"test_score(out of 10)\",\"interview_score(out of 10)\"]],d[\"salary($)\"])"
   ]
  },
  {
   "cell_type": "code",
   "execution_count": 19,
   "id": "21f96b8e",
   "metadata": {
    "execution": {
     "iopub.execute_input": "2025-02-09T08:21:57.109962Z",
     "iopub.status.busy": "2025-02-09T08:21:57.109599Z",
     "iopub.status.idle": "2025-02-09T08:21:57.116591Z",
     "shell.execute_reply": "2025-02-09T08:21:57.115617Z"
    },
    "papermill": {
     "duration": 0.016111,
     "end_time": "2025-02-09T08:21:57.118258",
     "exception": false,
     "start_time": "2025-02-09T08:21:57.102147",
     "status": "completed"
    },
    "tags": []
   },
   "outputs": [
    {
     "name": "stderr",
     "output_type": "stream",
     "text": [
      "/usr/local/lib/python3.10/dist-packages/sklearn/base.py:439: UserWarning: X does not have valid feature names, but LinearRegression was fitted with feature names\n",
      "  warnings.warn(\n"
     ]
    },
    {
     "data": {
      "text/plain": [
       "array([53713.86677124])"
      ]
     },
     "execution_count": 19,
     "metadata": {},
     "output_type": "execute_result"
    }
   ],
   "source": [
    "reg2.predict([[2,9,6]])"
   ]
  },
  {
   "cell_type": "code",
   "execution_count": 20,
   "id": "a600240c",
   "metadata": {
    "execution": {
     "iopub.execute_input": "2025-02-09T08:21:57.133657Z",
     "iopub.status.busy": "2025-02-09T08:21:57.133265Z",
     "iopub.status.idle": "2025-02-09T08:21:57.140490Z",
     "shell.execute_reply": "2025-02-09T08:21:57.139385Z"
    },
    "papermill": {
     "duration": 0.016795,
     "end_time": "2025-02-09T08:21:57.142196",
     "exception": false,
     "start_time": "2025-02-09T08:21:57.125401",
     "status": "completed"
    },
    "tags": []
   },
   "outputs": [
    {
     "name": "stderr",
     "output_type": "stream",
     "text": [
      "/usr/local/lib/python3.10/dist-packages/sklearn/base.py:439: UserWarning: X does not have valid feature names, but LinearRegression was fitted with feature names\n",
      "  warnings.warn(\n"
     ]
    },
    {
     "data": {
      "text/plain": [
       "array([93747.79628651])"
      ]
     },
     "execution_count": 20,
     "metadata": {},
     "output_type": "execute_result"
    }
   ],
   "source": [
    "reg2.predict([[12,10,10]])"
   ]
  }
 ],
 "metadata": {
  "kaggle": {
   "accelerator": "none",
   "dataSources": [
    {
     "datasetId": 6631303,
     "sourceId": 10700713,
     "sourceType": "datasetVersion"
    },
    {
     "datasetId": 6631606,
     "sourceId": 10701110,
     "sourceType": "datasetVersion"
    }
   ],
   "dockerImageVersionId": 30886,
   "isGpuEnabled": false,
   "isInternetEnabled": false,
   "language": "python",
   "sourceType": "notebook"
  },
  "kernelspec": {
   "display_name": "Python 3",
   "language": "python",
   "name": "python3"
  },
  "language_info": {
   "codemirror_mode": {
    "name": "ipython",
    "version": 3
   },
   "file_extension": ".py",
   "mimetype": "text/x-python",
   "name": "python",
   "nbconvert_exporter": "python",
   "pygments_lexer": "ipython3",
   "version": "3.10.12"
  },
  "papermill": {
   "default_parameters": {},
   "duration": 6.683856,
   "end_time": "2025-02-09T08:21:57.870187",
   "environment_variables": {},
   "exception": null,
   "input_path": "__notebook__.ipynb",
   "output_path": "__notebook__.ipynb",
   "parameters": {},
   "start_time": "2025-02-09T08:21:51.186331",
   "version": "2.6.0"
  }
 },
 "nbformat": 4,
 "nbformat_minor": 5
}
